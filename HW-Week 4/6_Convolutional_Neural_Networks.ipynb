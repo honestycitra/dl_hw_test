{
  "nbformat": 4,
  "nbformat_minor": 0,
  "metadata": {
    "colab": {
      "name": "6. Convolutional Neural Networks.ipynb",
      "provenance": []
    },
    "kernelspec": {
      "name": "python3",
      "display_name": "Python 3"
    },
    "language_info": {
      "name": "python"
    },
    "widgets": {
      "application/vnd.jupyter.widget-state+json": {
        "5cf4dc95dee843fb982154881be4258d": {
          "model_module": "@jupyter-widgets/controls",
          "model_name": "HBoxModel",
          "model_module_version": "1.5.0",
          "state": {
            "_dom_classes": [],
            "_model_module": "@jupyter-widgets/controls",
            "_model_module_version": "1.5.0",
            "_model_name": "HBoxModel",
            "_view_count": null,
            "_view_module": "@jupyter-widgets/controls",
            "_view_module_version": "1.5.0",
            "_view_name": "HBoxView",
            "box_style": "",
            "children": [
              "IPY_MODEL_35827e9cf5fa48588ec0098219b825ea",
              "IPY_MODEL_705929600f4a44d69c76253ab7f31353",
              "IPY_MODEL_454ec57a2a064329abd1e8e05c449971"
            ],
            "layout": "IPY_MODEL_4110c3cbe7c1464d99345941cbb565d9"
          }
        },
        "35827e9cf5fa48588ec0098219b825ea": {
          "model_module": "@jupyter-widgets/controls",
          "model_name": "HTMLModel",
          "model_module_version": "1.5.0",
          "state": {
            "_dom_classes": [],
            "_model_module": "@jupyter-widgets/controls",
            "_model_module_version": "1.5.0",
            "_model_name": "HTMLModel",
            "_view_count": null,
            "_view_module": "@jupyter-widgets/controls",
            "_view_module_version": "1.5.0",
            "_view_name": "HTMLView",
            "description": "",
            "description_tooltip": null,
            "layout": "IPY_MODEL_378cce0d232843e9a08942d17b180125",
            "placeholder": "​",
            "style": "IPY_MODEL_0cce480009af4b009fa3645b81c1c102",
            "value": ""
          }
        },
        "705929600f4a44d69c76253ab7f31353": {
          "model_module": "@jupyter-widgets/controls",
          "model_name": "FloatProgressModel",
          "model_module_version": "1.5.0",
          "state": {
            "_dom_classes": [],
            "_model_module": "@jupyter-widgets/controls",
            "_model_module_version": "1.5.0",
            "_model_name": "FloatProgressModel",
            "_view_count": null,
            "_view_module": "@jupyter-widgets/controls",
            "_view_module_version": "1.5.0",
            "_view_name": "ProgressView",
            "bar_style": "success",
            "description": "",
            "description_tooltip": null,
            "layout": "IPY_MODEL_33005ec400bb4dbba6953d0aef44b0e8",
            "max": 26421880,
            "min": 0,
            "orientation": "horizontal",
            "style": "IPY_MODEL_eda0475b06344ad1ba22dfd7d7ba006c",
            "value": 26421880
          }
        },
        "454ec57a2a064329abd1e8e05c449971": {
          "model_module": "@jupyter-widgets/controls",
          "model_name": "HTMLModel",
          "model_module_version": "1.5.0",
          "state": {
            "_dom_classes": [],
            "_model_module": "@jupyter-widgets/controls",
            "_model_module_version": "1.5.0",
            "_model_name": "HTMLModel",
            "_view_count": null,
            "_view_module": "@jupyter-widgets/controls",
            "_view_module_version": "1.5.0",
            "_view_name": "HTMLView",
            "description": "",
            "description_tooltip": null,
            "layout": "IPY_MODEL_65253041ab5d434fb9e5111c63da37b6",
            "placeholder": "​",
            "style": "IPY_MODEL_ede37a71a1db4b6992e40fa48a4c1cea",
            "value": " 26422272/? [00:01&lt;00:00, 22373570.87it/s]"
          }
        },
        "4110c3cbe7c1464d99345941cbb565d9": {
          "model_module": "@jupyter-widgets/base",
          "model_name": "LayoutModel",
          "model_module_version": "1.2.0",
          "state": {
            "_model_module": "@jupyter-widgets/base",
            "_model_module_version": "1.2.0",
            "_model_name": "LayoutModel",
            "_view_count": null,
            "_view_module": "@jupyter-widgets/base",
            "_view_module_version": "1.2.0",
            "_view_name": "LayoutView",
            "align_content": null,
            "align_items": null,
            "align_self": null,
            "border": null,
            "bottom": null,
            "display": null,
            "flex": null,
            "flex_flow": null,
            "grid_area": null,
            "grid_auto_columns": null,
            "grid_auto_flow": null,
            "grid_auto_rows": null,
            "grid_column": null,
            "grid_gap": null,
            "grid_row": null,
            "grid_template_areas": null,
            "grid_template_columns": null,
            "grid_template_rows": null,
            "height": null,
            "justify_content": null,
            "justify_items": null,
            "left": null,
            "margin": null,
            "max_height": null,
            "max_width": null,
            "min_height": null,
            "min_width": null,
            "object_fit": null,
            "object_position": null,
            "order": null,
            "overflow": null,
            "overflow_x": null,
            "overflow_y": null,
            "padding": null,
            "right": null,
            "top": null,
            "visibility": null,
            "width": null
          }
        },
        "378cce0d232843e9a08942d17b180125": {
          "model_module": "@jupyter-widgets/base",
          "model_name": "LayoutModel",
          "model_module_version": "1.2.0",
          "state": {
            "_model_module": "@jupyter-widgets/base",
            "_model_module_version": "1.2.0",
            "_model_name": "LayoutModel",
            "_view_count": null,
            "_view_module": "@jupyter-widgets/base",
            "_view_module_version": "1.2.0",
            "_view_name": "LayoutView",
            "align_content": null,
            "align_items": null,
            "align_self": null,
            "border": null,
            "bottom": null,
            "display": null,
            "flex": null,
            "flex_flow": null,
            "grid_area": null,
            "grid_auto_columns": null,
            "grid_auto_flow": null,
            "grid_auto_rows": null,
            "grid_column": null,
            "grid_gap": null,
            "grid_row": null,
            "grid_template_areas": null,
            "grid_template_columns": null,
            "grid_template_rows": null,
            "height": null,
            "justify_content": null,
            "justify_items": null,
            "left": null,
            "margin": null,
            "max_height": null,
            "max_width": null,
            "min_height": null,
            "min_width": null,
            "object_fit": null,
            "object_position": null,
            "order": null,
            "overflow": null,
            "overflow_x": null,
            "overflow_y": null,
            "padding": null,
            "right": null,
            "top": null,
            "visibility": null,
            "width": null
          }
        },
        "0cce480009af4b009fa3645b81c1c102": {
          "model_module": "@jupyter-widgets/controls",
          "model_name": "DescriptionStyleModel",
          "model_module_version": "1.5.0",
          "state": {
            "_model_module": "@jupyter-widgets/controls",
            "_model_module_version": "1.5.0",
            "_model_name": "DescriptionStyleModel",
            "_view_count": null,
            "_view_module": "@jupyter-widgets/base",
            "_view_module_version": "1.2.0",
            "_view_name": "StyleView",
            "description_width": ""
          }
        },
        "33005ec400bb4dbba6953d0aef44b0e8": {
          "model_module": "@jupyter-widgets/base",
          "model_name": "LayoutModel",
          "model_module_version": "1.2.0",
          "state": {
            "_model_module": "@jupyter-widgets/base",
            "_model_module_version": "1.2.0",
            "_model_name": "LayoutModel",
            "_view_count": null,
            "_view_module": "@jupyter-widgets/base",
            "_view_module_version": "1.2.0",
            "_view_name": "LayoutView",
            "align_content": null,
            "align_items": null,
            "align_self": null,
            "border": null,
            "bottom": null,
            "display": null,
            "flex": null,
            "flex_flow": null,
            "grid_area": null,
            "grid_auto_columns": null,
            "grid_auto_flow": null,
            "grid_auto_rows": null,
            "grid_column": null,
            "grid_gap": null,
            "grid_row": null,
            "grid_template_areas": null,
            "grid_template_columns": null,
            "grid_template_rows": null,
            "height": null,
            "justify_content": null,
            "justify_items": null,
            "left": null,
            "margin": null,
            "max_height": null,
            "max_width": null,
            "min_height": null,
            "min_width": null,
            "object_fit": null,
            "object_position": null,
            "order": null,
            "overflow": null,
            "overflow_x": null,
            "overflow_y": null,
            "padding": null,
            "right": null,
            "top": null,
            "visibility": null,
            "width": null
          }
        },
        "eda0475b06344ad1ba22dfd7d7ba006c": {
          "model_module": "@jupyter-widgets/controls",
          "model_name": "ProgressStyleModel",
          "model_module_version": "1.5.0",
          "state": {
            "_model_module": "@jupyter-widgets/controls",
            "_model_module_version": "1.5.0",
            "_model_name": "ProgressStyleModel",
            "_view_count": null,
            "_view_module": "@jupyter-widgets/base",
            "_view_module_version": "1.2.0",
            "_view_name": "StyleView",
            "bar_color": null,
            "description_width": ""
          }
        },
        "65253041ab5d434fb9e5111c63da37b6": {
          "model_module": "@jupyter-widgets/base",
          "model_name": "LayoutModel",
          "model_module_version": "1.2.0",
          "state": {
            "_model_module": "@jupyter-widgets/base",
            "_model_module_version": "1.2.0",
            "_model_name": "LayoutModel",
            "_view_count": null,
            "_view_module": "@jupyter-widgets/base",
            "_view_module_version": "1.2.0",
            "_view_name": "LayoutView",
            "align_content": null,
            "align_items": null,
            "align_self": null,
            "border": null,
            "bottom": null,
            "display": null,
            "flex": null,
            "flex_flow": null,
            "grid_area": null,
            "grid_auto_columns": null,
            "grid_auto_flow": null,
            "grid_auto_rows": null,
            "grid_column": null,
            "grid_gap": null,
            "grid_row": null,
            "grid_template_areas": null,
            "grid_template_columns": null,
            "grid_template_rows": null,
            "height": null,
            "justify_content": null,
            "justify_items": null,
            "left": null,
            "margin": null,
            "max_height": null,
            "max_width": null,
            "min_height": null,
            "min_width": null,
            "object_fit": null,
            "object_position": null,
            "order": null,
            "overflow": null,
            "overflow_x": null,
            "overflow_y": null,
            "padding": null,
            "right": null,
            "top": null,
            "visibility": null,
            "width": null
          }
        },
        "ede37a71a1db4b6992e40fa48a4c1cea": {
          "model_module": "@jupyter-widgets/controls",
          "model_name": "DescriptionStyleModel",
          "model_module_version": "1.5.0",
          "state": {
            "_model_module": "@jupyter-widgets/controls",
            "_model_module_version": "1.5.0",
            "_model_name": "DescriptionStyleModel",
            "_view_count": null,
            "_view_module": "@jupyter-widgets/base",
            "_view_module_version": "1.2.0",
            "_view_name": "StyleView",
            "description_width": ""
          }
        },
        "d687eb43e5764a16b0598c887c5d4772": {
          "model_module": "@jupyter-widgets/controls",
          "model_name": "HBoxModel",
          "model_module_version": "1.5.0",
          "state": {
            "_dom_classes": [],
            "_model_module": "@jupyter-widgets/controls",
            "_model_module_version": "1.5.0",
            "_model_name": "HBoxModel",
            "_view_count": null,
            "_view_module": "@jupyter-widgets/controls",
            "_view_module_version": "1.5.0",
            "_view_name": "HBoxView",
            "box_style": "",
            "children": [
              "IPY_MODEL_0b813b2c6cb24aad8e9b237c47b6f1fb",
              "IPY_MODEL_6354b116ebef431eb35fe5763e9ad2e5",
              "IPY_MODEL_8fe9d9b452a84b64a763be4f343144ff"
            ],
            "layout": "IPY_MODEL_8929e6fd323b4f0499ea04d1fc422c8b"
          }
        },
        "0b813b2c6cb24aad8e9b237c47b6f1fb": {
          "model_module": "@jupyter-widgets/controls",
          "model_name": "HTMLModel",
          "model_module_version": "1.5.0",
          "state": {
            "_dom_classes": [],
            "_model_module": "@jupyter-widgets/controls",
            "_model_module_version": "1.5.0",
            "_model_name": "HTMLModel",
            "_view_count": null,
            "_view_module": "@jupyter-widgets/controls",
            "_view_module_version": "1.5.0",
            "_view_name": "HTMLView",
            "description": "",
            "description_tooltip": null,
            "layout": "IPY_MODEL_249d7f2e442844308a44f1010abed783",
            "placeholder": "​",
            "style": "IPY_MODEL_7b2ce80e737a4d4e84e3a8515de47eaa",
            "value": ""
          }
        },
        "6354b116ebef431eb35fe5763e9ad2e5": {
          "model_module": "@jupyter-widgets/controls",
          "model_name": "FloatProgressModel",
          "model_module_version": "1.5.0",
          "state": {
            "_dom_classes": [],
            "_model_module": "@jupyter-widgets/controls",
            "_model_module_version": "1.5.0",
            "_model_name": "FloatProgressModel",
            "_view_count": null,
            "_view_module": "@jupyter-widgets/controls",
            "_view_module_version": "1.5.0",
            "_view_name": "ProgressView",
            "bar_style": "success",
            "description": "",
            "description_tooltip": null,
            "layout": "IPY_MODEL_e1ac6c7c71fa4052a0bcc410f1e8c104",
            "max": 29515,
            "min": 0,
            "orientation": "horizontal",
            "style": "IPY_MODEL_4922cfc875964da4998350cebf751b67",
            "value": 29515
          }
        },
        "8fe9d9b452a84b64a763be4f343144ff": {
          "model_module": "@jupyter-widgets/controls",
          "model_name": "HTMLModel",
          "model_module_version": "1.5.0",
          "state": {
            "_dom_classes": [],
            "_model_module": "@jupyter-widgets/controls",
            "_model_module_version": "1.5.0",
            "_model_name": "HTMLModel",
            "_view_count": null,
            "_view_module": "@jupyter-widgets/controls",
            "_view_module_version": "1.5.0",
            "_view_name": "HTMLView",
            "description": "",
            "description_tooltip": null,
            "layout": "IPY_MODEL_4daab7ce759c4626bd786cfd4605dcbf",
            "placeholder": "​",
            "style": "IPY_MODEL_ebe7a8e99fb741e69a5690b93761df06",
            "value": " 29696/? [00:00&lt;00:00, 137599.67it/s]"
          }
        },
        "8929e6fd323b4f0499ea04d1fc422c8b": {
          "model_module": "@jupyter-widgets/base",
          "model_name": "LayoutModel",
          "model_module_version": "1.2.0",
          "state": {
            "_model_module": "@jupyter-widgets/base",
            "_model_module_version": "1.2.0",
            "_model_name": "LayoutModel",
            "_view_count": null,
            "_view_module": "@jupyter-widgets/base",
            "_view_module_version": "1.2.0",
            "_view_name": "LayoutView",
            "align_content": null,
            "align_items": null,
            "align_self": null,
            "border": null,
            "bottom": null,
            "display": null,
            "flex": null,
            "flex_flow": null,
            "grid_area": null,
            "grid_auto_columns": null,
            "grid_auto_flow": null,
            "grid_auto_rows": null,
            "grid_column": null,
            "grid_gap": null,
            "grid_row": null,
            "grid_template_areas": null,
            "grid_template_columns": null,
            "grid_template_rows": null,
            "height": null,
            "justify_content": null,
            "justify_items": null,
            "left": null,
            "margin": null,
            "max_height": null,
            "max_width": null,
            "min_height": null,
            "min_width": null,
            "object_fit": null,
            "object_position": null,
            "order": null,
            "overflow": null,
            "overflow_x": null,
            "overflow_y": null,
            "padding": null,
            "right": null,
            "top": null,
            "visibility": null,
            "width": null
          }
        },
        "249d7f2e442844308a44f1010abed783": {
          "model_module": "@jupyter-widgets/base",
          "model_name": "LayoutModel",
          "model_module_version": "1.2.0",
          "state": {
            "_model_module": "@jupyter-widgets/base",
            "_model_module_version": "1.2.0",
            "_model_name": "LayoutModel",
            "_view_count": null,
            "_view_module": "@jupyter-widgets/base",
            "_view_module_version": "1.2.0",
            "_view_name": "LayoutView",
            "align_content": null,
            "align_items": null,
            "align_self": null,
            "border": null,
            "bottom": null,
            "display": null,
            "flex": null,
            "flex_flow": null,
            "grid_area": null,
            "grid_auto_columns": null,
            "grid_auto_flow": null,
            "grid_auto_rows": null,
            "grid_column": null,
            "grid_gap": null,
            "grid_row": null,
            "grid_template_areas": null,
            "grid_template_columns": null,
            "grid_template_rows": null,
            "height": null,
            "justify_content": null,
            "justify_items": null,
            "left": null,
            "margin": null,
            "max_height": null,
            "max_width": null,
            "min_height": null,
            "min_width": null,
            "object_fit": null,
            "object_position": null,
            "order": null,
            "overflow": null,
            "overflow_x": null,
            "overflow_y": null,
            "padding": null,
            "right": null,
            "top": null,
            "visibility": null,
            "width": null
          }
        },
        "7b2ce80e737a4d4e84e3a8515de47eaa": {
          "model_module": "@jupyter-widgets/controls",
          "model_name": "DescriptionStyleModel",
          "model_module_version": "1.5.0",
          "state": {
            "_model_module": "@jupyter-widgets/controls",
            "_model_module_version": "1.5.0",
            "_model_name": "DescriptionStyleModel",
            "_view_count": null,
            "_view_module": "@jupyter-widgets/base",
            "_view_module_version": "1.2.0",
            "_view_name": "StyleView",
            "description_width": ""
          }
        },
        "e1ac6c7c71fa4052a0bcc410f1e8c104": {
          "model_module": "@jupyter-widgets/base",
          "model_name": "LayoutModel",
          "model_module_version": "1.2.0",
          "state": {
            "_model_module": "@jupyter-widgets/base",
            "_model_module_version": "1.2.0",
            "_model_name": "LayoutModel",
            "_view_count": null,
            "_view_module": "@jupyter-widgets/base",
            "_view_module_version": "1.2.0",
            "_view_name": "LayoutView",
            "align_content": null,
            "align_items": null,
            "align_self": null,
            "border": null,
            "bottom": null,
            "display": null,
            "flex": null,
            "flex_flow": null,
            "grid_area": null,
            "grid_auto_columns": null,
            "grid_auto_flow": null,
            "grid_auto_rows": null,
            "grid_column": null,
            "grid_gap": null,
            "grid_row": null,
            "grid_template_areas": null,
            "grid_template_columns": null,
            "grid_template_rows": null,
            "height": null,
            "justify_content": null,
            "justify_items": null,
            "left": null,
            "margin": null,
            "max_height": null,
            "max_width": null,
            "min_height": null,
            "min_width": null,
            "object_fit": null,
            "object_position": null,
            "order": null,
            "overflow": null,
            "overflow_x": null,
            "overflow_y": null,
            "padding": null,
            "right": null,
            "top": null,
            "visibility": null,
            "width": null
          }
        },
        "4922cfc875964da4998350cebf751b67": {
          "model_module": "@jupyter-widgets/controls",
          "model_name": "ProgressStyleModel",
          "model_module_version": "1.5.0",
          "state": {
            "_model_module": "@jupyter-widgets/controls",
            "_model_module_version": "1.5.0",
            "_model_name": "ProgressStyleModel",
            "_view_count": null,
            "_view_module": "@jupyter-widgets/base",
            "_view_module_version": "1.2.0",
            "_view_name": "StyleView",
            "bar_color": null,
            "description_width": ""
          }
        },
        "4daab7ce759c4626bd786cfd4605dcbf": {
          "model_module": "@jupyter-widgets/base",
          "model_name": "LayoutModel",
          "model_module_version": "1.2.0",
          "state": {
            "_model_module": "@jupyter-widgets/base",
            "_model_module_version": "1.2.0",
            "_model_name": "LayoutModel",
            "_view_count": null,
            "_view_module": "@jupyter-widgets/base",
            "_view_module_version": "1.2.0",
            "_view_name": "LayoutView",
            "align_content": null,
            "align_items": null,
            "align_self": null,
            "border": null,
            "bottom": null,
            "display": null,
            "flex": null,
            "flex_flow": null,
            "grid_area": null,
            "grid_auto_columns": null,
            "grid_auto_flow": null,
            "grid_auto_rows": null,
            "grid_column": null,
            "grid_gap": null,
            "grid_row": null,
            "grid_template_areas": null,
            "grid_template_columns": null,
            "grid_template_rows": null,
            "height": null,
            "justify_content": null,
            "justify_items": null,
            "left": null,
            "margin": null,
            "max_height": null,
            "max_width": null,
            "min_height": null,
            "min_width": null,
            "object_fit": null,
            "object_position": null,
            "order": null,
            "overflow": null,
            "overflow_x": null,
            "overflow_y": null,
            "padding": null,
            "right": null,
            "top": null,
            "visibility": null,
            "width": null
          }
        },
        "ebe7a8e99fb741e69a5690b93761df06": {
          "model_module": "@jupyter-widgets/controls",
          "model_name": "DescriptionStyleModel",
          "model_module_version": "1.5.0",
          "state": {
            "_model_module": "@jupyter-widgets/controls",
            "_model_module_version": "1.5.0",
            "_model_name": "DescriptionStyleModel",
            "_view_count": null,
            "_view_module": "@jupyter-widgets/base",
            "_view_module_version": "1.2.0",
            "_view_name": "StyleView",
            "description_width": ""
          }
        },
        "6f082f63a3d142c8a60a8dff281ce0e1": {
          "model_module": "@jupyter-widgets/controls",
          "model_name": "HBoxModel",
          "model_module_version": "1.5.0",
          "state": {
            "_dom_classes": [],
            "_model_module": "@jupyter-widgets/controls",
            "_model_module_version": "1.5.0",
            "_model_name": "HBoxModel",
            "_view_count": null,
            "_view_module": "@jupyter-widgets/controls",
            "_view_module_version": "1.5.0",
            "_view_name": "HBoxView",
            "box_style": "",
            "children": [
              "IPY_MODEL_a3bcfa3d3a904fcba4371770a9fa8b58",
              "IPY_MODEL_6aee36c8d84c47d8aa47b14a68d616fc",
              "IPY_MODEL_a6a1435953174a1c9edcb03c6762d43b"
            ],
            "layout": "IPY_MODEL_223b3edab379462f87e8b254b8285294"
          }
        },
        "a3bcfa3d3a904fcba4371770a9fa8b58": {
          "model_module": "@jupyter-widgets/controls",
          "model_name": "HTMLModel",
          "model_module_version": "1.5.0",
          "state": {
            "_dom_classes": [],
            "_model_module": "@jupyter-widgets/controls",
            "_model_module_version": "1.5.0",
            "_model_name": "HTMLModel",
            "_view_count": null,
            "_view_module": "@jupyter-widgets/controls",
            "_view_module_version": "1.5.0",
            "_view_name": "HTMLView",
            "description": "",
            "description_tooltip": null,
            "layout": "IPY_MODEL_b1b966e580c041d4a6782e0e8178130f",
            "placeholder": "​",
            "style": "IPY_MODEL_ae0e5c93c9fe42f89fddeeb1a6ce0283",
            "value": ""
          }
        },
        "6aee36c8d84c47d8aa47b14a68d616fc": {
          "model_module": "@jupyter-widgets/controls",
          "model_name": "FloatProgressModel",
          "model_module_version": "1.5.0",
          "state": {
            "_dom_classes": [],
            "_model_module": "@jupyter-widgets/controls",
            "_model_module_version": "1.5.0",
            "_model_name": "FloatProgressModel",
            "_view_count": null,
            "_view_module": "@jupyter-widgets/controls",
            "_view_module_version": "1.5.0",
            "_view_name": "ProgressView",
            "bar_style": "success",
            "description": "",
            "description_tooltip": null,
            "layout": "IPY_MODEL_970b627eea9643ffacec1b9c1627bf38",
            "max": 4422102,
            "min": 0,
            "orientation": "horizontal",
            "style": "IPY_MODEL_193b5709f49044a69feea5916f4fc99e",
            "value": 4422102
          }
        },
        "a6a1435953174a1c9edcb03c6762d43b": {
          "model_module": "@jupyter-widgets/controls",
          "model_name": "HTMLModel",
          "model_module_version": "1.5.0",
          "state": {
            "_dom_classes": [],
            "_model_module": "@jupyter-widgets/controls",
            "_model_module_version": "1.5.0",
            "_model_name": "HTMLModel",
            "_view_count": null,
            "_view_module": "@jupyter-widgets/controls",
            "_view_module_version": "1.5.0",
            "_view_name": "HTMLView",
            "description": "",
            "description_tooltip": null,
            "layout": "IPY_MODEL_82c8f9f7d18d4edba291b21fb6221aa9",
            "placeholder": "​",
            "style": "IPY_MODEL_66c70a11647a42388ae17373743741d6",
            "value": " 4422656/? [00:00&lt;00:00, 8224574.58it/s]"
          }
        },
        "223b3edab379462f87e8b254b8285294": {
          "model_module": "@jupyter-widgets/base",
          "model_name": "LayoutModel",
          "model_module_version": "1.2.0",
          "state": {
            "_model_module": "@jupyter-widgets/base",
            "_model_module_version": "1.2.0",
            "_model_name": "LayoutModel",
            "_view_count": null,
            "_view_module": "@jupyter-widgets/base",
            "_view_module_version": "1.2.0",
            "_view_name": "LayoutView",
            "align_content": null,
            "align_items": null,
            "align_self": null,
            "border": null,
            "bottom": null,
            "display": null,
            "flex": null,
            "flex_flow": null,
            "grid_area": null,
            "grid_auto_columns": null,
            "grid_auto_flow": null,
            "grid_auto_rows": null,
            "grid_column": null,
            "grid_gap": null,
            "grid_row": null,
            "grid_template_areas": null,
            "grid_template_columns": null,
            "grid_template_rows": null,
            "height": null,
            "justify_content": null,
            "justify_items": null,
            "left": null,
            "margin": null,
            "max_height": null,
            "max_width": null,
            "min_height": null,
            "min_width": null,
            "object_fit": null,
            "object_position": null,
            "order": null,
            "overflow": null,
            "overflow_x": null,
            "overflow_y": null,
            "padding": null,
            "right": null,
            "top": null,
            "visibility": null,
            "width": null
          }
        },
        "b1b966e580c041d4a6782e0e8178130f": {
          "model_module": "@jupyter-widgets/base",
          "model_name": "LayoutModel",
          "model_module_version": "1.2.0",
          "state": {
            "_model_module": "@jupyter-widgets/base",
            "_model_module_version": "1.2.0",
            "_model_name": "LayoutModel",
            "_view_count": null,
            "_view_module": "@jupyter-widgets/base",
            "_view_module_version": "1.2.0",
            "_view_name": "LayoutView",
            "align_content": null,
            "align_items": null,
            "align_self": null,
            "border": null,
            "bottom": null,
            "display": null,
            "flex": null,
            "flex_flow": null,
            "grid_area": null,
            "grid_auto_columns": null,
            "grid_auto_flow": null,
            "grid_auto_rows": null,
            "grid_column": null,
            "grid_gap": null,
            "grid_row": null,
            "grid_template_areas": null,
            "grid_template_columns": null,
            "grid_template_rows": null,
            "height": null,
            "justify_content": null,
            "justify_items": null,
            "left": null,
            "margin": null,
            "max_height": null,
            "max_width": null,
            "min_height": null,
            "min_width": null,
            "object_fit": null,
            "object_position": null,
            "order": null,
            "overflow": null,
            "overflow_x": null,
            "overflow_y": null,
            "padding": null,
            "right": null,
            "top": null,
            "visibility": null,
            "width": null
          }
        },
        "ae0e5c93c9fe42f89fddeeb1a6ce0283": {
          "model_module": "@jupyter-widgets/controls",
          "model_name": "DescriptionStyleModel",
          "model_module_version": "1.5.0",
          "state": {
            "_model_module": "@jupyter-widgets/controls",
            "_model_module_version": "1.5.0",
            "_model_name": "DescriptionStyleModel",
            "_view_count": null,
            "_view_module": "@jupyter-widgets/base",
            "_view_module_version": "1.2.0",
            "_view_name": "StyleView",
            "description_width": ""
          }
        },
        "970b627eea9643ffacec1b9c1627bf38": {
          "model_module": "@jupyter-widgets/base",
          "model_name": "LayoutModel",
          "model_module_version": "1.2.0",
          "state": {
            "_model_module": "@jupyter-widgets/base",
            "_model_module_version": "1.2.0",
            "_model_name": "LayoutModel",
            "_view_count": null,
            "_view_module": "@jupyter-widgets/base",
            "_view_module_version": "1.2.0",
            "_view_name": "LayoutView",
            "align_content": null,
            "align_items": null,
            "align_self": null,
            "border": null,
            "bottom": null,
            "display": null,
            "flex": null,
            "flex_flow": null,
            "grid_area": null,
            "grid_auto_columns": null,
            "grid_auto_flow": null,
            "grid_auto_rows": null,
            "grid_column": null,
            "grid_gap": null,
            "grid_row": null,
            "grid_template_areas": null,
            "grid_template_columns": null,
            "grid_template_rows": null,
            "height": null,
            "justify_content": null,
            "justify_items": null,
            "left": null,
            "margin": null,
            "max_height": null,
            "max_width": null,
            "min_height": null,
            "min_width": null,
            "object_fit": null,
            "object_position": null,
            "order": null,
            "overflow": null,
            "overflow_x": null,
            "overflow_y": null,
            "padding": null,
            "right": null,
            "top": null,
            "visibility": null,
            "width": null
          }
        },
        "193b5709f49044a69feea5916f4fc99e": {
          "model_module": "@jupyter-widgets/controls",
          "model_name": "ProgressStyleModel",
          "model_module_version": "1.5.0",
          "state": {
            "_model_module": "@jupyter-widgets/controls",
            "_model_module_version": "1.5.0",
            "_model_name": "ProgressStyleModel",
            "_view_count": null,
            "_view_module": "@jupyter-widgets/base",
            "_view_module_version": "1.2.0",
            "_view_name": "StyleView",
            "bar_color": null,
            "description_width": ""
          }
        },
        "82c8f9f7d18d4edba291b21fb6221aa9": {
          "model_module": "@jupyter-widgets/base",
          "model_name": "LayoutModel",
          "model_module_version": "1.2.0",
          "state": {
            "_model_module": "@jupyter-widgets/base",
            "_model_module_version": "1.2.0",
            "_model_name": "LayoutModel",
            "_view_count": null,
            "_view_module": "@jupyter-widgets/base",
            "_view_module_version": "1.2.0",
            "_view_name": "LayoutView",
            "align_content": null,
            "align_items": null,
            "align_self": null,
            "border": null,
            "bottom": null,
            "display": null,
            "flex": null,
            "flex_flow": null,
            "grid_area": null,
            "grid_auto_columns": null,
            "grid_auto_flow": null,
            "grid_auto_rows": null,
            "grid_column": null,
            "grid_gap": null,
            "grid_row": null,
            "grid_template_areas": null,
            "grid_template_columns": null,
            "grid_template_rows": null,
            "height": null,
            "justify_content": null,
            "justify_items": null,
            "left": null,
            "margin": null,
            "max_height": null,
            "max_width": null,
            "min_height": null,
            "min_width": null,
            "object_fit": null,
            "object_position": null,
            "order": null,
            "overflow": null,
            "overflow_x": null,
            "overflow_y": null,
            "padding": null,
            "right": null,
            "top": null,
            "visibility": null,
            "width": null
          }
        },
        "66c70a11647a42388ae17373743741d6": {
          "model_module": "@jupyter-widgets/controls",
          "model_name": "DescriptionStyleModel",
          "model_module_version": "1.5.0",
          "state": {
            "_model_module": "@jupyter-widgets/controls",
            "_model_module_version": "1.5.0",
            "_model_name": "DescriptionStyleModel",
            "_view_count": null,
            "_view_module": "@jupyter-widgets/base",
            "_view_module_version": "1.2.0",
            "_view_name": "StyleView",
            "description_width": ""
          }
        },
        "4a3e58df2d6344b489363b4943e8e04b": {
          "model_module": "@jupyter-widgets/controls",
          "model_name": "HBoxModel",
          "model_module_version": "1.5.0",
          "state": {
            "_dom_classes": [],
            "_model_module": "@jupyter-widgets/controls",
            "_model_module_version": "1.5.0",
            "_model_name": "HBoxModel",
            "_view_count": null,
            "_view_module": "@jupyter-widgets/controls",
            "_view_module_version": "1.5.0",
            "_view_name": "HBoxView",
            "box_style": "",
            "children": [
              "IPY_MODEL_b81af0ad260e41ee8176109f79f5de26",
              "IPY_MODEL_ad9c9861692346719054578c54ecbd93",
              "IPY_MODEL_6b8976a15207445f8f673476b0f9a9b5"
            ],
            "layout": "IPY_MODEL_0013b2cf9ce84c20b2b5a77bb26279b3"
          }
        },
        "b81af0ad260e41ee8176109f79f5de26": {
          "model_module": "@jupyter-widgets/controls",
          "model_name": "HTMLModel",
          "model_module_version": "1.5.0",
          "state": {
            "_dom_classes": [],
            "_model_module": "@jupyter-widgets/controls",
            "_model_module_version": "1.5.0",
            "_model_name": "HTMLModel",
            "_view_count": null,
            "_view_module": "@jupyter-widgets/controls",
            "_view_module_version": "1.5.0",
            "_view_name": "HTMLView",
            "description": "",
            "description_tooltip": null,
            "layout": "IPY_MODEL_f173ffcef097466289045d7dd2e4d1c6",
            "placeholder": "​",
            "style": "IPY_MODEL_4832e59cefea4c3eadf3aa5c853e6ec8",
            "value": ""
          }
        },
        "ad9c9861692346719054578c54ecbd93": {
          "model_module": "@jupyter-widgets/controls",
          "model_name": "FloatProgressModel",
          "model_module_version": "1.5.0",
          "state": {
            "_dom_classes": [],
            "_model_module": "@jupyter-widgets/controls",
            "_model_module_version": "1.5.0",
            "_model_name": "FloatProgressModel",
            "_view_count": null,
            "_view_module": "@jupyter-widgets/controls",
            "_view_module_version": "1.5.0",
            "_view_name": "ProgressView",
            "bar_style": "success",
            "description": "",
            "description_tooltip": null,
            "layout": "IPY_MODEL_d83948dda2a04028b409c0b7ff7e0d53",
            "max": 5148,
            "min": 0,
            "orientation": "horizontal",
            "style": "IPY_MODEL_c2270afb1b65476c8836f9c45645e9f2",
            "value": 5148
          }
        },
        "6b8976a15207445f8f673476b0f9a9b5": {
          "model_module": "@jupyter-widgets/controls",
          "model_name": "HTMLModel",
          "model_module_version": "1.5.0",
          "state": {
            "_dom_classes": [],
            "_model_module": "@jupyter-widgets/controls",
            "_model_module_version": "1.5.0",
            "_model_name": "HTMLModel",
            "_view_count": null,
            "_view_module": "@jupyter-widgets/controls",
            "_view_module_version": "1.5.0",
            "_view_name": "HTMLView",
            "description": "",
            "description_tooltip": null,
            "layout": "IPY_MODEL_68c5945b812249f097746390fe45d606",
            "placeholder": "​",
            "style": "IPY_MODEL_534d667a4ace46ee9137d37109cecb5b",
            "value": " 6144/? [00:00&lt;00:00, 162683.02it/s]"
          }
        },
        "0013b2cf9ce84c20b2b5a77bb26279b3": {
          "model_module": "@jupyter-widgets/base",
          "model_name": "LayoutModel",
          "model_module_version": "1.2.0",
          "state": {
            "_model_module": "@jupyter-widgets/base",
            "_model_module_version": "1.2.0",
            "_model_name": "LayoutModel",
            "_view_count": null,
            "_view_module": "@jupyter-widgets/base",
            "_view_module_version": "1.2.0",
            "_view_name": "LayoutView",
            "align_content": null,
            "align_items": null,
            "align_self": null,
            "border": null,
            "bottom": null,
            "display": null,
            "flex": null,
            "flex_flow": null,
            "grid_area": null,
            "grid_auto_columns": null,
            "grid_auto_flow": null,
            "grid_auto_rows": null,
            "grid_column": null,
            "grid_gap": null,
            "grid_row": null,
            "grid_template_areas": null,
            "grid_template_columns": null,
            "grid_template_rows": null,
            "height": null,
            "justify_content": null,
            "justify_items": null,
            "left": null,
            "margin": null,
            "max_height": null,
            "max_width": null,
            "min_height": null,
            "min_width": null,
            "object_fit": null,
            "object_position": null,
            "order": null,
            "overflow": null,
            "overflow_x": null,
            "overflow_y": null,
            "padding": null,
            "right": null,
            "top": null,
            "visibility": null,
            "width": null
          }
        },
        "f173ffcef097466289045d7dd2e4d1c6": {
          "model_module": "@jupyter-widgets/base",
          "model_name": "LayoutModel",
          "model_module_version": "1.2.0",
          "state": {
            "_model_module": "@jupyter-widgets/base",
            "_model_module_version": "1.2.0",
            "_model_name": "LayoutModel",
            "_view_count": null,
            "_view_module": "@jupyter-widgets/base",
            "_view_module_version": "1.2.0",
            "_view_name": "LayoutView",
            "align_content": null,
            "align_items": null,
            "align_self": null,
            "border": null,
            "bottom": null,
            "display": null,
            "flex": null,
            "flex_flow": null,
            "grid_area": null,
            "grid_auto_columns": null,
            "grid_auto_flow": null,
            "grid_auto_rows": null,
            "grid_column": null,
            "grid_gap": null,
            "grid_row": null,
            "grid_template_areas": null,
            "grid_template_columns": null,
            "grid_template_rows": null,
            "height": null,
            "justify_content": null,
            "justify_items": null,
            "left": null,
            "margin": null,
            "max_height": null,
            "max_width": null,
            "min_height": null,
            "min_width": null,
            "object_fit": null,
            "object_position": null,
            "order": null,
            "overflow": null,
            "overflow_x": null,
            "overflow_y": null,
            "padding": null,
            "right": null,
            "top": null,
            "visibility": null,
            "width": null
          }
        },
        "4832e59cefea4c3eadf3aa5c853e6ec8": {
          "model_module": "@jupyter-widgets/controls",
          "model_name": "DescriptionStyleModel",
          "model_module_version": "1.5.0",
          "state": {
            "_model_module": "@jupyter-widgets/controls",
            "_model_module_version": "1.5.0",
            "_model_name": "DescriptionStyleModel",
            "_view_count": null,
            "_view_module": "@jupyter-widgets/base",
            "_view_module_version": "1.2.0",
            "_view_name": "StyleView",
            "description_width": ""
          }
        },
        "d83948dda2a04028b409c0b7ff7e0d53": {
          "model_module": "@jupyter-widgets/base",
          "model_name": "LayoutModel",
          "model_module_version": "1.2.0",
          "state": {
            "_model_module": "@jupyter-widgets/base",
            "_model_module_version": "1.2.0",
            "_model_name": "LayoutModel",
            "_view_count": null,
            "_view_module": "@jupyter-widgets/base",
            "_view_module_version": "1.2.0",
            "_view_name": "LayoutView",
            "align_content": null,
            "align_items": null,
            "align_self": null,
            "border": null,
            "bottom": null,
            "display": null,
            "flex": null,
            "flex_flow": null,
            "grid_area": null,
            "grid_auto_columns": null,
            "grid_auto_flow": null,
            "grid_auto_rows": null,
            "grid_column": null,
            "grid_gap": null,
            "grid_row": null,
            "grid_template_areas": null,
            "grid_template_columns": null,
            "grid_template_rows": null,
            "height": null,
            "justify_content": null,
            "justify_items": null,
            "left": null,
            "margin": null,
            "max_height": null,
            "max_width": null,
            "min_height": null,
            "min_width": null,
            "object_fit": null,
            "object_position": null,
            "order": null,
            "overflow": null,
            "overflow_x": null,
            "overflow_y": null,
            "padding": null,
            "right": null,
            "top": null,
            "visibility": null,
            "width": null
          }
        },
        "c2270afb1b65476c8836f9c45645e9f2": {
          "model_module": "@jupyter-widgets/controls",
          "model_name": "ProgressStyleModel",
          "model_module_version": "1.5.0",
          "state": {
            "_model_module": "@jupyter-widgets/controls",
            "_model_module_version": "1.5.0",
            "_model_name": "ProgressStyleModel",
            "_view_count": null,
            "_view_module": "@jupyter-widgets/base",
            "_view_module_version": "1.2.0",
            "_view_name": "StyleView",
            "bar_color": null,
            "description_width": ""
          }
        },
        "68c5945b812249f097746390fe45d606": {
          "model_module": "@jupyter-widgets/base",
          "model_name": "LayoutModel",
          "model_module_version": "1.2.0",
          "state": {
            "_model_module": "@jupyter-widgets/base",
            "_model_module_version": "1.2.0",
            "_model_name": "LayoutModel",
            "_view_count": null,
            "_view_module": "@jupyter-widgets/base",
            "_view_module_version": "1.2.0",
            "_view_name": "LayoutView",
            "align_content": null,
            "align_items": null,
            "align_self": null,
            "border": null,
            "bottom": null,
            "display": null,
            "flex": null,
            "flex_flow": null,
            "grid_area": null,
            "grid_auto_columns": null,
            "grid_auto_flow": null,
            "grid_auto_rows": null,
            "grid_column": null,
            "grid_gap": null,
            "grid_row": null,
            "grid_template_areas": null,
            "grid_template_columns": null,
            "grid_template_rows": null,
            "height": null,
            "justify_content": null,
            "justify_items": null,
            "left": null,
            "margin": null,
            "max_height": null,
            "max_width": null,
            "min_height": null,
            "min_width": null,
            "object_fit": null,
            "object_position": null,
            "order": null,
            "overflow": null,
            "overflow_x": null,
            "overflow_y": null,
            "padding": null,
            "right": null,
            "top": null,
            "visibility": null,
            "width": null
          }
        },
        "534d667a4ace46ee9137d37109cecb5b": {
          "model_module": "@jupyter-widgets/controls",
          "model_name": "DescriptionStyleModel",
          "model_module_version": "1.5.0",
          "state": {
            "_model_module": "@jupyter-widgets/controls",
            "_model_module_version": "1.5.0",
            "_model_name": "DescriptionStyleModel",
            "_view_count": null,
            "_view_module": "@jupyter-widgets/base",
            "_view_module_version": "1.2.0",
            "_view_name": "StyleView",
            "description_width": ""
          }
        }
      }
    }
  },
  "cells": [
    {
      "cell_type": "code",
      "execution_count": 1,
      "metadata": {
        "colab": {
          "base_uri": "https://localhost:8080/"
        },
        "id": "pS3_OgnMK0QW",
        "outputId": "8dcd0ce6-384c-4fc2-e7dc-6c7b36d66bc3"
      },
      "outputs": [
        {
          "output_type": "stream",
          "name": "stdout",
          "text": [
            "Requirement already satisfied: torch in /usr/local/lib/python3.7/dist-packages (1.10.0+cu111)\n",
            "Requirement already satisfied: torchvision in /usr/local/lib/python3.7/dist-packages (0.11.1+cu111)\n",
            "Requirement already satisfied: typing-extensions in /usr/local/lib/python3.7/dist-packages (from torch) (3.10.0.2)\n",
            "Requirement already satisfied: pillow!=8.3.0,>=5.3.0 in /usr/local/lib/python3.7/dist-packages (from torchvision) (7.1.2)\n",
            "Requirement already satisfied: numpy in /usr/local/lib/python3.7/dist-packages (from torchvision) (1.21.5)\n"
          ]
        }
      ],
      "source": [
        "!pip install torch torchvision"
      ]
    },
    {
      "cell_type": "code",
      "source": [
        "!pip install -U d2l"
      ],
      "metadata": {
        "colab": {
          "base_uri": "https://localhost:8080/",
          "height": 1000
        },
        "id": "pzrt_gMVLR4d",
        "outputId": "a8c42be3-2116-43d7-e366-23c093ca9cc4"
      },
      "execution_count": 2,
      "outputs": [
        {
          "output_type": "stream",
          "name": "stdout",
          "text": [
            "Collecting d2l\n",
            "  Downloading d2l-0.17.5-py3-none-any.whl (82 kB)\n",
            "\u001b[K     |████████████████████████████████| 82 kB 524 kB/s \n",
            "\u001b[?25hCollecting pandas==1.2.4\n",
            "  Downloading pandas-1.2.4-cp37-cp37m-manylinux1_x86_64.whl (9.9 MB)\n",
            "\u001b[K     |████████████████████████████████| 9.9 MB 11.2 MB/s \n",
            "\u001b[?25hCollecting matplotlib==3.5.1\n",
            "  Downloading matplotlib-3.5.1-cp37-cp37m-manylinux_2_5_x86_64.manylinux1_x86_64.whl (11.2 MB)\n",
            "\u001b[K     |████████████████████████████████| 11.2 MB 30.5 MB/s \n",
            "\u001b[?25hRequirement already satisfied: numpy==1.21.5 in /usr/local/lib/python3.7/dist-packages (from d2l) (1.21.5)\n",
            "Requirement already satisfied: jupyter==1.0.0 in /usr/local/lib/python3.7/dist-packages (from d2l) (1.0.0)\n",
            "Collecting requests==2.25.1\n",
            "  Downloading requests-2.25.1-py2.py3-none-any.whl (61 kB)\n",
            "\u001b[K     |████████████████████████████████| 61 kB 6.8 MB/s \n",
            "\u001b[?25hRequirement already satisfied: ipywidgets in /usr/local/lib/python3.7/dist-packages (from jupyter==1.0.0->d2l) (7.7.0)\n",
            "Requirement already satisfied: ipykernel in /usr/local/lib/python3.7/dist-packages (from jupyter==1.0.0->d2l) (4.10.1)\n",
            "Requirement already satisfied: qtconsole in /usr/local/lib/python3.7/dist-packages (from jupyter==1.0.0->d2l) (5.2.2)\n",
            "Requirement already satisfied: notebook in /usr/local/lib/python3.7/dist-packages (from jupyter==1.0.0->d2l) (5.3.1)\n",
            "Requirement already satisfied: jupyter-console in /usr/local/lib/python3.7/dist-packages (from jupyter==1.0.0->d2l) (5.2.0)\n",
            "Requirement already satisfied: nbconvert in /usr/local/lib/python3.7/dist-packages (from jupyter==1.0.0->d2l) (5.6.1)\n",
            "Requirement already satisfied: cycler>=0.10 in /usr/local/lib/python3.7/dist-packages (from matplotlib==3.5.1->d2l) (0.11.0)\n",
            "Requirement already satisfied: python-dateutil>=2.7 in /usr/local/lib/python3.7/dist-packages (from matplotlib==3.5.1->d2l) (2.8.2)\n",
            "Collecting fonttools>=4.22.0\n",
            "  Downloading fonttools-4.32.0-py3-none-any.whl (900 kB)\n",
            "\u001b[K     |████████████████████████████████| 900 kB 37.7 MB/s \n",
            "\u001b[?25hRequirement already satisfied: kiwisolver>=1.0.1 in /usr/local/lib/python3.7/dist-packages (from matplotlib==3.5.1->d2l) (1.4.0)\n",
            "Requirement already satisfied: packaging>=20.0 in /usr/local/lib/python3.7/dist-packages (from matplotlib==3.5.1->d2l) (21.3)\n",
            "Requirement already satisfied: pillow>=6.2.0 in /usr/local/lib/python3.7/dist-packages (from matplotlib==3.5.1->d2l) (7.1.2)\n",
            "Requirement already satisfied: pyparsing>=2.2.1 in /usr/local/lib/python3.7/dist-packages (from matplotlib==3.5.1->d2l) (3.0.7)\n",
            "Requirement already satisfied: pytz>=2017.3 in /usr/local/lib/python3.7/dist-packages (from pandas==1.2.4->d2l) (2018.9)\n",
            "Requirement already satisfied: idna<3,>=2.5 in /usr/local/lib/python3.7/dist-packages (from requests==2.25.1->d2l) (2.10)\n",
            "Requirement already satisfied: urllib3<1.27,>=1.21.1 in /usr/local/lib/python3.7/dist-packages (from requests==2.25.1->d2l) (1.24.3)\n",
            "Requirement already satisfied: certifi>=2017.4.17 in /usr/local/lib/python3.7/dist-packages (from requests==2.25.1->d2l) (2021.10.8)\n",
            "Requirement already satisfied: chardet<5,>=3.0.2 in /usr/local/lib/python3.7/dist-packages (from requests==2.25.1->d2l) (3.0.4)\n",
            "Requirement already satisfied: typing-extensions in /usr/local/lib/python3.7/dist-packages (from kiwisolver>=1.0.1->matplotlib==3.5.1->d2l) (3.10.0.2)\n",
            "Requirement already satisfied: six>=1.5 in /usr/local/lib/python3.7/dist-packages (from python-dateutil>=2.7->matplotlib==3.5.1->d2l) (1.15.0)\n",
            "Requirement already satisfied: traitlets>=4.1.0 in /usr/local/lib/python3.7/dist-packages (from ipykernel->jupyter==1.0.0->d2l) (5.1.1)\n",
            "Requirement already satisfied: jupyter-client in /usr/local/lib/python3.7/dist-packages (from ipykernel->jupyter==1.0.0->d2l) (5.3.5)\n",
            "Requirement already satisfied: ipython>=4.0.0 in /usr/local/lib/python3.7/dist-packages (from ipykernel->jupyter==1.0.0->d2l) (5.5.0)\n",
            "Requirement already satisfied: tornado>=4.0 in /usr/local/lib/python3.7/dist-packages (from ipykernel->jupyter==1.0.0->d2l) (5.1.1)\n",
            "Requirement already satisfied: pygments in /usr/local/lib/python3.7/dist-packages (from ipython>=4.0.0->ipykernel->jupyter==1.0.0->d2l) (2.6.1)\n",
            "Requirement already satisfied: pickleshare in /usr/local/lib/python3.7/dist-packages (from ipython>=4.0.0->ipykernel->jupyter==1.0.0->d2l) (0.7.5)\n",
            "Requirement already satisfied: decorator in /usr/local/lib/python3.7/dist-packages (from ipython>=4.0.0->ipykernel->jupyter==1.0.0->d2l) (4.4.2)\n",
            "Requirement already satisfied: prompt-toolkit<2.0.0,>=1.0.4 in /usr/local/lib/python3.7/dist-packages (from ipython>=4.0.0->ipykernel->jupyter==1.0.0->d2l) (1.0.18)\n",
            "Requirement already satisfied: simplegeneric>0.8 in /usr/local/lib/python3.7/dist-packages (from ipython>=4.0.0->ipykernel->jupyter==1.0.0->d2l) (0.8.1)\n",
            "Requirement already satisfied: pexpect in /usr/local/lib/python3.7/dist-packages (from ipython>=4.0.0->ipykernel->jupyter==1.0.0->d2l) (4.8.0)\n",
            "Requirement already satisfied: setuptools>=18.5 in /usr/local/lib/python3.7/dist-packages (from ipython>=4.0.0->ipykernel->jupyter==1.0.0->d2l) (57.4.0)\n",
            "Requirement already satisfied: wcwidth in /usr/local/lib/python3.7/dist-packages (from prompt-toolkit<2.0.0,>=1.0.4->ipython>=4.0.0->ipykernel->jupyter==1.0.0->d2l) (0.2.5)\n",
            "Requirement already satisfied: ipython-genutils~=0.2.0 in /usr/local/lib/python3.7/dist-packages (from ipywidgets->jupyter==1.0.0->d2l) (0.2.0)\n",
            "Requirement already satisfied: widgetsnbextension~=3.6.0 in /usr/local/lib/python3.7/dist-packages (from ipywidgets->jupyter==1.0.0->d2l) (3.6.0)\n",
            "Requirement already satisfied: nbformat>=4.2.0 in /usr/local/lib/python3.7/dist-packages (from ipywidgets->jupyter==1.0.0->d2l) (5.2.0)\n",
            "Requirement already satisfied: jupyterlab-widgets>=1.0.0 in /usr/local/lib/python3.7/dist-packages (from ipywidgets->jupyter==1.0.0->d2l) (1.1.0)\n",
            "Requirement already satisfied: jupyter-core in /usr/local/lib/python3.7/dist-packages (from nbformat>=4.2.0->ipywidgets->jupyter==1.0.0->d2l) (4.9.2)\n",
            "Requirement already satisfied: jsonschema!=2.5.0,>=2.4 in /usr/local/lib/python3.7/dist-packages (from nbformat>=4.2.0->ipywidgets->jupyter==1.0.0->d2l) (4.3.3)\n",
            "Requirement already satisfied: pyrsistent!=0.17.0,!=0.17.1,!=0.17.2,>=0.14.0 in /usr/local/lib/python3.7/dist-packages (from jsonschema!=2.5.0,>=2.4->nbformat>=4.2.0->ipywidgets->jupyter==1.0.0->d2l) (0.18.1)\n",
            "Requirement already satisfied: attrs>=17.4.0 in /usr/local/lib/python3.7/dist-packages (from jsonschema!=2.5.0,>=2.4->nbformat>=4.2.0->ipywidgets->jupyter==1.0.0->d2l) (21.4.0)\n",
            "Requirement already satisfied: importlib-metadata in /usr/local/lib/python3.7/dist-packages (from jsonschema!=2.5.0,>=2.4->nbformat>=4.2.0->ipywidgets->jupyter==1.0.0->d2l) (4.11.3)\n",
            "Requirement already satisfied: importlib-resources>=1.4.0 in /usr/local/lib/python3.7/dist-packages (from jsonschema!=2.5.0,>=2.4->nbformat>=4.2.0->ipywidgets->jupyter==1.0.0->d2l) (5.4.0)\n",
            "Requirement already satisfied: zipp>=3.1.0 in /usr/local/lib/python3.7/dist-packages (from importlib-resources>=1.4.0->jsonschema!=2.5.0,>=2.4->nbformat>=4.2.0->ipywidgets->jupyter==1.0.0->d2l) (3.7.0)\n",
            "Requirement already satisfied: Send2Trash in /usr/local/lib/python3.7/dist-packages (from notebook->jupyter==1.0.0->d2l) (1.8.0)\n",
            "Requirement already satisfied: jinja2 in /usr/local/lib/python3.7/dist-packages (from notebook->jupyter==1.0.0->d2l) (2.11.3)\n",
            "Requirement already satisfied: terminado>=0.8.1 in /usr/local/lib/python3.7/dist-packages (from notebook->jupyter==1.0.0->d2l) (0.13.3)\n",
            "Requirement already satisfied: pyzmq>=13 in /usr/local/lib/python3.7/dist-packages (from jupyter-client->ipykernel->jupyter==1.0.0->d2l) (22.3.0)\n",
            "Requirement already satisfied: ptyprocess in /usr/local/lib/python3.7/dist-packages (from terminado>=0.8.1->notebook->jupyter==1.0.0->d2l) (0.7.0)\n",
            "Requirement already satisfied: MarkupSafe>=0.23 in /usr/local/lib/python3.7/dist-packages (from jinja2->notebook->jupyter==1.0.0->d2l) (2.0.1)\n",
            "Requirement already satisfied: defusedxml in /usr/local/lib/python3.7/dist-packages (from nbconvert->jupyter==1.0.0->d2l) (0.7.1)\n",
            "Requirement already satisfied: pandocfilters>=1.4.1 in /usr/local/lib/python3.7/dist-packages (from nbconvert->jupyter==1.0.0->d2l) (1.5.0)\n",
            "Requirement already satisfied: mistune<2,>=0.8.1 in /usr/local/lib/python3.7/dist-packages (from nbconvert->jupyter==1.0.0->d2l) (0.8.4)\n",
            "Requirement already satisfied: bleach in /usr/local/lib/python3.7/dist-packages (from nbconvert->jupyter==1.0.0->d2l) (4.1.0)\n",
            "Requirement already satisfied: testpath in /usr/local/lib/python3.7/dist-packages (from nbconvert->jupyter==1.0.0->d2l) (0.6.0)\n",
            "Requirement already satisfied: entrypoints>=0.2.2 in /usr/local/lib/python3.7/dist-packages (from nbconvert->jupyter==1.0.0->d2l) (0.4)\n",
            "Requirement already satisfied: webencodings in /usr/local/lib/python3.7/dist-packages (from bleach->nbconvert->jupyter==1.0.0->d2l) (0.5.1)\n",
            "Requirement already satisfied: qtpy in /usr/local/lib/python3.7/dist-packages (from qtconsole->jupyter==1.0.0->d2l) (2.0.1)\n",
            "Installing collected packages: fonttools, requests, pandas, matplotlib, d2l\n",
            "  Attempting uninstall: requests\n",
            "    Found existing installation: requests 2.23.0\n",
            "    Uninstalling requests-2.23.0:\n",
            "      Successfully uninstalled requests-2.23.0\n",
            "  Attempting uninstall: pandas\n",
            "    Found existing installation: pandas 1.3.5\n",
            "    Uninstalling pandas-1.3.5:\n",
            "      Successfully uninstalled pandas-1.3.5\n",
            "  Attempting uninstall: matplotlib\n",
            "    Found existing installation: matplotlib 3.2.2\n",
            "    Uninstalling matplotlib-3.2.2:\n",
            "      Successfully uninstalled matplotlib-3.2.2\n",
            "\u001b[31mERROR: pip's dependency resolver does not currently take into account all the packages that are installed. This behaviour is the source of the following dependency conflicts.\n",
            "google-colab 1.0.0 requires requests~=2.23.0, but you have requests 2.25.1 which is incompatible.\n",
            "datascience 0.10.6 requires folium==0.2.1, but you have folium 0.8.3 which is incompatible.\n",
            "albumentations 0.1.12 requires imgaug<0.2.7,>=0.2.5, but you have imgaug 0.2.9 which is incompatible.\u001b[0m\n",
            "Successfully installed d2l-0.17.5 fonttools-4.32.0 matplotlib-3.5.1 pandas-1.2.4 requests-2.25.1\n"
          ]
        },
        {
          "output_type": "display_data",
          "data": {
            "application/vnd.colab-display-data+json": {
              "pip_warning": {
                "packages": [
                  "matplotlib",
                  "mpl_toolkits"
                ]
              }
            }
          },
          "metadata": {}
        }
      ]
    },
    {
      "cell_type": "markdown",
      "source": [
        "# Convolutions for Images"
      ],
      "metadata": {
        "id": "xyu4cWuhLZsu"
      }
    },
    {
      "cell_type": "markdown",
      "source": [
        "## The Cross-Correlation Operation"
      ],
      "metadata": {
        "id": "aDn0wDcwLcXP"
      }
    },
    {
      "cell_type": "code",
      "source": [
        "import torch\n",
        "from torch import nn\n",
        "from d2l import torch as d2l\n",
        "\n",
        "def corr2d(X, K):  #save\n",
        "    \"\"\"Compute 2D cross-correlation.\"\"\"\n",
        "    h, w = K.shape\n",
        "    Y = torch.zeros((X.shape[0] - h + 1, X.shape[1] - w + 1))\n",
        "    for i in range(Y.shape[0]):\n",
        "        for j in range(Y.shape[1]):\n",
        "            Y[i, j] = (X[i:i + h, j:j + w] * K).sum()\n",
        "    return Y"
      ],
      "metadata": {
        "id": "y40gi7rZLegV"
      },
      "execution_count": 3,
      "outputs": []
    },
    {
      "cell_type": "code",
      "source": [
        "X = torch.tensor([[0.0, 1.0, 2.0], [3.0, 4.0, 5.0], [6.0, 7.0, 8.0]])\n",
        "K = torch.tensor([[0.0, 1.0], [2.0, 3.0]])\n",
        "corr2d(X, K)"
      ],
      "metadata": {
        "colab": {
          "base_uri": "https://localhost:8080/"
        },
        "id": "VC_or98OLi6v",
        "outputId": "97bf4361-e38c-414f-b8d0-7bbf9b6d0c01"
      },
      "execution_count": 4,
      "outputs": [
        {
          "output_type": "execute_result",
          "data": {
            "text/plain": [
              "tensor([[19., 25.],\n",
              "        [37., 43.]])"
            ]
          },
          "metadata": {},
          "execution_count": 4
        }
      ]
    },
    {
      "cell_type": "markdown",
      "source": [
        "## Convolutional Layers"
      ],
      "metadata": {
        "id": "4Jcb-mpaLkkv"
      }
    },
    {
      "cell_type": "code",
      "source": [
        "class Conv2D(nn.Module):\n",
        "    def __init__(self, kernel_size):\n",
        "        super().__init__()\n",
        "        self.weight = nn.Parameter(torch.rand(kernel_size))\n",
        "        self.bias = nn.Parameter(torch.zeros(1))\n",
        "\n",
        "    def forward(self, x):\n",
        "        return corr2d(x, self.weight) + self.bias"
      ],
      "metadata": {
        "id": "nyQEET0HLoh6"
      },
      "execution_count": 5,
      "outputs": []
    },
    {
      "cell_type": "code",
      "source": [
        "X = torch.ones((6, 8))\n",
        "X[:, 2:6] = 0\n",
        "X"
      ],
      "metadata": {
        "colab": {
          "base_uri": "https://localhost:8080/"
        },
        "id": "P0rCkQLXLqc6",
        "outputId": "91d6c0d1-694b-4d64-b83b-14ff17d31adb"
      },
      "execution_count": 6,
      "outputs": [
        {
          "output_type": "execute_result",
          "data": {
            "text/plain": [
              "tensor([[1., 1., 0., 0., 0., 0., 1., 1.],\n",
              "        [1., 1., 0., 0., 0., 0., 1., 1.],\n",
              "        [1., 1., 0., 0., 0., 0., 1., 1.],\n",
              "        [1., 1., 0., 0., 0., 0., 1., 1.],\n",
              "        [1., 1., 0., 0., 0., 0., 1., 1.],\n",
              "        [1., 1., 0., 0., 0., 0., 1., 1.]])"
            ]
          },
          "metadata": {},
          "execution_count": 6
        }
      ]
    },
    {
      "cell_type": "code",
      "source": [
        "K = torch.tensor([[1.0, -1.0]])"
      ],
      "metadata": {
        "id": "JIPql0X4Lr2p"
      },
      "execution_count": 7,
      "outputs": []
    },
    {
      "cell_type": "code",
      "source": [
        "Y = corr2d(X, K)\n",
        "Y"
      ],
      "metadata": {
        "colab": {
          "base_uri": "https://localhost:8080/"
        },
        "id": "zKSISd4vLtLw",
        "outputId": "abe43c18-1d0e-4735-c44c-dd6fbc476f6a"
      },
      "execution_count": 8,
      "outputs": [
        {
          "output_type": "execute_result",
          "data": {
            "text/plain": [
              "tensor([[ 0.,  1.,  0.,  0.,  0., -1.,  0.],\n",
              "        [ 0.,  1.,  0.,  0.,  0., -1.,  0.],\n",
              "        [ 0.,  1.,  0.,  0.,  0., -1.,  0.],\n",
              "        [ 0.,  1.,  0.,  0.,  0., -1.,  0.],\n",
              "        [ 0.,  1.,  0.,  0.,  0., -1.,  0.],\n",
              "        [ 0.,  1.,  0.,  0.,  0., -1.,  0.]])"
            ]
          },
          "metadata": {},
          "execution_count": 8
        }
      ]
    },
    {
      "cell_type": "code",
      "source": [
        "corr2d(X.t(), K)"
      ],
      "metadata": {
        "colab": {
          "base_uri": "https://localhost:8080/"
        },
        "id": "Vq2aiUeoLuya",
        "outputId": "b80af537-3a42-4fb2-cc60-a4ba72b723ea"
      },
      "execution_count": 9,
      "outputs": [
        {
          "output_type": "execute_result",
          "data": {
            "text/plain": [
              "tensor([[0., 0., 0., 0., 0.],\n",
              "        [0., 0., 0., 0., 0.],\n",
              "        [0., 0., 0., 0., 0.],\n",
              "        [0., 0., 0., 0., 0.],\n",
              "        [0., 0., 0., 0., 0.],\n",
              "        [0., 0., 0., 0., 0.],\n",
              "        [0., 0., 0., 0., 0.],\n",
              "        [0., 0., 0., 0., 0.]])"
            ]
          },
          "metadata": {},
          "execution_count": 9
        }
      ]
    },
    {
      "cell_type": "markdown",
      "source": [
        "## Learning a Kernel"
      ],
      "metadata": {
        "id": "fH8_KxQALw83"
      }
    },
    {
      "cell_type": "code",
      "source": [
        "# Construct a two-dimensional convolutional layer with 1 output channel and a\n",
        "# kernel of shape (1, 2). For the sake of simplicity, we ignore the bias here\n",
        "conv2d = nn.Conv2d(1,1, kernel_size=(1, 2), bias=False)\n",
        "\n",
        "# The two-dimensional convolutional layer uses four-dimensional input and\n",
        "# output in the format of (example, channel, height, width), where the batch\n",
        "# size (number of examples in the batch) and the number of channels are both 1\n",
        "X = X.reshape((1, 1, 6, 8))\n",
        "Y = Y.reshape((1, 1, 6, 7))\n",
        "lr = 3e-2  # Learning rate\n",
        "\n",
        "for i in range(10):\n",
        "    Y_hat = conv2d(X)\n",
        "    l = (Y_hat - Y) ** 2\n",
        "    conv2d.zero_grad()\n",
        "    l.sum().backward()\n",
        "    # Update the kernel\n",
        "    conv2d.weight.data[:] -= lr * conv2d.weight.grad\n",
        "    if (i + 1) % 2 == 0:\n",
        "        print(f'epoch {i + 1}, loss {l.sum():.3f}')"
      ],
      "metadata": {
        "colab": {
          "base_uri": "https://localhost:8080/"
        },
        "id": "h454Ef3TLyNi",
        "outputId": "11b0f19c-2b4e-4c10-e69e-2fda0833484c"
      },
      "execution_count": 10,
      "outputs": [
        {
          "output_type": "stream",
          "name": "stdout",
          "text": [
            "epoch 2, loss 1.797\n",
            "epoch 4, loss 0.468\n",
            "epoch 6, loss 0.147\n",
            "epoch 8, loss 0.053\n",
            "epoch 10, loss 0.020\n"
          ]
        }
      ]
    },
    {
      "cell_type": "code",
      "source": [
        "conv2d.weight.data.reshape((1, 2))"
      ],
      "metadata": {
        "colab": {
          "base_uri": "https://localhost:8080/"
        },
        "id": "kJpeVzTIL0eK",
        "outputId": "af45f63a-ad41-4eb5-a89f-fb9781fdf7d2"
      },
      "execution_count": 11,
      "outputs": [
        {
          "output_type": "execute_result",
          "data": {
            "text/plain": [
              "tensor([[ 0.9801, -1.0089]])"
            ]
          },
          "metadata": {},
          "execution_count": 11
        }
      ]
    },
    {
      "cell_type": "markdown",
      "source": [
        "# Padding and Stride"
      ],
      "metadata": {
        "id": "ozNbQHE-L4OX"
      }
    },
    {
      "cell_type": "markdown",
      "source": [
        "## Padding"
      ],
      "metadata": {
        "id": "ySMnNdYTL9r7"
      }
    },
    {
      "cell_type": "code",
      "source": [
        "import torch\n",
        "from torch import nn\n",
        "\n",
        "\n",
        "# We define a convenience function to calculate the convolutional layer. This\n",
        "# function initializes the convolutional layer weights and performs\n",
        "# corresponding dimensionality elevations and reductions on the input and\n",
        "# output\n",
        "def comp_conv2d(conv2d, X):\n",
        "    # Here (1, 1) indicates that the batch size and the number of channels\n",
        "    # are both 1\n",
        "    X = X.reshape((1, 1) + X.shape)\n",
        "    Y = conv2d(X)\n",
        "    # Exclude the first two dimensions that do not interest us: examples and\n",
        "    # channels\n",
        "    return Y.reshape(Y.shape[2:])\n",
        "# Note that here 1 row or column is padded on either side, so a total of 2\n",
        "# rows or columns are added\n",
        "conv2d = nn.Conv2d(1, 1, kernel_size=3, padding=1)\n",
        "X = torch.rand(size=(8, 8))\n",
        "comp_conv2d(conv2d, X).shape"
      ],
      "metadata": {
        "colab": {
          "base_uri": "https://localhost:8080/"
        },
        "id": "sBKfNL1ML_gy",
        "outputId": "6311c181-0665-45ad-c942-fa6168c0ffd1"
      },
      "execution_count": 12,
      "outputs": [
        {
          "output_type": "execute_result",
          "data": {
            "text/plain": [
              "torch.Size([8, 8])"
            ]
          },
          "metadata": {},
          "execution_count": 12
        }
      ]
    },
    {
      "cell_type": "code",
      "source": [
        "# Here, we use a convolution kernel with a height of 5 and a width of 3. The\n",
        "# padding numbers on either side of the height and width are 2 and 1,\n",
        "# respectively\n",
        "conv2d = nn.Conv2d(1, 1, kernel_size=(5, 3), padding=(2, 1))\n",
        "comp_conv2d(conv2d, X).shape"
      ],
      "metadata": {
        "colab": {
          "base_uri": "https://localhost:8080/"
        },
        "id": "W8lHWCuaMCLT",
        "outputId": "edc4472f-0631-4fb9-8ba4-6ad6a817f4bc"
      },
      "execution_count": 13,
      "outputs": [
        {
          "output_type": "execute_result",
          "data": {
            "text/plain": [
              "torch.Size([8, 8])"
            ]
          },
          "metadata": {},
          "execution_count": 13
        }
      ]
    },
    {
      "cell_type": "markdown",
      "source": [
        "## Stride"
      ],
      "metadata": {
        "id": "LNtsQoS4MDnP"
      }
    },
    {
      "cell_type": "code",
      "source": [
        "conv2d = nn.Conv2d(1, 1, kernel_size=3, padding=1, stride=2)\n",
        "comp_conv2d(conv2d, X).shape"
      ],
      "metadata": {
        "colab": {
          "base_uri": "https://localhost:8080/"
        },
        "id": "b-hvEZf0MEx0",
        "outputId": "5cd2fc69-c6b0-49f2-a63a-fc41475ceb13"
      },
      "execution_count": 14,
      "outputs": [
        {
          "output_type": "execute_result",
          "data": {
            "text/plain": [
              "torch.Size([4, 4])"
            ]
          },
          "metadata": {},
          "execution_count": 14
        }
      ]
    },
    {
      "cell_type": "code",
      "source": [
        "conv2d = nn.Conv2d(1, 1, kernel_size=(3, 5), padding=(0, 1), stride=(3, 4))\n",
        "comp_conv2d(conv2d, X).shape"
      ],
      "metadata": {
        "colab": {
          "base_uri": "https://localhost:8080/"
        },
        "id": "n4Qlru8pMGk_",
        "outputId": "8bc1c48e-f16e-417e-ac66-474863204b50"
      },
      "execution_count": 15,
      "outputs": [
        {
          "output_type": "execute_result",
          "data": {
            "text/plain": [
              "torch.Size([2, 2])"
            ]
          },
          "metadata": {},
          "execution_count": 15
        }
      ]
    },
    {
      "cell_type": "markdown",
      "source": [
        "# Multiple Input and Multiple Output Channels"
      ],
      "metadata": {
        "id": "kfZfn2xtMKEx"
      }
    },
    {
      "cell_type": "markdown",
      "source": [
        "## Multiple Input Channels"
      ],
      "metadata": {
        "id": "7tfleLY4MLy7"
      }
    },
    {
      "cell_type": "code",
      "source": [
        "import torch\n",
        "from d2l import torch as d2l\n",
        "\n",
        "def corr2d_multi_in(X, K):\n",
        "    # First, iterate through the 0th dimension (channel dimension) of `X` and\n",
        "    # `K`. Then, add them together\n",
        "    return sum(d2l.corr2d(x, k) for x, k in zip(X, K))"
      ],
      "metadata": {
        "id": "kAsrSRtxMVGQ"
      },
      "execution_count": 16,
      "outputs": []
    },
    {
      "cell_type": "code",
      "source": [
        "X = torch.tensor([[[0.0, 1.0, 2.0], [3.0, 4.0, 5.0], [6.0, 7.0, 8.0]],\n",
        "               [[1.0, 2.0, 3.0], [4.0, 5.0, 6.0], [7.0, 8.0, 9.0]]])\n",
        "K = torch.tensor([[[0.0, 1.0], [2.0, 3.0]], [[1.0, 2.0], [3.0, 4.0]]])\n",
        "\n",
        "corr2d_multi_in(X, K)"
      ],
      "metadata": {
        "colab": {
          "base_uri": "https://localhost:8080/"
        },
        "id": "p2dtjWu6MVrF",
        "outputId": "e002a3cd-4889-4a3d-d548-3ce913bdaa8e"
      },
      "execution_count": 17,
      "outputs": [
        {
          "output_type": "execute_result",
          "data": {
            "text/plain": [
              "tensor([[ 56.,  72.],\n",
              "        [104., 120.]])"
            ]
          },
          "metadata": {},
          "execution_count": 17
        }
      ]
    },
    {
      "cell_type": "markdown",
      "source": [
        "## Multiple Output Channels"
      ],
      "metadata": {
        "id": "Qd2gWFfVMYTS"
      }
    },
    {
      "cell_type": "code",
      "source": [
        "def corr2d_multi_in_out(X, K):\n",
        "    # Iterate through the 0th dimension of `K`, and each time, perform\n",
        "    # cross-correlation operations with input `X`. All of the results are\n",
        "    # stacked together\n",
        "    return torch.stack([corr2d_multi_in(X, k) for k in K], 0)"
      ],
      "metadata": {
        "id": "-i4WNt-CMaEB"
      },
      "execution_count": 18,
      "outputs": []
    },
    {
      "cell_type": "code",
      "source": [
        "K = torch.stack((K, K + 1, K + 2), 0)\n",
        "K.shape"
      ],
      "metadata": {
        "colab": {
          "base_uri": "https://localhost:8080/"
        },
        "id": "zUGWqSjEMb9_",
        "outputId": "cc86c174-b012-46a9-f2ab-b72b2f3b5f8d"
      },
      "execution_count": 19,
      "outputs": [
        {
          "output_type": "execute_result",
          "data": {
            "text/plain": [
              "torch.Size([3, 2, 2, 2])"
            ]
          },
          "metadata": {},
          "execution_count": 19
        }
      ]
    },
    {
      "cell_type": "code",
      "source": [
        "corr2d_multi_in_out(X, K)"
      ],
      "metadata": {
        "colab": {
          "base_uri": "https://localhost:8080/"
        },
        "id": "Vu-19-JbMdoV",
        "outputId": "ba81029a-8fcb-45c3-d731-5acce619d8f4"
      },
      "execution_count": 20,
      "outputs": [
        {
          "output_type": "execute_result",
          "data": {
            "text/plain": [
              "tensor([[[ 56.,  72.],\n",
              "         [104., 120.]],\n",
              "\n",
              "        [[ 76., 100.],\n",
              "         [148., 172.]],\n",
              "\n",
              "        [[ 96., 128.],\n",
              "         [192., 224.]]])"
            ]
          },
          "metadata": {},
          "execution_count": 20
        }
      ]
    },
    {
      "cell_type": "markdown",
      "source": [
        "## 1 x 1 Convolutional Layer"
      ],
      "metadata": {
        "id": "Fs65NmTUMgAt"
      }
    },
    {
      "cell_type": "code",
      "source": [
        "def corr2d_multi_in_out_1x1(X, K):\n",
        "    c_i, h, w = X.shape\n",
        "    c_o = K.shape[0]\n",
        "    X = X.reshape((c_i, h * w))\n",
        "    K = K.reshape((c_o, c_i))\n",
        "    # Matrix multiplication in the fully-connected layer\n",
        "    Y = torch.matmul(K, X)\n",
        "    return Y.reshape((c_o, h, w))"
      ],
      "metadata": {
        "id": "5YIcHLdtMjw9"
      },
      "execution_count": 21,
      "outputs": []
    },
    {
      "cell_type": "code",
      "source": [
        "X = torch.normal(0, 1, (3, 3, 3))\n",
        "K = torch.normal(0, 1, (2, 3, 1, 1))\n",
        "\n",
        "Y1 = corr2d_multi_in_out_1x1(X, K)\n",
        "Y2 = corr2d_multi_in_out(X, K)\n",
        "assert float(torch.abs(Y1 - Y2).sum()) < 1e-6"
      ],
      "metadata": {
        "id": "_IbLpU0CMlMj"
      },
      "execution_count": 22,
      "outputs": []
    },
    {
      "cell_type": "markdown",
      "source": [
        "# Pooling"
      ],
      "metadata": {
        "id": "aK7gZFJGMrmz"
      }
    },
    {
      "cell_type": "markdown",
      "source": [
        "## Maximum Pooling and Average Pooling"
      ],
      "metadata": {
        "id": "jHwBTADQMtEx"
      }
    },
    {
      "cell_type": "code",
      "source": [
        "import torch\n",
        "from torch import nn\n",
        "from d2l import torch as d2l\n",
        "\n",
        "def pool2d(X, pool_size, mode='max'):\n",
        "    p_h, p_w = pool_size\n",
        "    Y = torch.zeros((X.shape[0] - p_h + 1, X.shape[1] - p_w + 1))\n",
        "    for i in range(Y.shape[0]):\n",
        "        for j in range(Y.shape[1]):\n",
        "            if mode == 'max':\n",
        "                Y[i, j] = X[i: i + p_h, j: j + p_w].max()\n",
        "            elif mode == 'avg':\n",
        "                Y[i, j] = X[i: i + p_h, j: j + p_w].mean()\n",
        "    return Y"
      ],
      "metadata": {
        "id": "d-owI_fMMvpC"
      },
      "execution_count": 23,
      "outputs": []
    },
    {
      "cell_type": "code",
      "source": [
        "X = torch.tensor([[0.0, 1.0, 2.0], [3.0, 4.0, 5.0], [6.0, 7.0, 8.0]])\n",
        "pool2d(X, (2, 2))"
      ],
      "metadata": {
        "colab": {
          "base_uri": "https://localhost:8080/"
        },
        "id": "MXkOGyUJMxkY",
        "outputId": "3f05de79-a13e-4c75-8a39-5efbb7afe7b3"
      },
      "execution_count": 24,
      "outputs": [
        {
          "output_type": "execute_result",
          "data": {
            "text/plain": [
              "tensor([[4., 5.],\n",
              "        [7., 8.]])"
            ]
          },
          "metadata": {},
          "execution_count": 24
        }
      ]
    },
    {
      "cell_type": "code",
      "source": [
        "pool2d(X, (2, 2), 'avg')"
      ],
      "metadata": {
        "colab": {
          "base_uri": "https://localhost:8080/"
        },
        "id": "kwgt-nyeMzcp",
        "outputId": "ea707dd4-e265-4a42-edbe-38b1b13e6c02"
      },
      "execution_count": 25,
      "outputs": [
        {
          "output_type": "execute_result",
          "data": {
            "text/plain": [
              "tensor([[2., 3.],\n",
              "        [5., 6.]])"
            ]
          },
          "metadata": {},
          "execution_count": 25
        }
      ]
    },
    {
      "cell_type": "markdown",
      "source": [
        "## Padding and Stride"
      ],
      "metadata": {
        "id": "U0jgq0seM0w5"
      }
    },
    {
      "cell_type": "code",
      "source": [
        "X = torch.arange(16, dtype=torch.float32).reshape((1, 1, 4, 4))\n",
        "X"
      ],
      "metadata": {
        "colab": {
          "base_uri": "https://localhost:8080/"
        },
        "id": "Q4GqAM5LM1fo",
        "outputId": "3b4bdcdb-09c7-4279-bcee-8f7c2ac67b1b"
      },
      "execution_count": 26,
      "outputs": [
        {
          "output_type": "execute_result",
          "data": {
            "text/plain": [
              "tensor([[[[ 0.,  1.,  2.,  3.],\n",
              "          [ 4.,  5.,  6.,  7.],\n",
              "          [ 8.,  9., 10., 11.],\n",
              "          [12., 13., 14., 15.]]]])"
            ]
          },
          "metadata": {},
          "execution_count": 26
        }
      ]
    },
    {
      "cell_type": "code",
      "source": [
        "pool2d = nn.MaxPool2d(3)\n",
        "pool2d(X)"
      ],
      "metadata": {
        "colab": {
          "base_uri": "https://localhost:8080/"
        },
        "id": "Ue6Drz1YM2nY",
        "outputId": "d5574266-02ec-49c9-cd88-57d69c74e2c6"
      },
      "execution_count": 27,
      "outputs": [
        {
          "output_type": "execute_result",
          "data": {
            "text/plain": [
              "tensor([[[[10.]]]])"
            ]
          },
          "metadata": {},
          "execution_count": 27
        }
      ]
    },
    {
      "cell_type": "code",
      "source": [
        "pool2d = nn.MaxPool2d(3, padding=1, stride=2)\n",
        "pool2d(X)"
      ],
      "metadata": {
        "colab": {
          "base_uri": "https://localhost:8080/"
        },
        "id": "I5wSSsb6M4-b",
        "outputId": "26f021ae-30b1-4abb-a0df-57de911cc365"
      },
      "execution_count": 28,
      "outputs": [
        {
          "output_type": "execute_result",
          "data": {
            "text/plain": [
              "tensor([[[[ 5.,  7.],\n",
              "          [13., 15.]]]])"
            ]
          },
          "metadata": {},
          "execution_count": 28
        }
      ]
    },
    {
      "cell_type": "code",
      "source": [
        "pool2d = nn.MaxPool2d((2, 3), stride=(2, 3), padding=(0, 1))\n",
        "pool2d(X)"
      ],
      "metadata": {
        "colab": {
          "base_uri": "https://localhost:8080/"
        },
        "id": "fTTK2aNtM5u3",
        "outputId": "3b163de7-4dcd-44c1-82bd-6b8dc0a43f34"
      },
      "execution_count": 29,
      "outputs": [
        {
          "output_type": "execute_result",
          "data": {
            "text/plain": [
              "tensor([[[[ 5.,  7.],\n",
              "          [13., 15.]]]])"
            ]
          },
          "metadata": {},
          "execution_count": 29
        }
      ]
    },
    {
      "cell_type": "markdown",
      "source": [
        "## Multiple Channels"
      ],
      "metadata": {
        "id": "IN7ih3mnM73j"
      }
    },
    {
      "cell_type": "code",
      "source": [
        "X = torch.cat((X, X + 1), 1)\n",
        "X"
      ],
      "metadata": {
        "colab": {
          "base_uri": "https://localhost:8080/"
        },
        "id": "LU-GWWYwM8hw",
        "outputId": "4ac99ba9-3075-4a6c-8f06-b9a555ec567f"
      },
      "execution_count": 30,
      "outputs": [
        {
          "output_type": "execute_result",
          "data": {
            "text/plain": [
              "tensor([[[[ 0.,  1.,  2.,  3.],\n",
              "          [ 4.,  5.,  6.,  7.],\n",
              "          [ 8.,  9., 10., 11.],\n",
              "          [12., 13., 14., 15.]],\n",
              "\n",
              "         [[ 1.,  2.,  3.,  4.],\n",
              "          [ 5.,  6.,  7.,  8.],\n",
              "          [ 9., 10., 11., 12.],\n",
              "          [13., 14., 15., 16.]]]])"
            ]
          },
          "metadata": {},
          "execution_count": 30
        }
      ]
    },
    {
      "cell_type": "code",
      "source": [
        "pool2d = nn.MaxPool2d(3, padding=1, stride=2)\n",
        "pool2d(X)"
      ],
      "metadata": {
        "colab": {
          "base_uri": "https://localhost:8080/"
        },
        "id": "Ao_EH5WiM9rB",
        "outputId": "8910d84b-5224-4142-8feb-a38dbfe8dcb4"
      },
      "execution_count": 31,
      "outputs": [
        {
          "output_type": "execute_result",
          "data": {
            "text/plain": [
              "tensor([[[[ 5.,  7.],\n",
              "          [13., 15.]],\n",
              "\n",
              "         [[ 6.,  8.],\n",
              "          [14., 16.]]]])"
            ]
          },
          "metadata": {},
          "execution_count": 31
        }
      ]
    },
    {
      "cell_type": "markdown",
      "source": [
        "# Convolutional Neural Networks (LeNet)"
      ],
      "metadata": {
        "id": "VuaZW0_GNE3p"
      }
    },
    {
      "cell_type": "markdown",
      "source": [
        "## LeNet"
      ],
      "metadata": {
        "id": "pZ2O1aVYNFnH"
      }
    },
    {
      "cell_type": "code",
      "source": [
        "import torch\n",
        "from torch import nn\n",
        "from d2l import torch as d2l\n",
        "\n",
        "net = nn.Sequential(\n",
        "    nn.Conv2d(1, 6, kernel_size=5, padding=2), nn.Sigmoid(),\n",
        "    nn.AvgPool2d(kernel_size=2, stride=2),\n",
        "    nn.Conv2d(6, 16, kernel_size=5), nn.Sigmoid(),\n",
        "    nn.AvgPool2d(kernel_size=2, stride=2),\n",
        "    nn.Flatten(),\n",
        "    nn.Linear(16 * 5 * 5, 120), nn.Sigmoid(),\n",
        "    nn.Linear(120, 84), nn.Sigmoid(),\n",
        "    nn.Linear(84, 10))"
      ],
      "metadata": {
        "id": "FMq_zhgmNIt8"
      },
      "execution_count": 32,
      "outputs": []
    },
    {
      "cell_type": "code",
      "source": [
        "X = torch.rand(size=(1, 1, 28, 28), dtype=torch.float32)\n",
        "for layer in net:\n",
        "    X = layer(X)\n",
        "    print(layer.__class__.__name__,'output shape: \\t',X.shape)"
      ],
      "metadata": {
        "colab": {
          "base_uri": "https://localhost:8080/"
        },
        "id": "gh4aED0mNK0p",
        "outputId": "86827f02-35db-4c16-8d5d-ebee2f5625a8"
      },
      "execution_count": 33,
      "outputs": [
        {
          "output_type": "stream",
          "name": "stdout",
          "text": [
            "Conv2d output shape: \t torch.Size([1, 6, 28, 28])\n",
            "Sigmoid output shape: \t torch.Size([1, 6, 28, 28])\n",
            "AvgPool2d output shape: \t torch.Size([1, 6, 14, 14])\n",
            "Conv2d output shape: \t torch.Size([1, 16, 10, 10])\n",
            "Sigmoid output shape: \t torch.Size([1, 16, 10, 10])\n",
            "AvgPool2d output shape: \t torch.Size([1, 16, 5, 5])\n",
            "Flatten output shape: \t torch.Size([1, 400])\n",
            "Linear output shape: \t torch.Size([1, 120])\n",
            "Sigmoid output shape: \t torch.Size([1, 120])\n",
            "Linear output shape: \t torch.Size([1, 84])\n",
            "Sigmoid output shape: \t torch.Size([1, 84])\n",
            "Linear output shape: \t torch.Size([1, 10])\n"
          ]
        }
      ]
    },
    {
      "cell_type": "markdown",
      "source": [
        "## Training"
      ],
      "metadata": {
        "id": "UubyR8-ANL_B"
      }
    },
    {
      "cell_type": "code",
      "source": [
        "batch_size = 256\n",
        "train_iter, test_iter = d2l.load_data_fashion_mnist(batch_size=batch_size)"
      ],
      "metadata": {
        "colab": {
          "base_uri": "https://localhost:8080/",
          "height": 477,
          "referenced_widgets": [
            "5cf4dc95dee843fb982154881be4258d",
            "35827e9cf5fa48588ec0098219b825ea",
            "705929600f4a44d69c76253ab7f31353",
            "454ec57a2a064329abd1e8e05c449971",
            "4110c3cbe7c1464d99345941cbb565d9",
            "378cce0d232843e9a08942d17b180125",
            "0cce480009af4b009fa3645b81c1c102",
            "33005ec400bb4dbba6953d0aef44b0e8",
            "eda0475b06344ad1ba22dfd7d7ba006c",
            "65253041ab5d434fb9e5111c63da37b6",
            "ede37a71a1db4b6992e40fa48a4c1cea",
            "d687eb43e5764a16b0598c887c5d4772",
            "0b813b2c6cb24aad8e9b237c47b6f1fb",
            "6354b116ebef431eb35fe5763e9ad2e5",
            "8fe9d9b452a84b64a763be4f343144ff",
            "8929e6fd323b4f0499ea04d1fc422c8b",
            "249d7f2e442844308a44f1010abed783",
            "7b2ce80e737a4d4e84e3a8515de47eaa",
            "e1ac6c7c71fa4052a0bcc410f1e8c104",
            "4922cfc875964da4998350cebf751b67",
            "4daab7ce759c4626bd786cfd4605dcbf",
            "ebe7a8e99fb741e69a5690b93761df06",
            "6f082f63a3d142c8a60a8dff281ce0e1",
            "a3bcfa3d3a904fcba4371770a9fa8b58",
            "6aee36c8d84c47d8aa47b14a68d616fc",
            "a6a1435953174a1c9edcb03c6762d43b",
            "223b3edab379462f87e8b254b8285294",
            "b1b966e580c041d4a6782e0e8178130f",
            "ae0e5c93c9fe42f89fddeeb1a6ce0283",
            "970b627eea9643ffacec1b9c1627bf38",
            "193b5709f49044a69feea5916f4fc99e",
            "82c8f9f7d18d4edba291b21fb6221aa9",
            "66c70a11647a42388ae17373743741d6",
            "4a3e58df2d6344b489363b4943e8e04b",
            "b81af0ad260e41ee8176109f79f5de26",
            "ad9c9861692346719054578c54ecbd93",
            "6b8976a15207445f8f673476b0f9a9b5",
            "0013b2cf9ce84c20b2b5a77bb26279b3",
            "f173ffcef097466289045d7dd2e4d1c6",
            "4832e59cefea4c3eadf3aa5c853e6ec8",
            "d83948dda2a04028b409c0b7ff7e0d53",
            "c2270afb1b65476c8836f9c45645e9f2",
            "68c5945b812249f097746390fe45d606",
            "534d667a4ace46ee9137d37109cecb5b"
          ]
        },
        "id": "lF0QFKaJNOt9",
        "outputId": "ce1cbf70-de6e-4f98-cff3-7fe7a56cfdbb"
      },
      "execution_count": 34,
      "outputs": [
        {
          "output_type": "stream",
          "name": "stdout",
          "text": [
            "Downloading http://fashion-mnist.s3-website.eu-central-1.amazonaws.com/train-images-idx3-ubyte.gz\n",
            "Downloading http://fashion-mnist.s3-website.eu-central-1.amazonaws.com/train-images-idx3-ubyte.gz to ../data/FashionMNIST/raw/train-images-idx3-ubyte.gz\n"
          ]
        },
        {
          "output_type": "display_data",
          "data": {
            "text/plain": [
              "  0%|          | 0/26421880 [00:00<?, ?it/s]"
            ],
            "application/vnd.jupyter.widget-view+json": {
              "version_major": 2,
              "version_minor": 0,
              "model_id": "5cf4dc95dee843fb982154881be4258d"
            }
          },
          "metadata": {}
        },
        {
          "output_type": "stream",
          "name": "stdout",
          "text": [
            "Extracting ../data/FashionMNIST/raw/train-images-idx3-ubyte.gz to ../data/FashionMNIST/raw\n",
            "\n",
            "Downloading http://fashion-mnist.s3-website.eu-central-1.amazonaws.com/train-labels-idx1-ubyte.gz\n",
            "Downloading http://fashion-mnist.s3-website.eu-central-1.amazonaws.com/train-labels-idx1-ubyte.gz to ../data/FashionMNIST/raw/train-labels-idx1-ubyte.gz\n"
          ]
        },
        {
          "output_type": "display_data",
          "data": {
            "text/plain": [
              "  0%|          | 0/29515 [00:00<?, ?it/s]"
            ],
            "application/vnd.jupyter.widget-view+json": {
              "version_major": 2,
              "version_minor": 0,
              "model_id": "d687eb43e5764a16b0598c887c5d4772"
            }
          },
          "metadata": {}
        },
        {
          "output_type": "stream",
          "name": "stdout",
          "text": [
            "Extracting ../data/FashionMNIST/raw/train-labels-idx1-ubyte.gz to ../data/FashionMNIST/raw\n",
            "\n",
            "Downloading http://fashion-mnist.s3-website.eu-central-1.amazonaws.com/t10k-images-idx3-ubyte.gz\n",
            "Downloading http://fashion-mnist.s3-website.eu-central-1.amazonaws.com/t10k-images-idx3-ubyte.gz to ../data/FashionMNIST/raw/t10k-images-idx3-ubyte.gz\n"
          ]
        },
        {
          "output_type": "display_data",
          "data": {
            "text/plain": [
              "  0%|          | 0/4422102 [00:00<?, ?it/s]"
            ],
            "application/vnd.jupyter.widget-view+json": {
              "version_major": 2,
              "version_minor": 0,
              "model_id": "6f082f63a3d142c8a60a8dff281ce0e1"
            }
          },
          "metadata": {}
        },
        {
          "output_type": "stream",
          "name": "stdout",
          "text": [
            "Extracting ../data/FashionMNIST/raw/t10k-images-idx3-ubyte.gz to ../data/FashionMNIST/raw\n",
            "\n",
            "Downloading http://fashion-mnist.s3-website.eu-central-1.amazonaws.com/t10k-labels-idx1-ubyte.gz\n",
            "Downloading http://fashion-mnist.s3-website.eu-central-1.amazonaws.com/t10k-labels-idx1-ubyte.gz to ../data/FashionMNIST/raw/t10k-labels-idx1-ubyte.gz\n"
          ]
        },
        {
          "output_type": "display_data",
          "data": {
            "text/plain": [
              "  0%|          | 0/5148 [00:00<?, ?it/s]"
            ],
            "application/vnd.jupyter.widget-view+json": {
              "version_major": 2,
              "version_minor": 0,
              "model_id": "4a3e58df2d6344b489363b4943e8e04b"
            }
          },
          "metadata": {}
        },
        {
          "output_type": "stream",
          "name": "stdout",
          "text": [
            "Extracting ../data/FashionMNIST/raw/t10k-labels-idx1-ubyte.gz to ../data/FashionMNIST/raw\n",
            "\n"
          ]
        },
        {
          "output_type": "stream",
          "name": "stderr",
          "text": [
            "/usr/local/lib/python3.7/dist-packages/torch/utils/data/dataloader.py:481: UserWarning: This DataLoader will create 4 worker processes in total. Our suggested max number of worker in current system is 2, which is smaller than what this DataLoader is going to create. Please be aware that excessive worker creation might get DataLoader running slow or even freeze, lower the worker number to avoid potential slowness/freeze if necessary.\n",
            "  cpuset_checked))\n"
          ]
        }
      ]
    },
    {
      "cell_type": "code",
      "source": [
        "def evaluate_accuracy_gpu(net, data_iter, device=None): #save\n",
        "    \"\"\"Compute the accuracy for a model on a dataset using a GPU.\"\"\"\n",
        "    if isinstance(net, nn.Module):\n",
        "        net.eval()  # Set the model to evaluation mode\n",
        "        if not device:\n",
        "            device = next(iter(net.parameters())).device\n",
        "    # No. of correct predictions, no. of predictions\n",
        "    metric = d2l.Accumulator(2)\n",
        "\n",
        "    with torch.no_grad():\n",
        "        for X, y in data_iter:\n",
        "            if isinstance(X, list):\n",
        "                # Required for BERT Fine-tuning (to be covered later)\n",
        "                X = [x.to(device) for x in X]\n",
        "            else:\n",
        "                X = X.to(device)\n",
        "            y = y.to(device)\n",
        "            metric.add(d2l.accuracy(net(X), y), y.numel())\n",
        "    return metric[0] / metric[1]"
      ],
      "metadata": {
        "id": "lpVr4GP7NPuu"
      },
      "execution_count": 35,
      "outputs": []
    },
    {
      "cell_type": "code",
      "source": [
        "#save\n",
        "def train_ch6(net, train_iter, test_iter, num_epochs, lr, device):\n",
        "    \"\"\"Train a model with a GPU (defined in Chapter 6).\"\"\"\n",
        "    def init_weights(m):\n",
        "        if type(m) == nn.Linear or type(m) == nn.Conv2d:\n",
        "            nn.init.xavier_uniform_(m.weight)\n",
        "    net.apply(init_weights)\n",
        "    print('training on', device)\n",
        "    net.to(device)\n",
        "    optimizer = torch.optim.SGD(net.parameters(), lr=lr)\n",
        "    loss = nn.CrossEntropyLoss()\n",
        "    animator = d2l.Animator(xlabel='epoch', xlim=[1, num_epochs],\n",
        "                            legend=['train loss', 'train acc', 'test acc'])\n",
        "    timer, num_batches = d2l.Timer(), len(train_iter)\n",
        "    for epoch in range(num_epochs):\n",
        "        # Sum of training loss, sum of training accuracy, no. of examples\n",
        "        metric = d2l.Accumulator(3)\n",
        "        net.train()\n",
        "        for i, (X, y) in enumerate(train_iter):\n",
        "            timer.start()\n",
        "            optimizer.zero_grad()\n",
        "            X, y = X.to(device), y.to(device)\n",
        "            y_hat = net(X)\n",
        "            l = loss(y_hat, y)\n",
        "            l.backward()\n",
        "            optimizer.step()\n",
        "            with torch.no_grad():\n",
        "                metric.add(l * X.shape[0], d2l.accuracy(y_hat, y), X.shape[0])\n",
        "            timer.stop()\n",
        "            train_l = metric[0] / metric[2]\n",
        "            train_acc = metric[1] / metric[2]\n",
        "            if (i + 1) % (num_batches // 5) == 0 or i == num_batches - 1:\n",
        "                animator.add(epoch + (i + 1) / num_batches,\n",
        "                             (train_l, train_acc, None))\n",
        "        test_acc = evaluate_accuracy_gpu(net, test_iter)\n",
        "        animator.add(epoch + 1, (None, None, test_acc))\n",
        "    print(f'loss {train_l:.3f}, train acc {train_acc:.3f}, '\n",
        "          f'test acc {test_acc:.3f}')\n",
        "    print(f'{metric[2] * num_epochs / timer.sum():.1f} examples/sec '\n",
        "          f'on {str(device)}')"
      ],
      "metadata": {
        "id": "QZk3-v8hNVNV"
      },
      "execution_count": 36,
      "outputs": []
    },
    {
      "cell_type": "code",
      "source": [
        "lr, num_epochs = 0.9, 10\n",
        "train_ch6(net, train_iter, test_iter, num_epochs, lr, d2l.try_gpu())"
      ],
      "metadata": {
        "id": "n8a2AOFgNdxT"
      },
      "execution_count": null,
      "outputs": []
    },
    {
      "cell_type": "markdown",
      "source": [
        "![image.png](data:image/png;base64,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)"
      ],
      "metadata": {
        "id": "KAWqzHa_NeUt"
      }
    }
  ]
}