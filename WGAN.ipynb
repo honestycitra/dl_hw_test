{
  "nbformat": 4,
  "nbformat_minor": 0,
  "metadata": {
    "colab": {
      "name": "WGAN.ipynb",
      "provenance": [],
      "authorship_tag": "ABX9TyPoz3/d+XMgC7VuyKtU+pkx",
      "include_colab_link": true
    },
    "kernelspec": {
      "name": "python3",
      "display_name": "Python 3"
    },
    "language_info": {
      "name": "python"
    },
    "accelerator": "GPU",
    "gpuClass": "standard",
    "widgets": {
      "application/vnd.jupyter.widget-state+json": {
        "b800786a3918407fabd258b10561179e": {
          "model_module": "@jupyter-widgets/controls",
          "model_name": "HBoxModel",
          "model_module_version": "1.5.0",
          "state": {
            "_dom_classes": [],
            "_model_module": "@jupyter-widgets/controls",
            "_model_module_version": "1.5.0",
            "_model_name": "HBoxModel",
            "_view_count": null,
            "_view_module": "@jupyter-widgets/controls",
            "_view_module_version": "1.5.0",
            "_view_name": "HBoxView",
            "box_style": "",
            "children": [
              "IPY_MODEL_96afde54aacd4e67bd668306dabcbefc",
              "IPY_MODEL_c0dca1162c1141b2b7ada4811ef9f08f",
              "IPY_MODEL_96ec2c62248f4ac585f3edb50df5c675"
            ],
            "layout": "IPY_MODEL_b28450afcbf649b5be4a0ddbec082f8e"
          }
        },
        "96afde54aacd4e67bd668306dabcbefc": {
          "model_module": "@jupyter-widgets/controls",
          "model_name": "HTMLModel",
          "model_module_version": "1.5.0",
          "state": {
            "_dom_classes": [],
            "_model_module": "@jupyter-widgets/controls",
            "_model_module_version": "1.5.0",
            "_model_name": "HTMLModel",
            "_view_count": null,
            "_view_module": "@jupyter-widgets/controls",
            "_view_module_version": "1.5.0",
            "_view_name": "HTMLView",
            "description": "",
            "description_tooltip": null,
            "layout": "IPY_MODEL_253572861754408396659046282c04b2",
            "placeholder": "​",
            "style": "IPY_MODEL_d36b41de82d842c5adc5a628456e173c",
            "value": ""
          }
        },
        "c0dca1162c1141b2b7ada4811ef9f08f": {
          "model_module": "@jupyter-widgets/controls",
          "model_name": "FloatProgressModel",
          "model_module_version": "1.5.0",
          "state": {
            "_dom_classes": [],
            "_model_module": "@jupyter-widgets/controls",
            "_model_module_version": "1.5.0",
            "_model_name": "FloatProgressModel",
            "_view_count": null,
            "_view_module": "@jupyter-widgets/controls",
            "_view_module_version": "1.5.0",
            "_view_name": "ProgressView",
            "bar_style": "success",
            "description": "",
            "description_tooltip": null,
            "layout": "IPY_MODEL_2317a05a2ce243eabc95f64bc28cbed6",
            "max": 9912422,
            "min": 0,
            "orientation": "horizontal",
            "style": "IPY_MODEL_c71524b2491d48068ee5816d92b1e547",
            "value": 9912422
          }
        },
        "96ec2c62248f4ac585f3edb50df5c675": {
          "model_module": "@jupyter-widgets/controls",
          "model_name": "HTMLModel",
          "model_module_version": "1.5.0",
          "state": {
            "_dom_classes": [],
            "_model_module": "@jupyter-widgets/controls",
            "_model_module_version": "1.5.0",
            "_model_name": "HTMLModel",
            "_view_count": null,
            "_view_module": "@jupyter-widgets/controls",
            "_view_module_version": "1.5.0",
            "_view_name": "HTMLView",
            "description": "",
            "description_tooltip": null,
            "layout": "IPY_MODEL_cbfe543fc2df46928760f84cf3807c61",
            "placeholder": "​",
            "style": "IPY_MODEL_457e2237dadb484a9dc4cdc582d8e2bc",
            "value": " 9913344/? [00:00&lt;00:00, 39730290.65it/s]"
          }
        },
        "b28450afcbf649b5be4a0ddbec082f8e": {
          "model_module": "@jupyter-widgets/base",
          "model_name": "LayoutModel",
          "model_module_version": "1.2.0",
          "state": {
            "_model_module": "@jupyter-widgets/base",
            "_model_module_version": "1.2.0",
            "_model_name": "LayoutModel",
            "_view_count": null,
            "_view_module": "@jupyter-widgets/base",
            "_view_module_version": "1.2.0",
            "_view_name": "LayoutView",
            "align_content": null,
            "align_items": null,
            "align_self": null,
            "border": null,
            "bottom": null,
            "display": null,
            "flex": null,
            "flex_flow": null,
            "grid_area": null,
            "grid_auto_columns": null,
            "grid_auto_flow": null,
            "grid_auto_rows": null,
            "grid_column": null,
            "grid_gap": null,
            "grid_row": null,
            "grid_template_areas": null,
            "grid_template_columns": null,
            "grid_template_rows": null,
            "height": null,
            "justify_content": null,
            "justify_items": null,
            "left": null,
            "margin": null,
            "max_height": null,
            "max_width": null,
            "min_height": null,
            "min_width": null,
            "object_fit": null,
            "object_position": null,
            "order": null,
            "overflow": null,
            "overflow_x": null,
            "overflow_y": null,
            "padding": null,
            "right": null,
            "top": null,
            "visibility": null,
            "width": null
          }
        },
        "253572861754408396659046282c04b2": {
          "model_module": "@jupyter-widgets/base",
          "model_name": "LayoutModel",
          "model_module_version": "1.2.0",
          "state": {
            "_model_module": "@jupyter-widgets/base",
            "_model_module_version": "1.2.0",
            "_model_name": "LayoutModel",
            "_view_count": null,
            "_view_module": "@jupyter-widgets/base",
            "_view_module_version": "1.2.0",
            "_view_name": "LayoutView",
            "align_content": null,
            "align_items": null,
            "align_self": null,
            "border": null,
            "bottom": null,
            "display": null,
            "flex": null,
            "flex_flow": null,
            "grid_area": null,
            "grid_auto_columns": null,
            "grid_auto_flow": null,
            "grid_auto_rows": null,
            "grid_column": null,
            "grid_gap": null,
            "grid_row": null,
            "grid_template_areas": null,
            "grid_template_columns": null,
            "grid_template_rows": null,
            "height": null,
            "justify_content": null,
            "justify_items": null,
            "left": null,
            "margin": null,
            "max_height": null,
            "max_width": null,
            "min_height": null,
            "min_width": null,
            "object_fit": null,
            "object_position": null,
            "order": null,
            "overflow": null,
            "overflow_x": null,
            "overflow_y": null,
            "padding": null,
            "right": null,
            "top": null,
            "visibility": null,
            "width": null
          }
        },
        "d36b41de82d842c5adc5a628456e173c": {
          "model_module": "@jupyter-widgets/controls",
          "model_name": "DescriptionStyleModel",
          "model_module_version": "1.5.0",
          "state": {
            "_model_module": "@jupyter-widgets/controls",
            "_model_module_version": "1.5.0",
            "_model_name": "DescriptionStyleModel",
            "_view_count": null,
            "_view_module": "@jupyter-widgets/base",
            "_view_module_version": "1.2.0",
            "_view_name": "StyleView",
            "description_width": ""
          }
        },
        "2317a05a2ce243eabc95f64bc28cbed6": {
          "model_module": "@jupyter-widgets/base",
          "model_name": "LayoutModel",
          "model_module_version": "1.2.0",
          "state": {
            "_model_module": "@jupyter-widgets/base",
            "_model_module_version": "1.2.0",
            "_model_name": "LayoutModel",
            "_view_count": null,
            "_view_module": "@jupyter-widgets/base",
            "_view_module_version": "1.2.0",
            "_view_name": "LayoutView",
            "align_content": null,
            "align_items": null,
            "align_self": null,
            "border": null,
            "bottom": null,
            "display": null,
            "flex": null,
            "flex_flow": null,
            "grid_area": null,
            "grid_auto_columns": null,
            "grid_auto_flow": null,
            "grid_auto_rows": null,
            "grid_column": null,
            "grid_gap": null,
            "grid_row": null,
            "grid_template_areas": null,
            "grid_template_columns": null,
            "grid_template_rows": null,
            "height": null,
            "justify_content": null,
            "justify_items": null,
            "left": null,
            "margin": null,
            "max_height": null,
            "max_width": null,
            "min_height": null,
            "min_width": null,
            "object_fit": null,
            "object_position": null,
            "order": null,
            "overflow": null,
            "overflow_x": null,
            "overflow_y": null,
            "padding": null,
            "right": null,
            "top": null,
            "visibility": null,
            "width": null
          }
        },
        "c71524b2491d48068ee5816d92b1e547": {
          "model_module": "@jupyter-widgets/controls",
          "model_name": "ProgressStyleModel",
          "model_module_version": "1.5.0",
          "state": {
            "_model_module": "@jupyter-widgets/controls",
            "_model_module_version": "1.5.0",
            "_model_name": "ProgressStyleModel",
            "_view_count": null,
            "_view_module": "@jupyter-widgets/base",
            "_view_module_version": "1.2.0",
            "_view_name": "StyleView",
            "bar_color": null,
            "description_width": ""
          }
        },
        "cbfe543fc2df46928760f84cf3807c61": {
          "model_module": "@jupyter-widgets/base",
          "model_name": "LayoutModel",
          "model_module_version": "1.2.0",
          "state": {
            "_model_module": "@jupyter-widgets/base",
            "_model_module_version": "1.2.0",
            "_model_name": "LayoutModel",
            "_view_count": null,
            "_view_module": "@jupyter-widgets/base",
            "_view_module_version": "1.2.0",
            "_view_name": "LayoutView",
            "align_content": null,
            "align_items": null,
            "align_self": null,
            "border": null,
            "bottom": null,
            "display": null,
            "flex": null,
            "flex_flow": null,
            "grid_area": null,
            "grid_auto_columns": null,
            "grid_auto_flow": null,
            "grid_auto_rows": null,
            "grid_column": null,
            "grid_gap": null,
            "grid_row": null,
            "grid_template_areas": null,
            "grid_template_columns": null,
            "grid_template_rows": null,
            "height": null,
            "justify_content": null,
            "justify_items": null,
            "left": null,
            "margin": null,
            "max_height": null,
            "max_width": null,
            "min_height": null,
            "min_width": null,
            "object_fit": null,
            "object_position": null,
            "order": null,
            "overflow": null,
            "overflow_x": null,
            "overflow_y": null,
            "padding": null,
            "right": null,
            "top": null,
            "visibility": null,
            "width": null
          }
        },
        "457e2237dadb484a9dc4cdc582d8e2bc": {
          "model_module": "@jupyter-widgets/controls",
          "model_name": "DescriptionStyleModel",
          "model_module_version": "1.5.0",
          "state": {
            "_model_module": "@jupyter-widgets/controls",
            "_model_module_version": "1.5.0",
            "_model_name": "DescriptionStyleModel",
            "_view_count": null,
            "_view_module": "@jupyter-widgets/base",
            "_view_module_version": "1.2.0",
            "_view_name": "StyleView",
            "description_width": ""
          }
        },
        "f1b454ac90e445618622cf428285318a": {
          "model_module": "@jupyter-widgets/controls",
          "model_name": "HBoxModel",
          "model_module_version": "1.5.0",
          "state": {
            "_dom_classes": [],
            "_model_module": "@jupyter-widgets/controls",
            "_model_module_version": "1.5.0",
            "_model_name": "HBoxModel",
            "_view_count": null,
            "_view_module": "@jupyter-widgets/controls",
            "_view_module_version": "1.5.0",
            "_view_name": "HBoxView",
            "box_style": "",
            "children": [
              "IPY_MODEL_6bff792b4f51460d945a45e4c8bae649",
              "IPY_MODEL_bac95ae494c344569ec53cda6b7dea22",
              "IPY_MODEL_cd760b5655394eeca1964eb68beda40b"
            ],
            "layout": "IPY_MODEL_1c34acc55d5341aaa629095fbcaf97a8"
          }
        },
        "6bff792b4f51460d945a45e4c8bae649": {
          "model_module": "@jupyter-widgets/controls",
          "model_name": "HTMLModel",
          "model_module_version": "1.5.0",
          "state": {
            "_dom_classes": [],
            "_model_module": "@jupyter-widgets/controls",
            "_model_module_version": "1.5.0",
            "_model_name": "HTMLModel",
            "_view_count": null,
            "_view_module": "@jupyter-widgets/controls",
            "_view_module_version": "1.5.0",
            "_view_name": "HTMLView",
            "description": "",
            "description_tooltip": null,
            "layout": "IPY_MODEL_ee23b9b9ea564165a648cbe2b52ef9d0",
            "placeholder": "​",
            "style": "IPY_MODEL_dd9ce9b8bb9948f18bf03d8f92884e00",
            "value": ""
          }
        },
        "bac95ae494c344569ec53cda6b7dea22": {
          "model_module": "@jupyter-widgets/controls",
          "model_name": "FloatProgressModel",
          "model_module_version": "1.5.0",
          "state": {
            "_dom_classes": [],
            "_model_module": "@jupyter-widgets/controls",
            "_model_module_version": "1.5.0",
            "_model_name": "FloatProgressModel",
            "_view_count": null,
            "_view_module": "@jupyter-widgets/controls",
            "_view_module_version": "1.5.0",
            "_view_name": "ProgressView",
            "bar_style": "success",
            "description": "",
            "description_tooltip": null,
            "layout": "IPY_MODEL_1ed967689a7d441d8ecf508b4fdb7704",
            "max": 28881,
            "min": 0,
            "orientation": "horizontal",
            "style": "IPY_MODEL_48dd5a51de4a4b239e467be4ec6d7f55",
            "value": 28881
          }
        },
        "cd760b5655394eeca1964eb68beda40b": {
          "model_module": "@jupyter-widgets/controls",
          "model_name": "HTMLModel",
          "model_module_version": "1.5.0",
          "state": {
            "_dom_classes": [],
            "_model_module": "@jupyter-widgets/controls",
            "_model_module_version": "1.5.0",
            "_model_name": "HTMLModel",
            "_view_count": null,
            "_view_module": "@jupyter-widgets/controls",
            "_view_module_version": "1.5.0",
            "_view_name": "HTMLView",
            "description": "",
            "description_tooltip": null,
            "layout": "IPY_MODEL_62da956ba50d42508b998c235d40fd5a",
            "placeholder": "​",
            "style": "IPY_MODEL_993dad3548a34f38ab917240dc27de3d",
            "value": " 29696/? [00:00&lt;00:00, 702611.52it/s]"
          }
        },
        "1c34acc55d5341aaa629095fbcaf97a8": {
          "model_module": "@jupyter-widgets/base",
          "model_name": "LayoutModel",
          "model_module_version": "1.2.0",
          "state": {
            "_model_module": "@jupyter-widgets/base",
            "_model_module_version": "1.2.0",
            "_model_name": "LayoutModel",
            "_view_count": null,
            "_view_module": "@jupyter-widgets/base",
            "_view_module_version": "1.2.0",
            "_view_name": "LayoutView",
            "align_content": null,
            "align_items": null,
            "align_self": null,
            "border": null,
            "bottom": null,
            "display": null,
            "flex": null,
            "flex_flow": null,
            "grid_area": null,
            "grid_auto_columns": null,
            "grid_auto_flow": null,
            "grid_auto_rows": null,
            "grid_column": null,
            "grid_gap": null,
            "grid_row": null,
            "grid_template_areas": null,
            "grid_template_columns": null,
            "grid_template_rows": null,
            "height": null,
            "justify_content": null,
            "justify_items": null,
            "left": null,
            "margin": null,
            "max_height": null,
            "max_width": null,
            "min_height": null,
            "min_width": null,
            "object_fit": null,
            "object_position": null,
            "order": null,
            "overflow": null,
            "overflow_x": null,
            "overflow_y": null,
            "padding": null,
            "right": null,
            "top": null,
            "visibility": null,
            "width": null
          }
        },
        "ee23b9b9ea564165a648cbe2b52ef9d0": {
          "model_module": "@jupyter-widgets/base",
          "model_name": "LayoutModel",
          "model_module_version": "1.2.0",
          "state": {
            "_model_module": "@jupyter-widgets/base",
            "_model_module_version": "1.2.0",
            "_model_name": "LayoutModel",
            "_view_count": null,
            "_view_module": "@jupyter-widgets/base",
            "_view_module_version": "1.2.0",
            "_view_name": "LayoutView",
            "align_content": null,
            "align_items": null,
            "align_self": null,
            "border": null,
            "bottom": null,
            "display": null,
            "flex": null,
            "flex_flow": null,
            "grid_area": null,
            "grid_auto_columns": null,
            "grid_auto_flow": null,
            "grid_auto_rows": null,
            "grid_column": null,
            "grid_gap": null,
            "grid_row": null,
            "grid_template_areas": null,
            "grid_template_columns": null,
            "grid_template_rows": null,
            "height": null,
            "justify_content": null,
            "justify_items": null,
            "left": null,
            "margin": null,
            "max_height": null,
            "max_width": null,
            "min_height": null,
            "min_width": null,
            "object_fit": null,
            "object_position": null,
            "order": null,
            "overflow": null,
            "overflow_x": null,
            "overflow_y": null,
            "padding": null,
            "right": null,
            "top": null,
            "visibility": null,
            "width": null
          }
        },
        "dd9ce9b8bb9948f18bf03d8f92884e00": {
          "model_module": "@jupyter-widgets/controls",
          "model_name": "DescriptionStyleModel",
          "model_module_version": "1.5.0",
          "state": {
            "_model_module": "@jupyter-widgets/controls",
            "_model_module_version": "1.5.0",
            "_model_name": "DescriptionStyleModel",
            "_view_count": null,
            "_view_module": "@jupyter-widgets/base",
            "_view_module_version": "1.2.0",
            "_view_name": "StyleView",
            "description_width": ""
          }
        },
        "1ed967689a7d441d8ecf508b4fdb7704": {
          "model_module": "@jupyter-widgets/base",
          "model_name": "LayoutModel",
          "model_module_version": "1.2.0",
          "state": {
            "_model_module": "@jupyter-widgets/base",
            "_model_module_version": "1.2.0",
            "_model_name": "LayoutModel",
            "_view_count": null,
            "_view_module": "@jupyter-widgets/base",
            "_view_module_version": "1.2.0",
            "_view_name": "LayoutView",
            "align_content": null,
            "align_items": null,
            "align_self": null,
            "border": null,
            "bottom": null,
            "display": null,
            "flex": null,
            "flex_flow": null,
            "grid_area": null,
            "grid_auto_columns": null,
            "grid_auto_flow": null,
            "grid_auto_rows": null,
            "grid_column": null,
            "grid_gap": null,
            "grid_row": null,
            "grid_template_areas": null,
            "grid_template_columns": null,
            "grid_template_rows": null,
            "height": null,
            "justify_content": null,
            "justify_items": null,
            "left": null,
            "margin": null,
            "max_height": null,
            "max_width": null,
            "min_height": null,
            "min_width": null,
            "object_fit": null,
            "object_position": null,
            "order": null,
            "overflow": null,
            "overflow_x": null,
            "overflow_y": null,
            "padding": null,
            "right": null,
            "top": null,
            "visibility": null,
            "width": null
          }
        },
        "48dd5a51de4a4b239e467be4ec6d7f55": {
          "model_module": "@jupyter-widgets/controls",
          "model_name": "ProgressStyleModel",
          "model_module_version": "1.5.0",
          "state": {
            "_model_module": "@jupyter-widgets/controls",
            "_model_module_version": "1.5.0",
            "_model_name": "ProgressStyleModel",
            "_view_count": null,
            "_view_module": "@jupyter-widgets/base",
            "_view_module_version": "1.2.0",
            "_view_name": "StyleView",
            "bar_color": null,
            "description_width": ""
          }
        },
        "62da956ba50d42508b998c235d40fd5a": {
          "model_module": "@jupyter-widgets/base",
          "model_name": "LayoutModel",
          "model_module_version": "1.2.0",
          "state": {
            "_model_module": "@jupyter-widgets/base",
            "_model_module_version": "1.2.0",
            "_model_name": "LayoutModel",
            "_view_count": null,
            "_view_module": "@jupyter-widgets/base",
            "_view_module_version": "1.2.0",
            "_view_name": "LayoutView",
            "align_content": null,
            "align_items": null,
            "align_self": null,
            "border": null,
            "bottom": null,
            "display": null,
            "flex": null,
            "flex_flow": null,
            "grid_area": null,
            "grid_auto_columns": null,
            "grid_auto_flow": null,
            "grid_auto_rows": null,
            "grid_column": null,
            "grid_gap": null,
            "grid_row": null,
            "grid_template_areas": null,
            "grid_template_columns": null,
            "grid_template_rows": null,
            "height": null,
            "justify_content": null,
            "justify_items": null,
            "left": null,
            "margin": null,
            "max_height": null,
            "max_width": null,
            "min_height": null,
            "min_width": null,
            "object_fit": null,
            "object_position": null,
            "order": null,
            "overflow": null,
            "overflow_x": null,
            "overflow_y": null,
            "padding": null,
            "right": null,
            "top": null,
            "visibility": null,
            "width": null
          }
        },
        "993dad3548a34f38ab917240dc27de3d": {
          "model_module": "@jupyter-widgets/controls",
          "model_name": "DescriptionStyleModel",
          "model_module_version": "1.5.0",
          "state": {
            "_model_module": "@jupyter-widgets/controls",
            "_model_module_version": "1.5.0",
            "_model_name": "DescriptionStyleModel",
            "_view_count": null,
            "_view_module": "@jupyter-widgets/base",
            "_view_module_version": "1.2.0",
            "_view_name": "StyleView",
            "description_width": ""
          }
        },
        "5c9ed7725c7a4f65a42eec6c9bdca8e7": {
          "model_module": "@jupyter-widgets/controls",
          "model_name": "HBoxModel",
          "model_module_version": "1.5.0",
          "state": {
            "_dom_classes": [],
            "_model_module": "@jupyter-widgets/controls",
            "_model_module_version": "1.5.0",
            "_model_name": "HBoxModel",
            "_view_count": null,
            "_view_module": "@jupyter-widgets/controls",
            "_view_module_version": "1.5.0",
            "_view_name": "HBoxView",
            "box_style": "",
            "children": [
              "IPY_MODEL_5caa607e15504af48655a07c90460ee6",
              "IPY_MODEL_c813b6c793b84c2fbdb8bd53948a89c4",
              "IPY_MODEL_d0271149e5af482d862a268ecf54b9c0"
            ],
            "layout": "IPY_MODEL_64217e47c6024235b58ec55caed33cca"
          }
        },
        "5caa607e15504af48655a07c90460ee6": {
          "model_module": "@jupyter-widgets/controls",
          "model_name": "HTMLModel",
          "model_module_version": "1.5.0",
          "state": {
            "_dom_classes": [],
            "_model_module": "@jupyter-widgets/controls",
            "_model_module_version": "1.5.0",
            "_model_name": "HTMLModel",
            "_view_count": null,
            "_view_module": "@jupyter-widgets/controls",
            "_view_module_version": "1.5.0",
            "_view_name": "HTMLView",
            "description": "",
            "description_tooltip": null,
            "layout": "IPY_MODEL_d42c195db7eb4bf4b947703fc22ccace",
            "placeholder": "​",
            "style": "IPY_MODEL_bd02fa0ec414420fa1be18401ebcd480",
            "value": ""
          }
        },
        "c813b6c793b84c2fbdb8bd53948a89c4": {
          "model_module": "@jupyter-widgets/controls",
          "model_name": "FloatProgressModel",
          "model_module_version": "1.5.0",
          "state": {
            "_dom_classes": [],
            "_model_module": "@jupyter-widgets/controls",
            "_model_module_version": "1.5.0",
            "_model_name": "FloatProgressModel",
            "_view_count": null,
            "_view_module": "@jupyter-widgets/controls",
            "_view_module_version": "1.5.0",
            "_view_name": "ProgressView",
            "bar_style": "success",
            "description": "",
            "description_tooltip": null,
            "layout": "IPY_MODEL_48ea23e31e45411988618e5b62568962",
            "max": 1648877,
            "min": 0,
            "orientation": "horizontal",
            "style": "IPY_MODEL_acd0434cbe3f4d1db92bc4511a839621",
            "value": 1648877
          }
        },
        "d0271149e5af482d862a268ecf54b9c0": {
          "model_module": "@jupyter-widgets/controls",
          "model_name": "HTMLModel",
          "model_module_version": "1.5.0",
          "state": {
            "_dom_classes": [],
            "_model_module": "@jupyter-widgets/controls",
            "_model_module_version": "1.5.0",
            "_model_name": "HTMLModel",
            "_view_count": null,
            "_view_module": "@jupyter-widgets/controls",
            "_view_module_version": "1.5.0",
            "_view_name": "HTMLView",
            "description": "",
            "description_tooltip": null,
            "layout": "IPY_MODEL_19b7184acbb04a7eaeccf6dfc3a95a74",
            "placeholder": "​",
            "style": "IPY_MODEL_efabdfedea284c1da98f6721f3cc0966",
            "value": " 1649664/? [00:00&lt;00:00, 16530707.97it/s]"
          }
        },
        "64217e47c6024235b58ec55caed33cca": {
          "model_module": "@jupyter-widgets/base",
          "model_name": "LayoutModel",
          "model_module_version": "1.2.0",
          "state": {
            "_model_module": "@jupyter-widgets/base",
            "_model_module_version": "1.2.0",
            "_model_name": "LayoutModel",
            "_view_count": null,
            "_view_module": "@jupyter-widgets/base",
            "_view_module_version": "1.2.0",
            "_view_name": "LayoutView",
            "align_content": null,
            "align_items": null,
            "align_self": null,
            "border": null,
            "bottom": null,
            "display": null,
            "flex": null,
            "flex_flow": null,
            "grid_area": null,
            "grid_auto_columns": null,
            "grid_auto_flow": null,
            "grid_auto_rows": null,
            "grid_column": null,
            "grid_gap": null,
            "grid_row": null,
            "grid_template_areas": null,
            "grid_template_columns": null,
            "grid_template_rows": null,
            "height": null,
            "justify_content": null,
            "justify_items": null,
            "left": null,
            "margin": null,
            "max_height": null,
            "max_width": null,
            "min_height": null,
            "min_width": null,
            "object_fit": null,
            "object_position": null,
            "order": null,
            "overflow": null,
            "overflow_x": null,
            "overflow_y": null,
            "padding": null,
            "right": null,
            "top": null,
            "visibility": null,
            "width": null
          }
        },
        "d42c195db7eb4bf4b947703fc22ccace": {
          "model_module": "@jupyter-widgets/base",
          "model_name": "LayoutModel",
          "model_module_version": "1.2.0",
          "state": {
            "_model_module": "@jupyter-widgets/base",
            "_model_module_version": "1.2.0",
            "_model_name": "LayoutModel",
            "_view_count": null,
            "_view_module": "@jupyter-widgets/base",
            "_view_module_version": "1.2.0",
            "_view_name": "LayoutView",
            "align_content": null,
            "align_items": null,
            "align_self": null,
            "border": null,
            "bottom": null,
            "display": null,
            "flex": null,
            "flex_flow": null,
            "grid_area": null,
            "grid_auto_columns": null,
            "grid_auto_flow": null,
            "grid_auto_rows": null,
            "grid_column": null,
            "grid_gap": null,
            "grid_row": null,
            "grid_template_areas": null,
            "grid_template_columns": null,
            "grid_template_rows": null,
            "height": null,
            "justify_content": null,
            "justify_items": null,
            "left": null,
            "margin": null,
            "max_height": null,
            "max_width": null,
            "min_height": null,
            "min_width": null,
            "object_fit": null,
            "object_position": null,
            "order": null,
            "overflow": null,
            "overflow_x": null,
            "overflow_y": null,
            "padding": null,
            "right": null,
            "top": null,
            "visibility": null,
            "width": null
          }
        },
        "bd02fa0ec414420fa1be18401ebcd480": {
          "model_module": "@jupyter-widgets/controls",
          "model_name": "DescriptionStyleModel",
          "model_module_version": "1.5.0",
          "state": {
            "_model_module": "@jupyter-widgets/controls",
            "_model_module_version": "1.5.0",
            "_model_name": "DescriptionStyleModel",
            "_view_count": null,
            "_view_module": "@jupyter-widgets/base",
            "_view_module_version": "1.2.0",
            "_view_name": "StyleView",
            "description_width": ""
          }
        },
        "48ea23e31e45411988618e5b62568962": {
          "model_module": "@jupyter-widgets/base",
          "model_name": "LayoutModel",
          "model_module_version": "1.2.0",
          "state": {
            "_model_module": "@jupyter-widgets/base",
            "_model_module_version": "1.2.0",
            "_model_name": "LayoutModel",
            "_view_count": null,
            "_view_module": "@jupyter-widgets/base",
            "_view_module_version": "1.2.0",
            "_view_name": "LayoutView",
            "align_content": null,
            "align_items": null,
            "align_self": null,
            "border": null,
            "bottom": null,
            "display": null,
            "flex": null,
            "flex_flow": null,
            "grid_area": null,
            "grid_auto_columns": null,
            "grid_auto_flow": null,
            "grid_auto_rows": null,
            "grid_column": null,
            "grid_gap": null,
            "grid_row": null,
            "grid_template_areas": null,
            "grid_template_columns": null,
            "grid_template_rows": null,
            "height": null,
            "justify_content": null,
            "justify_items": null,
            "left": null,
            "margin": null,
            "max_height": null,
            "max_width": null,
            "min_height": null,
            "min_width": null,
            "object_fit": null,
            "object_position": null,
            "order": null,
            "overflow": null,
            "overflow_x": null,
            "overflow_y": null,
            "padding": null,
            "right": null,
            "top": null,
            "visibility": null,
            "width": null
          }
        },
        "acd0434cbe3f4d1db92bc4511a839621": {
          "model_module": "@jupyter-widgets/controls",
          "model_name": "ProgressStyleModel",
          "model_module_version": "1.5.0",
          "state": {
            "_model_module": "@jupyter-widgets/controls",
            "_model_module_version": "1.5.0",
            "_model_name": "ProgressStyleModel",
            "_view_count": null,
            "_view_module": "@jupyter-widgets/base",
            "_view_module_version": "1.2.0",
            "_view_name": "StyleView",
            "bar_color": null,
            "description_width": ""
          }
        },
        "19b7184acbb04a7eaeccf6dfc3a95a74": {
          "model_module": "@jupyter-widgets/base",
          "model_name": "LayoutModel",
          "model_module_version": "1.2.0",
          "state": {
            "_model_module": "@jupyter-widgets/base",
            "_model_module_version": "1.2.0",
            "_model_name": "LayoutModel",
            "_view_count": null,
            "_view_module": "@jupyter-widgets/base",
            "_view_module_version": "1.2.0",
            "_view_name": "LayoutView",
            "align_content": null,
            "align_items": null,
            "align_self": null,
            "border": null,
            "bottom": null,
            "display": null,
            "flex": null,
            "flex_flow": null,
            "grid_area": null,
            "grid_auto_columns": null,
            "grid_auto_flow": null,
            "grid_auto_rows": null,
            "grid_column": null,
            "grid_gap": null,
            "grid_row": null,
            "grid_template_areas": null,
            "grid_template_columns": null,
            "grid_template_rows": null,
            "height": null,
            "justify_content": null,
            "justify_items": null,
            "left": null,
            "margin": null,
            "max_height": null,
            "max_width": null,
            "min_height": null,
            "min_width": null,
            "object_fit": null,
            "object_position": null,
            "order": null,
            "overflow": null,
            "overflow_x": null,
            "overflow_y": null,
            "padding": null,
            "right": null,
            "top": null,
            "visibility": null,
            "width": null
          }
        },
        "efabdfedea284c1da98f6721f3cc0966": {
          "model_module": "@jupyter-widgets/controls",
          "model_name": "DescriptionStyleModel",
          "model_module_version": "1.5.0",
          "state": {
            "_model_module": "@jupyter-widgets/controls",
            "_model_module_version": "1.5.0",
            "_model_name": "DescriptionStyleModel",
            "_view_count": null,
            "_view_module": "@jupyter-widgets/base",
            "_view_module_version": "1.2.0",
            "_view_name": "StyleView",
            "description_width": ""
          }
        },
        "f9ddae41b5e747a092a71de1811125c0": {
          "model_module": "@jupyter-widgets/controls",
          "model_name": "HBoxModel",
          "model_module_version": "1.5.0",
          "state": {
            "_dom_classes": [],
            "_model_module": "@jupyter-widgets/controls",
            "_model_module_version": "1.5.0",
            "_model_name": "HBoxModel",
            "_view_count": null,
            "_view_module": "@jupyter-widgets/controls",
            "_view_module_version": "1.5.0",
            "_view_name": "HBoxView",
            "box_style": "",
            "children": [
              "IPY_MODEL_3503e84b36bf4a4ab32d90575ac3a356",
              "IPY_MODEL_420349d5c4d5445992face3e8445a8a6",
              "IPY_MODEL_78417c3fafc1433c81b3bf90c3899ec3"
            ],
            "layout": "IPY_MODEL_bb0d3cd5322f496ebb229a11f9983821"
          }
        },
        "3503e84b36bf4a4ab32d90575ac3a356": {
          "model_module": "@jupyter-widgets/controls",
          "model_name": "HTMLModel",
          "model_module_version": "1.5.0",
          "state": {
            "_dom_classes": [],
            "_model_module": "@jupyter-widgets/controls",
            "_model_module_version": "1.5.0",
            "_model_name": "HTMLModel",
            "_view_count": null,
            "_view_module": "@jupyter-widgets/controls",
            "_view_module_version": "1.5.0",
            "_view_name": "HTMLView",
            "description": "",
            "description_tooltip": null,
            "layout": "IPY_MODEL_f500541f030b432791c87308782afac1",
            "placeholder": "​",
            "style": "IPY_MODEL_786a133379f54cb3b188fa926514eb82",
            "value": ""
          }
        },
        "420349d5c4d5445992face3e8445a8a6": {
          "model_module": "@jupyter-widgets/controls",
          "model_name": "FloatProgressModel",
          "model_module_version": "1.5.0",
          "state": {
            "_dom_classes": [],
            "_model_module": "@jupyter-widgets/controls",
            "_model_module_version": "1.5.0",
            "_model_name": "FloatProgressModel",
            "_view_count": null,
            "_view_module": "@jupyter-widgets/controls",
            "_view_module_version": "1.5.0",
            "_view_name": "ProgressView",
            "bar_style": "success",
            "description": "",
            "description_tooltip": null,
            "layout": "IPY_MODEL_70adf9e757d74554ad5b5ece5baa8a5f",
            "max": 4542,
            "min": 0,
            "orientation": "horizontal",
            "style": "IPY_MODEL_fc5a143ff7dd4660b5d8a9cbfcf293c1",
            "value": 4542
          }
        },
        "78417c3fafc1433c81b3bf90c3899ec3": {
          "model_module": "@jupyter-widgets/controls",
          "model_name": "HTMLModel",
          "model_module_version": "1.5.0",
          "state": {
            "_dom_classes": [],
            "_model_module": "@jupyter-widgets/controls",
            "_model_module_version": "1.5.0",
            "_model_name": "HTMLModel",
            "_view_count": null,
            "_view_module": "@jupyter-widgets/controls",
            "_view_module_version": "1.5.0",
            "_view_name": "HTMLView",
            "description": "",
            "description_tooltip": null,
            "layout": "IPY_MODEL_f0ac124aa69148fc897279b6fede9663",
            "placeholder": "​",
            "style": "IPY_MODEL_c730627ed28e47b5a1041bf85267fac0",
            "value": " 5120/? [00:00&lt;00:00, 100770.68it/s]"
          }
        },
        "bb0d3cd5322f496ebb229a11f9983821": {
          "model_module": "@jupyter-widgets/base",
          "model_name": "LayoutModel",
          "model_module_version": "1.2.0",
          "state": {
            "_model_module": "@jupyter-widgets/base",
            "_model_module_version": "1.2.0",
            "_model_name": "LayoutModel",
            "_view_count": null,
            "_view_module": "@jupyter-widgets/base",
            "_view_module_version": "1.2.0",
            "_view_name": "LayoutView",
            "align_content": null,
            "align_items": null,
            "align_self": null,
            "border": null,
            "bottom": null,
            "display": null,
            "flex": null,
            "flex_flow": null,
            "grid_area": null,
            "grid_auto_columns": null,
            "grid_auto_flow": null,
            "grid_auto_rows": null,
            "grid_column": null,
            "grid_gap": null,
            "grid_row": null,
            "grid_template_areas": null,
            "grid_template_columns": null,
            "grid_template_rows": null,
            "height": null,
            "justify_content": null,
            "justify_items": null,
            "left": null,
            "margin": null,
            "max_height": null,
            "max_width": null,
            "min_height": null,
            "min_width": null,
            "object_fit": null,
            "object_position": null,
            "order": null,
            "overflow": null,
            "overflow_x": null,
            "overflow_y": null,
            "padding": null,
            "right": null,
            "top": null,
            "visibility": null,
            "width": null
          }
        },
        "f500541f030b432791c87308782afac1": {
          "model_module": "@jupyter-widgets/base",
          "model_name": "LayoutModel",
          "model_module_version": "1.2.0",
          "state": {
            "_model_module": "@jupyter-widgets/base",
            "_model_module_version": "1.2.0",
            "_model_name": "LayoutModel",
            "_view_count": null,
            "_view_module": "@jupyter-widgets/base",
            "_view_module_version": "1.2.0",
            "_view_name": "LayoutView",
            "align_content": null,
            "align_items": null,
            "align_self": null,
            "border": null,
            "bottom": null,
            "display": null,
            "flex": null,
            "flex_flow": null,
            "grid_area": null,
            "grid_auto_columns": null,
            "grid_auto_flow": null,
            "grid_auto_rows": null,
            "grid_column": null,
            "grid_gap": null,
            "grid_row": null,
            "grid_template_areas": null,
            "grid_template_columns": null,
            "grid_template_rows": null,
            "height": null,
            "justify_content": null,
            "justify_items": null,
            "left": null,
            "margin": null,
            "max_height": null,
            "max_width": null,
            "min_height": null,
            "min_width": null,
            "object_fit": null,
            "object_position": null,
            "order": null,
            "overflow": null,
            "overflow_x": null,
            "overflow_y": null,
            "padding": null,
            "right": null,
            "top": null,
            "visibility": null,
            "width": null
          }
        },
        "786a133379f54cb3b188fa926514eb82": {
          "model_module": "@jupyter-widgets/controls",
          "model_name": "DescriptionStyleModel",
          "model_module_version": "1.5.0",
          "state": {
            "_model_module": "@jupyter-widgets/controls",
            "_model_module_version": "1.5.0",
            "_model_name": "DescriptionStyleModel",
            "_view_count": null,
            "_view_module": "@jupyter-widgets/base",
            "_view_module_version": "1.2.0",
            "_view_name": "StyleView",
            "description_width": ""
          }
        },
        "70adf9e757d74554ad5b5ece5baa8a5f": {
          "model_module": "@jupyter-widgets/base",
          "model_name": "LayoutModel",
          "model_module_version": "1.2.0",
          "state": {
            "_model_module": "@jupyter-widgets/base",
            "_model_module_version": "1.2.0",
            "_model_name": "LayoutModel",
            "_view_count": null,
            "_view_module": "@jupyter-widgets/base",
            "_view_module_version": "1.2.0",
            "_view_name": "LayoutView",
            "align_content": null,
            "align_items": null,
            "align_self": null,
            "border": null,
            "bottom": null,
            "display": null,
            "flex": null,
            "flex_flow": null,
            "grid_area": null,
            "grid_auto_columns": null,
            "grid_auto_flow": null,
            "grid_auto_rows": null,
            "grid_column": null,
            "grid_gap": null,
            "grid_row": null,
            "grid_template_areas": null,
            "grid_template_columns": null,
            "grid_template_rows": null,
            "height": null,
            "justify_content": null,
            "justify_items": null,
            "left": null,
            "margin": null,
            "max_height": null,
            "max_width": null,
            "min_height": null,
            "min_width": null,
            "object_fit": null,
            "object_position": null,
            "order": null,
            "overflow": null,
            "overflow_x": null,
            "overflow_y": null,
            "padding": null,
            "right": null,
            "top": null,
            "visibility": null,
            "width": null
          }
        },
        "fc5a143ff7dd4660b5d8a9cbfcf293c1": {
          "model_module": "@jupyter-widgets/controls",
          "model_name": "ProgressStyleModel",
          "model_module_version": "1.5.0",
          "state": {
            "_model_module": "@jupyter-widgets/controls",
            "_model_module_version": "1.5.0",
            "_model_name": "ProgressStyleModel",
            "_view_count": null,
            "_view_module": "@jupyter-widgets/base",
            "_view_module_version": "1.2.0",
            "_view_name": "StyleView",
            "bar_color": null,
            "description_width": ""
          }
        },
        "f0ac124aa69148fc897279b6fede9663": {
          "model_module": "@jupyter-widgets/base",
          "model_name": "LayoutModel",
          "model_module_version": "1.2.0",
          "state": {
            "_model_module": "@jupyter-widgets/base",
            "_model_module_version": "1.2.0",
            "_model_name": "LayoutModel",
            "_view_count": null,
            "_view_module": "@jupyter-widgets/base",
            "_view_module_version": "1.2.0",
            "_view_name": "LayoutView",
            "align_content": null,
            "align_items": null,
            "align_self": null,
            "border": null,
            "bottom": null,
            "display": null,
            "flex": null,
            "flex_flow": null,
            "grid_area": null,
            "grid_auto_columns": null,
            "grid_auto_flow": null,
            "grid_auto_rows": null,
            "grid_column": null,
            "grid_gap": null,
            "grid_row": null,
            "grid_template_areas": null,
            "grid_template_columns": null,
            "grid_template_rows": null,
            "height": null,
            "justify_content": null,
            "justify_items": null,
            "left": null,
            "margin": null,
            "max_height": null,
            "max_width": null,
            "min_height": null,
            "min_width": null,
            "object_fit": null,
            "object_position": null,
            "order": null,
            "overflow": null,
            "overflow_x": null,
            "overflow_y": null,
            "padding": null,
            "right": null,
            "top": null,
            "visibility": null,
            "width": null
          }
        },
        "c730627ed28e47b5a1041bf85267fac0": {
          "model_module": "@jupyter-widgets/controls",
          "model_name": "DescriptionStyleModel",
          "model_module_version": "1.5.0",
          "state": {
            "_model_module": "@jupyter-widgets/controls",
            "_model_module_version": "1.5.0",
            "_model_name": "DescriptionStyleModel",
            "_view_count": null,
            "_view_module": "@jupyter-widgets/base",
            "_view_module_version": "1.2.0",
            "_view_name": "StyleView",
            "description_width": ""
          }
        }
      }
    }
  },
  "cells": [
    {
      "cell_type": "markdown",
      "metadata": {
        "id": "view-in-github",
        "colab_type": "text"
      },
      "source": [
        "<a href=\"https://colab.research.google.com/github/honestycitra/dl_hw_test/blob/main/WGAN.ipynb\" target=\"_parent\"><img src=\"https://colab.research.google.com/assets/colab-badge.svg\" alt=\"Open In Colab\"/></a>"
      ]
    },
    {
      "cell_type": "markdown",
      "source": [
        "# **Wasserstein GAN (WGAN)**"
      ],
      "metadata": {
        "id": "0O9gsB3pZcAe"
      }
    },
    {
      "cell_type": "markdown",
      "source": [
        "Source: https://github.com/DSC-UI-SRIN/Introduction-to-GAN/blob/master/2%20-%20Wasserstein%20GANs/WGAN.ipynb"
      ],
      "metadata": {
        "id": "SOp5x4YdZfpw"
      }
    },
    {
      "cell_type": "markdown",
      "source": [
        "#**Introduction**\n",
        "\n",
        "##**Abstract** :\n",
        "\n",
        "We introduce a new algorithm named WGAN, an alternative to traditional GAN training. In this new model, we show that we can improve the stability of learning, get rid of problems like mode collapse, and provide meaningful learning curves useful for debugging and hyperparameter searches. Furthermore, we show that the corresponding optimization problem is sound, and provide extensive theoretical work highlighting the deep connections to other distances between distributions.\n",
        "\n",
        "![image.png](data:image/png;base64,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)\n",
        "\n",
        "Source:  https://medium.com/@jonathan_hui/gan-wasserstein-gan-wgan-gp-6a1a2aa1b490\n",
        "\n"
      ],
      "metadata": {
        "id": "kskxZcNRZpA6"
      }
    },
    {
      "cell_type": "markdown",
      "source": [
        "#**Prerequest**"
      ],
      "metadata": {
        "id": "uDmtVsqmaBDC"
      }
    },
    {
      "cell_type": "code",
      "execution_count": 1,
      "metadata": {
        "colab": {
          "base_uri": "https://localhost:8080/"
        },
        "id": "Rg5n9xx8TC8Y",
        "outputId": "6192b950-458f-4c0d-f0db-0250e07c18b7"
      },
      "outputs": [
        {
          "output_type": "stream",
          "name": "stdout",
          "text": [
            "Mounted at /content/drive\n"
          ]
        }
      ],
      "source": [
        "from google.colab import drive\n",
        "drive.mount('/content/drive')"
      ]
    },
    {
      "cell_type": "code",
      "source": [
        "# import All prerequisites\n",
        "import torch\n",
        "import torch.nn as nn\n",
        "import torch.nn.functional as F\n",
        "import torch.optim as optim\n",
        "from torchvision import datasets, transforms\n",
        "from torch.autograd import Variable\n",
        "from torchvision.utils import save_image\n",
        "import numpy as np\n",
        "import os\n",
        "\n",
        "# Device configuration\n",
        "device = torch.device('cuda' if torch.cuda.is_available() else 'cpu')\n",
        "ROOT = \"/content/drive/My Drive/Colab Notebooks/DSC_UI_GAN/Batch1/W2/WGAN\"\n",
        "sample_dir = os.path.join(ROOT, 'sample')\n",
        "# Make dir if no exist\n",
        "if not os.path.exists(sample_dir):\n",
        "    os.makedirs(sample_dir)"
      ],
      "metadata": {
        "id": "Elh9d2mVaHgi"
      },
      "execution_count": 2,
      "outputs": []
    },
    {
      "cell_type": "markdown",
      "source": [
        "# **Dataset**"
      ],
      "metadata": {
        "id": "dKeCv8mLaJ_q"
      }
    },
    {
      "cell_type": "code",
      "source": [
        "batch_size = 100\n",
        "\n",
        "# MNIST Dataset\n",
        "transform = transforms.Compose([\n",
        "    transforms.ToTensor(),\n",
        "    transforms.Normalize([0.5], [0.5])])\n",
        "\n",
        "train_dataset = datasets.MNIST(root='./mnist_data/', train=True, transform=transform, download=True)\n",
        "\n",
        "# Data Loader (Input Pipeline)\n",
        "train_loader = torch.utils.data.DataLoader(dataset=train_dataset, batch_size=batch_size, shuffle=True)\n",
        "\n",
        "examples = enumerate(train_loader)\n",
        "batch_idx, (example_data, example_targets) = next(examples)"
      ],
      "metadata": {
        "colab": {
          "base_uri": "https://localhost:8080/",
          "height": 423,
          "referenced_widgets": [
            "b800786a3918407fabd258b10561179e",
            "96afde54aacd4e67bd668306dabcbefc",
            "c0dca1162c1141b2b7ada4811ef9f08f",
            "96ec2c62248f4ac585f3edb50df5c675",
            "b28450afcbf649b5be4a0ddbec082f8e",
            "253572861754408396659046282c04b2",
            "d36b41de82d842c5adc5a628456e173c",
            "2317a05a2ce243eabc95f64bc28cbed6",
            "c71524b2491d48068ee5816d92b1e547",
            "cbfe543fc2df46928760f84cf3807c61",
            "457e2237dadb484a9dc4cdc582d8e2bc",
            "f1b454ac90e445618622cf428285318a",
            "6bff792b4f51460d945a45e4c8bae649",
            "bac95ae494c344569ec53cda6b7dea22",
            "cd760b5655394eeca1964eb68beda40b",
            "1c34acc55d5341aaa629095fbcaf97a8",
            "ee23b9b9ea564165a648cbe2b52ef9d0",
            "dd9ce9b8bb9948f18bf03d8f92884e00",
            "1ed967689a7d441d8ecf508b4fdb7704",
            "48dd5a51de4a4b239e467be4ec6d7f55",
            "62da956ba50d42508b998c235d40fd5a",
            "993dad3548a34f38ab917240dc27de3d",
            "5c9ed7725c7a4f65a42eec6c9bdca8e7",
            "5caa607e15504af48655a07c90460ee6",
            "c813b6c793b84c2fbdb8bd53948a89c4",
            "d0271149e5af482d862a268ecf54b9c0",
            "64217e47c6024235b58ec55caed33cca",
            "d42c195db7eb4bf4b947703fc22ccace",
            "bd02fa0ec414420fa1be18401ebcd480",
            "48ea23e31e45411988618e5b62568962",
            "acd0434cbe3f4d1db92bc4511a839621",
            "19b7184acbb04a7eaeccf6dfc3a95a74",
            "efabdfedea284c1da98f6721f3cc0966",
            "f9ddae41b5e747a092a71de1811125c0",
            "3503e84b36bf4a4ab32d90575ac3a356",
            "420349d5c4d5445992face3e8445a8a6",
            "78417c3fafc1433c81b3bf90c3899ec3",
            "bb0d3cd5322f496ebb229a11f9983821",
            "f500541f030b432791c87308782afac1",
            "786a133379f54cb3b188fa926514eb82",
            "70adf9e757d74554ad5b5ece5baa8a5f",
            "fc5a143ff7dd4660b5d8a9cbfcf293c1",
            "f0ac124aa69148fc897279b6fede9663",
            "c730627ed28e47b5a1041bf85267fac0"
          ]
        },
        "id": "HMx-P4Z_aLon",
        "outputId": "98837f0d-3e18-4a89-94bc-fdba796f2f93"
      },
      "execution_count": 3,
      "outputs": [
        {
          "output_type": "stream",
          "name": "stdout",
          "text": [
            "Downloading http://yann.lecun.com/exdb/mnist/train-images-idx3-ubyte.gz\n",
            "Downloading http://yann.lecun.com/exdb/mnist/train-images-idx3-ubyte.gz to ./mnist_data/MNIST/raw/train-images-idx3-ubyte.gz\n"
          ]
        },
        {
          "output_type": "display_data",
          "data": {
            "text/plain": [
              "  0%|          | 0/9912422 [00:00<?, ?it/s]"
            ],
            "application/vnd.jupyter.widget-view+json": {
              "version_major": 2,
              "version_minor": 0,
              "model_id": "b800786a3918407fabd258b10561179e"
            }
          },
          "metadata": {}
        },
        {
          "output_type": "stream",
          "name": "stdout",
          "text": [
            "Extracting ./mnist_data/MNIST/raw/train-images-idx3-ubyte.gz to ./mnist_data/MNIST/raw\n",
            "\n",
            "Downloading http://yann.lecun.com/exdb/mnist/train-labels-idx1-ubyte.gz\n",
            "Downloading http://yann.lecun.com/exdb/mnist/train-labels-idx1-ubyte.gz to ./mnist_data/MNIST/raw/train-labels-idx1-ubyte.gz\n"
          ]
        },
        {
          "output_type": "display_data",
          "data": {
            "text/plain": [
              "  0%|          | 0/28881 [00:00<?, ?it/s]"
            ],
            "application/vnd.jupyter.widget-view+json": {
              "version_major": 2,
              "version_minor": 0,
              "model_id": "f1b454ac90e445618622cf428285318a"
            }
          },
          "metadata": {}
        },
        {
          "output_type": "stream",
          "name": "stdout",
          "text": [
            "Extracting ./mnist_data/MNIST/raw/train-labels-idx1-ubyte.gz to ./mnist_data/MNIST/raw\n",
            "\n",
            "Downloading http://yann.lecun.com/exdb/mnist/t10k-images-idx3-ubyte.gz\n",
            "Downloading http://yann.lecun.com/exdb/mnist/t10k-images-idx3-ubyte.gz to ./mnist_data/MNIST/raw/t10k-images-idx3-ubyte.gz\n"
          ]
        },
        {
          "output_type": "display_data",
          "data": {
            "text/plain": [
              "  0%|          | 0/1648877 [00:00<?, ?it/s]"
            ],
            "application/vnd.jupyter.widget-view+json": {
              "version_major": 2,
              "version_minor": 0,
              "model_id": "5c9ed7725c7a4f65a42eec6c9bdca8e7"
            }
          },
          "metadata": {}
        },
        {
          "output_type": "stream",
          "name": "stdout",
          "text": [
            "Extracting ./mnist_data/MNIST/raw/t10k-images-idx3-ubyte.gz to ./mnist_data/MNIST/raw\n",
            "\n",
            "Downloading http://yann.lecun.com/exdb/mnist/t10k-labels-idx1-ubyte.gz\n",
            "Downloading http://yann.lecun.com/exdb/mnist/t10k-labels-idx1-ubyte.gz to ./mnist_data/MNIST/raw/t10k-labels-idx1-ubyte.gz\n"
          ]
        },
        {
          "output_type": "display_data",
          "data": {
            "text/plain": [
              "  0%|          | 0/4542 [00:00<?, ?it/s]"
            ],
            "application/vnd.jupyter.widget-view+json": {
              "version_major": 2,
              "version_minor": 0,
              "model_id": "f9ddae41b5e747a092a71de1811125c0"
            }
          },
          "metadata": {}
        },
        {
          "output_type": "stream",
          "name": "stdout",
          "text": [
            "Extracting ./mnist_data/MNIST/raw/t10k-labels-idx1-ubyte.gz to ./mnist_data/MNIST/raw\n",
            "\n"
          ]
        }
      ]
    },
    {
      "cell_type": "code",
      "source": [
        "## Print example\n",
        "import matplotlib.pyplot as plt\n",
        "\n",
        "fig = plt.figure()\n",
        "for i in range(6):\n",
        "  plt.subplot(2,3,i+1)\n",
        "  plt.tight_layout()\n",
        "  plt.imshow(example_data[i][0], cmap='gray', interpolation='none')\n",
        "  plt.title(\"Ground Truth: {}\".format(example_targets[i]))\n",
        "  plt.xticks([])\n",
        "  plt.yticks([])\n",
        "fig"
      ],
      "metadata": {
        "colab": {
          "base_uri": "https://localhost:8080/",
          "height": 551
        },
        "id": "PdMrwOCpaNyr",
        "outputId": "0cc4ac48-688c-4c6c-e32a-6846feea4717"
      },
      "execution_count": 4,
      "outputs": [
        {
          "output_type": "execute_result",
          "data": {
            "text/plain": [
              "<Figure size 432x288 with 6 Axes>"
            ],
            "image/png": "[encoded data removed]"
          },
          "metadata": {},
          "execution_count": 4
        },
        {
          "output_type": "display_data",
          "data": {
            "text/plain": [
              "<Figure size 432x288 with 6 Axes>"
            ],
            "image/png": "[encoded data removed]"
          },
          "metadata": {}
        }
      ]
    },
    {
      "cell_type": "markdown",
      "source": [
        "# **Bulding Model**"
      ],
      "metadata": {
        "id": "BZ7G5oxWaPPz"
      }
    },
    {
      "cell_type": "markdown",
      "source": [
        "## **Generator Model**"
      ],
      "metadata": {
        "id": "jNWdYNwuaS1v"
      }
    },
    {
      "cell_type": "code",
      "source": [
        "class Generator(nn.Module):\n",
        "    def __init__(self, g_input_dim, g_output_dim):\n",
        "        super(Generator, self).__init__()\n",
        "\n",
        "        def block(in_feat, out_feat, normalize=True):\n",
        "            layers = [nn.Linear(in_feat, out_feat)]\n",
        "            if normalize:\n",
        "                layers.append(nn.BatchNorm1d(out_feat, 0.8))\n",
        "            layers.append(nn.LeakyReLU(0.2, inplace=True))\n",
        "            return layers\n",
        "\n",
        "        self.model = nn.Sequential(\n",
        "            *block(g_input_dim, 128, normalize=False),\n",
        "            *block(128, 256),\n",
        "            *block(256, 512),\n",
        "            *block(512, 1024),\n",
        "            nn.Linear(1024, g_output_dim), \n",
        "            nn.Tanh())\n",
        "\n",
        "    def forward(self, z):\n",
        "        image = self.model(z)\n",
        "        image = image.view(image.size(0), -1)\n",
        "        return image"
      ],
      "metadata": {
        "id": "3LeU8ORGaWhg"
      },
      "execution_count": 5,
      "outputs": []
    },
    {
      "cell_type": "markdown",
      "source": [
        "## **Discriminator Model**"
      ],
      "metadata": {
        "id": "yUMA7T9kaYWb"
      }
    },
    {
      "cell_type": "code",
      "source": [
        "class Discriminator(nn.Module):\n",
        "    def __init__(self, d_input_dim):\n",
        "        super(Discriminator, self).__init__()\n",
        "\n",
        "        self.model = nn.Sequential(\n",
        "            nn.Linear(d_input_dim, 512),\n",
        "            nn.LeakyReLU(0.2, inplace=True),\n",
        "            nn.Linear(512, 256),\n",
        "            nn.LeakyReLU(0.2, inplace=True),\n",
        "            nn.Linear(256, 1),\n",
        "            nn.Sigmoid(),\n",
        "        )\n",
        "\n",
        "    def forward(self, image):\n",
        "        img_flat = image.view(image.size(0), -1)\n",
        "        validity = self.model(img_flat)\n",
        "        return validity"
      ],
      "metadata": {
        "id": "fWpY52YOab17"
      },
      "execution_count": 6,
      "outputs": []
    },
    {
      "cell_type": "markdown",
      "source": [
        "# **Build network**"
      ],
      "metadata": {
        "id": "-4nCKyksacXX"
      }
    },
    {
      "cell_type": "code",
      "source": [
        "# build network\n",
        "z_dim = 100\n",
        "mnist_dim = train_dataset.train_data.size(1) * train_dataset.train_data.size(2)\n",
        "\n",
        "G = Generator(g_input_dim = z_dim, g_output_dim = mnist_dim).to(device)\n",
        "D = Discriminator(mnist_dim).to(device)"
      ],
      "metadata": {
        "colab": {
          "base_uri": "https://localhost:8080/"
        },
        "id": "yuFEWHadafNq",
        "outputId": "5dd2b299-09fc-45c2-dac7-06caa833a150"
      },
      "execution_count": 7,
      "outputs": [
        {
          "output_type": "stream",
          "name": "stderr",
          "text": [
            "/usr/local/lib/python3.7/dist-packages/torchvision/datasets/mnist.py:75: UserWarning: train_data has been renamed data\n",
            "  warnings.warn(\"train_data has been renamed data\")\n"
          ]
        }
      ]
    },
    {
      "cell_type": "code",
      "source": [
        "print(G, D)"
      ],
      "metadata": {
        "colab": {
          "base_uri": "https://localhost:8080/"
        },
        "id": "DxuMiYdcafqW",
        "outputId": "c8ca5069-91cc-470e-b9b0-44794712a306"
      },
      "execution_count": 8,
      "outputs": [
        {
          "output_type": "stream",
          "name": "stdout",
          "text": [
            "Generator(\n",
            "  (model): Sequential(\n",
            "    (0): Linear(in_features=100, out_features=128, bias=True)\n",
            "    (1): LeakyReLU(negative_slope=0.2, inplace=True)\n",
            "    (2): Linear(in_features=128, out_features=256, bias=True)\n",
            "    (3): BatchNorm1d(256, eps=0.8, momentum=0.1, affine=True, track_running_stats=True)\n",
            "    (4): LeakyReLU(negative_slope=0.2, inplace=True)\n",
            "    (5): Linear(in_features=256, out_features=512, bias=True)\n",
            "    (6): BatchNorm1d(512, eps=0.8, momentum=0.1, affine=True, track_running_stats=True)\n",
            "    (7): LeakyReLU(negative_slope=0.2, inplace=True)\n",
            "    (8): Linear(in_features=512, out_features=1024, bias=True)\n",
            "    (9): BatchNorm1d(1024, eps=0.8, momentum=0.1, affine=True, track_running_stats=True)\n",
            "    (10): LeakyReLU(negative_slope=0.2, inplace=True)\n",
            "    (11): Linear(in_features=1024, out_features=784, bias=True)\n",
            "    (12): Tanh()\n",
            "  )\n",
            ") Discriminator(\n",
            "  (model): Sequential(\n",
            "    (0): Linear(in_features=784, out_features=512, bias=True)\n",
            "    (1): LeakyReLU(negative_slope=0.2, inplace=True)\n",
            "    (2): Linear(in_features=512, out_features=256, bias=True)\n",
            "    (3): LeakyReLU(negative_slope=0.2, inplace=True)\n",
            "    (4): Linear(in_features=256, out_features=1, bias=True)\n",
            "    (5): Sigmoid()\n",
            "  )\n",
            ")\n"
          ]
        }
      ]
    },
    {
      "cell_type": "markdown",
      "source": [
        "#**Train Process**\n",
        "\n",
        "**Algoritma WGAN**"
      ],
      "metadata": {
        "id": "5sfA5Uv1auGp"
      }
    },
    {
      "cell_type": "code",
      "source": [
        "# optimizer\n",
        "lr = 0.00005\n",
        "n_critic =  5\n",
        "clip_value = 0.01\n",
        "G_optimizer = torch.optim.RMSprop(params=[p for p in G.parameters() if p.requires_grad], lr=lr)\n",
        "D_optimizer = torch.optim.RMSprop(params=[p for p in D.parameters() if p.requires_grad], lr=lr)"
      ],
      "metadata": {
        "id": "yD2lhsNXa4Vd"
      },
      "execution_count": 11,
      "outputs": []
    },
    {
      "cell_type": "code",
      "source": [
        "Tensor = torch.cuda.FloatTensor if torch.cuda.is_available() else torch.FloatTensor\n",
        "epochs = 10 #it was 200\n",
        "batches_done = 0\n",
        "list_loss_D = []\n",
        "list_loss_G = []\n",
        "for epoch in range(epochs):\n",
        "\n",
        "    for i, (imgs, _) in enumerate(train_loader):\n",
        "\n",
        "        # Configure input\n",
        "        real_imgs = Variable(imgs.type(Tensor))\n",
        "\n",
        "        # ---------------------\n",
        "        #  Train Discriminator\n",
        "        # ---------------------\n",
        "\n",
        "        D_optimizer.zero_grad()\n",
        "\n",
        "        # Sample noise as generator input\n",
        "        z = Variable(Tensor(np.random.normal(0, 1, (imgs.shape[0], z_dim))))\n",
        "\n",
        "        # Generate a batch of images\n",
        "        fake_imgs = G(z).detach()\n",
        "        # Adversarial loss\n",
        "        d_loss = -torch.mean(D(real_imgs)) + torch.mean(D(fake_imgs))\n",
        "\n",
        "        d_loss.backward()\n",
        "        D_optimizer.step()\n",
        "\n",
        "        # Clip weights of discriminator\n",
        "        for p in D.parameters():\n",
        "            p.data.clamp_(-clip_value, clip_value)\n",
        "\n",
        "        # Train the generator every n_critic iterations\n",
        "        if i % n_critic == 0:\n",
        "\n",
        "            # -----------------\n",
        "            #  Train Generator\n",
        "            # -----------------\n",
        "\n",
        "            G_optimizer.zero_grad()\n",
        "\n",
        "            # Generate a batch of images\n",
        "            gen_imgs = G(z)\n",
        "            # Adversarial loss\n",
        "            g_loss = -torch.mean(D(gen_imgs))\n",
        "\n",
        "\n",
        "            g_loss.backward()\n",
        "            G_optimizer.step()\n",
        "\n",
        "            # add loss to list\n",
        "            list_loss_D.append(d_loss.item())\n",
        "            list_loss_G.append(g_loss.item())\n",
        "        \n",
        "        if i % 300 == 0:\n",
        "            print(\n",
        "              \"[Epoch %d/%d] [Batch %d/%d] [D loss: %f] [G loss: %f]\"\n",
        "              % (epoch, epochs, i, len(train_loader), d_loss.item(), g_loss.item()))\n",
        "\n",
        "    if epoch % 5 == 0:\n",
        "        save_image(gen_imgs.view(gen_imgs.size(0), 1, 28, 28), os.path.join(sample_dir, \"%d.png\" % epoch), nrow=5, normalize=True)\n",
        "\n",
        "torch.save(G, os.path.join(ROOT, 'G.pt'))\n",
        "torch.save(D, os.path.join(ROOT, 'D.pt'))"
      ],
      "metadata": {
        "colab": {
          "base_uri": "https://localhost:8080/"
        },
        "id": "PA-W-h6_a7e0",
        "outputId": "72486d8e-f4ab-48cd-db75-257d9de6448e"
      },
      "execution_count": 12,
      "outputs": [
        {
          "output_type": "stream",
          "name": "stdout",
          "text": [
            "[Epoch 0/10] [Batch 0/600] [D loss: -0.153771] [G loss: -0.631532]\n",
            "[Epoch 0/10] [Batch 300/600] [D loss: -0.096066] [G loss: -0.551065]\n",
            "[Epoch 1/10] [Batch 0/600] [D loss: -0.121941] [G loss: -0.538679]\n",
            "[Epoch 1/10] [Batch 300/600] [D loss: -0.104674] [G loss: -0.584170]\n",
            "[Epoch 2/10] [Batch 0/600] [D loss: -0.111784] [G loss: -0.543622]\n",
            "[Epoch 2/10] [Batch 300/600] [D loss: -0.120481] [G loss: -0.527036]\n",
            "[Epoch 3/10] [Batch 0/600] [D loss: -0.115249] [G loss: -0.522208]\n",
            "[Epoch 3/10] [Batch 300/600] [D loss: -0.107524] [G loss: -0.560405]\n",
            "[Epoch 4/10] [Batch 0/600] [D loss: -0.107915] [G loss: -0.534284]\n",
            "[Epoch 4/10] [Batch 300/600] [D loss: -0.115102] [G loss: -0.545641]\n",
            "[Epoch 5/10] [Batch 0/600] [D loss: -0.088784] [G loss: -0.571368]\n",
            "[Epoch 5/10] [Batch 300/600] [D loss: -0.091234] [G loss: -0.560204]\n",
            "[Epoch 6/10] [Batch 0/600] [D loss: -0.097422] [G loss: -0.543354]\n",
            "[Epoch 6/10] [Batch 300/600] [D loss: -0.094129] [G loss: -0.538171]\n",
            "[Epoch 7/10] [Batch 0/600] [D loss: -0.098255] [G loss: -0.539301]\n",
            "[Epoch 7/10] [Batch 300/600] [D loss: -0.095241] [G loss: -0.544867]\n",
            "[Epoch 8/10] [Batch 0/600] [D loss: -0.094126] [G loss: -0.549761]\n",
            "[Epoch 8/10] [Batch 300/600] [D loss: -0.093773] [G loss: -0.558374]\n",
            "[Epoch 9/10] [Batch 0/600] [D loss: -0.105236] [G loss: -0.530283]\n",
            "[Epoch 9/10] [Batch 300/600] [D loss: -0.085165] [G loss: -0.534353]\n"
          ]
        }
      ]
    }
  ]
}