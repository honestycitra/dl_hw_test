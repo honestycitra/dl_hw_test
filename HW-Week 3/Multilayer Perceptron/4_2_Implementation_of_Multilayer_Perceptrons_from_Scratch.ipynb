{
  "nbformat": 4,
  "nbformat_minor": 0,
  "metadata": {
    "colab": {
      "name": "4.2.  Implementation of Multilayer Perceptrons from Scratch.ipynb",
      "provenance": []
    },
    "kernelspec": {
      "name": "python3",
      "display_name": "Python 3"
    },
    "language_info": {
      "name": "python"
    },
    "widgets": {
      "application/vnd.jupyter.widget-state+json": {
        "05b5e2a5edfe4b019b3b5a066fa43531": {
          "model_module": "@jupyter-widgets/controls",
          "model_name": "HBoxModel",
          "model_module_version": "1.5.0",
          "state": {
            "_dom_classes": [],
            "_model_module": "@jupyter-widgets/controls",
            "_model_module_version": "1.5.0",
            "_model_name": "HBoxModel",
            "_view_count": null,
            "_view_module": "@jupyter-widgets/controls",
            "_view_module_version": "1.5.0",
            "_view_name": "HBoxView",
            "box_style": "",
            "children": [
              "IPY_MODEL_977e6b37c47d4b28a301856f338ff906",
              "IPY_MODEL_61e441461c28466ca3224dd0a8d8e2f7",
              "IPY_MODEL_a1d4257f5b5740d5a76c84a2c384c665"
            ],
            "layout": "IPY_MODEL_e08ba0bce00b433b8b3aebe99d05cdf2"
          }
        },
        "977e6b37c47d4b28a301856f338ff906": {
          "model_module": "@jupyter-widgets/controls",
          "model_name": "HTMLModel",
          "model_module_version": "1.5.0",
          "state": {
            "_dom_classes": [],
            "_model_module": "@jupyter-widgets/controls",
            "_model_module_version": "1.5.0",
            "_model_name": "HTMLModel",
            "_view_count": null,
            "_view_module": "@jupyter-widgets/controls",
            "_view_module_version": "1.5.0",
            "_view_name": "HTMLView",
            "description": "",
            "description_tooltip": null,
            "layout": "IPY_MODEL_9efd644f9ab448c59896ee4d6fb71e44",
            "placeholder": "​",
            "style": "IPY_MODEL_6c8f9b737af64349b86da9fca709fd19",
            "value": ""
          }
        },
        "61e441461c28466ca3224dd0a8d8e2f7": {
          "model_module": "@jupyter-widgets/controls",
          "model_name": "FloatProgressModel",
          "model_module_version": "1.5.0",
          "state": {
            "_dom_classes": [],
            "_model_module": "@jupyter-widgets/controls",
            "_model_module_version": "1.5.0",
            "_model_name": "FloatProgressModel",
            "_view_count": null,
            "_view_module": "@jupyter-widgets/controls",
            "_view_module_version": "1.5.0",
            "_view_name": "ProgressView",
            "bar_style": "success",
            "description": "",
            "description_tooltip": null,
            "layout": "IPY_MODEL_6eb202b364ae437ba70b8da928bb7438",
            "max": 26421880,
            "min": 0,
            "orientation": "horizontal",
            "style": "IPY_MODEL_da4cb09acf4c4fa59742145df05860e0",
            "value": 26421880
          }
        },
        "a1d4257f5b5740d5a76c84a2c384c665": {
          "model_module": "@jupyter-widgets/controls",
          "model_name": "HTMLModel",
          "model_module_version": "1.5.0",
          "state": {
            "_dom_classes": [],
            "_model_module": "@jupyter-widgets/controls",
            "_model_module_version": "1.5.0",
            "_model_name": "HTMLModel",
            "_view_count": null,
            "_view_module": "@jupyter-widgets/controls",
            "_view_module_version": "1.5.0",
            "_view_name": "HTMLView",
            "description": "",
            "description_tooltip": null,
            "layout": "IPY_MODEL_93d61551182947bda5d3dc2c5d09a7da",
            "placeholder": "​",
            "style": "IPY_MODEL_2540efb1d929460f8a39cc7ce0bf96bb",
            "value": " 26422272/? [00:01&lt;00:00, 25822379.96it/s]"
          }
        },
        "e08ba0bce00b433b8b3aebe99d05cdf2": {
          "model_module": "@jupyter-widgets/base",
          "model_name": "LayoutModel",
          "model_module_version": "1.2.0",
          "state": {
            "_model_module": "@jupyter-widgets/base",
            "_model_module_version": "1.2.0",
            "_model_name": "LayoutModel",
            "_view_count": null,
            "_view_module": "@jupyter-widgets/base",
            "_view_module_version": "1.2.0",
            "_view_name": "LayoutView",
            "align_content": null,
            "align_items": null,
            "align_self": null,
            "border": null,
            "bottom": null,
            "display": null,
            "flex": null,
            "flex_flow": null,
            "grid_area": null,
            "grid_auto_columns": null,
            "grid_auto_flow": null,
            "grid_auto_rows": null,
            "grid_column": null,
            "grid_gap": null,
            "grid_row": null,
            "grid_template_areas": null,
            "grid_template_columns": null,
            "grid_template_rows": null,
            "height": null,
            "justify_content": null,
            "justify_items": null,
            "left": null,
            "margin": null,
            "max_height": null,
            "max_width": null,
            "min_height": null,
            "min_width": null,
            "object_fit": null,
            "object_position": null,
            "order": null,
            "overflow": null,
            "overflow_x": null,
            "overflow_y": null,
            "padding": null,
            "right": null,
            "top": null,
            "visibility": null,
            "width": null
          }
        },
        "9efd644f9ab448c59896ee4d6fb71e44": {
          "model_module": "@jupyter-widgets/base",
          "model_name": "LayoutModel",
          "model_module_version": "1.2.0",
          "state": {
            "_model_module": "@jupyter-widgets/base",
            "_model_module_version": "1.2.0",
            "_model_name": "LayoutModel",
            "_view_count": null,
            "_view_module": "@jupyter-widgets/base",
            "_view_module_version": "1.2.0",
            "_view_name": "LayoutView",
            "align_content": null,
            "align_items": null,
            "align_self": null,
            "border": null,
            "bottom": null,
            "display": null,
            "flex": null,
            "flex_flow": null,
            "grid_area": null,
            "grid_auto_columns": null,
            "grid_auto_flow": null,
            "grid_auto_rows": null,
            "grid_column": null,
            "grid_gap": null,
            "grid_row": null,
            "grid_template_areas": null,
            "grid_template_columns": null,
            "grid_template_rows": null,
            "height": null,
            "justify_content": null,
            "justify_items": null,
            "left": null,
            "margin": null,
            "max_height": null,
            "max_width": null,
            "min_height": null,
            "min_width": null,
            "object_fit": null,
            "object_position": null,
            "order": null,
            "overflow": null,
            "overflow_x": null,
            "overflow_y": null,
            "padding": null,
            "right": null,
            "top": null,
            "visibility": null,
            "width": null
          }
        },
        "6c8f9b737af64349b86da9fca709fd19": {
          "model_module": "@jupyter-widgets/controls",
          "model_name": "DescriptionStyleModel",
          "model_module_version": "1.5.0",
          "state": {
            "_model_module": "@jupyter-widgets/controls",
            "_model_module_version": "1.5.0",
            "_model_name": "DescriptionStyleModel",
            "_view_count": null,
            "_view_module": "@jupyter-widgets/base",
            "_view_module_version": "1.2.0",
            "_view_name": "StyleView",
            "description_width": ""
          }
        },
        "6eb202b364ae437ba70b8da928bb7438": {
          "model_module": "@jupyter-widgets/base",
          "model_name": "LayoutModel",
          "model_module_version": "1.2.0",
          "state": {
            "_model_module": "@jupyter-widgets/base",
            "_model_module_version": "1.2.0",
            "_model_name": "LayoutModel",
            "_view_count": null,
            "_view_module": "@jupyter-widgets/base",
            "_view_module_version": "1.2.0",
            "_view_name": "LayoutView",
            "align_content": null,
            "align_items": null,
            "align_self": null,
            "border": null,
            "bottom": null,
            "display": null,
            "flex": null,
            "flex_flow": null,
            "grid_area": null,
            "grid_auto_columns": null,
            "grid_auto_flow": null,
            "grid_auto_rows": null,
            "grid_column": null,
            "grid_gap": null,
            "grid_row": null,
            "grid_template_areas": null,
            "grid_template_columns": null,
            "grid_template_rows": null,
            "height": null,
            "justify_content": null,
            "justify_items": null,
            "left": null,
            "margin": null,
            "max_height": null,
            "max_width": null,
            "min_height": null,
            "min_width": null,
            "object_fit": null,
            "object_position": null,
            "order": null,
            "overflow": null,
            "overflow_x": null,
            "overflow_y": null,
            "padding": null,
            "right": null,
            "top": null,
            "visibility": null,
            "width": null
          }
        },
        "da4cb09acf4c4fa59742145df05860e0": {
          "model_module": "@jupyter-widgets/controls",
          "model_name": "ProgressStyleModel",
          "model_module_version": "1.5.0",
          "state": {
            "_model_module": "@jupyter-widgets/controls",
            "_model_module_version": "1.5.0",
            "_model_name": "ProgressStyleModel",
            "_view_count": null,
            "_view_module": "@jupyter-widgets/base",
            "_view_module_version": "1.2.0",
            "_view_name": "StyleView",
            "bar_color": null,
            "description_width": ""
          }
        },
        "93d61551182947bda5d3dc2c5d09a7da": {
          "model_module": "@jupyter-widgets/base",
          "model_name": "LayoutModel",
          "model_module_version": "1.2.0",
          "state": {
            "_model_module": "@jupyter-widgets/base",
            "_model_module_version": "1.2.0",
            "_model_name": "LayoutModel",
            "_view_count": null,
            "_view_module": "@jupyter-widgets/base",
            "_view_module_version": "1.2.0",
            "_view_name": "LayoutView",
            "align_content": null,
            "align_items": null,
            "align_self": null,
            "border": null,
            "bottom": null,
            "display": null,
            "flex": null,
            "flex_flow": null,
            "grid_area": null,
            "grid_auto_columns": null,
            "grid_auto_flow": null,
            "grid_auto_rows": null,
            "grid_column": null,
            "grid_gap": null,
            "grid_row": null,
            "grid_template_areas": null,
            "grid_template_columns": null,
            "grid_template_rows": null,
            "height": null,
            "justify_content": null,
            "justify_items": null,
            "left": null,
            "margin": null,
            "max_height": null,
            "max_width": null,
            "min_height": null,
            "min_width": null,
            "object_fit": null,
            "object_position": null,
            "order": null,
            "overflow": null,
            "overflow_x": null,
            "overflow_y": null,
            "padding": null,
            "right": null,
            "top": null,
            "visibility": null,
            "width": null
          }
        },
        "2540efb1d929460f8a39cc7ce0bf96bb": {
          "model_module": "@jupyter-widgets/controls",
          "model_name": "DescriptionStyleModel",
          "model_module_version": "1.5.0",
          "state": {
            "_model_module": "@jupyter-widgets/controls",
            "_model_module_version": "1.5.0",
            "_model_name": "DescriptionStyleModel",
            "_view_count": null,
            "_view_module": "@jupyter-widgets/base",
            "_view_module_version": "1.2.0",
            "_view_name": "StyleView",
            "description_width": ""
          }
        },
        "0bec152e078c4088bf14352e5e1aedea": {
          "model_module": "@jupyter-widgets/controls",
          "model_name": "HBoxModel",
          "model_module_version": "1.5.0",
          "state": {
            "_dom_classes": [],
            "_model_module": "@jupyter-widgets/controls",
            "_model_module_version": "1.5.0",
            "_model_name": "HBoxModel",
            "_view_count": null,
            "_view_module": "@jupyter-widgets/controls",
            "_view_module_version": "1.5.0",
            "_view_name": "HBoxView",
            "box_style": "",
            "children": [
              "IPY_MODEL_aface084b702406a96ad13aab6abf92c",
              "IPY_MODEL_f201a3d055bc4274b8a587d1ec7399a0",
              "IPY_MODEL_ace96f3ed9144a51a983a7ebad2bc6d3"
            ],
            "layout": "IPY_MODEL_693e99c27c3e42619ce28d0c683eb201"
          }
        },
        "aface084b702406a96ad13aab6abf92c": {
          "model_module": "@jupyter-widgets/controls",
          "model_name": "HTMLModel",
          "model_module_version": "1.5.0",
          "state": {
            "_dom_classes": [],
            "_model_module": "@jupyter-widgets/controls",
            "_model_module_version": "1.5.0",
            "_model_name": "HTMLModel",
            "_view_count": null,
            "_view_module": "@jupyter-widgets/controls",
            "_view_module_version": "1.5.0",
            "_view_name": "HTMLView",
            "description": "",
            "description_tooltip": null,
            "layout": "IPY_MODEL_070390667ea941aa897c57dfc8426299",
            "placeholder": "​",
            "style": "IPY_MODEL_d937914473b543b798f1ef1b224010be",
            "value": ""
          }
        },
        "f201a3d055bc4274b8a587d1ec7399a0": {
          "model_module": "@jupyter-widgets/controls",
          "model_name": "FloatProgressModel",
          "model_module_version": "1.5.0",
          "state": {
            "_dom_classes": [],
            "_model_module": "@jupyter-widgets/controls",
            "_model_module_version": "1.5.0",
            "_model_name": "FloatProgressModel",
            "_view_count": null,
            "_view_module": "@jupyter-widgets/controls",
            "_view_module_version": "1.5.0",
            "_view_name": "ProgressView",
            "bar_style": "success",
            "description": "",
            "description_tooltip": null,
            "layout": "IPY_MODEL_66834a4edefc4c298e1e2245f2c3fe17",
            "max": 29515,
            "min": 0,
            "orientation": "horizontal",
            "style": "IPY_MODEL_124f5561eaf948c3af7afa06a77b2df5",
            "value": 29515
          }
        },
        "ace96f3ed9144a51a983a7ebad2bc6d3": {
          "model_module": "@jupyter-widgets/controls",
          "model_name": "HTMLModel",
          "model_module_version": "1.5.0",
          "state": {
            "_dom_classes": [],
            "_model_module": "@jupyter-widgets/controls",
            "_model_module_version": "1.5.0",
            "_model_name": "HTMLModel",
            "_view_count": null,
            "_view_module": "@jupyter-widgets/controls",
            "_view_module_version": "1.5.0",
            "_view_name": "HTMLView",
            "description": "",
            "description_tooltip": null,
            "layout": "IPY_MODEL_ae2962e5a16140dcab9bbe4c4c525d73",
            "placeholder": "​",
            "style": "IPY_MODEL_d61751e41cda4d77b99d36ab3c5617e9",
            "value": " 29696/? [00:00&lt;00:00, 336524.34it/s]"
          }
        },
        "693e99c27c3e42619ce28d0c683eb201": {
          "model_module": "@jupyter-widgets/base",
          "model_name": "LayoutModel",
          "model_module_version": "1.2.0",
          "state": {
            "_model_module": "@jupyter-widgets/base",
            "_model_module_version": "1.2.0",
            "_model_name": "LayoutModel",
            "_view_count": null,
            "_view_module": "@jupyter-widgets/base",
            "_view_module_version": "1.2.0",
            "_view_name": "LayoutView",
            "align_content": null,
            "align_items": null,
            "align_self": null,
            "border": null,
            "bottom": null,
            "display": null,
            "flex": null,
            "flex_flow": null,
            "grid_area": null,
            "grid_auto_columns": null,
            "grid_auto_flow": null,
            "grid_auto_rows": null,
            "grid_column": null,
            "grid_gap": null,
            "grid_row": null,
            "grid_template_areas": null,
            "grid_template_columns": null,
            "grid_template_rows": null,
            "height": null,
            "justify_content": null,
            "justify_items": null,
            "left": null,
            "margin": null,
            "max_height": null,
            "max_width": null,
            "min_height": null,
            "min_width": null,
            "object_fit": null,
            "object_position": null,
            "order": null,
            "overflow": null,
            "overflow_x": null,
            "overflow_y": null,
            "padding": null,
            "right": null,
            "top": null,
            "visibility": null,
            "width": null
          }
        },
        "070390667ea941aa897c57dfc8426299": {
          "model_module": "@jupyter-widgets/base",
          "model_name": "LayoutModel",
          "model_module_version": "1.2.0",
          "state": {
            "_model_module": "@jupyter-widgets/base",
            "_model_module_version": "1.2.0",
            "_model_name": "LayoutModel",
            "_view_count": null,
            "_view_module": "@jupyter-widgets/base",
            "_view_module_version": "1.2.0",
            "_view_name": "LayoutView",
            "align_content": null,
            "align_items": null,
            "align_self": null,
            "border": null,
            "bottom": null,
            "display": null,
            "flex": null,
            "flex_flow": null,
            "grid_area": null,
            "grid_auto_columns": null,
            "grid_auto_flow": null,
            "grid_auto_rows": null,
            "grid_column": null,
            "grid_gap": null,
            "grid_row": null,
            "grid_template_areas": null,
            "grid_template_columns": null,
            "grid_template_rows": null,
            "height": null,
            "justify_content": null,
            "justify_items": null,
            "left": null,
            "margin": null,
            "max_height": null,
            "max_width": null,
            "min_height": null,
            "min_width": null,
            "object_fit": null,
            "object_position": null,
            "order": null,
            "overflow": null,
            "overflow_x": null,
            "overflow_y": null,
            "padding": null,
            "right": null,
            "top": null,
            "visibility": null,
            "width": null
          }
        },
        "d937914473b543b798f1ef1b224010be": {
          "model_module": "@jupyter-widgets/controls",
          "model_name": "DescriptionStyleModel",
          "model_module_version": "1.5.0",
          "state": {
            "_model_module": "@jupyter-widgets/controls",
            "_model_module_version": "1.5.0",
            "_model_name": "DescriptionStyleModel",
            "_view_count": null,
            "_view_module": "@jupyter-widgets/base",
            "_view_module_version": "1.2.0",
            "_view_name": "StyleView",
            "description_width": ""
          }
        },
        "66834a4edefc4c298e1e2245f2c3fe17": {
          "model_module": "@jupyter-widgets/base",
          "model_name": "LayoutModel",
          "model_module_version": "1.2.0",
          "state": {
            "_model_module": "@jupyter-widgets/base",
            "_model_module_version": "1.2.0",
            "_model_name": "LayoutModel",
            "_view_count": null,
            "_view_module": "@jupyter-widgets/base",
            "_view_module_version": "1.2.0",
            "_view_name": "LayoutView",
            "align_content": null,
            "align_items": null,
            "align_self": null,
            "border": null,
            "bottom": null,
            "display": null,
            "flex": null,
            "flex_flow": null,
            "grid_area": null,
            "grid_auto_columns": null,
            "grid_auto_flow": null,
            "grid_auto_rows": null,
            "grid_column": null,
            "grid_gap": null,
            "grid_row": null,
            "grid_template_areas": null,
            "grid_template_columns": null,
            "grid_template_rows": null,
            "height": null,
            "justify_content": null,
            "justify_items": null,
            "left": null,
            "margin": null,
            "max_height": null,
            "max_width": null,
            "min_height": null,
            "min_width": null,
            "object_fit": null,
            "object_position": null,
            "order": null,
            "overflow": null,
            "overflow_x": null,
            "overflow_y": null,
            "padding": null,
            "right": null,
            "top": null,
            "visibility": null,
            "width": null
          }
        },
        "124f5561eaf948c3af7afa06a77b2df5": {
          "model_module": "@jupyter-widgets/controls",
          "model_name": "ProgressStyleModel",
          "model_module_version": "1.5.0",
          "state": {
            "_model_module": "@jupyter-widgets/controls",
            "_model_module_version": "1.5.0",
            "_model_name": "ProgressStyleModel",
            "_view_count": null,
            "_view_module": "@jupyter-widgets/base",
            "_view_module_version": "1.2.0",
            "_view_name": "StyleView",
            "bar_color": null,
            "description_width": ""
          }
        },
        "ae2962e5a16140dcab9bbe4c4c525d73": {
          "model_module": "@jupyter-widgets/base",
          "model_name": "LayoutModel",
          "model_module_version": "1.2.0",
          "state": {
            "_model_module": "@jupyter-widgets/base",
            "_model_module_version": "1.2.0",
            "_model_name": "LayoutModel",
            "_view_count": null,
            "_view_module": "@jupyter-widgets/base",
            "_view_module_version": "1.2.0",
            "_view_name": "LayoutView",
            "align_content": null,
            "align_items": null,
            "align_self": null,
            "border": null,
            "bottom": null,
            "display": null,
            "flex": null,
            "flex_flow": null,
            "grid_area": null,
            "grid_auto_columns": null,
            "grid_auto_flow": null,
            "grid_auto_rows": null,
            "grid_column": null,
            "grid_gap": null,
            "grid_row": null,
            "grid_template_areas": null,
            "grid_template_columns": null,
            "grid_template_rows": null,
            "height": null,
            "justify_content": null,
            "justify_items": null,
            "left": null,
            "margin": null,
            "max_height": null,
            "max_width": null,
            "min_height": null,
            "min_width": null,
            "object_fit": null,
            "object_position": null,
            "order": null,
            "overflow": null,
            "overflow_x": null,
            "overflow_y": null,
            "padding": null,
            "right": null,
            "top": null,
            "visibility": null,
            "width": null
          }
        },
        "d61751e41cda4d77b99d36ab3c5617e9": {
          "model_module": "@jupyter-widgets/controls",
          "model_name": "DescriptionStyleModel",
          "model_module_version": "1.5.0",
          "state": {
            "_model_module": "@jupyter-widgets/controls",
            "_model_module_version": "1.5.0",
            "_model_name": "DescriptionStyleModel",
            "_view_count": null,
            "_view_module": "@jupyter-widgets/base",
            "_view_module_version": "1.2.0",
            "_view_name": "StyleView",
            "description_width": ""
          }
        },
        "e6dfa99e3bc645c58fda7cde7eaaaac4": {
          "model_module": "@jupyter-widgets/controls",
          "model_name": "HBoxModel",
          "model_module_version": "1.5.0",
          "state": {
            "_dom_classes": [],
            "_model_module": "@jupyter-widgets/controls",
            "_model_module_version": "1.5.0",
            "_model_name": "HBoxModel",
            "_view_count": null,
            "_view_module": "@jupyter-widgets/controls",
            "_view_module_version": "1.5.0",
            "_view_name": "HBoxView",
            "box_style": "",
            "children": [
              "IPY_MODEL_9eaba6b16b234def85ddeed70b9ec014",
              "IPY_MODEL_435f5061681c4068947921ac8e111bdf",
              "IPY_MODEL_c8cb752c80f744728b52baac8b66836b"
            ],
            "layout": "IPY_MODEL_154eabf1b815496ea2bc24ae1a5dfcdc"
          }
        },
        "9eaba6b16b234def85ddeed70b9ec014": {
          "model_module": "@jupyter-widgets/controls",
          "model_name": "HTMLModel",
          "model_module_version": "1.5.0",
          "state": {
            "_dom_classes": [],
            "_model_module": "@jupyter-widgets/controls",
            "_model_module_version": "1.5.0",
            "_model_name": "HTMLModel",
            "_view_count": null,
            "_view_module": "@jupyter-widgets/controls",
            "_view_module_version": "1.5.0",
            "_view_name": "HTMLView",
            "description": "",
            "description_tooltip": null,
            "layout": "IPY_MODEL_dd10edcbaf5145dcb08eef9ca90b24af",
            "placeholder": "​",
            "style": "IPY_MODEL_140173af99c54354824a31cf15765fb4",
            "value": ""
          }
        },
        "435f5061681c4068947921ac8e111bdf": {
          "model_module": "@jupyter-widgets/controls",
          "model_name": "FloatProgressModel",
          "model_module_version": "1.5.0",
          "state": {
            "_dom_classes": [],
            "_model_module": "@jupyter-widgets/controls",
            "_model_module_version": "1.5.0",
            "_model_name": "FloatProgressModel",
            "_view_count": null,
            "_view_module": "@jupyter-widgets/controls",
            "_view_module_version": "1.5.0",
            "_view_name": "ProgressView",
            "bar_style": "success",
            "description": "",
            "description_tooltip": null,
            "layout": "IPY_MODEL_1bf3a6d47f884b4f8c1f7cf370e70d2a",
            "max": 4422102,
            "min": 0,
            "orientation": "horizontal",
            "style": "IPY_MODEL_f878f46527fd4a3ab2ea3b36cadf6b9c",
            "value": 4422102
          }
        },
        "c8cb752c80f744728b52baac8b66836b": {
          "model_module": "@jupyter-widgets/controls",
          "model_name": "HTMLModel",
          "model_module_version": "1.5.0",
          "state": {
            "_dom_classes": [],
            "_model_module": "@jupyter-widgets/controls",
            "_model_module_version": "1.5.0",
            "_model_name": "HTMLModel",
            "_view_count": null,
            "_view_module": "@jupyter-widgets/controls",
            "_view_module_version": "1.5.0",
            "_view_name": "HTMLView",
            "description": "",
            "description_tooltip": null,
            "layout": "IPY_MODEL_65f6a0d632b3447b8c1195df079933a1",
            "placeholder": "​",
            "style": "IPY_MODEL_e65e0e664f8949aa95c1fd69cb1f184a",
            "value": " 4422656/? [00:00&lt;00:00, 9000148.23it/s]"
          }
        },
        "154eabf1b815496ea2bc24ae1a5dfcdc": {
          "model_module": "@jupyter-widgets/base",
          "model_name": "LayoutModel",
          "model_module_version": "1.2.0",
          "state": {
            "_model_module": "@jupyter-widgets/base",
            "_model_module_version": "1.2.0",
            "_model_name": "LayoutModel",
            "_view_count": null,
            "_view_module": "@jupyter-widgets/base",
            "_view_module_version": "1.2.0",
            "_view_name": "LayoutView",
            "align_content": null,
            "align_items": null,
            "align_self": null,
            "border": null,
            "bottom": null,
            "display": null,
            "flex": null,
            "flex_flow": null,
            "grid_area": null,
            "grid_auto_columns": null,
            "grid_auto_flow": null,
            "grid_auto_rows": null,
            "grid_column": null,
            "grid_gap": null,
            "grid_row": null,
            "grid_template_areas": null,
            "grid_template_columns": null,
            "grid_template_rows": null,
            "height": null,
            "justify_content": null,
            "justify_items": null,
            "left": null,
            "margin": null,
            "max_height": null,
            "max_width": null,
            "min_height": null,
            "min_width": null,
            "object_fit": null,
            "object_position": null,
            "order": null,
            "overflow": null,
            "overflow_x": null,
            "overflow_y": null,
            "padding": null,
            "right": null,
            "top": null,
            "visibility": null,
            "width": null
          }
        },
        "dd10edcbaf5145dcb08eef9ca90b24af": {
          "model_module": "@jupyter-widgets/base",
          "model_name": "LayoutModel",
          "model_module_version": "1.2.0",
          "state": {
            "_model_module": "@jupyter-widgets/base",
            "_model_module_version": "1.2.0",
            "_model_name": "LayoutModel",
            "_view_count": null,
            "_view_module": "@jupyter-widgets/base",
            "_view_module_version": "1.2.0",
            "_view_name": "LayoutView",
            "align_content": null,
            "align_items": null,
            "align_self": null,
            "border": null,
            "bottom": null,
            "display": null,
            "flex": null,
            "flex_flow": null,
            "grid_area": null,
            "grid_auto_columns": null,
            "grid_auto_flow": null,
            "grid_auto_rows": null,
            "grid_column": null,
            "grid_gap": null,
            "grid_row": null,
            "grid_template_areas": null,
            "grid_template_columns": null,
            "grid_template_rows": null,
            "height": null,
            "justify_content": null,
            "justify_items": null,
            "left": null,
            "margin": null,
            "max_height": null,
            "max_width": null,
            "min_height": null,
            "min_width": null,
            "object_fit": null,
            "object_position": null,
            "order": null,
            "overflow": null,
            "overflow_x": null,
            "overflow_y": null,
            "padding": null,
            "right": null,
            "top": null,
            "visibility": null,
            "width": null
          }
        },
        "140173af99c54354824a31cf15765fb4": {
          "model_module": "@jupyter-widgets/controls",
          "model_name": "DescriptionStyleModel",
          "model_module_version": "1.5.0",
          "state": {
            "_model_module": "@jupyter-widgets/controls",
            "_model_module_version": "1.5.0",
            "_model_name": "DescriptionStyleModel",
            "_view_count": null,
            "_view_module": "@jupyter-widgets/base",
            "_view_module_version": "1.2.0",
            "_view_name": "StyleView",
            "description_width": ""
          }
        },
        "1bf3a6d47f884b4f8c1f7cf370e70d2a": {
          "model_module": "@jupyter-widgets/base",
          "model_name": "LayoutModel",
          "model_module_version": "1.2.0",
          "state": {
            "_model_module": "@jupyter-widgets/base",
            "_model_module_version": "1.2.0",
            "_model_name": "LayoutModel",
            "_view_count": null,
            "_view_module": "@jupyter-widgets/base",
            "_view_module_version": "1.2.0",
            "_view_name": "LayoutView",
            "align_content": null,
            "align_items": null,
            "align_self": null,
            "border": null,
            "bottom": null,
            "display": null,
            "flex": null,
            "flex_flow": null,
            "grid_area": null,
            "grid_auto_columns": null,
            "grid_auto_flow": null,
            "grid_auto_rows": null,
            "grid_column": null,
            "grid_gap": null,
            "grid_row": null,
            "grid_template_areas": null,
            "grid_template_columns": null,
            "grid_template_rows": null,
            "height": null,
            "justify_content": null,
            "justify_items": null,
            "left": null,
            "margin": null,
            "max_height": null,
            "max_width": null,
            "min_height": null,
            "min_width": null,
            "object_fit": null,
            "object_position": null,
            "order": null,
            "overflow": null,
            "overflow_x": null,
            "overflow_y": null,
            "padding": null,
            "right": null,
            "top": null,
            "visibility": null,
            "width": null
          }
        },
        "f878f46527fd4a3ab2ea3b36cadf6b9c": {
          "model_module": "@jupyter-widgets/controls",
          "model_name": "ProgressStyleModel",
          "model_module_version": "1.5.0",
          "state": {
            "_model_module": "@jupyter-widgets/controls",
            "_model_module_version": "1.5.0",
            "_model_name": "ProgressStyleModel",
            "_view_count": null,
            "_view_module": "@jupyter-widgets/base",
            "_view_module_version": "1.2.0",
            "_view_name": "StyleView",
            "bar_color": null,
            "description_width": ""
          }
        },
        "65f6a0d632b3447b8c1195df079933a1": {
          "model_module": "@jupyter-widgets/base",
          "model_name": "LayoutModel",
          "model_module_version": "1.2.0",
          "state": {
            "_model_module": "@jupyter-widgets/base",
            "_model_module_version": "1.2.0",
            "_model_name": "LayoutModel",
            "_view_count": null,
            "_view_module": "@jupyter-widgets/base",
            "_view_module_version": "1.2.0",
            "_view_name": "LayoutView",
            "align_content": null,
            "align_items": null,
            "align_self": null,
            "border": null,
            "bottom": null,
            "display": null,
            "flex": null,
            "flex_flow": null,
            "grid_area": null,
            "grid_auto_columns": null,
            "grid_auto_flow": null,
            "grid_auto_rows": null,
            "grid_column": null,
            "grid_gap": null,
            "grid_row": null,
            "grid_template_areas": null,
            "grid_template_columns": null,
            "grid_template_rows": null,
            "height": null,
            "justify_content": null,
            "justify_items": null,
            "left": null,
            "margin": null,
            "max_height": null,
            "max_width": null,
            "min_height": null,
            "min_width": null,
            "object_fit": null,
            "object_position": null,
            "order": null,
            "overflow": null,
            "overflow_x": null,
            "overflow_y": null,
            "padding": null,
            "right": null,
            "top": null,
            "visibility": null,
            "width": null
          }
        },
        "e65e0e664f8949aa95c1fd69cb1f184a": {
          "model_module": "@jupyter-widgets/controls",
          "model_name": "DescriptionStyleModel",
          "model_module_version": "1.5.0",
          "state": {
            "_model_module": "@jupyter-widgets/controls",
            "_model_module_version": "1.5.0",
            "_model_name": "DescriptionStyleModel",
            "_view_count": null,
            "_view_module": "@jupyter-widgets/base",
            "_view_module_version": "1.2.0",
            "_view_name": "StyleView",
            "description_width": ""
          }
        },
        "0cb4ad9f3009438c92e7846a9db7886b": {
          "model_module": "@jupyter-widgets/controls",
          "model_name": "HBoxModel",
          "model_module_version": "1.5.0",
          "state": {
            "_dom_classes": [],
            "_model_module": "@jupyter-widgets/controls",
            "_model_module_version": "1.5.0",
            "_model_name": "HBoxModel",
            "_view_count": null,
            "_view_module": "@jupyter-widgets/controls",
            "_view_module_version": "1.5.0",
            "_view_name": "HBoxView",
            "box_style": "",
            "children": [
              "IPY_MODEL_a15d7303a8e94afdb922822208c0525f",
              "IPY_MODEL_29ae1b2c4a034c59b9b496c59e6afd60",
              "IPY_MODEL_e6346d0271494a39be5222456ec63538"
            ],
            "layout": "IPY_MODEL_2311d67098564931b701aa5fbba75f46"
          }
        },
        "a15d7303a8e94afdb922822208c0525f": {
          "model_module": "@jupyter-widgets/controls",
          "model_name": "HTMLModel",
          "model_module_version": "1.5.0",
          "state": {
            "_dom_classes": [],
            "_model_module": "@jupyter-widgets/controls",
            "_model_module_version": "1.5.0",
            "_model_name": "HTMLModel",
            "_view_count": null,
            "_view_module": "@jupyter-widgets/controls",
            "_view_module_version": "1.5.0",
            "_view_name": "HTMLView",
            "description": "",
            "description_tooltip": null,
            "layout": "IPY_MODEL_78b98d219bf54a9fbca7f3249eed8f6f",
            "placeholder": "​",
            "style": "IPY_MODEL_4d9a9591e1d84b94922d6341b4223eab",
            "value": ""
          }
        },
        "29ae1b2c4a034c59b9b496c59e6afd60": {
          "model_module": "@jupyter-widgets/controls",
          "model_name": "FloatProgressModel",
          "model_module_version": "1.5.0",
          "state": {
            "_dom_classes": [],
            "_model_module": "@jupyter-widgets/controls",
            "_model_module_version": "1.5.0",
            "_model_name": "FloatProgressModel",
            "_view_count": null,
            "_view_module": "@jupyter-widgets/controls",
            "_view_module_version": "1.5.0",
            "_view_name": "ProgressView",
            "bar_style": "success",
            "description": "",
            "description_tooltip": null,
            "layout": "IPY_MODEL_441ef526632c4b62822ae8f8307346f9",
            "max": 5148,
            "min": 0,
            "orientation": "horizontal",
            "style": "IPY_MODEL_8678abc9341c47fba2693f71a4438f9f",
            "value": 5148
          }
        },
        "e6346d0271494a39be5222456ec63538": {
          "model_module": "@jupyter-widgets/controls",
          "model_name": "HTMLModel",
          "model_module_version": "1.5.0",
          "state": {
            "_dom_classes": [],
            "_model_module": "@jupyter-widgets/controls",
            "_model_module_version": "1.5.0",
            "_model_name": "HTMLModel",
            "_view_count": null,
            "_view_module": "@jupyter-widgets/controls",
            "_view_module_version": "1.5.0",
            "_view_name": "HTMLView",
            "description": "",
            "description_tooltip": null,
            "layout": "IPY_MODEL_5abdb72652d94e279498f6e612e556c0",
            "placeholder": "​",
            "style": "IPY_MODEL_f281860d579140139170fd8f2fbd8ece",
            "value": " 6144/? [00:00&lt;00:00, 142907.55it/s]"
          }
        },
        "2311d67098564931b701aa5fbba75f46": {
          "model_module": "@jupyter-widgets/base",
          "model_name": "LayoutModel",
          "model_module_version": "1.2.0",
          "state": {
            "_model_module": "@jupyter-widgets/base",
            "_model_module_version": "1.2.0",
            "_model_name": "LayoutModel",
            "_view_count": null,
            "_view_module": "@jupyter-widgets/base",
            "_view_module_version": "1.2.0",
            "_view_name": "LayoutView",
            "align_content": null,
            "align_items": null,
            "align_self": null,
            "border": null,
            "bottom": null,
            "display": null,
            "flex": null,
            "flex_flow": null,
            "grid_area": null,
            "grid_auto_columns": null,
            "grid_auto_flow": null,
            "grid_auto_rows": null,
            "grid_column": null,
            "grid_gap": null,
            "grid_row": null,
            "grid_template_areas": null,
            "grid_template_columns": null,
            "grid_template_rows": null,
            "height": null,
            "justify_content": null,
            "justify_items": null,
            "left": null,
            "margin": null,
            "max_height": null,
            "max_width": null,
            "min_height": null,
            "min_width": null,
            "object_fit": null,
            "object_position": null,
            "order": null,
            "overflow": null,
            "overflow_x": null,
            "overflow_y": null,
            "padding": null,
            "right": null,
            "top": null,
            "visibility": null,
            "width": null
          }
        },
        "78b98d219bf54a9fbca7f3249eed8f6f": {
          "model_module": "@jupyter-widgets/base",
          "model_name": "LayoutModel",
          "model_module_version": "1.2.0",
          "state": {
            "_model_module": "@jupyter-widgets/base",
            "_model_module_version": "1.2.0",
            "_model_name": "LayoutModel",
            "_view_count": null,
            "_view_module": "@jupyter-widgets/base",
            "_view_module_version": "1.2.0",
            "_view_name": "LayoutView",
            "align_content": null,
            "align_items": null,
            "align_self": null,
            "border": null,
            "bottom": null,
            "display": null,
            "flex": null,
            "flex_flow": null,
            "grid_area": null,
            "grid_auto_columns": null,
            "grid_auto_flow": null,
            "grid_auto_rows": null,
            "grid_column": null,
            "grid_gap": null,
            "grid_row": null,
            "grid_template_areas": null,
            "grid_template_columns": null,
            "grid_template_rows": null,
            "height": null,
            "justify_content": null,
            "justify_items": null,
            "left": null,
            "margin": null,
            "max_height": null,
            "max_width": null,
            "min_height": null,
            "min_width": null,
            "object_fit": null,
            "object_position": null,
            "order": null,
            "overflow": null,
            "overflow_x": null,
            "overflow_y": null,
            "padding": null,
            "right": null,
            "top": null,
            "visibility": null,
            "width": null
          }
        },
        "4d9a9591e1d84b94922d6341b4223eab": {
          "model_module": "@jupyter-widgets/controls",
          "model_name": "DescriptionStyleModel",
          "model_module_version": "1.5.0",
          "state": {
            "_model_module": "@jupyter-widgets/controls",
            "_model_module_version": "1.5.0",
            "_model_name": "DescriptionStyleModel",
            "_view_count": null,
            "_view_module": "@jupyter-widgets/base",
            "_view_module_version": "1.2.0",
            "_view_name": "StyleView",
            "description_width": ""
          }
        },
        "441ef526632c4b62822ae8f8307346f9": {
          "model_module": "@jupyter-widgets/base",
          "model_name": "LayoutModel",
          "model_module_version": "1.2.0",
          "state": {
            "_model_module": "@jupyter-widgets/base",
            "_model_module_version": "1.2.0",
            "_model_name": "LayoutModel",
            "_view_count": null,
            "_view_module": "@jupyter-widgets/base",
            "_view_module_version": "1.2.0",
            "_view_name": "LayoutView",
            "align_content": null,
            "align_items": null,
            "align_self": null,
            "border": null,
            "bottom": null,
            "display": null,
            "flex": null,
            "flex_flow": null,
            "grid_area": null,
            "grid_auto_columns": null,
            "grid_auto_flow": null,
            "grid_auto_rows": null,
            "grid_column": null,
            "grid_gap": null,
            "grid_row": null,
            "grid_template_areas": null,
            "grid_template_columns": null,
            "grid_template_rows": null,
            "height": null,
            "justify_content": null,
            "justify_items": null,
            "left": null,
            "margin": null,
            "max_height": null,
            "max_width": null,
            "min_height": null,
            "min_width": null,
            "object_fit": null,
            "object_position": null,
            "order": null,
            "overflow": null,
            "overflow_x": null,
            "overflow_y": null,
            "padding": null,
            "right": null,
            "top": null,
            "visibility": null,
            "width": null
          }
        },
        "8678abc9341c47fba2693f71a4438f9f": {
          "model_module": "@jupyter-widgets/controls",
          "model_name": "ProgressStyleModel",
          "model_module_version": "1.5.0",
          "state": {
            "_model_module": "@jupyter-widgets/controls",
            "_model_module_version": "1.5.0",
            "_model_name": "ProgressStyleModel",
            "_view_count": null,
            "_view_module": "@jupyter-widgets/base",
            "_view_module_version": "1.2.0",
            "_view_name": "StyleView",
            "bar_color": null,
            "description_width": ""
          }
        },
        "5abdb72652d94e279498f6e612e556c0": {
          "model_module": "@jupyter-widgets/base",
          "model_name": "LayoutModel",
          "model_module_version": "1.2.0",
          "state": {
            "_model_module": "@jupyter-widgets/base",
            "_model_module_version": "1.2.0",
            "_model_name": "LayoutModel",
            "_view_count": null,
            "_view_module": "@jupyter-widgets/base",
            "_view_module_version": "1.2.0",
            "_view_name": "LayoutView",
            "align_content": null,
            "align_items": null,
            "align_self": null,
            "border": null,
            "bottom": null,
            "display": null,
            "flex": null,
            "flex_flow": null,
            "grid_area": null,
            "grid_auto_columns": null,
            "grid_auto_flow": null,
            "grid_auto_rows": null,
            "grid_column": null,
            "grid_gap": null,
            "grid_row": null,
            "grid_template_areas": null,
            "grid_template_columns": null,
            "grid_template_rows": null,
            "height": null,
            "justify_content": null,
            "justify_items": null,
            "left": null,
            "margin": null,
            "max_height": null,
            "max_width": null,
            "min_height": null,
            "min_width": null,
            "object_fit": null,
            "object_position": null,
            "order": null,
            "overflow": null,
            "overflow_x": null,
            "overflow_y": null,
            "padding": null,
            "right": null,
            "top": null,
            "visibility": null,
            "width": null
          }
        },
        "f281860d579140139170fd8f2fbd8ece": {
          "model_module": "@jupyter-widgets/controls",
          "model_name": "DescriptionStyleModel",
          "model_module_version": "1.5.0",
          "state": {
            "_model_module": "@jupyter-widgets/controls",
            "_model_module_version": "1.5.0",
            "_model_name": "DescriptionStyleModel",
            "_view_count": null,
            "_view_module": "@jupyter-widgets/base",
            "_view_module_version": "1.2.0",
            "_view_name": "StyleView",
            "description_width": ""
          }
        }
      }
    }
  },
  "cells": [
    {
      "cell_type": "code",
      "source": [
        "!pip install matplotlib==3.0.2\n",
        "!pip install d2l"
      ],
      "metadata": {
        "colab": {
          "base_uri": "https://localhost:8080/",
          "height": 1000
        },
        "id": "ZsVUMuqQCBGf",
        "outputId": "0b4c6349-e4aa-4180-c0c2-084baefa380b"
      },
      "execution_count": 1,
      "outputs": [
        {
          "output_type": "stream",
          "name": "stdout",
          "text": [
            "Collecting matplotlib==3.0.2\n",
            "  Downloading matplotlib-3.0.2-cp37-cp37m-manylinux1_x86_64.whl (12.9 MB)\n",
            "\u001b[K     |████████████████████████████████| 12.9 MB 13.6 MB/s \n",
            "\u001b[?25hRequirement already satisfied: pyparsing!=2.0.4,!=2.1.2,!=2.1.6,>=2.0.1 in /usr/local/lib/python3.7/dist-packages (from matplotlib==3.0.2) (3.0.8)\n",
            "Requirement already satisfied: cycler>=0.10 in /usr/local/lib/python3.7/dist-packages (from matplotlib==3.0.2) (0.11.0)\n",
            "Requirement already satisfied: numpy>=1.10.0 in /usr/local/lib/python3.7/dist-packages (from matplotlib==3.0.2) (1.21.5)\n",
            "Requirement already satisfied: kiwisolver>=1.0.1 in /usr/local/lib/python3.7/dist-packages (from matplotlib==3.0.2) (1.4.2)\n",
            "Requirement already satisfied: python-dateutil>=2.1 in /usr/local/lib/python3.7/dist-packages (from matplotlib==3.0.2) (2.8.2)\n",
            "Requirement already satisfied: typing-extensions in /usr/local/lib/python3.7/dist-packages (from kiwisolver>=1.0.1->matplotlib==3.0.2) (4.1.1)\n",
            "Requirement already satisfied: six>=1.5 in /usr/local/lib/python3.7/dist-packages (from python-dateutil>=2.1->matplotlib==3.0.2) (1.15.0)\n",
            "Installing collected packages: matplotlib\n",
            "  Attempting uninstall: matplotlib\n",
            "    Found existing installation: matplotlib 3.2.2\n",
            "    Uninstalling matplotlib-3.2.2:\n",
            "      Successfully uninstalled matplotlib-3.2.2\n",
            "\u001b[31mERROR: pip's dependency resolver does not currently take into account all the packages that are installed. This behaviour is the source of the following dependency conflicts.\n",
            "plotnine 0.6.0 requires matplotlib>=3.1.1, but you have matplotlib 3.0.2 which is incompatible.\n",
            "mizani 0.6.0 requires matplotlib>=3.1.1, but you have matplotlib 3.0.2 which is incompatible.\n",
            "albumentations 0.1.12 requires imgaug<0.2.7,>=0.2.5, but you have imgaug 0.2.9 which is incompatible.\u001b[0m\n",
            "Successfully installed matplotlib-3.0.2\n"
          ]
        },
        {
          "output_type": "display_data",
          "data": {
            "application/vnd.colab-display-data+json": {
              "pip_warning": {
                "packages": [
                  "matplotlib",
                  "mpl_toolkits"
                ]
              }
            }
          },
          "metadata": {}
        },
        {
          "output_type": "stream",
          "name": "stdout",
          "text": [
            "Collecting d2l\n",
            "  Downloading d2l-0.17.5-py3-none-any.whl (82 kB)\n",
            "\u001b[K     |████████████████████████████████| 82 kB 636 kB/s \n",
            "\u001b[?25hCollecting pandas==1.2.4\n",
            "  Downloading pandas-1.2.4-cp37-cp37m-manylinux1_x86_64.whl (9.9 MB)\n",
            "\u001b[K     |████████████████████████████████| 9.9 MB 51.2 MB/s \n",
            "\u001b[?25hRequirement already satisfied: numpy==1.21.5 in /usr/local/lib/python3.7/dist-packages (from d2l) (1.21.5)\n",
            "Requirement already satisfied: jupyter==1.0.0 in /usr/local/lib/python3.7/dist-packages (from d2l) (1.0.0)\n",
            "Collecting requests==2.25.1\n",
            "  Downloading requests-2.25.1-py2.py3-none-any.whl (61 kB)\n",
            "\u001b[K     |████████████████████████████████| 61 kB 6.8 MB/s \n",
            "\u001b[?25hCollecting matplotlib==3.5.1\n",
            "  Downloading matplotlib-3.5.1-cp37-cp37m-manylinux_2_5_x86_64.manylinux1_x86_64.whl (11.2 MB)\n",
            "\u001b[K     |████████████████████████████████| 11.2 MB 54.3 MB/s \n",
            "\u001b[?25hRequirement already satisfied: notebook in /usr/local/lib/python3.7/dist-packages (from jupyter==1.0.0->d2l) (5.3.1)\n",
            "Requirement already satisfied: qtconsole in /usr/local/lib/python3.7/dist-packages (from jupyter==1.0.0->d2l) (5.3.0)\n",
            "Requirement already satisfied: ipywidgets in /usr/local/lib/python3.7/dist-packages (from jupyter==1.0.0->d2l) (7.7.0)\n",
            "Requirement already satisfied: jupyter-console in /usr/local/lib/python3.7/dist-packages (from jupyter==1.0.0->d2l) (5.2.0)\n",
            "Requirement already satisfied: nbconvert in /usr/local/lib/python3.7/dist-packages (from jupyter==1.0.0->d2l) (5.6.1)\n",
            "Requirement already satisfied: ipykernel in /usr/local/lib/python3.7/dist-packages (from jupyter==1.0.0->d2l) (4.10.1)\n",
            "Requirement already satisfied: packaging>=20.0 in /usr/local/lib/python3.7/dist-packages (from matplotlib==3.5.1->d2l) (21.3)\n",
            "Requirement already satisfied: pyparsing>=2.2.1 in /usr/local/lib/python3.7/dist-packages (from matplotlib==3.5.1->d2l) (3.0.8)\n",
            "Requirement already satisfied: python-dateutil>=2.7 in /usr/local/lib/python3.7/dist-packages (from matplotlib==3.5.1->d2l) (2.8.2)\n",
            "Requirement already satisfied: kiwisolver>=1.0.1 in /usr/local/lib/python3.7/dist-packages (from matplotlib==3.5.1->d2l) (1.4.2)\n",
            "Collecting fonttools>=4.22.0\n",
            "  Downloading fonttools-4.32.0-py3-none-any.whl (900 kB)\n",
            "\u001b[K     |████████████████████████████████| 900 kB 46.0 MB/s \n",
            "\u001b[?25hRequirement already satisfied: pillow>=6.2.0 in /usr/local/lib/python3.7/dist-packages (from matplotlib==3.5.1->d2l) (7.1.2)\n",
            "Requirement already satisfied: cycler>=0.10 in /usr/local/lib/python3.7/dist-packages (from matplotlib==3.5.1->d2l) (0.11.0)\n",
            "Requirement already satisfied: pytz>=2017.3 in /usr/local/lib/python3.7/dist-packages (from pandas==1.2.4->d2l) (2018.9)\n",
            "Requirement already satisfied: urllib3<1.27,>=1.21.1 in /usr/local/lib/python3.7/dist-packages (from requests==2.25.1->d2l) (1.24.3)\n",
            "Requirement already satisfied: certifi>=2017.4.17 in /usr/local/lib/python3.7/dist-packages (from requests==2.25.1->d2l) (2021.10.8)\n",
            "Requirement already satisfied: idna<3,>=2.5 in /usr/local/lib/python3.7/dist-packages (from requests==2.25.1->d2l) (2.10)\n",
            "Requirement already satisfied: chardet<5,>=3.0.2 in /usr/local/lib/python3.7/dist-packages (from requests==2.25.1->d2l) (3.0.4)\n",
            "Requirement already satisfied: typing-extensions in /usr/local/lib/python3.7/dist-packages (from kiwisolver>=1.0.1->matplotlib==3.5.1->d2l) (4.1.1)\n",
            "Requirement already satisfied: six>=1.5 in /usr/local/lib/python3.7/dist-packages (from python-dateutil>=2.7->matplotlib==3.5.1->d2l) (1.15.0)\n",
            "Requirement already satisfied: traitlets>=4.1.0 in /usr/local/lib/python3.7/dist-packages (from ipykernel->jupyter==1.0.0->d2l) (5.1.1)\n",
            "Requirement already satisfied: tornado>=4.0 in /usr/local/lib/python3.7/dist-packages (from ipykernel->jupyter==1.0.0->d2l) (5.1.1)\n",
            "Requirement already satisfied: ipython>=4.0.0 in /usr/local/lib/python3.7/dist-packages (from ipykernel->jupyter==1.0.0->d2l) (5.5.0)\n",
            "Requirement already satisfied: jupyter-client in /usr/local/lib/python3.7/dist-packages (from ipykernel->jupyter==1.0.0->d2l) (5.3.5)\n",
            "Requirement already satisfied: pickleshare in /usr/local/lib/python3.7/dist-packages (from ipython>=4.0.0->ipykernel->jupyter==1.0.0->d2l) (0.7.5)\n",
            "Requirement already satisfied: prompt-toolkit<2.0.0,>=1.0.4 in /usr/local/lib/python3.7/dist-packages (from ipython>=4.0.0->ipykernel->jupyter==1.0.0->d2l) (1.0.18)\n",
            "Requirement already satisfied: simplegeneric>0.8 in /usr/local/lib/python3.7/dist-packages (from ipython>=4.0.0->ipykernel->jupyter==1.0.0->d2l) (0.8.1)\n",
            "Requirement already satisfied: pexpect in /usr/local/lib/python3.7/dist-packages (from ipython>=4.0.0->ipykernel->jupyter==1.0.0->d2l) (4.8.0)\n",
            "Requirement already satisfied: pygments in /usr/local/lib/python3.7/dist-packages (from ipython>=4.0.0->ipykernel->jupyter==1.0.0->d2l) (2.6.1)\n",
            "Requirement already satisfied: decorator in /usr/local/lib/python3.7/dist-packages (from ipython>=4.0.0->ipykernel->jupyter==1.0.0->d2l) (4.4.2)\n",
            "Requirement already satisfied: setuptools>=18.5 in /usr/local/lib/python3.7/dist-packages (from ipython>=4.0.0->ipykernel->jupyter==1.0.0->d2l) (57.4.0)\n",
            "Requirement already satisfied: wcwidth in /usr/local/lib/python3.7/dist-packages (from prompt-toolkit<2.0.0,>=1.0.4->ipython>=4.0.0->ipykernel->jupyter==1.0.0->d2l) (0.2.5)\n",
            "Requirement already satisfied: ipython-genutils~=0.2.0 in /usr/local/lib/python3.7/dist-packages (from ipywidgets->jupyter==1.0.0->d2l) (0.2.0)\n",
            "Requirement already satisfied: nbformat>=4.2.0 in /usr/local/lib/python3.7/dist-packages (from ipywidgets->jupyter==1.0.0->d2l) (5.3.0)\n",
            "Requirement already satisfied: jupyterlab-widgets>=1.0.0 in /usr/local/lib/python3.7/dist-packages (from ipywidgets->jupyter==1.0.0->d2l) (1.1.0)\n",
            "Requirement already satisfied: widgetsnbextension~=3.6.0 in /usr/local/lib/python3.7/dist-packages (from ipywidgets->jupyter==1.0.0->d2l) (3.6.0)\n",
            "Requirement already satisfied: jsonschema>=2.6 in /usr/local/lib/python3.7/dist-packages (from nbformat>=4.2.0->ipywidgets->jupyter==1.0.0->d2l) (4.3.3)\n",
            "Requirement already satisfied: fastjsonschema in /usr/local/lib/python3.7/dist-packages (from nbformat>=4.2.0->ipywidgets->jupyter==1.0.0->d2l) (2.15.3)\n",
            "Requirement already satisfied: jupyter-core in /usr/local/lib/python3.7/dist-packages (from nbformat>=4.2.0->ipywidgets->jupyter==1.0.0->d2l) (4.9.2)\n",
            "Requirement already satisfied: importlib-resources>=1.4.0 in /usr/local/lib/python3.7/dist-packages (from jsonschema>=2.6->nbformat>=4.2.0->ipywidgets->jupyter==1.0.0->d2l) (5.6.0)\n",
            "Requirement already satisfied: pyrsistent!=0.17.0,!=0.17.1,!=0.17.2,>=0.14.0 in /usr/local/lib/python3.7/dist-packages (from jsonschema>=2.6->nbformat>=4.2.0->ipywidgets->jupyter==1.0.0->d2l) (0.18.1)\n",
            "Requirement already satisfied: attrs>=17.4.0 in /usr/local/lib/python3.7/dist-packages (from jsonschema>=2.6->nbformat>=4.2.0->ipywidgets->jupyter==1.0.0->d2l) (21.4.0)\n",
            "Requirement already satisfied: importlib-metadata in /usr/local/lib/python3.7/dist-packages (from jsonschema>=2.6->nbformat>=4.2.0->ipywidgets->jupyter==1.0.0->d2l) (4.11.3)\n",
            "Requirement already satisfied: zipp>=3.1.0 in /usr/local/lib/python3.7/dist-packages (from importlib-resources>=1.4.0->jsonschema>=2.6->nbformat>=4.2.0->ipywidgets->jupyter==1.0.0->d2l) (3.8.0)\n",
            "Requirement already satisfied: Send2Trash in /usr/local/lib/python3.7/dist-packages (from notebook->jupyter==1.0.0->d2l) (1.8.0)\n",
            "Requirement already satisfied: terminado>=0.8.1 in /usr/local/lib/python3.7/dist-packages (from notebook->jupyter==1.0.0->d2l) (0.13.3)\n",
            "Requirement already satisfied: jinja2 in /usr/local/lib/python3.7/dist-packages (from notebook->jupyter==1.0.0->d2l) (2.11.3)\n",
            "Requirement already satisfied: pyzmq>=13 in /usr/local/lib/python3.7/dist-packages (from jupyter-client->ipykernel->jupyter==1.0.0->d2l) (22.3.0)\n",
            "Requirement already satisfied: ptyprocess in /usr/local/lib/python3.7/dist-packages (from terminado>=0.8.1->notebook->jupyter==1.0.0->d2l) (0.7.0)\n",
            "Requirement already satisfied: MarkupSafe>=0.23 in /usr/local/lib/python3.7/dist-packages (from jinja2->notebook->jupyter==1.0.0->d2l) (2.0.1)\n",
            "Requirement already satisfied: defusedxml in /usr/local/lib/python3.7/dist-packages (from nbconvert->jupyter==1.0.0->d2l) (0.7.1)\n",
            "Requirement already satisfied: entrypoints>=0.2.2 in /usr/local/lib/python3.7/dist-packages (from nbconvert->jupyter==1.0.0->d2l) (0.4)\n",
            "Requirement already satisfied: pandocfilters>=1.4.1 in /usr/local/lib/python3.7/dist-packages (from nbconvert->jupyter==1.0.0->d2l) (1.5.0)\n",
            "Requirement already satisfied: testpath in /usr/local/lib/python3.7/dist-packages (from nbconvert->jupyter==1.0.0->d2l) (0.6.0)\n",
            "Requirement already satisfied: mistune<2,>=0.8.1 in /usr/local/lib/python3.7/dist-packages (from nbconvert->jupyter==1.0.0->d2l) (0.8.4)\n",
            "Requirement already satisfied: bleach in /usr/local/lib/python3.7/dist-packages (from nbconvert->jupyter==1.0.0->d2l) (5.0.0)\n",
            "Requirement already satisfied: webencodings in /usr/local/lib/python3.7/dist-packages (from bleach->nbconvert->jupyter==1.0.0->d2l) (0.5.1)\n",
            "Requirement already satisfied: qtpy>=2.0.1 in /usr/local/lib/python3.7/dist-packages (from qtconsole->jupyter==1.0.0->d2l) (2.0.1)\n",
            "Installing collected packages: fonttools, requests, pandas, matplotlib, d2l\n",
            "  Attempting uninstall: requests\n",
            "    Found existing installation: requests 2.23.0\n",
            "    Uninstalling requests-2.23.0:\n",
            "      Successfully uninstalled requests-2.23.0\n",
            "  Attempting uninstall: pandas\n",
            "    Found existing installation: pandas 1.3.5\n",
            "    Uninstalling pandas-1.3.5:\n",
            "      Successfully uninstalled pandas-1.3.5\n",
            "  Attempting uninstall: matplotlib\n",
            "    Found existing installation: matplotlib 3.0.2\n",
            "    Uninstalling matplotlib-3.0.2:\n",
            "      Successfully uninstalled matplotlib-3.0.2\n",
            "\u001b[31mERROR: pip's dependency resolver does not currently take into account all the packages that are installed. This behaviour is the source of the following dependency conflicts.\n",
            "google-colab 1.0.0 requires requests~=2.23.0, but you have requests 2.25.1 which is incompatible.\n",
            "datascience 0.10.6 requires folium==0.2.1, but you have folium 0.8.3 which is incompatible.\n",
            "albumentations 0.1.12 requires imgaug<0.2.7,>=0.2.5, but you have imgaug 0.2.9 which is incompatible.\u001b[0m\n",
            "Successfully installed d2l-0.17.5 fonttools-4.32.0 matplotlib-3.5.1 pandas-1.2.4 requests-2.25.1\n"
          ]
        },
        {
          "output_type": "display_data",
          "data": {
            "application/vnd.colab-display-data+json": {
              "pip_warning": {
                "packages": [
                  "matplotlib",
                  "mpl_toolkits"
                ]
              }
            }
          },
          "metadata": {}
        }
      ]
    },
    {
      "cell_type": "code",
      "source": [
        "import torch\n",
        "from torch import nn\n",
        "from d2l import torch as d2l\n",
        "\n",
        "batch_size = 256\n",
        "train_iter, test_iter = d2l.load_data_fashion_mnist(batch_size)"
      ],
      "metadata": {
        "colab": {
          "base_uri": "https://localhost:8080/",
          "height": 492,
          "referenced_widgets": [
            "05b5e2a5edfe4b019b3b5a066fa43531",
            "977e6b37c47d4b28a301856f338ff906",
            "61e441461c28466ca3224dd0a8d8e2f7",
            "a1d4257f5b5740d5a76c84a2c384c665",
            "e08ba0bce00b433b8b3aebe99d05cdf2",
            "9efd644f9ab448c59896ee4d6fb71e44",
            "6c8f9b737af64349b86da9fca709fd19",
            "6eb202b364ae437ba70b8da928bb7438",
            "da4cb09acf4c4fa59742145df05860e0",
            "93d61551182947bda5d3dc2c5d09a7da",
            "2540efb1d929460f8a39cc7ce0bf96bb",
            "0bec152e078c4088bf14352e5e1aedea",
            "aface084b702406a96ad13aab6abf92c",
            "f201a3d055bc4274b8a587d1ec7399a0",
            "ace96f3ed9144a51a983a7ebad2bc6d3",
            "693e99c27c3e42619ce28d0c683eb201",
            "070390667ea941aa897c57dfc8426299",
            "d937914473b543b798f1ef1b224010be",
            "66834a4edefc4c298e1e2245f2c3fe17",
            "124f5561eaf948c3af7afa06a77b2df5",
            "ae2962e5a16140dcab9bbe4c4c525d73",
            "d61751e41cda4d77b99d36ab3c5617e9",
            "e6dfa99e3bc645c58fda7cde7eaaaac4",
            "9eaba6b16b234def85ddeed70b9ec014",
            "435f5061681c4068947921ac8e111bdf",
            "c8cb752c80f744728b52baac8b66836b",
            "154eabf1b815496ea2bc24ae1a5dfcdc",
            "dd10edcbaf5145dcb08eef9ca90b24af",
            "140173af99c54354824a31cf15765fb4",
            "1bf3a6d47f884b4f8c1f7cf370e70d2a",
            "f878f46527fd4a3ab2ea3b36cadf6b9c",
            "65f6a0d632b3447b8c1195df079933a1",
            "e65e0e664f8949aa95c1fd69cb1f184a",
            "0cb4ad9f3009438c92e7846a9db7886b",
            "a15d7303a8e94afdb922822208c0525f",
            "29ae1b2c4a034c59b9b496c59e6afd60",
            "e6346d0271494a39be5222456ec63538",
            "2311d67098564931b701aa5fbba75f46",
            "78b98d219bf54a9fbca7f3249eed8f6f",
            "4d9a9591e1d84b94922d6341b4223eab",
            "441ef526632c4b62822ae8f8307346f9",
            "8678abc9341c47fba2693f71a4438f9f",
            "5abdb72652d94e279498f6e612e556c0",
            "f281860d579140139170fd8f2fbd8ece"
          ]
        },
        "id": "r4YAaE4SCM9j",
        "outputId": "bf6faedf-7949-416a-9c4c-4369d315c0b2"
      },
      "execution_count": 1,
      "outputs": [
        {
          "output_type": "stream",
          "name": "stdout",
          "text": [
            "Downloading http://fashion-mnist.s3-website.eu-central-1.amazonaws.com/train-images-idx3-ubyte.gz\n",
            "Downloading http://fashion-mnist.s3-website.eu-central-1.amazonaws.com/train-images-idx3-ubyte.gz to ../data/FashionMNIST/raw/train-images-idx3-ubyte.gz\n"
          ]
        },
        {
          "output_type": "display_data",
          "data": {
            "text/plain": [
              "  0%|          | 0/26421880 [00:00<?, ?it/s]"
            ],
            "application/vnd.jupyter.widget-view+json": {
              "version_major": 2,
              "version_minor": 0,
              "model_id": "05b5e2a5edfe4b019b3b5a066fa43531"
            }
          },
          "metadata": {}
        },
        {
          "output_type": "stream",
          "name": "stdout",
          "text": [
            "Extracting ../data/FashionMNIST/raw/train-images-idx3-ubyte.gz to ../data/FashionMNIST/raw\n",
            "\n",
            "Downloading http://fashion-mnist.s3-website.eu-central-1.amazonaws.com/train-labels-idx1-ubyte.gz\n",
            "Downloading http://fashion-mnist.s3-website.eu-central-1.amazonaws.com/train-labels-idx1-ubyte.gz to ../data/FashionMNIST/raw/train-labels-idx1-ubyte.gz\n"
          ]
        },
        {
          "output_type": "display_data",
          "data": {
            "text/plain": [
              "  0%|          | 0/29515 [00:00<?, ?it/s]"
            ],
            "application/vnd.jupyter.widget-view+json": {
              "version_major": 2,
              "version_minor": 0,
              "model_id": "0bec152e078c4088bf14352e5e1aedea"
            }
          },
          "metadata": {}
        },
        {
          "output_type": "stream",
          "name": "stdout",
          "text": [
            "Extracting ../data/FashionMNIST/raw/train-labels-idx1-ubyte.gz to ../data/FashionMNIST/raw\n",
            "\n",
            "Downloading http://fashion-mnist.s3-website.eu-central-1.amazonaws.com/t10k-images-idx3-ubyte.gz\n",
            "Downloading http://fashion-mnist.s3-website.eu-central-1.amazonaws.com/t10k-images-idx3-ubyte.gz to ../data/FashionMNIST/raw/t10k-images-idx3-ubyte.gz\n"
          ]
        },
        {
          "output_type": "display_data",
          "data": {
            "text/plain": [
              "  0%|          | 0/4422102 [00:00<?, ?it/s]"
            ],
            "application/vnd.jupyter.widget-view+json": {
              "version_major": 2,
              "version_minor": 0,
              "model_id": "e6dfa99e3bc645c58fda7cde7eaaaac4"
            }
          },
          "metadata": {}
        },
        {
          "output_type": "stream",
          "name": "stdout",
          "text": [
            "Extracting ../data/FashionMNIST/raw/t10k-images-idx3-ubyte.gz to ../data/FashionMNIST/raw\n",
            "\n",
            "Downloading http://fashion-mnist.s3-website.eu-central-1.amazonaws.com/t10k-labels-idx1-ubyte.gz\n",
            "Downloading http://fashion-mnist.s3-website.eu-central-1.amazonaws.com/t10k-labels-idx1-ubyte.gz to ../data/FashionMNIST/raw/t10k-labels-idx1-ubyte.gz\n"
          ]
        },
        {
          "output_type": "display_data",
          "data": {
            "text/plain": [
              "  0%|          | 0/5148 [00:00<?, ?it/s]"
            ],
            "application/vnd.jupyter.widget-view+json": {
              "version_major": 2,
              "version_minor": 0,
              "model_id": "0cb4ad9f3009438c92e7846a9db7886b"
            }
          },
          "metadata": {}
        },
        {
          "output_type": "stream",
          "name": "stdout",
          "text": [
            "Extracting ../data/FashionMNIST/raw/t10k-labels-idx1-ubyte.gz to ../data/FashionMNIST/raw\n",
            "\n"
          ]
        },
        {
          "output_type": "stream",
          "name": "stderr",
          "text": [
            "/usr/local/lib/python3.7/dist-packages/torch/utils/data/dataloader.py:481: UserWarning: This DataLoader will create 4 worker processes in total. Our suggested max number of worker in current system is 2, which is smaller than what this DataLoader is going to create. Please be aware that excessive worker creation might get DataLoader running slow or even freeze, lower the worker number to avoid potential slowness/freeze if necessary.\n",
            "  cpuset_checked))\n"
          ]
        }
      ]
    },
    {
      "cell_type": "markdown",
      "source": [
        "## Initializing Model Parameters"
      ],
      "metadata": {
        "id": "NfD2sE8iCTmO"
      }
    },
    {
      "cell_type": "markdown",
      "source": [
        "![image.png](data:image/png;base64,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)"
      ],
      "metadata": {
        "id": "oSaFJ4rPCYxx"
      }
    },
    {
      "cell_type": "code",
      "source": [
        "num_inputs, num_outputs, num_hiddens = 784, 10, 256\n",
        "\n",
        "W1 = nn.Parameter(torch.randn(\n",
        "    num_inputs, num_hiddens, requires_grad=True) * 0.01)\n",
        "b1 = nn.Parameter(torch.zeros(num_hiddens, requires_grad=True))\n",
        "W2 = nn.Parameter(torch.randn(\n",
        "    num_hiddens, num_outputs, requires_grad=True) * 0.01)\n",
        "b2 = nn.Parameter(torch.zeros(num_outputs, requires_grad=True))\n",
        "\n",
        "params = [W1, b1, W2, b2]"
      ],
      "metadata": {
        "id": "_z39WU4eCZzD"
      },
      "execution_count": 2,
      "outputs": []
    },
    {
      "cell_type": "markdown",
      "source": [
        "## Activation Function"
      ],
      "metadata": {
        "id": "CzyC-w6GCdQq"
      }
    },
    {
      "cell_type": "code",
      "source": [
        "# To make sure we know how everything works, we will implement the ReLU activation ourselves using the maximum function rather than invoking the built-in relu function directly.\n",
        "\n",
        "def relu(X):\n",
        "    a = torch.zeros_like(X)\n",
        "    return torch.max(X, a)"
      ],
      "metadata": {
        "id": "6TTiIPvkCe5k"
      },
      "execution_count": 3,
      "outputs": []
    },
    {
      "cell_type": "markdown",
      "source": [
        "##  Model"
      ],
      "metadata": {
        "id": "cvnhh7xbCixE"
      }
    },
    {
      "cell_type": "code",
      "source": [
        "# Because we are disregarding spatial structure, we reshape each two-dimensional image into a flat vector of length num_inputs. Finally, we implement our model with just a few lines of code.\n",
        "\n",
        "def net(X):\n",
        "    X = X.reshape((-1, num_inputs))\n",
        "    H = relu(X@W1 + b1)  # Here '@' stands for matrix multiplication\n",
        "    return (H@W2 + b2)"
      ],
      "metadata": {
        "id": "44QJeHUZCkna"
      },
      "execution_count": 4,
      "outputs": []
    },
    {
      "cell_type": "markdown",
      "source": [
        "## Loss Function"
      ],
      "metadata": {
        "id": "8LlM4bqbCpHP"
      }
    },
    {
      "cell_type": "code",
      "source": [
        "loss = nn.CrossEntropyLoss(reduction='none')"
      ],
      "metadata": {
        "id": "a16cCktsCqES"
      },
      "execution_count": 5,
      "outputs": []
    },
    {
      "cell_type": "markdown",
      "source": [
        "## Training"
      ],
      "metadata": {
        "id": "-7Ou1sYKCrgt"
      }
    },
    {
      "cell_type": "code",
      "source": [
        "num_epochs, lr = 10, 0.1\n",
        "updater = torch.optim.SGD(params, lr=lr)\n",
        "d2l.train_ch3(net, train_iter, test_iter, loss, num_epochs, updater)"
      ],
      "metadata": {
        "id": "XE57YACQCuGv",
        "colab": {
          "base_uri": "https://localhost:8080/",
          "height": 262
        },
        "outputId": "9739f586-2aa2-444d-9c7c-5fb21c413418"
      },
      "execution_count": 6,
      "outputs": [
        {
          "output_type": "display_data",
          "data": {
            "text/plain": [
              "<Figure size 252x180 with 1 Axes>"
            ],
            "image/svg+xml": "<?xml version=\"1.0\" encoding=\"utf-8\" standalone=\"no\"?>\n<!DOCTYPE svg PUBLIC \"-//W3C//DTD SVG 1.1//EN\"\n  \"http://www.w3.org/Graphics/SVG/1.1/DTD/svg11.dtd\">\n<svg xmlns:xlink=\"http://www.w3.org/1999/xlink\" width=\"238.965625pt\" height=\"180.65625pt\" viewBox=\"0 0 238.965625 180.65625\" xmlns=\"http://www.w3.org/2000/svg\" version=\"1.1\">\n <metadata>\n  <rdf:RDF xmlns:dc=\"http://purl.org/dc/elements/1.1/\" xmlns:cc=\"http://creativecommons.org/ns#\" xmlns:rdf=\"http://www.w3.org/1999/02/22-rdf-syntax-ns#\">\n   <cc:Work>\n    <dc:type rdf:resource=\"http://purl.org/dc/dcmitype/StillImage\"/>\n    <dc:date>2022-04-15T19:12:33.041764</dc:date>\n    <dc:format>image/svg+xml</dc:format>\n    <dc:creator>\n     <cc:Agent>\n      <dc:title>Matplotlib v3.5.1, https://matplotlib.org/</dc:title>\n     </cc:Agent>\n    </dc:creator>\n   </cc:Work>\n  </rdf:RDF>\n </metadata>\n <defs>\n  <style type=\"text/css\">*{stroke-linejoin: round; stroke-linecap: butt}</style>\n </defs>\n <g id=\"figure_1\">\n  <g id=\"patch_1\">\n   <path d=\"M 0 180.65625 \nL 238.965625 180.65625 \nL 238.965625 0 \nL 0 0 \nL 0 180.65625 \nz\n\" style=\"fill: none\"/>\n  </g>\n  <g id=\"axes_1\">\n   <g id=\"patch_2\">\n    <path d=\"M 30.103125 143.1 \nL 225.403125 143.1 \nL 225.403125 7.2 \nL 30.103125 7.2 \nz\n\" style=\"fill: #ffffff\"/>\n   </g>\n   <g id=\"matplotlib.axis_1\">\n    <g id=\"xtick_1\">\n     <g id=\"line2d_1\">\n      <path d=\"M 51.803125 143.1 \nL 51.803125 7.2 \n\" clip-path=\"url(#p505c955851)\" style=\"fill: none; stroke: #b0b0b0; stroke-width: 0.8; stroke-linecap: square\"/>\n     </g>\n     <g id=\"line2d_2\">\n      <defs>\n       <path id=\"m8ef63df2b0\" d=\"M 0 0 \nL 0 3.5 \n\" style=\"stroke: #000000; stroke-width: 0.8\"/>\n      </defs>\n      <g>\n       <use xlink:href=\"#m8ef63df2b0\" x=\"51.803125\" y=\"143.1\" style=\"stroke: #000000; stroke-width: 0.8\"/>\n      </g>\n     </g>\n     <g id=\"text_1\">\n      <!-- 2 -->\n      <g transform=\"translate(48.621875 157.698438)scale(0.1 -0.1)\">\n       <defs>\n        <path id=\"DejaVuSans-32\" d=\"M 1228 531 \nL 3431 531 \nL 3431 0 \nL 469 0 \nL 469 531 \nQ 828 903 1448 1529 \nQ 2069 2156 2228 2338 \nQ 2531 2678 2651 2914 \nQ 2772 3150 2772 3378 \nQ 2772 3750 2511 3984 \nQ 2250 4219 1831 4219 \nQ 1534 4219 1204 4116 \nQ 875 4013 500 3803 \nL 500 4441 \nQ 881 4594 1212 4672 \nQ 1544 4750 1819 4750 \nQ 2544 4750 2975 4387 \nQ 3406 4025 3406 3419 \nQ 3406 3131 3298 2873 \nQ 3191 2616 2906 2266 \nQ 2828 2175 2409 1742 \nQ 1991 1309 1228 531 \nz\n\" transform=\"scale(0.015625)\"/>\n       </defs>\n       <use xlink:href=\"#DejaVuSans-32\"/>\n      </g>\n     </g>\n    </g>\n    <g id=\"xtick_2\">\n     <g id=\"line2d_3\">\n      <path d=\"M 95.203125 143.1 \nL 95.203125 7.2 \n\" clip-path=\"url(#p505c955851)\" style=\"fill: none; stroke: #b0b0b0; stroke-width: 0.8; stroke-linecap: square\"/>\n     </g>\n     <g id=\"line2d_4\">\n      <g>\n       <use xlink:href=\"#m8ef63df2b0\" x=\"95.203125\" y=\"143.1\" style=\"stroke: #000000; stroke-width: 0.8\"/>\n      </g>\n     </g>\n     <g id=\"text_2\">\n      <!-- 4 -->\n      <g transform=\"translate(92.021875 157.698438)scale(0.1 -0.1)\">\n       <defs>\n        <path id=\"DejaVuSans-34\" d=\"M 2419 4116 \nL 825 1625 \nL 2419 1625 \nL 2419 4116 \nz\nM 2253 4666 \nL 3047 4666 \nL 3047 1625 \nL 3713 1625 \nL 3713 1100 \nL 3047 1100 \nL 3047 0 \nL 2419 0 \nL 2419 1100 \nL 313 1100 \nL 313 1709 \nL 2253 4666 \nz\n\" transform=\"scale(0.015625)\"/>\n       </defs>\n       <use xlink:href=\"#DejaVuSans-34\"/>\n      </g>\n     </g>\n    </g>\n    <g id=\"xtick_3\">\n     <g id=\"line2d_5\">\n      <path d=\"M 138.603125 143.1 \nL 138.603125 7.2 \n\" clip-path=\"url(#p505c955851)\" style=\"fill: none; stroke: #b0b0b0; stroke-width: 0.8; stroke-linecap: square\"/>\n     </g>\n     <g id=\"line2d_6\">\n      <g>\n       <use xlink:href=\"#m8ef63df2b0\" x=\"138.603125\" y=\"143.1\" style=\"stroke: #000000; stroke-width: 0.8\"/>\n      </g>\n     </g>\n     <g id=\"text_3\">\n      <!-- 6 -->\n      <g transform=\"translate(135.421875 157.698438)scale(0.1 -0.1)\">\n       <defs>\n        <path id=\"DejaVuSans-36\" d=\"M 2113 2584 \nQ 1688 2584 1439 2293 \nQ 1191 2003 1191 1497 \nQ 1191 994 1439 701 \nQ 1688 409 2113 409 \nQ 2538 409 2786 701 \nQ 3034 994 3034 1497 \nQ 3034 2003 2786 2293 \nQ 2538 2584 2113 2584 \nz\nM 3366 4563 \nL 3366 3988 \nQ 3128 4100 2886 4159 \nQ 2644 4219 2406 4219 \nQ 1781 4219 1451 3797 \nQ 1122 3375 1075 2522 \nQ 1259 2794 1537 2939 \nQ 1816 3084 2150 3084 \nQ 2853 3084 3261 2657 \nQ 3669 2231 3669 1497 \nQ 3669 778 3244 343 \nQ 2819 -91 2113 -91 \nQ 1303 -91 875 529 \nQ 447 1150 447 2328 \nQ 447 3434 972 4092 \nQ 1497 4750 2381 4750 \nQ 2619 4750 2861 4703 \nQ 3103 4656 3366 4563 \nz\n\" transform=\"scale(0.015625)\"/>\n       </defs>\n       <use xlink:href=\"#DejaVuSans-36\"/>\n      </g>\n     </g>\n    </g>\n    <g id=\"xtick_4\">\n     <g id=\"line2d_7\">\n      <path d=\"M 182.003125 143.1 \nL 182.003125 7.2 \n\" clip-path=\"url(#p505c955851)\" style=\"fill: none; stroke: #b0b0b0; stroke-width: 0.8; stroke-linecap: square\"/>\n     </g>\n     <g id=\"line2d_8\">\n      <g>\n       <use xlink:href=\"#m8ef63df2b0\" x=\"182.003125\" y=\"143.1\" style=\"stroke: #000000; stroke-width: 0.8\"/>\n      </g>\n     </g>\n     <g id=\"text_4\">\n      <!-- 8 -->\n      <g transform=\"translate(178.821875 157.698438)scale(0.1 -0.1)\">\n       <defs>\n        <path id=\"DejaVuSans-38\" d=\"M 2034 2216 \nQ 1584 2216 1326 1975 \nQ 1069 1734 1069 1313 \nQ 1069 891 1326 650 \nQ 1584 409 2034 409 \nQ 2484 409 2743 651 \nQ 3003 894 3003 1313 \nQ 3003 1734 2745 1975 \nQ 2488 2216 2034 2216 \nz\nM 1403 2484 \nQ 997 2584 770 2862 \nQ 544 3141 544 3541 \nQ 544 4100 942 4425 \nQ 1341 4750 2034 4750 \nQ 2731 4750 3128 4425 \nQ 3525 4100 3525 3541 \nQ 3525 3141 3298 2862 \nQ 3072 2584 2669 2484 \nQ 3125 2378 3379 2068 \nQ 3634 1759 3634 1313 \nQ 3634 634 3220 271 \nQ 2806 -91 2034 -91 \nQ 1263 -91 848 271 \nQ 434 634 434 1313 \nQ 434 1759 690 2068 \nQ 947 2378 1403 2484 \nz\nM 1172 3481 \nQ 1172 3119 1398 2916 \nQ 1625 2713 2034 2713 \nQ 2441 2713 2670 2916 \nQ 2900 3119 2900 3481 \nQ 2900 3844 2670 4047 \nQ 2441 4250 2034 4250 \nQ 1625 4250 1398 4047 \nQ 1172 3844 1172 3481 \nz\n\" transform=\"scale(0.015625)\"/>\n       </defs>\n       <use xlink:href=\"#DejaVuSans-38\"/>\n      </g>\n     </g>\n    </g>\n    <g id=\"xtick_5\">\n     <g id=\"line2d_9\">\n      <path d=\"M 225.403125 143.1 \nL 225.403125 7.2 \n\" clip-path=\"url(#p505c955851)\" style=\"fill: none; stroke: #b0b0b0; stroke-width: 0.8; stroke-linecap: square\"/>\n     </g>\n     <g id=\"line2d_10\">\n      <g>\n       <use xlink:href=\"#m8ef63df2b0\" x=\"225.403125\" y=\"143.1\" style=\"stroke: #000000; stroke-width: 0.8\"/>\n      </g>\n     </g>\n     <g id=\"text_5\">\n      <!-- 10 -->\n      <g transform=\"translate(219.040625 157.698438)scale(0.1 -0.1)\">\n       <defs>\n        <path id=\"DejaVuSans-31\" d=\"M 794 531 \nL 1825 531 \nL 1825 4091 \nL 703 3866 \nL 703 4441 \nL 1819 4666 \nL 2450 4666 \nL 2450 531 \nL 3481 531 \nL 3481 0 \nL 794 0 \nL 794 531 \nz\n\" transform=\"scale(0.015625)\"/>\n        <path id=\"DejaVuSans-30\" d=\"M 2034 4250 \nQ 1547 4250 1301 3770 \nQ 1056 3291 1056 2328 \nQ 1056 1369 1301 889 \nQ 1547 409 2034 409 \nQ 2525 409 2770 889 \nQ 3016 1369 3016 2328 \nQ 3016 3291 2770 3770 \nQ 2525 4250 2034 4250 \nz\nM 2034 4750 \nQ 2819 4750 3233 4129 \nQ 3647 3509 3647 2328 \nQ 3647 1150 3233 529 \nQ 2819 -91 2034 -91 \nQ 1250 -91 836 529 \nQ 422 1150 422 2328 \nQ 422 3509 836 4129 \nQ 1250 4750 2034 4750 \nz\n\" transform=\"scale(0.015625)\"/>\n       </defs>\n       <use xlink:href=\"#DejaVuSans-31\"/>\n       <use xlink:href=\"#DejaVuSans-30\" x=\"63.623047\"/>\n      </g>\n     </g>\n    </g>\n    <g id=\"text_6\">\n     <!-- epoch -->\n     <g transform=\"translate(112.525 171.376563)scale(0.1 -0.1)\">\n      <defs>\n       <path id=\"DejaVuSans-65\" d=\"M 3597 1894 \nL 3597 1613 \nL 953 1613 \nQ 991 1019 1311 708 \nQ 1631 397 2203 397 \nQ 2534 397 2845 478 \nQ 3156 559 3463 722 \nL 3463 178 \nQ 3153 47 2828 -22 \nQ 2503 -91 2169 -91 \nQ 1331 -91 842 396 \nQ 353 884 353 1716 \nQ 353 2575 817 3079 \nQ 1281 3584 2069 3584 \nQ 2775 3584 3186 3129 \nQ 3597 2675 3597 1894 \nz\nM 3022 2063 \nQ 3016 2534 2758 2815 \nQ 2500 3097 2075 3097 \nQ 1594 3097 1305 2825 \nQ 1016 2553 972 2059 \nL 3022 2063 \nz\n\" transform=\"scale(0.015625)\"/>\n       <path id=\"DejaVuSans-70\" d=\"M 1159 525 \nL 1159 -1331 \nL 581 -1331 \nL 581 3500 \nL 1159 3500 \nL 1159 2969 \nQ 1341 3281 1617 3432 \nQ 1894 3584 2278 3584 \nQ 2916 3584 3314 3078 \nQ 3713 2572 3713 1747 \nQ 3713 922 3314 415 \nQ 2916 -91 2278 -91 \nQ 1894 -91 1617 61 \nQ 1341 213 1159 525 \nz\nM 3116 1747 \nQ 3116 2381 2855 2742 \nQ 2594 3103 2138 3103 \nQ 1681 3103 1420 2742 \nQ 1159 2381 1159 1747 \nQ 1159 1113 1420 752 \nQ 1681 391 2138 391 \nQ 2594 391 2855 752 \nQ 3116 1113 3116 1747 \nz\n\" transform=\"scale(0.015625)\"/>\n       <path id=\"DejaVuSans-6f\" d=\"M 1959 3097 \nQ 1497 3097 1228 2736 \nQ 959 2375 959 1747 \nQ 959 1119 1226 758 \nQ 1494 397 1959 397 \nQ 2419 397 2687 759 \nQ 2956 1122 2956 1747 \nQ 2956 2369 2687 2733 \nQ 2419 3097 1959 3097 \nz\nM 1959 3584 \nQ 2709 3584 3137 3096 \nQ 3566 2609 3566 1747 \nQ 3566 888 3137 398 \nQ 2709 -91 1959 -91 \nQ 1206 -91 779 398 \nQ 353 888 353 1747 \nQ 353 2609 779 3096 \nQ 1206 3584 1959 3584 \nz\n\" transform=\"scale(0.015625)\"/>\n       <path id=\"DejaVuSans-63\" d=\"M 3122 3366 \nL 3122 2828 \nQ 2878 2963 2633 3030 \nQ 2388 3097 2138 3097 \nQ 1578 3097 1268 2742 \nQ 959 2388 959 1747 \nQ 959 1106 1268 751 \nQ 1578 397 2138 397 \nQ 2388 397 2633 464 \nQ 2878 531 3122 666 \nL 3122 134 \nQ 2881 22 2623 -34 \nQ 2366 -91 2075 -91 \nQ 1284 -91 818 406 \nQ 353 903 353 1747 \nQ 353 2603 823 3093 \nQ 1294 3584 2113 3584 \nQ 2378 3584 2631 3529 \nQ 2884 3475 3122 3366 \nz\n\" transform=\"scale(0.015625)\"/>\n       <path id=\"DejaVuSans-68\" d=\"M 3513 2113 \nL 3513 0 \nL 2938 0 \nL 2938 2094 \nQ 2938 2591 2744 2837 \nQ 2550 3084 2163 3084 \nQ 1697 3084 1428 2787 \nQ 1159 2491 1159 1978 \nL 1159 0 \nL 581 0 \nL 581 4863 \nL 1159 4863 \nL 1159 2956 \nQ 1366 3272 1645 3428 \nQ 1925 3584 2291 3584 \nQ 2894 3584 3203 3211 \nQ 3513 2838 3513 2113 \nz\n\" transform=\"scale(0.015625)\"/>\n      </defs>\n      <use xlink:href=\"#DejaVuSans-65\"/>\n      <use xlink:href=\"#DejaVuSans-70\" x=\"61.523438\"/>\n      <use xlink:href=\"#DejaVuSans-6f\" x=\"125\"/>\n      <use xlink:href=\"#DejaVuSans-63\" x=\"186.181641\"/>\n      <use xlink:href=\"#DejaVuSans-68\" x=\"241.162109\"/>\n     </g>\n    </g>\n   </g>\n   <g id=\"matplotlib.axis_2\">\n    <g id=\"ytick_1\">\n     <g id=\"line2d_11\">\n      <path d=\"M 30.103125 120.45 \nL 225.403125 120.45 \n\" clip-path=\"url(#p505c955851)\" style=\"fill: none; stroke: #b0b0b0; stroke-width: 0.8; stroke-linecap: square\"/>\n     </g>\n     <g id=\"line2d_12\">\n      <defs>\n       <path id=\"m93aa0fd022\" d=\"M 0 0 \nL -3.5 0 \n\" style=\"stroke: #000000; stroke-width: 0.8\"/>\n      </defs>\n      <g>\n       <use xlink:href=\"#m93aa0fd022\" x=\"30.103125\" y=\"120.45\" style=\"stroke: #000000; stroke-width: 0.8\"/>\n      </g>\n     </g>\n     <g id=\"text_7\">\n      <!-- 0.4 -->\n      <g transform=\"translate(7.2 124.249219)scale(0.1 -0.1)\">\n       <defs>\n        <path id=\"DejaVuSans-2e\" d=\"M 684 794 \nL 1344 794 \nL 1344 0 \nL 684 0 \nL 684 794 \nz\n\" transform=\"scale(0.015625)\"/>\n       </defs>\n       <use xlink:href=\"#DejaVuSans-30\"/>\n       <use xlink:href=\"#DejaVuSans-2e\" x=\"63.623047\"/>\n       <use xlink:href=\"#DejaVuSans-34\" x=\"95.410156\"/>\n      </g>\n     </g>\n    </g>\n    <g id=\"ytick_2\">\n     <g id=\"line2d_13\">\n      <path d=\"M 30.103125 75.15 \nL 225.403125 75.15 \n\" clip-path=\"url(#p505c955851)\" style=\"fill: none; stroke: #b0b0b0; stroke-width: 0.8; stroke-linecap: square\"/>\n     </g>\n     <g id=\"line2d_14\">\n      <g>\n       <use xlink:href=\"#m93aa0fd022\" x=\"30.103125\" y=\"75.15\" style=\"stroke: #000000; stroke-width: 0.8\"/>\n      </g>\n     </g>\n     <g id=\"text_8\">\n      <!-- 0.6 -->\n      <g transform=\"translate(7.2 78.949219)scale(0.1 -0.1)\">\n       <use xlink:href=\"#DejaVuSans-30\"/>\n       <use xlink:href=\"#DejaVuSans-2e\" x=\"63.623047\"/>\n       <use xlink:href=\"#DejaVuSans-36\" x=\"95.410156\"/>\n      </g>\n     </g>\n    </g>\n    <g id=\"ytick_3\">\n     <g id=\"line2d_15\">\n      <path d=\"M 30.103125 29.85 \nL 225.403125 29.85 \n\" clip-path=\"url(#p505c955851)\" style=\"fill: none; stroke: #b0b0b0; stroke-width: 0.8; stroke-linecap: square\"/>\n     </g>\n     <g id=\"line2d_16\">\n      <g>\n       <use xlink:href=\"#m93aa0fd022\" x=\"30.103125\" y=\"29.85\" style=\"stroke: #000000; stroke-width: 0.8\"/>\n      </g>\n     </g>\n     <g id=\"text_9\">\n      <!-- 0.8 -->\n      <g transform=\"translate(7.2 33.649219)scale(0.1 -0.1)\">\n       <use xlink:href=\"#DejaVuSans-30\"/>\n       <use xlink:href=\"#DejaVuSans-2e\" x=\"63.623047\"/>\n       <use xlink:href=\"#DejaVuSans-38\" x=\"95.410156\"/>\n      </g>\n     </g>\n    </g>\n   </g>\n   <g id=\"line2d_17\">\n    <path d=\"M 35.428005 -1 \nL 51.803125 76.199719 \nL 73.503125 92.997278 \nL 95.203125 102.551217 \nL 116.903125 107.95583 \nL 138.603125 112.943162 \nL 160.303125 116.700161 \nL 182.003125 119.511222 \nL 203.703125 122.075731 \nL 225.403125 124.509925 \n\" clip-path=\"url(#p505c955851)\" style=\"fill: none; stroke: #1f77b4; stroke-width: 1.5; stroke-linecap: square\"/>\n   </g>\n   <g id=\"line2d_18\">\n    <path d=\"M 30.103125 64.757425 \nL 51.803125 31.7526 \nL 73.503125 25.822075 \nL 95.203125 22.3453 \nL 116.903125 20.7749 \nL 138.603125 19.0535 \nL 160.303125 17.7851 \nL 182.003125 16.73565 \nL 203.703125 16.1241 \nL 225.403125 15.176575 \n\" clip-path=\"url(#p505c955851)\" style=\"fill: none; stroke-dasharray: 5.55,2.4; stroke-dashoffset: 0; stroke: #bf00bf; stroke-width: 1.5\"/>\n   </g>\n   <g id=\"line2d_19\">\n    <path d=\"M 30.103125 41.96775 \nL 51.803125 44.7084 \nL 73.503125 45.81825 \nL 95.203125 29.41965 \nL 116.903125 23.6439 \nL 138.603125 21.6054 \nL 160.303125 20.6994 \nL 182.003125 19.6122 \nL 203.703125 19.18185 \nL 225.403125 19.22715 \n\" clip-path=\"url(#p505c955851)\" style=\"fill: none; stroke-dasharray: 9.6,2.4,1.5,2.4; stroke-dashoffset: 0; stroke: #008000; stroke-width: 1.5\"/>\n   </g>\n   <g id=\"patch_3\">\n    <path d=\"M 30.103125 143.1 \nL 30.103125 7.2 \n\" style=\"fill: none; stroke: #000000; stroke-width: 0.8; stroke-linejoin: miter; stroke-linecap: square\"/>\n   </g>\n   <g id=\"patch_4\">\n    <path d=\"M 225.403125 143.1 \nL 225.403125 7.2 \n\" style=\"fill: none; stroke: #000000; stroke-width: 0.8; stroke-linejoin: miter; stroke-linecap: square\"/>\n   </g>\n   <g id=\"patch_5\">\n    <path d=\"M 30.103125 143.1 \nL 225.403125 143.1 \n\" style=\"fill: none; stroke: #000000; stroke-width: 0.8; stroke-linejoin: miter; stroke-linecap: square\"/>\n   </g>\n   <g id=\"patch_6\">\n    <path d=\"M 30.103125 7.2 \nL 225.403125 7.2 \n\" style=\"fill: none; stroke: #000000; stroke-width: 0.8; stroke-linejoin: miter; stroke-linecap: square\"/>\n   </g>\n   <g id=\"legend_1\">\n    <g id=\"patch_7\">\n     <path d=\"M 140.634375 98.667187 \nL 218.403125 98.667187 \nQ 220.403125 98.667187 220.403125 96.667187 \nL 220.403125 53.632812 \nQ 220.403125 51.632812 218.403125 51.632812 \nL 140.634375 51.632812 \nQ 138.634375 51.632812 138.634375 53.632812 \nL 138.634375 96.667187 \nQ 138.634375 98.667187 140.634375 98.667187 \nz\n\" style=\"fill: #ffffff; opacity: 0.8; stroke: #cccccc; stroke-linejoin: miter\"/>\n    </g>\n    <g id=\"line2d_20\">\n     <path d=\"M 142.634375 59.73125 \nL 152.634375 59.73125 \nL 162.634375 59.73125 \n\" style=\"fill: none; stroke: #1f77b4; stroke-width: 1.5; stroke-linecap: square\"/>\n    </g>\n    <g id=\"text_10\">\n     <!-- train loss -->\n     <g transform=\"translate(170.634375 63.23125)scale(0.1 -0.1)\">\n      <defs>\n       <path id=\"DejaVuSans-74\" d=\"M 1172 4494 \nL 1172 3500 \nL 2356 3500 \nL 2356 3053 \nL 1172 3053 \nL 1172 1153 \nQ 1172 725 1289 603 \nQ 1406 481 1766 481 \nL 2356 481 \nL 2356 0 \nL 1766 0 \nQ 1100 0 847 248 \nQ 594 497 594 1153 \nL 594 3053 \nL 172 3053 \nL 172 3500 \nL 594 3500 \nL 594 4494 \nL 1172 4494 \nz\n\" transform=\"scale(0.015625)\"/>\n       <path id=\"DejaVuSans-72\" d=\"M 2631 2963 \nQ 2534 3019 2420 3045 \nQ 2306 3072 2169 3072 \nQ 1681 3072 1420 2755 \nQ 1159 2438 1159 1844 \nL 1159 0 \nL 581 0 \nL 581 3500 \nL 1159 3500 \nL 1159 2956 \nQ 1341 3275 1631 3429 \nQ 1922 3584 2338 3584 \nQ 2397 3584 2469 3576 \nQ 2541 3569 2628 3553 \nL 2631 2963 \nz\n\" transform=\"scale(0.015625)\"/>\n       <path id=\"DejaVuSans-61\" d=\"M 2194 1759 \nQ 1497 1759 1228 1600 \nQ 959 1441 959 1056 \nQ 959 750 1161 570 \nQ 1363 391 1709 391 \nQ 2188 391 2477 730 \nQ 2766 1069 2766 1631 \nL 2766 1759 \nL 2194 1759 \nz\nM 3341 1997 \nL 3341 0 \nL 2766 0 \nL 2766 531 \nQ 2569 213 2275 61 \nQ 1981 -91 1556 -91 \nQ 1019 -91 701 211 \nQ 384 513 384 1019 \nQ 384 1609 779 1909 \nQ 1175 2209 1959 2209 \nL 2766 2209 \nL 2766 2266 \nQ 2766 2663 2505 2880 \nQ 2244 3097 1772 3097 \nQ 1472 3097 1187 3025 \nQ 903 2953 641 2809 \nL 641 3341 \nQ 956 3463 1253 3523 \nQ 1550 3584 1831 3584 \nQ 2591 3584 2966 3190 \nQ 3341 2797 3341 1997 \nz\n\" transform=\"scale(0.015625)\"/>\n       <path id=\"DejaVuSans-69\" d=\"M 603 3500 \nL 1178 3500 \nL 1178 0 \nL 603 0 \nL 603 3500 \nz\nM 603 4863 \nL 1178 4863 \nL 1178 4134 \nL 603 4134 \nL 603 4863 \nz\n\" transform=\"scale(0.015625)\"/>\n       <path id=\"DejaVuSans-6e\" d=\"M 3513 2113 \nL 3513 0 \nL 2938 0 \nL 2938 2094 \nQ 2938 2591 2744 2837 \nQ 2550 3084 2163 3084 \nQ 1697 3084 1428 2787 \nQ 1159 2491 1159 1978 \nL 1159 0 \nL 581 0 \nL 581 3500 \nL 1159 3500 \nL 1159 2956 \nQ 1366 3272 1645 3428 \nQ 1925 3584 2291 3584 \nQ 2894 3584 3203 3211 \nQ 3513 2838 3513 2113 \nz\n\" transform=\"scale(0.015625)\"/>\n       <path id=\"DejaVuSans-20\" transform=\"scale(0.015625)\"/>\n       <path id=\"DejaVuSans-6c\" d=\"M 603 4863 \nL 1178 4863 \nL 1178 0 \nL 603 0 \nL 603 4863 \nz\n\" transform=\"scale(0.015625)\"/>\n       <path id=\"DejaVuSans-73\" d=\"M 2834 3397 \nL 2834 2853 \nQ 2591 2978 2328 3040 \nQ 2066 3103 1784 3103 \nQ 1356 3103 1142 2972 \nQ 928 2841 928 2578 \nQ 928 2378 1081 2264 \nQ 1234 2150 1697 2047 \nL 1894 2003 \nQ 2506 1872 2764 1633 \nQ 3022 1394 3022 966 \nQ 3022 478 2636 193 \nQ 2250 -91 1575 -91 \nQ 1294 -91 989 -36 \nQ 684 19 347 128 \nL 347 722 \nQ 666 556 975 473 \nQ 1284 391 1588 391 \nQ 1994 391 2212 530 \nQ 2431 669 2431 922 \nQ 2431 1156 2273 1281 \nQ 2116 1406 1581 1522 \nL 1381 1569 \nQ 847 1681 609 1914 \nQ 372 2147 372 2553 \nQ 372 3047 722 3315 \nQ 1072 3584 1716 3584 \nQ 2034 3584 2315 3537 \nQ 2597 3491 2834 3397 \nz\n\" transform=\"scale(0.015625)\"/>\n      </defs>\n      <use xlink:href=\"#DejaVuSans-74\"/>\n      <use xlink:href=\"#DejaVuSans-72\" x=\"39.208984\"/>\n      <use xlink:href=\"#DejaVuSans-61\" x=\"80.322266\"/>\n      <use xlink:href=\"#DejaVuSans-69\" x=\"141.601562\"/>\n      <use xlink:href=\"#DejaVuSans-6e\" x=\"169.384766\"/>\n      <use xlink:href=\"#DejaVuSans-20\" x=\"232.763672\"/>\n      <use xlink:href=\"#DejaVuSans-6c\" x=\"264.550781\"/>\n      <use xlink:href=\"#DejaVuSans-6f\" x=\"292.333984\"/>\n      <use xlink:href=\"#DejaVuSans-73\" x=\"353.515625\"/>\n      <use xlink:href=\"#DejaVuSans-73\" x=\"405.615234\"/>\n     </g>\n    </g>\n    <g id=\"line2d_21\">\n     <path d=\"M 142.634375 74.409375 \nL 152.634375 74.409375 \nL 162.634375 74.409375 \n\" style=\"fill: none; stroke-dasharray: 5.55,2.4; stroke-dashoffset: 0; stroke: #bf00bf; stroke-width: 1.5\"/>\n    </g>\n    <g id=\"text_11\">\n     <!-- train acc -->\n     <g transform=\"translate(170.634375 77.909375)scale(0.1 -0.1)\">\n      <use xlink:href=\"#DejaVuSans-74\"/>\n      <use xlink:href=\"#DejaVuSans-72\" x=\"39.208984\"/>\n      <use xlink:href=\"#DejaVuSans-61\" x=\"80.322266\"/>\n      <use xlink:href=\"#DejaVuSans-69\" x=\"141.601562\"/>\n      <use xlink:href=\"#DejaVuSans-6e\" x=\"169.384766\"/>\n      <use xlink:href=\"#DejaVuSans-20\" x=\"232.763672\"/>\n      <use xlink:href=\"#DejaVuSans-61\" x=\"264.550781\"/>\n      <use xlink:href=\"#DejaVuSans-63\" x=\"325.830078\"/>\n      <use xlink:href=\"#DejaVuSans-63\" x=\"380.810547\"/>\n     </g>\n    </g>\n    <g id=\"line2d_22\">\n     <path d=\"M 142.634375 89.0875 \nL 152.634375 89.0875 \nL 162.634375 89.0875 \n\" style=\"fill: none; stroke-dasharray: 9.6,2.4,1.5,2.4; stroke-dashoffset: 0; stroke: #008000; stroke-width: 1.5\"/>\n    </g>\n    <g id=\"text_12\">\n     <!-- test acc -->\n     <g transform=\"translate(170.634375 92.5875)scale(0.1 -0.1)\">\n      <use xlink:href=\"#DejaVuSans-74\"/>\n      <use xlink:href=\"#DejaVuSans-65\" x=\"39.208984\"/>\n      <use xlink:href=\"#DejaVuSans-73\" x=\"100.732422\"/>\n      <use xlink:href=\"#DejaVuSans-74\" x=\"152.832031\"/>\n      <use xlink:href=\"#DejaVuSans-20\" x=\"192.041016\"/>\n      <use xlink:href=\"#DejaVuSans-61\" x=\"223.828125\"/>\n      <use xlink:href=\"#DejaVuSans-63\" x=\"285.107422\"/>\n      <use xlink:href=\"#DejaVuSans-63\" x=\"340.087891\"/>\n     </g>\n    </g>\n   </g>\n  </g>\n </g>\n <defs>\n  <clipPath id=\"p505c955851\">\n   <rect x=\"30.103125\" y=\"7.2\" width=\"195.3\" height=\"135.9\"/>\n  </clipPath>\n </defs>\n</svg>\n"
          },
          "metadata": {
            "needs_background": "light"
          }
        }
      ]
    },
    {
      "cell_type": "code",
      "source": [
        "# To evaluate the learned model, we apply it on some test data.\n",
        "\n",
        "d2l.predict_ch3(net, test_iter)"
      ],
      "metadata": {
        "id": "Q8zZJi0JCxh0",
        "colab": {
          "base_uri": "https://localhost:8080/",
          "height": 234
        },
        "outputId": "d8e7af2c-b244-4ea0-ae6b-f53ff61e4f5d"
      },
      "execution_count": 7,
      "outputs": [
        {
          "output_type": "stream",
          "name": "stderr",
          "text": [
            "/usr/local/lib/python3.7/dist-packages/torch/utils/data/dataloader.py:481: UserWarning: This DataLoader will create 4 worker processes in total. Our suggested max number of worker in current system is 2, which is smaller than what this DataLoader is going to create. Please be aware that excessive worker creation might get DataLoader running slow or even freeze, lower the worker number to avoid potential slowness/freeze if necessary.\n",
            "  cpuset_checked))\n"
          ]
        },
        {
          "output_type": "display_data",
          "data": {
            "text/plain": [
              "<Figure size 648x108 with 6 Axes>"
            ],
            "image/svg+xml": "<?xml version=\"1.0\" encoding=\"utf-8\" standalone=\"no\"?>\n<!DOCTYPE svg PUBLIC \"-//W3C//DTD SVG 1.1//EN\"\n  \"http://www.w3.org/Graphics/SVG/1.1/DTD/svg11.dtd\">\n<svg xmlns:xlink=\"http://www.w3.org/1999/xlink\" width=\"520.1pt\" height=\"118.198357pt\" viewBox=\"0 0 520.1 118.198357\" xmlns=\"http://www.w3.org/2000/svg\" version=\"1.1\">\n <metadata>\n  <rdf:RDF xmlns:dc=\"http://purl.org/dc/elements/1.1/\" xmlns:cc=\"http://creativecommons.org/ns#\" xmlns:rdf=\"http://www.w3.org/1999/02/22-rdf-syntax-ns#\">\n   <cc:Work>\n    <dc:type rdf:resource=\"http://purl.org/dc/dcmitype/StillImage\"/>\n    <dc:date>2022-04-15T19:13:08.350339</dc:date>\n    <dc:format>image/svg+xml</dc:format>\n    <dc:creator>\n     <cc:Agent>\n      <dc:title>Matplotlib v3.5.1, https://matplotlib.org/</dc:title>\n     </cc:Agent>\n    </dc:creator>\n   </cc:Work>\n  </rdf:RDF>\n </metadata>\n <defs>\n  <style type=\"text/css\">*{stroke-linejoin: round; stroke-linecap: butt}</style>\n </defs>\n <g id=\"figure_1\">\n  <g id=\"patch_1\">\n   <path d=\"M 0 118.198357 \nL 520.1 118.198357 \nL 520.1 0 \nL 0 0 \nL 0 118.198357 \nz\n\" style=\"fill: none\"/>\n  </g>\n  <g id=\"axes_1\">\n   <g id=\"patch_2\">\n    <path d=\"M 10.7 107.498357 \nL 82.442857 107.498357 \nL 82.442857 35.7555 \nL 10.7 35.7555 \nz\n\" style=\"fill: #ffffff\"/>\n   </g>\n   <g clip-path=\"url(#p94bbf258c3)\">\n    <image xlink:href=\"data:image/png;base64,\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\" id=\"image243150d128\" transform=\"scale(1 -1)translate(0 -72)\" x=\"10.7\" y=\"-35.498357\" width=\"72\" height=\"72\"/>\n   </g>\n   <g id=\"patch_3\">\n    <path d=\"M 10.7 107.498357 \nL 10.7 35.7555 \n\" style=\"fill: none; stroke: #000000; stroke-width: 0.8; stroke-linejoin: miter; stroke-linecap: square\"/>\n   </g>\n   <g id=\"patch_4\">\n    <path d=\"M 82.442857 107.498357 \nL 82.442857 35.7555 \n\" style=\"fill: none; stroke: #000000; stroke-width: 0.8; stroke-linejoin: miter; stroke-linecap: square\"/>\n   </g>\n   <g id=\"patch_5\">\n    <path d=\"M 10.7 107.498357 \nL 82.442857 107.498357 \n\" style=\"fill: none; stroke: #000000; stroke-width: 0.8; stroke-linejoin: miter; stroke-linecap: square\"/>\n   </g>\n   <g id=\"patch_6\">\n    <path d=\"M 10.7 35.7555 \nL 82.442857 35.7555 \n\" style=\"fill: none; stroke: #000000; stroke-width: 0.8; stroke-linejoin: miter; stroke-linecap: square\"/>\n   </g>\n   <g id=\"text_1\">\n    <!-- ankle boot -->\n    <g transform=\"translate(14.848304 16.318125)scale(0.12 -0.12)\">\n     <defs>\n      <path id=\"DejaVuSans-61\" d=\"M 2194 1759 \nQ 1497 1759 1228 1600 \nQ 959 1441 959 1056 \nQ 959 750 1161 570 \nQ 1363 391 1709 391 \nQ 2188 391 2477 730 \nQ 2766 1069 2766 1631 \nL 2766 1759 \nL 2194 1759 \nz\nM 3341 1997 \nL 3341 0 \nL 2766 0 \nL 2766 531 \nQ 2569 213 2275 61 \nQ 1981 -91 1556 -91 \nQ 1019 -91 701 211 \nQ 384 513 384 1019 \nQ 384 1609 779 1909 \nQ 1175 2209 1959 2209 \nL 2766 2209 \nL 2766 2266 \nQ 2766 2663 2505 2880 \nQ 2244 3097 1772 3097 \nQ 1472 3097 1187 3025 \nQ 903 2953 641 2809 \nL 641 3341 \nQ 956 3463 1253 3523 \nQ 1550 3584 1831 3584 \nQ 2591 3584 2966 3190 \nQ 3341 2797 3341 1997 \nz\n\" transform=\"scale(0.015625)\"/>\n      <path id=\"DejaVuSans-6e\" d=\"M 3513 2113 \nL 3513 0 \nL 2938 0 \nL 2938 2094 \nQ 2938 2591 2744 2837 \nQ 2550 3084 2163 3084 \nQ 1697 3084 1428 2787 \nQ 1159 2491 1159 1978 \nL 1159 0 \nL 581 0 \nL 581 3500 \nL 1159 3500 \nL 1159 2956 \nQ 1366 3272 1645 3428 \nQ 1925 3584 2291 3584 \nQ 2894 3584 3203 3211 \nQ 3513 2838 3513 2113 \nz\n\" transform=\"scale(0.015625)\"/>\n      <path id=\"DejaVuSans-6b\" d=\"M 581 4863 \nL 1159 4863 \nL 1159 1991 \nL 2875 3500 \nL 3609 3500 \nL 1753 1863 \nL 3688 0 \nL 2938 0 \nL 1159 1709 \nL 1159 0 \nL 581 0 \nL 581 4863 \nz\n\" transform=\"scale(0.015625)\"/>\n      <path id=\"DejaVuSans-6c\" d=\"M 603 4863 \nL 1178 4863 \nL 1178 0 \nL 603 0 \nL 603 4863 \nz\n\" transform=\"scale(0.015625)\"/>\n      <path id=\"DejaVuSans-65\" d=\"M 3597 1894 \nL 3597 1613 \nL 953 1613 \nQ 991 1019 1311 708 \nQ 1631 397 2203 397 \nQ 2534 397 2845 478 \nQ 3156 559 3463 722 \nL 3463 178 \nQ 3153 47 2828 -22 \nQ 2503 -91 2169 -91 \nQ 1331 -91 842 396 \nQ 353 884 353 1716 \nQ 353 2575 817 3079 \nQ 1281 3584 2069 3584 \nQ 2775 3584 3186 3129 \nQ 3597 2675 3597 1894 \nz\nM 3022 2063 \nQ 3016 2534 2758 2815 \nQ 2500 3097 2075 3097 \nQ 1594 3097 1305 2825 \nQ 1016 2553 972 2059 \nL 3022 2063 \nz\n\" transform=\"scale(0.015625)\"/>\n      <path id=\"DejaVuSans-20\" transform=\"scale(0.015625)\"/>\n      <path id=\"DejaVuSans-62\" d=\"M 3116 1747 \nQ 3116 2381 2855 2742 \nQ 2594 3103 2138 3103 \nQ 1681 3103 1420 2742 \nQ 1159 2381 1159 1747 \nQ 1159 1113 1420 752 \nQ 1681 391 2138 391 \nQ 2594 391 2855 752 \nQ 3116 1113 3116 1747 \nz\nM 1159 2969 \nQ 1341 3281 1617 3432 \nQ 1894 3584 2278 3584 \nQ 2916 3584 3314 3078 \nQ 3713 2572 3713 1747 \nQ 3713 922 3314 415 \nQ 2916 -91 2278 -91 \nQ 1894 -91 1617 61 \nQ 1341 213 1159 525 \nL 1159 0 \nL 581 0 \nL 581 4863 \nL 1159 4863 \nL 1159 2969 \nz\n\" transform=\"scale(0.015625)\"/>\n      <path id=\"DejaVuSans-6f\" d=\"M 1959 3097 \nQ 1497 3097 1228 2736 \nQ 959 2375 959 1747 \nQ 959 1119 1226 758 \nQ 1494 397 1959 397 \nQ 2419 397 2687 759 \nQ 2956 1122 2956 1747 \nQ 2956 2369 2687 2733 \nQ 2419 3097 1959 3097 \nz\nM 1959 3584 \nQ 2709 3584 3137 3096 \nQ 3566 2609 3566 1747 \nQ 3566 888 3137 398 \nQ 2709 -91 1959 -91 \nQ 1206 -91 779 398 \nQ 353 888 353 1747 \nQ 353 2609 779 3096 \nQ 1206 3584 1959 3584 \nz\n\" transform=\"scale(0.015625)\"/>\n      <path id=\"DejaVuSans-74\" d=\"M 1172 4494 \nL 1172 3500 \nL 2356 3500 \nL 2356 3053 \nL 1172 3053 \nL 1172 1153 \nQ 1172 725 1289 603 \nQ 1406 481 1766 481 \nL 2356 481 \nL 2356 0 \nL 1766 0 \nQ 1100 0 847 248 \nQ 594 497 594 1153 \nL 594 3053 \nL 172 3053 \nL 172 3500 \nL 594 3500 \nL 594 4494 \nL 1172 4494 \nz\n\" transform=\"scale(0.015625)\"/>\n     </defs>\n     <use xlink:href=\"#DejaVuSans-61\"/>\n     <use xlink:href=\"#DejaVuSans-6e\" x=\"61.279297\"/>\n     <use xlink:href=\"#DejaVuSans-6b\" x=\"124.658203\"/>\n     <use xlink:href=\"#DejaVuSans-6c\" x=\"182.568359\"/>\n     <use xlink:href=\"#DejaVuSans-65\" x=\"210.351562\"/>\n     <use xlink:href=\"#DejaVuSans-20\" x=\"271.875\"/>\n     <use xlink:href=\"#DejaVuSans-62\" x=\"303.662109\"/>\n     <use xlink:href=\"#DejaVuSans-6f\" x=\"367.138672\"/>\n     <use xlink:href=\"#DejaVuSans-6f\" x=\"428.320312\"/>\n     <use xlink:href=\"#DejaVuSans-74\" x=\"489.501953\"/>\n    </g>\n    <!-- ankle boot -->\n    <g transform=\"translate(14.848304 29.7555)scale(0.12 -0.12)\">\n     <use xlink:href=\"#DejaVuSans-61\"/>\n     <use xlink:href=\"#DejaVuSans-6e\" x=\"61.279297\"/>\n     <use xlink:href=\"#DejaVuSans-6b\" x=\"124.658203\"/>\n     <use xlink:href=\"#DejaVuSans-6c\" x=\"182.568359\"/>\n     <use xlink:href=\"#DejaVuSans-65\" x=\"210.351562\"/>\n     <use xlink:href=\"#DejaVuSans-20\" x=\"271.875\"/>\n     <use xlink:href=\"#DejaVuSans-62\" x=\"303.662109\"/>\n     <use xlink:href=\"#DejaVuSans-6f\" x=\"367.138672\"/>\n     <use xlink:href=\"#DejaVuSans-6f\" x=\"428.320312\"/>\n     <use xlink:href=\"#DejaVuSans-74\" x=\"489.501953\"/>\n    </g>\n   </g>\n  </g>\n  <g id=\"axes_2\">\n   <g id=\"patch_7\">\n    <path d=\"M 96.791429 107.498357 \nL 168.534286 107.498357 \nL 168.534286 35.7555 \nL 96.791429 35.7555 \nz\n\" style=\"fill: #ffffff\"/>\n   </g>\n   <g clip-path=\"url(#p438412d554)\">\n    <image xlink:href=\"data:image/png;base64,\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\" id=\"image1523a903ce\" transform=\"scale(1 -1)translate(0 -72)\" x=\"96.791429\" y=\"-35.498357\" width=\"72\" height=\"72\"/>\n   </g>\n   <g id=\"patch_8\">\n    <path d=\"M 96.791429 107.498357 \nL 96.791429 35.7555 \n\" style=\"fill: none; stroke: #000000; stroke-width: 0.8; stroke-linejoin: miter; stroke-linecap: square\"/>\n   </g>\n   <g id=\"patch_9\">\n    <path d=\"M 168.534286 107.498357 \nL 168.534286 35.7555 \n\" style=\"fill: none; stroke: #000000; stroke-width: 0.8; stroke-linejoin: miter; stroke-linecap: square\"/>\n   </g>\n   <g id=\"patch_10\">\n    <path d=\"M 96.791429 107.498357 \nL 168.534286 107.498357 \n\" style=\"fill: none; stroke: #000000; stroke-width: 0.8; stroke-linejoin: miter; stroke-linecap: square\"/>\n   </g>\n   <g id=\"patch_11\">\n    <path d=\"M 96.791429 35.7555 \nL 168.534286 35.7555 \n\" style=\"fill: none; stroke: #000000; stroke-width: 0.8; stroke-linejoin: miter; stroke-linecap: square\"/>\n   </g>\n   <g id=\"text_2\">\n    <!-- pullover -->\n    <g transform=\"translate(108.336607 16.318125)scale(0.12 -0.12)\">\n     <defs>\n      <path id=\"DejaVuSans-70\" d=\"M 1159 525 \nL 1159 -1331 \nL 581 -1331 \nL 581 3500 \nL 1159 3500 \nL 1159 2969 \nQ 1341 3281 1617 3432 \nQ 1894 3584 2278 3584 \nQ 2916 3584 3314 3078 \nQ 3713 2572 3713 1747 \nQ 3713 922 3314 415 \nQ 2916 -91 2278 -91 \nQ 1894 -91 1617 61 \nQ 1341 213 1159 525 \nz\nM 3116 1747 \nQ 3116 2381 2855 2742 \nQ 2594 3103 2138 3103 \nQ 1681 3103 1420 2742 \nQ 1159 2381 1159 1747 \nQ 1159 1113 1420 752 \nQ 1681 391 2138 391 \nQ 2594 391 2855 752 \nQ 3116 1113 3116 1747 \nz\n\" transform=\"scale(0.015625)\"/>\n      <path id=\"DejaVuSans-75\" d=\"M 544 1381 \nL 544 3500 \nL 1119 3500 \nL 1119 1403 \nQ 1119 906 1312 657 \nQ 1506 409 1894 409 \nQ 2359 409 2629 706 \nQ 2900 1003 2900 1516 \nL 2900 3500 \nL 3475 3500 \nL 3475 0 \nL 2900 0 \nL 2900 538 \nQ 2691 219 2414 64 \nQ 2138 -91 1772 -91 \nQ 1169 -91 856 284 \nQ 544 659 544 1381 \nz\nM 1991 3584 \nL 1991 3584 \nz\n\" transform=\"scale(0.015625)\"/>\n      <path id=\"DejaVuSans-76\" d=\"M 191 3500 \nL 800 3500 \nL 1894 563 \nL 2988 3500 \nL 3597 3500 \nL 2284 0 \nL 1503 0 \nL 191 3500 \nz\n\" transform=\"scale(0.015625)\"/>\n      <path id=\"DejaVuSans-72\" d=\"M 2631 2963 \nQ 2534 3019 2420 3045 \nQ 2306 3072 2169 3072 \nQ 1681 3072 1420 2755 \nQ 1159 2438 1159 1844 \nL 1159 0 \nL 581 0 \nL 581 3500 \nL 1159 3500 \nL 1159 2956 \nQ 1341 3275 1631 3429 \nQ 1922 3584 2338 3584 \nQ 2397 3584 2469 3576 \nQ 2541 3569 2628 3553 \nL 2631 2963 \nz\n\" transform=\"scale(0.015625)\"/>\n     </defs>\n     <use xlink:href=\"#DejaVuSans-70\"/>\n     <use xlink:href=\"#DejaVuSans-75\" x=\"63.476562\"/>\n     <use xlink:href=\"#DejaVuSans-6c\" x=\"126.855469\"/>\n     <use xlink:href=\"#DejaVuSans-6c\" x=\"154.638672\"/>\n     <use xlink:href=\"#DejaVuSans-6f\" x=\"182.421875\"/>\n     <use xlink:href=\"#DejaVuSans-76\" x=\"243.603516\"/>\n     <use xlink:href=\"#DejaVuSans-65\" x=\"302.783203\"/>\n     <use xlink:href=\"#DejaVuSans-72\" x=\"364.306641\"/>\n    </g>\n    <!-- pullover -->\n    <g transform=\"translate(108.336607 29.7555)scale(0.12 -0.12)\">\n     <use xlink:href=\"#DejaVuSans-70\"/>\n     <use xlink:href=\"#DejaVuSans-75\" x=\"63.476562\"/>\n     <use xlink:href=\"#DejaVuSans-6c\" x=\"126.855469\"/>\n     <use xlink:href=\"#DejaVuSans-6c\" x=\"154.638672\"/>\n     <use xlink:href=\"#DejaVuSans-6f\" x=\"182.421875\"/>\n     <use xlink:href=\"#DejaVuSans-76\" x=\"243.603516\"/>\n     <use xlink:href=\"#DejaVuSans-65\" x=\"302.783203\"/>\n     <use xlink:href=\"#DejaVuSans-72\" x=\"364.306641\"/>\n    </g>\n   </g>\n  </g>\n  <g id=\"axes_3\">\n   <g id=\"patch_12\">\n    <path d=\"M 182.882857 107.498357 \nL 254.625714 107.498357 \nL 254.625714 35.7555 \nL 182.882857 35.7555 \nz\n\" style=\"fill: #ffffff\"/>\n   </g>\n   <g clip-path=\"url(#p51d01a5fe4)\">\n    <image xlink:href=\"data:image/png;base64,\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\" id=\"image64285087b9\" transform=\"scale(1 -1)translate(0 -72)\" x=\"182.882857\" y=\"-35.498357\" width=\"72\" height=\"72\"/>\n   </g>\n   <g id=\"patch_13\">\n    <path d=\"M 182.882857 107.498357 \nL 182.882857 35.7555 \n\" style=\"fill: none; stroke: #000000; stroke-width: 0.8; stroke-linejoin: miter; stroke-linecap: square\"/>\n   </g>\n   <g id=\"patch_14\">\n    <path d=\"M 254.625714 107.498357 \nL 254.625714 35.7555 \n\" style=\"fill: none; stroke: #000000; stroke-width: 0.8; stroke-linejoin: miter; stroke-linecap: square\"/>\n   </g>\n   <g id=\"patch_15\">\n    <path d=\"M 182.882857 107.498357 \nL 254.625714 107.498357 \n\" style=\"fill: none; stroke: #000000; stroke-width: 0.8; stroke-linejoin: miter; stroke-linecap: square\"/>\n   </g>\n   <g id=\"patch_16\">\n    <path d=\"M 182.882857 35.7555 \nL 254.625714 35.7555 \n\" style=\"fill: none; stroke: #000000; stroke-width: 0.8; stroke-linejoin: miter; stroke-linecap: square\"/>\n   </g>\n   <g id=\"text_3\">\n    <!-- trouser -->\n    <g transform=\"translate(197.312723 16.318125)scale(0.12 -0.12)\">\n     <defs>\n      <path id=\"DejaVuSans-73\" d=\"M 2834 3397 \nL 2834 2853 \nQ 2591 2978 2328 3040 \nQ 2066 3103 1784 3103 \nQ 1356 3103 1142 2972 \nQ 928 2841 928 2578 \nQ 928 2378 1081 2264 \nQ 1234 2150 1697 2047 \nL 1894 2003 \nQ 2506 1872 2764 1633 \nQ 3022 1394 3022 966 \nQ 3022 478 2636 193 \nQ 2250 -91 1575 -91 \nQ 1294 -91 989 -36 \nQ 684 19 347 128 \nL 347 722 \nQ 666 556 975 473 \nQ 1284 391 1588 391 \nQ 1994 391 2212 530 \nQ 2431 669 2431 922 \nQ 2431 1156 2273 1281 \nQ 2116 1406 1581 1522 \nL 1381 1569 \nQ 847 1681 609 1914 \nQ 372 2147 372 2553 \nQ 372 3047 722 3315 \nQ 1072 3584 1716 3584 \nQ 2034 3584 2315 3537 \nQ 2597 3491 2834 3397 \nz\n\" transform=\"scale(0.015625)\"/>\n     </defs>\n     <use xlink:href=\"#DejaVuSans-74\"/>\n     <use xlink:href=\"#DejaVuSans-72\" x=\"39.208984\"/>\n     <use xlink:href=\"#DejaVuSans-6f\" x=\"78.072266\"/>\n     <use xlink:href=\"#DejaVuSans-75\" x=\"139.253906\"/>\n     <use xlink:href=\"#DejaVuSans-73\" x=\"202.632812\"/>\n     <use xlink:href=\"#DejaVuSans-65\" x=\"254.732422\"/>\n     <use xlink:href=\"#DejaVuSans-72\" x=\"316.255859\"/>\n    </g>\n    <!-- trouser -->\n    <g transform=\"translate(197.312723 29.7555)scale(0.12 -0.12)\">\n     <use xlink:href=\"#DejaVuSans-74\"/>\n     <use xlink:href=\"#DejaVuSans-72\" x=\"39.208984\"/>\n     <use xlink:href=\"#DejaVuSans-6f\" x=\"78.072266\"/>\n     <use xlink:href=\"#DejaVuSans-75\" x=\"139.253906\"/>\n     <use xlink:href=\"#DejaVuSans-73\" x=\"202.632812\"/>\n     <use xlink:href=\"#DejaVuSans-65\" x=\"254.732422\"/>\n     <use xlink:href=\"#DejaVuSans-72\" x=\"316.255859\"/>\n    </g>\n   </g>\n  </g>\n  <g id=\"axes_4\">\n   <g id=\"patch_17\">\n    <path d=\"M 268.974286 107.498357 \nL 340.717143 107.498357 \nL 340.717143 35.7555 \nL 268.974286 35.7555 \nz\n\" style=\"fill: #ffffff\"/>\n   </g>\n   <g clip-path=\"url(#pb70a8fb824)\">\n    <image xlink:href=\"data:image/png;base64,\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\" id=\"imagea34fdf4ce6\" transform=\"scale(1 -1)translate(0 -72)\" x=\"268.974286\" y=\"-35.498357\" width=\"72\" height=\"72\"/>\n   </g>\n   <g id=\"patch_18\">\n    <path d=\"M 268.974286 107.498357 \nL 268.974286 35.7555 \n\" style=\"fill: none; stroke: #000000; stroke-width: 0.8; stroke-linejoin: miter; stroke-linecap: square\"/>\n   </g>\n   <g id=\"patch_19\">\n    <path d=\"M 340.717143 107.498357 \nL 340.717143 35.7555 \n\" style=\"fill: none; stroke: #000000; stroke-width: 0.8; stroke-linejoin: miter; stroke-linecap: square\"/>\n   </g>\n   <g id=\"patch_20\">\n    <path d=\"M 268.974286 107.498357 \nL 340.717143 107.498357 \n\" style=\"fill: none; stroke: #000000; stroke-width: 0.8; stroke-linejoin: miter; stroke-linecap: square\"/>\n   </g>\n   <g id=\"patch_21\">\n    <path d=\"M 268.974286 35.7555 \nL 340.717143 35.7555 \n\" style=\"fill: none; stroke: #000000; stroke-width: 0.8; stroke-linejoin: miter; stroke-linecap: square\"/>\n   </g>\n   <g id=\"text_4\">\n    <!-- trouser -->\n    <g transform=\"translate(283.404152 16.318125)scale(0.12 -0.12)\">\n     <use xlink:href=\"#DejaVuSans-74\"/>\n     <use xlink:href=\"#DejaVuSans-72\" x=\"39.208984\"/>\n     <use xlink:href=\"#DejaVuSans-6f\" x=\"78.072266\"/>\n     <use xlink:href=\"#DejaVuSans-75\" x=\"139.253906\"/>\n     <use xlink:href=\"#DejaVuSans-73\" x=\"202.632812\"/>\n     <use xlink:href=\"#DejaVuSans-65\" x=\"254.732422\"/>\n     <use xlink:href=\"#DejaVuSans-72\" x=\"316.255859\"/>\n    </g>\n    <!-- trouser -->\n    <g transform=\"translate(283.404152 29.7555)scale(0.12 -0.12)\">\n     <use xlink:href=\"#DejaVuSans-74\"/>\n     <use xlink:href=\"#DejaVuSans-72\" x=\"39.208984\"/>\n     <use xlink:href=\"#DejaVuSans-6f\" x=\"78.072266\"/>\n     <use xlink:href=\"#DejaVuSans-75\" x=\"139.253906\"/>\n     <use xlink:href=\"#DejaVuSans-73\" x=\"202.632812\"/>\n     <use xlink:href=\"#DejaVuSans-65\" x=\"254.732422\"/>\n     <use xlink:href=\"#DejaVuSans-72\" x=\"316.255859\"/>\n    </g>\n   </g>\n  </g>\n  <g id=\"axes_5\">\n   <g id=\"patch_22\">\n    <path d=\"M 355.065714 107.498357 \nL 426.808571 107.498357 \nL 426.808571 35.7555 \nL 355.065714 35.7555 \nz\n\" style=\"fill: #ffffff\"/>\n   </g>\n   <g clip-path=\"url(#pe541f491eb)\">\n    <image xlink:href=\"data:image/png;base64,\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\" id=\"image99ea47cd4a\" transform=\"scale(1 -1)translate(0 -72)\" x=\"355.065714\" y=\"-35.498357\" width=\"72\" height=\"72\"/>\n   </g>\n   <g id=\"patch_23\">\n    <path d=\"M 355.065714 107.498357 \nL 355.065714 35.7555 \n\" style=\"fill: none; stroke: #000000; stroke-width: 0.8; stroke-linejoin: miter; stroke-linecap: square\"/>\n   </g>\n   <g id=\"patch_24\">\n    <path d=\"M 426.808571 107.498357 \nL 426.808571 35.7555 \n\" style=\"fill: none; stroke: #000000; stroke-width: 0.8; stroke-linejoin: miter; stroke-linecap: square\"/>\n   </g>\n   <g id=\"patch_25\">\n    <path d=\"M 355.065714 107.498357 \nL 426.808571 107.498357 \n\" style=\"fill: none; stroke: #000000; stroke-width: 0.8; stroke-linejoin: miter; stroke-linecap: square\"/>\n   </g>\n   <g id=\"patch_26\">\n    <path d=\"M 355.065714 35.7555 \nL 426.808571 35.7555 \n\" style=\"fill: none; stroke: #000000; stroke-width: 0.8; stroke-linejoin: miter; stroke-linecap: square\"/>\n   </g>\n   <g id=\"text_5\">\n    <!-- shirt -->\n    <g transform=\"translate(377.523393 16.318125)scale(0.12 -0.12)\">\n     <defs>\n      <path id=\"DejaVuSans-68\" d=\"M 3513 2113 \nL 3513 0 \nL 2938 0 \nL 2938 2094 \nQ 2938 2591 2744 2837 \nQ 2550 3084 2163 3084 \nQ 1697 3084 1428 2787 \nQ 1159 2491 1159 1978 \nL 1159 0 \nL 581 0 \nL 581 4863 \nL 1159 4863 \nL 1159 2956 \nQ 1366 3272 1645 3428 \nQ 1925 3584 2291 3584 \nQ 2894 3584 3203 3211 \nQ 3513 2838 3513 2113 \nz\n\" transform=\"scale(0.015625)\"/>\n      <path id=\"DejaVuSans-69\" d=\"M 603 3500 \nL 1178 3500 \nL 1178 0 \nL 603 0 \nL 603 3500 \nz\nM 603 4863 \nL 1178 4863 \nL 1178 4134 \nL 603 4134 \nL 603 4863 \nz\n\" transform=\"scale(0.015625)\"/>\n     </defs>\n     <use xlink:href=\"#DejaVuSans-73\"/>\n     <use xlink:href=\"#DejaVuSans-68\" x=\"52.099609\"/>\n     <use xlink:href=\"#DejaVuSans-69\" x=\"115.478516\"/>\n     <use xlink:href=\"#DejaVuSans-72\" x=\"143.261719\"/>\n     <use xlink:href=\"#DejaVuSans-74\" x=\"184.375\"/>\n    </g>\n    <!-- shirt -->\n    <g transform=\"translate(377.523393 29.7555)scale(0.12 -0.12)\">\n     <use xlink:href=\"#DejaVuSans-73\"/>\n     <use xlink:href=\"#DejaVuSans-68\" x=\"52.099609\"/>\n     <use xlink:href=\"#DejaVuSans-69\" x=\"115.478516\"/>\n     <use xlink:href=\"#DejaVuSans-72\" x=\"143.261719\"/>\n     <use xlink:href=\"#DejaVuSans-74\" x=\"184.375\"/>\n    </g>\n   </g>\n  </g>\n  <g id=\"axes_6\">\n   <g id=\"patch_27\">\n    <path d=\"M 441.157143 107.498357 \nL 512.9 107.498357 \nL 512.9 35.7555 \nL 441.157143 35.7555 \nz\n\" style=\"fill: #ffffff\"/>\n   </g>\n   <g clip-path=\"url(#p7731ff1b03)\">\n    <image xlink:href=\"data:image/png;base64,\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\" id=\"image2ecd54fe17\" transform=\"scale(1 -1)translate(0 -72)\" x=\"441.157143\" y=\"-35.498357\" width=\"72\" height=\"72\"/>\n   </g>\n   <g id=\"patch_28\">\n    <path d=\"M 441.157143 107.498357 \nL 441.157143 35.7555 \n\" style=\"fill: none; stroke: #000000; stroke-width: 0.8; stroke-linejoin: miter; stroke-linecap: square\"/>\n   </g>\n   <g id=\"patch_29\">\n    <path d=\"M 512.9 107.498357 \nL 512.9 35.7555 \n\" style=\"fill: none; stroke: #000000; stroke-width: 0.8; stroke-linejoin: miter; stroke-linecap: square\"/>\n   </g>\n   <g id=\"patch_30\">\n    <path d=\"M 441.157143 107.498357 \nL 512.9 107.498357 \n\" style=\"fill: none; stroke: #000000; stroke-width: 0.8; stroke-linejoin: miter; stroke-linecap: square\"/>\n   </g>\n   <g id=\"patch_31\">\n    <path d=\"M 441.157143 35.7555 \nL 512.9 35.7555 \n\" style=\"fill: none; stroke: #000000; stroke-width: 0.8; stroke-linejoin: miter; stroke-linecap: square\"/>\n   </g>\n   <g id=\"text_6\">\n    <!-- trouser -->\n    <g transform=\"translate(455.587009 16.318125)scale(0.12 -0.12)\">\n     <use xlink:href=\"#DejaVuSans-74\"/>\n     <use xlink:href=\"#DejaVuSans-72\" x=\"39.208984\"/>\n     <use xlink:href=\"#DejaVuSans-6f\" x=\"78.072266\"/>\n     <use xlink:href=\"#DejaVuSans-75\" x=\"139.253906\"/>\n     <use xlink:href=\"#DejaVuSans-73\" x=\"202.632812\"/>\n     <use xlink:href=\"#DejaVuSans-65\" x=\"254.732422\"/>\n     <use xlink:href=\"#DejaVuSans-72\" x=\"316.255859\"/>\n    </g>\n    <!-- trouser -->\n    <g transform=\"translate(455.587009 29.7555)scale(0.12 -0.12)\">\n     <use xlink:href=\"#DejaVuSans-74\"/>\n     <use xlink:href=\"#DejaVuSans-72\" x=\"39.208984\"/>\n     <use xlink:href=\"#DejaVuSans-6f\" x=\"78.072266\"/>\n     <use xlink:href=\"#DejaVuSans-75\" x=\"139.253906\"/>\n     <use xlink:href=\"#DejaVuSans-73\" x=\"202.632812\"/>\n     <use xlink:href=\"#DejaVuSans-65\" x=\"254.732422\"/>\n     <use xlink:href=\"#DejaVuSans-72\" x=\"316.255859\"/>\n    </g>\n   </g>\n  </g>\n </g>\n <defs>\n  <clipPath id=\"p94bbf258c3\">\n   <rect x=\"10.7\" y=\"35.7555\" width=\"71.742857\" height=\"71.742857\"/>\n  </clipPath>\n  <clipPath id=\"p438412d554\">\n   <rect x=\"96.791429\" y=\"35.7555\" width=\"71.742857\" height=\"71.742857\"/>\n  </clipPath>\n  <clipPath id=\"p51d01a5fe4\">\n   <rect x=\"182.882857\" y=\"35.7555\" width=\"71.742857\" height=\"71.742857\"/>\n  </clipPath>\n  <clipPath id=\"pb70a8fb824\">\n   <rect x=\"268.974286\" y=\"35.7555\" width=\"71.742857\" height=\"71.742857\"/>\n  </clipPath>\n  <clipPath id=\"pe541f491eb\">\n   <rect x=\"355.065714\" y=\"35.7555\" width=\"71.742857\" height=\"71.742857\"/>\n  </clipPath>\n  <clipPath id=\"p7731ff1b03\">\n   <rect x=\"441.157143\" y=\"35.7555\" width=\"71.742857\" height=\"71.742857\"/>\n  </clipPath>\n </defs>\n</svg>\n"
          },
          "metadata": {
            "needs_background": "light"
          }
        }
      ]
    },
    {
      "cell_type": "markdown",
      "source": [
        "## Summary"
      ],
      "metadata": {
        "id": "ek9z5g-UC2XR"
      }
    },
    {
      "cell_type": "markdown",
      "source": [
        "\n",
        "\n",
        "*   We saw that implementing a simple MLP is easy, even when done manually.\n",
        "*   However, with a large number of layers, implementing MLPs from scratch can still get messy (e.g., naming and keeping track of our model’s parameters).\n",
        "\n"
      ],
      "metadata": {
        "id": "fVHJ2XH-C4G7"
      }
    }
  ]
}