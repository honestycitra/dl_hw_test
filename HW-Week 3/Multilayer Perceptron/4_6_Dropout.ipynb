{
  "nbformat": 4,
  "nbformat_minor": 0,
  "metadata": {
    "colab": {
      "name": "4.6 Dropout.ipynb",
      "provenance": []
    },
    "kernelspec": {
      "name": "python3",
      "display_name": "Python 3"
    },
    "language_info": {
      "name": "python"
    },
    "widgets": {
      "application/vnd.jupyter.widget-state+json": {
        "356315547b4a4ff1a3edc8d2747a8a11": {
          "model_module": "@jupyter-widgets/controls",
          "model_name": "HBoxModel",
          "model_module_version": "1.5.0",
          "state": {
            "_dom_classes": [],
            "_model_module": "@jupyter-widgets/controls",
            "_model_module_version": "1.5.0",
            "_model_name": "HBoxModel",
            "_view_count": null,
            "_view_module": "@jupyter-widgets/controls",
            "_view_module_version": "1.5.0",
            "_view_name": "HBoxView",
            "box_style": "",
            "children": [
              "IPY_MODEL_22e7aa8dac5340338d1a0506bab6a9d1",
              "IPY_MODEL_9cba9430033240faa057481fb6b56c5e",
              "IPY_MODEL_697b1825d2b64b75be977427defb9c36"
            ],
            "layout": "IPY_MODEL_a45c369870ae4a189b96d7ad6ed90eea"
          }
        },
        "22e7aa8dac5340338d1a0506bab6a9d1": {
          "model_module": "@jupyter-widgets/controls",
          "model_name": "HTMLModel",
          "model_module_version": "1.5.0",
          "state": {
            "_dom_classes": [],
            "_model_module": "@jupyter-widgets/controls",
            "_model_module_version": "1.5.0",
            "_model_name": "HTMLModel",
            "_view_count": null,
            "_view_module": "@jupyter-widgets/controls",
            "_view_module_version": "1.5.0",
            "_view_name": "HTMLView",
            "description": "",
            "description_tooltip": null,
            "layout": "IPY_MODEL_a3f6c218fd96412c8598852a25fefcd6",
            "placeholder": "​",
            "style": "IPY_MODEL_53172a691afe4dc98c980b71be2e8bb3",
            "value": ""
          }
        },
        "9cba9430033240faa057481fb6b56c5e": {
          "model_module": "@jupyter-widgets/controls",
          "model_name": "FloatProgressModel",
          "model_module_version": "1.5.0",
          "state": {
            "_dom_classes": [],
            "_model_module": "@jupyter-widgets/controls",
            "_model_module_version": "1.5.0",
            "_model_name": "FloatProgressModel",
            "_view_count": null,
            "_view_module": "@jupyter-widgets/controls",
            "_view_module_version": "1.5.0",
            "_view_name": "ProgressView",
            "bar_style": "success",
            "description": "",
            "description_tooltip": null,
            "layout": "IPY_MODEL_82d02d14cd254ca1a019a0ab2af1a8ba",
            "max": 26421880,
            "min": 0,
            "orientation": "horizontal",
            "style": "IPY_MODEL_5092631c02c44972b84fa0edb90e1de6",
            "value": 26421880
          }
        },
        "697b1825d2b64b75be977427defb9c36": {
          "model_module": "@jupyter-widgets/controls",
          "model_name": "HTMLModel",
          "model_module_version": "1.5.0",
          "state": {
            "_dom_classes": [],
            "_model_module": "@jupyter-widgets/controls",
            "_model_module_version": "1.5.0",
            "_model_name": "HTMLModel",
            "_view_count": null,
            "_view_module": "@jupyter-widgets/controls",
            "_view_module_version": "1.5.0",
            "_view_name": "HTMLView",
            "description": "",
            "description_tooltip": null,
            "layout": "IPY_MODEL_9c221974610d4238962514d3fcabfbd2",
            "placeholder": "​",
            "style": "IPY_MODEL_88f9a847d2604de586bcfeccf540d99f",
            "value": " 26422272/? [00:00&lt;00:00, 96710060.98it/s]"
          }
        },
        "a45c369870ae4a189b96d7ad6ed90eea": {
          "model_module": "@jupyter-widgets/base",
          "model_name": "LayoutModel",
          "model_module_version": "1.2.0",
          "state": {
            "_model_module": "@jupyter-widgets/base",
            "_model_module_version": "1.2.0",
            "_model_name": "LayoutModel",
            "_view_count": null,
            "_view_module": "@jupyter-widgets/base",
            "_view_module_version": "1.2.0",
            "_view_name": "LayoutView",
            "align_content": null,
            "align_items": null,
            "align_self": null,
            "border": null,
            "bottom": null,
            "display": null,
            "flex": null,
            "flex_flow": null,
            "grid_area": null,
            "grid_auto_columns": null,
            "grid_auto_flow": null,
            "grid_auto_rows": null,
            "grid_column": null,
            "grid_gap": null,
            "grid_row": null,
            "grid_template_areas": null,
            "grid_template_columns": null,
            "grid_template_rows": null,
            "height": null,
            "justify_content": null,
            "justify_items": null,
            "left": null,
            "margin": null,
            "max_height": null,
            "max_width": null,
            "min_height": null,
            "min_width": null,
            "object_fit": null,
            "object_position": null,
            "order": null,
            "overflow": null,
            "overflow_x": null,
            "overflow_y": null,
            "padding": null,
            "right": null,
            "top": null,
            "visibility": null,
            "width": null
          }
        },
        "a3f6c218fd96412c8598852a25fefcd6": {
          "model_module": "@jupyter-widgets/base",
          "model_name": "LayoutModel",
          "model_module_version": "1.2.0",
          "state": {
            "_model_module": "@jupyter-widgets/base",
            "_model_module_version": "1.2.0",
            "_model_name": "LayoutModel",
            "_view_count": null,
            "_view_module": "@jupyter-widgets/base",
            "_view_module_version": "1.2.0",
            "_view_name": "LayoutView",
            "align_content": null,
            "align_items": null,
            "align_self": null,
            "border": null,
            "bottom": null,
            "display": null,
            "flex": null,
            "flex_flow": null,
            "grid_area": null,
            "grid_auto_columns": null,
            "grid_auto_flow": null,
            "grid_auto_rows": null,
            "grid_column": null,
            "grid_gap": null,
            "grid_row": null,
            "grid_template_areas": null,
            "grid_template_columns": null,
            "grid_template_rows": null,
            "height": null,
            "justify_content": null,
            "justify_items": null,
            "left": null,
            "margin": null,
            "max_height": null,
            "max_width": null,
            "min_height": null,
            "min_width": null,
            "object_fit": null,
            "object_position": null,
            "order": null,
            "overflow": null,
            "overflow_x": null,
            "overflow_y": null,
            "padding": null,
            "right": null,
            "top": null,
            "visibility": null,
            "width": null
          }
        },
        "53172a691afe4dc98c980b71be2e8bb3": {
          "model_module": "@jupyter-widgets/controls",
          "model_name": "DescriptionStyleModel",
          "model_module_version": "1.5.0",
          "state": {
            "_model_module": "@jupyter-widgets/controls",
            "_model_module_version": "1.5.0",
            "_model_name": "DescriptionStyleModel",
            "_view_count": null,
            "_view_module": "@jupyter-widgets/base",
            "_view_module_version": "1.2.0",
            "_view_name": "StyleView",
            "description_width": ""
          }
        },
        "82d02d14cd254ca1a019a0ab2af1a8ba": {
          "model_module": "@jupyter-widgets/base",
          "model_name": "LayoutModel",
          "model_module_version": "1.2.0",
          "state": {
            "_model_module": "@jupyter-widgets/base",
            "_model_module_version": "1.2.0",
            "_model_name": "LayoutModel",
            "_view_count": null,
            "_view_module": "@jupyter-widgets/base",
            "_view_module_version": "1.2.0",
            "_view_name": "LayoutView",
            "align_content": null,
            "align_items": null,
            "align_self": null,
            "border": null,
            "bottom": null,
            "display": null,
            "flex": null,
            "flex_flow": null,
            "grid_area": null,
            "grid_auto_columns": null,
            "grid_auto_flow": null,
            "grid_auto_rows": null,
            "grid_column": null,
            "grid_gap": null,
            "grid_row": null,
            "grid_template_areas": null,
            "grid_template_columns": null,
            "grid_template_rows": null,
            "height": null,
            "justify_content": null,
            "justify_items": null,
            "left": null,
            "margin": null,
            "max_height": null,
            "max_width": null,
            "min_height": null,
            "min_width": null,
            "object_fit": null,
            "object_position": null,
            "order": null,
            "overflow": null,
            "overflow_x": null,
            "overflow_y": null,
            "padding": null,
            "right": null,
            "top": null,
            "visibility": null,
            "width": null
          }
        },
        "5092631c02c44972b84fa0edb90e1de6": {
          "model_module": "@jupyter-widgets/controls",
          "model_name": "ProgressStyleModel",
          "model_module_version": "1.5.0",
          "state": {
            "_model_module": "@jupyter-widgets/controls",
            "_model_module_version": "1.5.0",
            "_model_name": "ProgressStyleModel",
            "_view_count": null,
            "_view_module": "@jupyter-widgets/base",
            "_view_module_version": "1.2.0",
            "_view_name": "StyleView",
            "bar_color": null,
            "description_width": ""
          }
        },
        "9c221974610d4238962514d3fcabfbd2": {
          "model_module": "@jupyter-widgets/base",
          "model_name": "LayoutModel",
          "model_module_version": "1.2.0",
          "state": {
            "_model_module": "@jupyter-widgets/base",
            "_model_module_version": "1.2.0",
            "_model_name": "LayoutModel",
            "_view_count": null,
            "_view_module": "@jupyter-widgets/base",
            "_view_module_version": "1.2.0",
            "_view_name": "LayoutView",
            "align_content": null,
            "align_items": null,
            "align_self": null,
            "border": null,
            "bottom": null,
            "display": null,
            "flex": null,
            "flex_flow": null,
            "grid_area": null,
            "grid_auto_columns": null,
            "grid_auto_flow": null,
            "grid_auto_rows": null,
            "grid_column": null,
            "grid_gap": null,
            "grid_row": null,
            "grid_template_areas": null,
            "grid_template_columns": null,
            "grid_template_rows": null,
            "height": null,
            "justify_content": null,
            "justify_items": null,
            "left": null,
            "margin": null,
            "max_height": null,
            "max_width": null,
            "min_height": null,
            "min_width": null,
            "object_fit": null,
            "object_position": null,
            "order": null,
            "overflow": null,
            "overflow_x": null,
            "overflow_y": null,
            "padding": null,
            "right": null,
            "top": null,
            "visibility": null,
            "width": null
          }
        },
        "88f9a847d2604de586bcfeccf540d99f": {
          "model_module": "@jupyter-widgets/controls",
          "model_name": "DescriptionStyleModel",
          "model_module_version": "1.5.0",
          "state": {
            "_model_module": "@jupyter-widgets/controls",
            "_model_module_version": "1.5.0",
            "_model_name": "DescriptionStyleModel",
            "_view_count": null,
            "_view_module": "@jupyter-widgets/base",
            "_view_module_version": "1.2.0",
            "_view_name": "StyleView",
            "description_width": ""
          }
        },
        "9595b5e107ed461c8eada155b5aa4156": {
          "model_module": "@jupyter-widgets/controls",
          "model_name": "HBoxModel",
          "model_module_version": "1.5.0",
          "state": {
            "_dom_classes": [],
            "_model_module": "@jupyter-widgets/controls",
            "_model_module_version": "1.5.0",
            "_model_name": "HBoxModel",
            "_view_count": null,
            "_view_module": "@jupyter-widgets/controls",
            "_view_module_version": "1.5.0",
            "_view_name": "HBoxView",
            "box_style": "",
            "children": [
              "IPY_MODEL_7210714286174df89bc12696d25929e6",
              "IPY_MODEL_b76dbe48450549a2921ea1993404aa4d",
              "IPY_MODEL_28b949455da14c5ba846c934185d6b73"
            ],
            "layout": "IPY_MODEL_0cc34dd5ec62494b9578757beb8a0878"
          }
        },
        "7210714286174df89bc12696d25929e6": {
          "model_module": "@jupyter-widgets/controls",
          "model_name": "HTMLModel",
          "model_module_version": "1.5.0",
          "state": {
            "_dom_classes": [],
            "_model_module": "@jupyter-widgets/controls",
            "_model_module_version": "1.5.0",
            "_model_name": "HTMLModel",
            "_view_count": null,
            "_view_module": "@jupyter-widgets/controls",
            "_view_module_version": "1.5.0",
            "_view_name": "HTMLView",
            "description": "",
            "description_tooltip": null,
            "layout": "IPY_MODEL_3ea9c5f6e0f845f097a7d1ea3cb53ff9",
            "placeholder": "​",
            "style": "IPY_MODEL_888f4c0d50e448e3874a4cf497740f13",
            "value": ""
          }
        },
        "b76dbe48450549a2921ea1993404aa4d": {
          "model_module": "@jupyter-widgets/controls",
          "model_name": "FloatProgressModel",
          "model_module_version": "1.5.0",
          "state": {
            "_dom_classes": [],
            "_model_module": "@jupyter-widgets/controls",
            "_model_module_version": "1.5.0",
            "_model_name": "FloatProgressModel",
            "_view_count": null,
            "_view_module": "@jupyter-widgets/controls",
            "_view_module_version": "1.5.0",
            "_view_name": "ProgressView",
            "bar_style": "success",
            "description": "",
            "description_tooltip": null,
            "layout": "IPY_MODEL_685a1d9ce3654b038ed977d942c97367",
            "max": 29515,
            "min": 0,
            "orientation": "horizontal",
            "style": "IPY_MODEL_1b9d8fda302145f3b6fc1e37beb9d9c6",
            "value": 29515
          }
        },
        "28b949455da14c5ba846c934185d6b73": {
          "model_module": "@jupyter-widgets/controls",
          "model_name": "HTMLModel",
          "model_module_version": "1.5.0",
          "state": {
            "_dom_classes": [],
            "_model_module": "@jupyter-widgets/controls",
            "_model_module_version": "1.5.0",
            "_model_name": "HTMLModel",
            "_view_count": null,
            "_view_module": "@jupyter-widgets/controls",
            "_view_module_version": "1.5.0",
            "_view_name": "HTMLView",
            "description": "",
            "description_tooltip": null,
            "layout": "IPY_MODEL_1075c7567ddd4cf3be49d2d91f5aa431",
            "placeholder": "​",
            "style": "IPY_MODEL_2da4bf349f9b40ad91e0b9ee292d749d",
            "value": " 29696/? [00:00&lt;00:00, 902997.46it/s]"
          }
        },
        "0cc34dd5ec62494b9578757beb8a0878": {
          "model_module": "@jupyter-widgets/base",
          "model_name": "LayoutModel",
          "model_module_version": "1.2.0",
          "state": {
            "_model_module": "@jupyter-widgets/base",
            "_model_module_version": "1.2.0",
            "_model_name": "LayoutModel",
            "_view_count": null,
            "_view_module": "@jupyter-widgets/base",
            "_view_module_version": "1.2.0",
            "_view_name": "LayoutView",
            "align_content": null,
            "align_items": null,
            "align_self": null,
            "border": null,
            "bottom": null,
            "display": null,
            "flex": null,
            "flex_flow": null,
            "grid_area": null,
            "grid_auto_columns": null,
            "grid_auto_flow": null,
            "grid_auto_rows": null,
            "grid_column": null,
            "grid_gap": null,
            "grid_row": null,
            "grid_template_areas": null,
            "grid_template_columns": null,
            "grid_template_rows": null,
            "height": null,
            "justify_content": null,
            "justify_items": null,
            "left": null,
            "margin": null,
            "max_height": null,
            "max_width": null,
            "min_height": null,
            "min_width": null,
            "object_fit": null,
            "object_position": null,
            "order": null,
            "overflow": null,
            "overflow_x": null,
            "overflow_y": null,
            "padding": null,
            "right": null,
            "top": null,
            "visibility": null,
            "width": null
          }
        },
        "3ea9c5f6e0f845f097a7d1ea3cb53ff9": {
          "model_module": "@jupyter-widgets/base",
          "model_name": "LayoutModel",
          "model_module_version": "1.2.0",
          "state": {
            "_model_module": "@jupyter-widgets/base",
            "_model_module_version": "1.2.0",
            "_model_name": "LayoutModel",
            "_view_count": null,
            "_view_module": "@jupyter-widgets/base",
            "_view_module_version": "1.2.0",
            "_view_name": "LayoutView",
            "align_content": null,
            "align_items": null,
            "align_self": null,
            "border": null,
            "bottom": null,
            "display": null,
            "flex": null,
            "flex_flow": null,
            "grid_area": null,
            "grid_auto_columns": null,
            "grid_auto_flow": null,
            "grid_auto_rows": null,
            "grid_column": null,
            "grid_gap": null,
            "grid_row": null,
            "grid_template_areas": null,
            "grid_template_columns": null,
            "grid_template_rows": null,
            "height": null,
            "justify_content": null,
            "justify_items": null,
            "left": null,
            "margin": null,
            "max_height": null,
            "max_width": null,
            "min_height": null,
            "min_width": null,
            "object_fit": null,
            "object_position": null,
            "order": null,
            "overflow": null,
            "overflow_x": null,
            "overflow_y": null,
            "padding": null,
            "right": null,
            "top": null,
            "visibility": null,
            "width": null
          }
        },
        "888f4c0d50e448e3874a4cf497740f13": {
          "model_module": "@jupyter-widgets/controls",
          "model_name": "DescriptionStyleModel",
          "model_module_version": "1.5.0",
          "state": {
            "_model_module": "@jupyter-widgets/controls",
            "_model_module_version": "1.5.0",
            "_model_name": "DescriptionStyleModel",
            "_view_count": null,
            "_view_module": "@jupyter-widgets/base",
            "_view_module_version": "1.2.0",
            "_view_name": "StyleView",
            "description_width": ""
          }
        },
        "685a1d9ce3654b038ed977d942c97367": {
          "model_module": "@jupyter-widgets/base",
          "model_name": "LayoutModel",
          "model_module_version": "1.2.0",
          "state": {
            "_model_module": "@jupyter-widgets/base",
            "_model_module_version": "1.2.0",
            "_model_name": "LayoutModel",
            "_view_count": null,
            "_view_module": "@jupyter-widgets/base",
            "_view_module_version": "1.2.0",
            "_view_name": "LayoutView",
            "align_content": null,
            "align_items": null,
            "align_self": null,
            "border": null,
            "bottom": null,
            "display": null,
            "flex": null,
            "flex_flow": null,
            "grid_area": null,
            "grid_auto_columns": null,
            "grid_auto_flow": null,
            "grid_auto_rows": null,
            "grid_column": null,
            "grid_gap": null,
            "grid_row": null,
            "grid_template_areas": null,
            "grid_template_columns": null,
            "grid_template_rows": null,
            "height": null,
            "justify_content": null,
            "justify_items": null,
            "left": null,
            "margin": null,
            "max_height": null,
            "max_width": null,
            "min_height": null,
            "min_width": null,
            "object_fit": null,
            "object_position": null,
            "order": null,
            "overflow": null,
            "overflow_x": null,
            "overflow_y": null,
            "padding": null,
            "right": null,
            "top": null,
            "visibility": null,
            "width": null
          }
        },
        "1b9d8fda302145f3b6fc1e37beb9d9c6": {
          "model_module": "@jupyter-widgets/controls",
          "model_name": "ProgressStyleModel",
          "model_module_version": "1.5.0",
          "state": {
            "_model_module": "@jupyter-widgets/controls",
            "_model_module_version": "1.5.0",
            "_model_name": "ProgressStyleModel",
            "_view_count": null,
            "_view_module": "@jupyter-widgets/base",
            "_view_module_version": "1.2.0",
            "_view_name": "StyleView",
            "bar_color": null,
            "description_width": ""
          }
        },
        "1075c7567ddd4cf3be49d2d91f5aa431": {
          "model_module": "@jupyter-widgets/base",
          "model_name": "LayoutModel",
          "model_module_version": "1.2.0",
          "state": {
            "_model_module": "@jupyter-widgets/base",
            "_model_module_version": "1.2.0",
            "_model_name": "LayoutModel",
            "_view_count": null,
            "_view_module": "@jupyter-widgets/base",
            "_view_module_version": "1.2.0",
            "_view_name": "LayoutView",
            "align_content": null,
            "align_items": null,
            "align_self": null,
            "border": null,
            "bottom": null,
            "display": null,
            "flex": null,
            "flex_flow": null,
            "grid_area": null,
            "grid_auto_columns": null,
            "grid_auto_flow": null,
            "grid_auto_rows": null,
            "grid_column": null,
            "grid_gap": null,
            "grid_row": null,
            "grid_template_areas": null,
            "grid_template_columns": null,
            "grid_template_rows": null,
            "height": null,
            "justify_content": null,
            "justify_items": null,
            "left": null,
            "margin": null,
            "max_height": null,
            "max_width": null,
            "min_height": null,
            "min_width": null,
            "object_fit": null,
            "object_position": null,
            "order": null,
            "overflow": null,
            "overflow_x": null,
            "overflow_y": null,
            "padding": null,
            "right": null,
            "top": null,
            "visibility": null,
            "width": null
          }
        },
        "2da4bf349f9b40ad91e0b9ee292d749d": {
          "model_module": "@jupyter-widgets/controls",
          "model_name": "DescriptionStyleModel",
          "model_module_version": "1.5.0",
          "state": {
            "_model_module": "@jupyter-widgets/controls",
            "_model_module_version": "1.5.0",
            "_model_name": "DescriptionStyleModel",
            "_view_count": null,
            "_view_module": "@jupyter-widgets/base",
            "_view_module_version": "1.2.0",
            "_view_name": "StyleView",
            "description_width": ""
          }
        },
        "e9a68e690de44645bc02ab3c100cb026": {
          "model_module": "@jupyter-widgets/controls",
          "model_name": "HBoxModel",
          "model_module_version": "1.5.0",
          "state": {
            "_dom_classes": [],
            "_model_module": "@jupyter-widgets/controls",
            "_model_module_version": "1.5.0",
            "_model_name": "HBoxModel",
            "_view_count": null,
            "_view_module": "@jupyter-widgets/controls",
            "_view_module_version": "1.5.0",
            "_view_name": "HBoxView",
            "box_style": "",
            "children": [
              "IPY_MODEL_8ac793285b5f4475a027df50a03962d5",
              "IPY_MODEL_aee22e36b4ea448eb746d8ae3bafbd82",
              "IPY_MODEL_a68de34a7367485bab08cf438db53671"
            ],
            "layout": "IPY_MODEL_9d5c344fabe14235820b1d71a64494e3"
          }
        },
        "8ac793285b5f4475a027df50a03962d5": {
          "model_module": "@jupyter-widgets/controls",
          "model_name": "HTMLModel",
          "model_module_version": "1.5.0",
          "state": {
            "_dom_classes": [],
            "_model_module": "@jupyter-widgets/controls",
            "_model_module_version": "1.5.0",
            "_model_name": "HTMLModel",
            "_view_count": null,
            "_view_module": "@jupyter-widgets/controls",
            "_view_module_version": "1.5.0",
            "_view_name": "HTMLView",
            "description": "",
            "description_tooltip": null,
            "layout": "IPY_MODEL_3bd2a101c8a441149879f9c1c4a69e89",
            "placeholder": "​",
            "style": "IPY_MODEL_44d3592b59f145aba07c27502080ceda",
            "value": ""
          }
        },
        "aee22e36b4ea448eb746d8ae3bafbd82": {
          "model_module": "@jupyter-widgets/controls",
          "model_name": "FloatProgressModel",
          "model_module_version": "1.5.0",
          "state": {
            "_dom_classes": [],
            "_model_module": "@jupyter-widgets/controls",
            "_model_module_version": "1.5.0",
            "_model_name": "FloatProgressModel",
            "_view_count": null,
            "_view_module": "@jupyter-widgets/controls",
            "_view_module_version": "1.5.0",
            "_view_name": "ProgressView",
            "bar_style": "success",
            "description": "",
            "description_tooltip": null,
            "layout": "IPY_MODEL_f78af09611b84039ae4f32254d076a32",
            "max": 4422102,
            "min": 0,
            "orientation": "horizontal",
            "style": "IPY_MODEL_f6cf402d34b6439ab3f78651c3186094",
            "value": 4422102
          }
        },
        "a68de34a7367485bab08cf438db53671": {
          "model_module": "@jupyter-widgets/controls",
          "model_name": "HTMLModel",
          "model_module_version": "1.5.0",
          "state": {
            "_dom_classes": [],
            "_model_module": "@jupyter-widgets/controls",
            "_model_module_version": "1.5.0",
            "_model_name": "HTMLModel",
            "_view_count": null,
            "_view_module": "@jupyter-widgets/controls",
            "_view_module_version": "1.5.0",
            "_view_name": "HTMLView",
            "description": "",
            "description_tooltip": null,
            "layout": "IPY_MODEL_27742dbddfb1477aafa10b3dbb20b8d2",
            "placeholder": "​",
            "style": "IPY_MODEL_df45a5d68b2a4f3aa495a135ad774e88",
            "value": " 4422656/? [00:00&lt;00:00, 6604711.82it/s]"
          }
        },
        "9d5c344fabe14235820b1d71a64494e3": {
          "model_module": "@jupyter-widgets/base",
          "model_name": "LayoutModel",
          "model_module_version": "1.2.0",
          "state": {
            "_model_module": "@jupyter-widgets/base",
            "_model_module_version": "1.2.0",
            "_model_name": "LayoutModel",
            "_view_count": null,
            "_view_module": "@jupyter-widgets/base",
            "_view_module_version": "1.2.0",
            "_view_name": "LayoutView",
            "align_content": null,
            "align_items": null,
            "align_self": null,
            "border": null,
            "bottom": null,
            "display": null,
            "flex": null,
            "flex_flow": null,
            "grid_area": null,
            "grid_auto_columns": null,
            "grid_auto_flow": null,
            "grid_auto_rows": null,
            "grid_column": null,
            "grid_gap": null,
            "grid_row": null,
            "grid_template_areas": null,
            "grid_template_columns": null,
            "grid_template_rows": null,
            "height": null,
            "justify_content": null,
            "justify_items": null,
            "left": null,
            "margin": null,
            "max_height": null,
            "max_width": null,
            "min_height": null,
            "min_width": null,
            "object_fit": null,
            "object_position": null,
            "order": null,
            "overflow": null,
            "overflow_x": null,
            "overflow_y": null,
            "padding": null,
            "right": null,
            "top": null,
            "visibility": null,
            "width": null
          }
        },
        "3bd2a101c8a441149879f9c1c4a69e89": {
          "model_module": "@jupyter-widgets/base",
          "model_name": "LayoutModel",
          "model_module_version": "1.2.0",
          "state": {
            "_model_module": "@jupyter-widgets/base",
            "_model_module_version": "1.2.0",
            "_model_name": "LayoutModel",
            "_view_count": null,
            "_view_module": "@jupyter-widgets/base",
            "_view_module_version": "1.2.0",
            "_view_name": "LayoutView",
            "align_content": null,
            "align_items": null,
            "align_self": null,
            "border": null,
            "bottom": null,
            "display": null,
            "flex": null,
            "flex_flow": null,
            "grid_area": null,
            "grid_auto_columns": null,
            "grid_auto_flow": null,
            "grid_auto_rows": null,
            "grid_column": null,
            "grid_gap": null,
            "grid_row": null,
            "grid_template_areas": null,
            "grid_template_columns": null,
            "grid_template_rows": null,
            "height": null,
            "justify_content": null,
            "justify_items": null,
            "left": null,
            "margin": null,
            "max_height": null,
            "max_width": null,
            "min_height": null,
            "min_width": null,
            "object_fit": null,
            "object_position": null,
            "order": null,
            "overflow": null,
            "overflow_x": null,
            "overflow_y": null,
            "padding": null,
            "right": null,
            "top": null,
            "visibility": null,
            "width": null
          }
        },
        "44d3592b59f145aba07c27502080ceda": {
          "model_module": "@jupyter-widgets/controls",
          "model_name": "DescriptionStyleModel",
          "model_module_version": "1.5.0",
          "state": {
            "_model_module": "@jupyter-widgets/controls",
            "_model_module_version": "1.5.0",
            "_model_name": "DescriptionStyleModel",
            "_view_count": null,
            "_view_module": "@jupyter-widgets/base",
            "_view_module_version": "1.2.0",
            "_view_name": "StyleView",
            "description_width": ""
          }
        },
        "f78af09611b84039ae4f32254d076a32": {
          "model_module": "@jupyter-widgets/base",
          "model_name": "LayoutModel",
          "model_module_version": "1.2.0",
          "state": {
            "_model_module": "@jupyter-widgets/base",
            "_model_module_version": "1.2.0",
            "_model_name": "LayoutModel",
            "_view_count": null,
            "_view_module": "@jupyter-widgets/base",
            "_view_module_version": "1.2.0",
            "_view_name": "LayoutView",
            "align_content": null,
            "align_items": null,
            "align_self": null,
            "border": null,
            "bottom": null,
            "display": null,
            "flex": null,
            "flex_flow": null,
            "grid_area": null,
            "grid_auto_columns": null,
            "grid_auto_flow": null,
            "grid_auto_rows": null,
            "grid_column": null,
            "grid_gap": null,
            "grid_row": null,
            "grid_template_areas": null,
            "grid_template_columns": null,
            "grid_template_rows": null,
            "height": null,
            "justify_content": null,
            "justify_items": null,
            "left": null,
            "margin": null,
            "max_height": null,
            "max_width": null,
            "min_height": null,
            "min_width": null,
            "object_fit": null,
            "object_position": null,
            "order": null,
            "overflow": null,
            "overflow_x": null,
            "overflow_y": null,
            "padding": null,
            "right": null,
            "top": null,
            "visibility": null,
            "width": null
          }
        },
        "f6cf402d34b6439ab3f78651c3186094": {
          "model_module": "@jupyter-widgets/controls",
          "model_name": "ProgressStyleModel",
          "model_module_version": "1.5.0",
          "state": {
            "_model_module": "@jupyter-widgets/controls",
            "_model_module_version": "1.5.0",
            "_model_name": "ProgressStyleModel",
            "_view_count": null,
            "_view_module": "@jupyter-widgets/base",
            "_view_module_version": "1.2.0",
            "_view_name": "StyleView",
            "bar_color": null,
            "description_width": ""
          }
        },
        "27742dbddfb1477aafa10b3dbb20b8d2": {
          "model_module": "@jupyter-widgets/base",
          "model_name": "LayoutModel",
          "model_module_version": "1.2.0",
          "state": {
            "_model_module": "@jupyter-widgets/base",
            "_model_module_version": "1.2.0",
            "_model_name": "LayoutModel",
            "_view_count": null,
            "_view_module": "@jupyter-widgets/base",
            "_view_module_version": "1.2.0",
            "_view_name": "LayoutView",
            "align_content": null,
            "align_items": null,
            "align_self": null,
            "border": null,
            "bottom": null,
            "display": null,
            "flex": null,
            "flex_flow": null,
            "grid_area": null,
            "grid_auto_columns": null,
            "grid_auto_flow": null,
            "grid_auto_rows": null,
            "grid_column": null,
            "grid_gap": null,
            "grid_row": null,
            "grid_template_areas": null,
            "grid_template_columns": null,
            "grid_template_rows": null,
            "height": null,
            "justify_content": null,
            "justify_items": null,
            "left": null,
            "margin": null,
            "max_height": null,
            "max_width": null,
            "min_height": null,
            "min_width": null,
            "object_fit": null,
            "object_position": null,
            "order": null,
            "overflow": null,
            "overflow_x": null,
            "overflow_y": null,
            "padding": null,
            "right": null,
            "top": null,
            "visibility": null,
            "width": null
          }
        },
        "df45a5d68b2a4f3aa495a135ad774e88": {
          "model_module": "@jupyter-widgets/controls",
          "model_name": "DescriptionStyleModel",
          "model_module_version": "1.5.0",
          "state": {
            "_model_module": "@jupyter-widgets/controls",
            "_model_module_version": "1.5.0",
            "_model_name": "DescriptionStyleModel",
            "_view_count": null,
            "_view_module": "@jupyter-widgets/base",
            "_view_module_version": "1.2.0",
            "_view_name": "StyleView",
            "description_width": ""
          }
        },
        "6f4251dde6d744cca0acb48b2e6a42bb": {
          "model_module": "@jupyter-widgets/controls",
          "model_name": "HBoxModel",
          "model_module_version": "1.5.0",
          "state": {
            "_dom_classes": [],
            "_model_module": "@jupyter-widgets/controls",
            "_model_module_version": "1.5.0",
            "_model_name": "HBoxModel",
            "_view_count": null,
            "_view_module": "@jupyter-widgets/controls",
            "_view_module_version": "1.5.0",
            "_view_name": "HBoxView",
            "box_style": "",
            "children": [
              "IPY_MODEL_5a185e2d8c5f44848e773310ef3bc683",
              "IPY_MODEL_2d37960a466749358d9abf6510684eea",
              "IPY_MODEL_54f56b1cdf844b60ba1c609f654f9bc4"
            ],
            "layout": "IPY_MODEL_c1ca6ce68d214aa3aaecf13a6511634f"
          }
        },
        "5a185e2d8c5f44848e773310ef3bc683": {
          "model_module": "@jupyter-widgets/controls",
          "model_name": "HTMLModel",
          "model_module_version": "1.5.0",
          "state": {
            "_dom_classes": [],
            "_model_module": "@jupyter-widgets/controls",
            "_model_module_version": "1.5.0",
            "_model_name": "HTMLModel",
            "_view_count": null,
            "_view_module": "@jupyter-widgets/controls",
            "_view_module_version": "1.5.0",
            "_view_name": "HTMLView",
            "description": "",
            "description_tooltip": null,
            "layout": "IPY_MODEL_7b52095430604cc59c0e734177db3343",
            "placeholder": "​",
            "style": "IPY_MODEL_6ef34982fe2b4be9b770fcbed89068ba",
            "value": ""
          }
        },
        "2d37960a466749358d9abf6510684eea": {
          "model_module": "@jupyter-widgets/controls",
          "model_name": "FloatProgressModel",
          "model_module_version": "1.5.0",
          "state": {
            "_dom_classes": [],
            "_model_module": "@jupyter-widgets/controls",
            "_model_module_version": "1.5.0",
            "_model_name": "FloatProgressModel",
            "_view_count": null,
            "_view_module": "@jupyter-widgets/controls",
            "_view_module_version": "1.5.0",
            "_view_name": "ProgressView",
            "bar_style": "success",
            "description": "",
            "description_tooltip": null,
            "layout": "IPY_MODEL_9967030f20fa4dfbb1a1727b17f81c56",
            "max": 5148,
            "min": 0,
            "orientation": "horizontal",
            "style": "IPY_MODEL_91babab449e54829a3c556f18e07aa3e",
            "value": 5148
          }
        },
        "54f56b1cdf844b60ba1c609f654f9bc4": {
          "model_module": "@jupyter-widgets/controls",
          "model_name": "HTMLModel",
          "model_module_version": "1.5.0",
          "state": {
            "_dom_classes": [],
            "_model_module": "@jupyter-widgets/controls",
            "_model_module_version": "1.5.0",
            "_model_name": "HTMLModel",
            "_view_count": null,
            "_view_module": "@jupyter-widgets/controls",
            "_view_module_version": "1.5.0",
            "_view_name": "HTMLView",
            "description": "",
            "description_tooltip": null,
            "layout": "IPY_MODEL_d99af10a562a468a8e344d7fcc57674c",
            "placeholder": "​",
            "style": "IPY_MODEL_32f15aba0da44456b4745486b6ef37a8",
            "value": " 6144/? [00:00&lt;00:00, 150199.06it/s]"
          }
        },
        "c1ca6ce68d214aa3aaecf13a6511634f": {
          "model_module": "@jupyter-widgets/base",
          "model_name": "LayoutModel",
          "model_module_version": "1.2.0",
          "state": {
            "_model_module": "@jupyter-widgets/base",
            "_model_module_version": "1.2.0",
            "_model_name": "LayoutModel",
            "_view_count": null,
            "_view_module": "@jupyter-widgets/base",
            "_view_module_version": "1.2.0",
            "_view_name": "LayoutView",
            "align_content": null,
            "align_items": null,
            "align_self": null,
            "border": null,
            "bottom": null,
            "display": null,
            "flex": null,
            "flex_flow": null,
            "grid_area": null,
            "grid_auto_columns": null,
            "grid_auto_flow": null,
            "grid_auto_rows": null,
            "grid_column": null,
            "grid_gap": null,
            "grid_row": null,
            "grid_template_areas": null,
            "grid_template_columns": null,
            "grid_template_rows": null,
            "height": null,
            "justify_content": null,
            "justify_items": null,
            "left": null,
            "margin": null,
            "max_height": null,
            "max_width": null,
            "min_height": null,
            "min_width": null,
            "object_fit": null,
            "object_position": null,
            "order": null,
            "overflow": null,
            "overflow_x": null,
            "overflow_y": null,
            "padding": null,
            "right": null,
            "top": null,
            "visibility": null,
            "width": null
          }
        },
        "7b52095430604cc59c0e734177db3343": {
          "model_module": "@jupyter-widgets/base",
          "model_name": "LayoutModel",
          "model_module_version": "1.2.0",
          "state": {
            "_model_module": "@jupyter-widgets/base",
            "_model_module_version": "1.2.0",
            "_model_name": "LayoutModel",
            "_view_count": null,
            "_view_module": "@jupyter-widgets/base",
            "_view_module_version": "1.2.0",
            "_view_name": "LayoutView",
            "align_content": null,
            "align_items": null,
            "align_self": null,
            "border": null,
            "bottom": null,
            "display": null,
            "flex": null,
            "flex_flow": null,
            "grid_area": null,
            "grid_auto_columns": null,
            "grid_auto_flow": null,
            "grid_auto_rows": null,
            "grid_column": null,
            "grid_gap": null,
            "grid_row": null,
            "grid_template_areas": null,
            "grid_template_columns": null,
            "grid_template_rows": null,
            "height": null,
            "justify_content": null,
            "justify_items": null,
            "left": null,
            "margin": null,
            "max_height": null,
            "max_width": null,
            "min_height": null,
            "min_width": null,
            "object_fit": null,
            "object_position": null,
            "order": null,
            "overflow": null,
            "overflow_x": null,
            "overflow_y": null,
            "padding": null,
            "right": null,
            "top": null,
            "visibility": null,
            "width": null
          }
        },
        "6ef34982fe2b4be9b770fcbed89068ba": {
          "model_module": "@jupyter-widgets/controls",
          "model_name": "DescriptionStyleModel",
          "model_module_version": "1.5.0",
          "state": {
            "_model_module": "@jupyter-widgets/controls",
            "_model_module_version": "1.5.0",
            "_model_name": "DescriptionStyleModel",
            "_view_count": null,
            "_view_module": "@jupyter-widgets/base",
            "_view_module_version": "1.2.0",
            "_view_name": "StyleView",
            "description_width": ""
          }
        },
        "9967030f20fa4dfbb1a1727b17f81c56": {
          "model_module": "@jupyter-widgets/base",
          "model_name": "LayoutModel",
          "model_module_version": "1.2.0",
          "state": {
            "_model_module": "@jupyter-widgets/base",
            "_model_module_version": "1.2.0",
            "_model_name": "LayoutModel",
            "_view_count": null,
            "_view_module": "@jupyter-widgets/base",
            "_view_module_version": "1.2.0",
            "_view_name": "LayoutView",
            "align_content": null,
            "align_items": null,
            "align_self": null,
            "border": null,
            "bottom": null,
            "display": null,
            "flex": null,
            "flex_flow": null,
            "grid_area": null,
            "grid_auto_columns": null,
            "grid_auto_flow": null,
            "grid_auto_rows": null,
            "grid_column": null,
            "grid_gap": null,
            "grid_row": null,
            "grid_template_areas": null,
            "grid_template_columns": null,
            "grid_template_rows": null,
            "height": null,
            "justify_content": null,
            "justify_items": null,
            "left": null,
            "margin": null,
            "max_height": null,
            "max_width": null,
            "min_height": null,
            "min_width": null,
            "object_fit": null,
            "object_position": null,
            "order": null,
            "overflow": null,
            "overflow_x": null,
            "overflow_y": null,
            "padding": null,
            "right": null,
            "top": null,
            "visibility": null,
            "width": null
          }
        },
        "91babab449e54829a3c556f18e07aa3e": {
          "model_module": "@jupyter-widgets/controls",
          "model_name": "ProgressStyleModel",
          "model_module_version": "1.5.0",
          "state": {
            "_model_module": "@jupyter-widgets/controls",
            "_model_module_version": "1.5.0",
            "_model_name": "ProgressStyleModel",
            "_view_count": null,
            "_view_module": "@jupyter-widgets/base",
            "_view_module_version": "1.2.0",
            "_view_name": "StyleView",
            "bar_color": null,
            "description_width": ""
          }
        },
        "d99af10a562a468a8e344d7fcc57674c": {
          "model_module": "@jupyter-widgets/base",
          "model_name": "LayoutModel",
          "model_module_version": "1.2.0",
          "state": {
            "_model_module": "@jupyter-widgets/base",
            "_model_module_version": "1.2.0",
            "_model_name": "LayoutModel",
            "_view_count": null,
            "_view_module": "@jupyter-widgets/base",
            "_view_module_version": "1.2.0",
            "_view_name": "LayoutView",
            "align_content": null,
            "align_items": null,
            "align_self": null,
            "border": null,
            "bottom": null,
            "display": null,
            "flex": null,
            "flex_flow": null,
            "grid_area": null,
            "grid_auto_columns": null,
            "grid_auto_flow": null,
            "grid_auto_rows": null,
            "grid_column": null,
            "grid_gap": null,
            "grid_row": null,
            "grid_template_areas": null,
            "grid_template_columns": null,
            "grid_template_rows": null,
            "height": null,
            "justify_content": null,
            "justify_items": null,
            "left": null,
            "margin": null,
            "max_height": null,
            "max_width": null,
            "min_height": null,
            "min_width": null,
            "object_fit": null,
            "object_position": null,
            "order": null,
            "overflow": null,
            "overflow_x": null,
            "overflow_y": null,
            "padding": null,
            "right": null,
            "top": null,
            "visibility": null,
            "width": null
          }
        },
        "32f15aba0da44456b4745486b6ef37a8": {
          "model_module": "@jupyter-widgets/controls",
          "model_name": "DescriptionStyleModel",
          "model_module_version": "1.5.0",
          "state": {
            "_model_module": "@jupyter-widgets/controls",
            "_model_module_version": "1.5.0",
            "_model_name": "DescriptionStyleModel",
            "_view_count": null,
            "_view_module": "@jupyter-widgets/base",
            "_view_module_version": "1.2.0",
            "_view_name": "StyleView",
            "description_width": ""
          }
        }
      }
    }
  },
  "cells": [
    {
      "cell_type": "code",
      "execution_count": 2,
      "metadata": {
        "colab": {
          "base_uri": "https://localhost:8080/",
          "height": 1000
        },
        "id": "1rdf1qdYN9wi",
        "outputId": "6792fc87-778b-4c59-f704-6f752008b4bb"
      },
      "outputs": [
        {
          "output_type": "stream",
          "name": "stdout",
          "text": [
            "Collecting d2l\n",
            "  Downloading d2l-0.17.5-py3-none-any.whl (82 kB)\n",
            "\u001b[?25l\r\u001b[K     |████                            | 10 kB 25.1 MB/s eta 0:00:01\r\u001b[K     |████████                        | 20 kB 28.6 MB/s eta 0:00:01\r\u001b[K     |████████████                    | 30 kB 34.8 MB/s eta 0:00:01\r\u001b[K     |████████████████                | 40 kB 15.3 MB/s eta 0:00:01\r\u001b[K     |███████████████████▉            | 51 kB 12.5 MB/s eta 0:00:01\r\u001b[K     |███████████████████████▉        | 61 kB 14.5 MB/s eta 0:00:01\r\u001b[K     |███████████████████████████▉    | 71 kB 13.2 MB/s eta 0:00:01\r\u001b[K     |███████████████████████████████▉| 81 kB 14.2 MB/s eta 0:00:01\r\u001b[K     |████████████████████████████████| 82 kB 545 kB/s \n",
            "\u001b[?25hRequirement already satisfied: jupyter==1.0.0 in /usr/local/lib/python3.7/dist-packages (from d2l) (1.0.0)\n",
            "Requirement already satisfied: numpy==1.21.5 in /usr/local/lib/python3.7/dist-packages (from d2l) (1.21.5)\n",
            "Collecting pandas==1.2.4\n",
            "  Downloading pandas-1.2.4-cp37-cp37m-manylinux1_x86_64.whl (9.9 MB)\n",
            "\u001b[K     |████████████████████████████████| 9.9 MB 40.0 MB/s \n",
            "\u001b[?25hCollecting matplotlib==3.5.1\n",
            "  Downloading matplotlib-3.5.1-cp37-cp37m-manylinux_2_5_x86_64.manylinux1_x86_64.whl (11.2 MB)\n",
            "\u001b[K     |████████████████████████████████| 11.2 MB 61.4 MB/s \n",
            "\u001b[?25hCollecting requests==2.25.1\n",
            "  Downloading requests-2.25.1-py2.py3-none-any.whl (61 kB)\n",
            "\u001b[K     |████████████████████████████████| 61 kB 7.1 MB/s \n",
            "\u001b[?25hRequirement already satisfied: nbconvert in /usr/local/lib/python3.7/dist-packages (from jupyter==1.0.0->d2l) (5.6.1)\n",
            "Requirement already satisfied: notebook in /usr/local/lib/python3.7/dist-packages (from jupyter==1.0.0->d2l) (5.3.1)\n",
            "Requirement already satisfied: ipywidgets in /usr/local/lib/python3.7/dist-packages (from jupyter==1.0.0->d2l) (7.7.0)\n",
            "Requirement already satisfied: ipykernel in /usr/local/lib/python3.7/dist-packages (from jupyter==1.0.0->d2l) (4.10.1)\n",
            "Requirement already satisfied: jupyter-console in /usr/local/lib/python3.7/dist-packages (from jupyter==1.0.0->d2l) (5.2.0)\n",
            "Requirement already satisfied: qtconsole in /usr/local/lib/python3.7/dist-packages (from jupyter==1.0.0->d2l) (5.3.0)\n",
            "Requirement already satisfied: python-dateutil>=2.7 in /usr/local/lib/python3.7/dist-packages (from matplotlib==3.5.1->d2l) (2.8.2)\n",
            "Collecting fonttools>=4.22.0\n",
            "  Downloading fonttools-4.32.0-py3-none-any.whl (900 kB)\n",
            "\u001b[K     |████████████████████████████████| 900 kB 46.1 MB/s \n",
            "\u001b[?25hRequirement already satisfied: cycler>=0.10 in /usr/local/lib/python3.7/dist-packages (from matplotlib==3.5.1->d2l) (0.11.0)\n",
            "Requirement already satisfied: pyparsing>=2.2.1 in /usr/local/lib/python3.7/dist-packages (from matplotlib==3.5.1->d2l) (3.0.8)\n",
            "Requirement already satisfied: kiwisolver>=1.0.1 in /usr/local/lib/python3.7/dist-packages (from matplotlib==3.5.1->d2l) (1.4.2)\n",
            "Requirement already satisfied: packaging>=20.0 in /usr/local/lib/python3.7/dist-packages (from matplotlib==3.5.1->d2l) (21.3)\n",
            "Requirement already satisfied: pillow>=6.2.0 in /usr/local/lib/python3.7/dist-packages (from matplotlib==3.5.1->d2l) (7.1.2)\n",
            "Requirement already satisfied: pytz>=2017.3 in /usr/local/lib/python3.7/dist-packages (from pandas==1.2.4->d2l) (2018.9)\n",
            "Requirement already satisfied: idna<3,>=2.5 in /usr/local/lib/python3.7/dist-packages (from requests==2.25.1->d2l) (2.10)\n",
            "Requirement already satisfied: urllib3<1.27,>=1.21.1 in /usr/local/lib/python3.7/dist-packages (from requests==2.25.1->d2l) (1.24.3)\n",
            "Requirement already satisfied: certifi>=2017.4.17 in /usr/local/lib/python3.7/dist-packages (from requests==2.25.1->d2l) (2021.10.8)\n",
            "Requirement already satisfied: chardet<5,>=3.0.2 in /usr/local/lib/python3.7/dist-packages (from requests==2.25.1->d2l) (3.0.4)\n",
            "Requirement already satisfied: typing-extensions in /usr/local/lib/python3.7/dist-packages (from kiwisolver>=1.0.1->matplotlib==3.5.1->d2l) (4.1.1)\n",
            "Requirement already satisfied: six>=1.5 in /usr/local/lib/python3.7/dist-packages (from python-dateutil>=2.7->matplotlib==3.5.1->d2l) (1.15.0)\n",
            "Requirement already satisfied: jupyter-client in /usr/local/lib/python3.7/dist-packages (from ipykernel->jupyter==1.0.0->d2l) (5.3.5)\n",
            "Requirement already satisfied: ipython>=4.0.0 in /usr/local/lib/python3.7/dist-packages (from ipykernel->jupyter==1.0.0->d2l) (5.5.0)\n",
            "Requirement already satisfied: tornado>=4.0 in /usr/local/lib/python3.7/dist-packages (from ipykernel->jupyter==1.0.0->d2l) (5.1.1)\n",
            "Requirement already satisfied: traitlets>=4.1.0 in /usr/local/lib/python3.7/dist-packages (from ipykernel->jupyter==1.0.0->d2l) (5.1.1)\n",
            "Requirement already satisfied: setuptools>=18.5 in /usr/local/lib/python3.7/dist-packages (from ipython>=4.0.0->ipykernel->jupyter==1.0.0->d2l) (57.4.0)\n",
            "Requirement already satisfied: simplegeneric>0.8 in /usr/local/lib/python3.7/dist-packages (from ipython>=4.0.0->ipykernel->jupyter==1.0.0->d2l) (0.8.1)\n",
            "Requirement already satisfied: pygments in /usr/local/lib/python3.7/dist-packages (from ipython>=4.0.0->ipykernel->jupyter==1.0.0->d2l) (2.6.1)\n",
            "Requirement already satisfied: pexpect in /usr/local/lib/python3.7/dist-packages (from ipython>=4.0.0->ipykernel->jupyter==1.0.0->d2l) (4.8.0)\n",
            "Requirement already satisfied: decorator in /usr/local/lib/python3.7/dist-packages (from ipython>=4.0.0->ipykernel->jupyter==1.0.0->d2l) (4.4.2)\n",
            "Requirement already satisfied: prompt-toolkit<2.0.0,>=1.0.4 in /usr/local/lib/python3.7/dist-packages (from ipython>=4.0.0->ipykernel->jupyter==1.0.0->d2l) (1.0.18)\n",
            "Requirement already satisfied: pickleshare in /usr/local/lib/python3.7/dist-packages (from ipython>=4.0.0->ipykernel->jupyter==1.0.0->d2l) (0.7.5)\n",
            "Requirement already satisfied: wcwidth in /usr/local/lib/python3.7/dist-packages (from prompt-toolkit<2.0.0,>=1.0.4->ipython>=4.0.0->ipykernel->jupyter==1.0.0->d2l) (0.2.5)\n",
            "Requirement already satisfied: ipython-genutils~=0.2.0 in /usr/local/lib/python3.7/dist-packages (from ipywidgets->jupyter==1.0.0->d2l) (0.2.0)\n",
            "Requirement already satisfied: nbformat>=4.2.0 in /usr/local/lib/python3.7/dist-packages (from ipywidgets->jupyter==1.0.0->d2l) (5.3.0)\n",
            "Requirement already satisfied: jupyterlab-widgets>=1.0.0 in /usr/local/lib/python3.7/dist-packages (from ipywidgets->jupyter==1.0.0->d2l) (1.1.0)\n",
            "Requirement already satisfied: widgetsnbextension~=3.6.0 in /usr/local/lib/python3.7/dist-packages (from ipywidgets->jupyter==1.0.0->d2l) (3.6.0)\n",
            "Requirement already satisfied: jupyter-core in /usr/local/lib/python3.7/dist-packages (from nbformat>=4.2.0->ipywidgets->jupyter==1.0.0->d2l) (4.9.2)\n",
            "Requirement already satisfied: jsonschema>=2.6 in /usr/local/lib/python3.7/dist-packages (from nbformat>=4.2.0->ipywidgets->jupyter==1.0.0->d2l) (4.3.3)\n",
            "Requirement already satisfied: fastjsonschema in /usr/local/lib/python3.7/dist-packages (from nbformat>=4.2.0->ipywidgets->jupyter==1.0.0->d2l) (2.15.3)\n",
            "Requirement already satisfied: pyrsistent!=0.17.0,!=0.17.1,!=0.17.2,>=0.14.0 in /usr/local/lib/python3.7/dist-packages (from jsonschema>=2.6->nbformat>=4.2.0->ipywidgets->jupyter==1.0.0->d2l) (0.18.1)\n",
            "Requirement already satisfied: importlib-metadata in /usr/local/lib/python3.7/dist-packages (from jsonschema>=2.6->nbformat>=4.2.0->ipywidgets->jupyter==1.0.0->d2l) (4.11.3)\n",
            "Requirement already satisfied: attrs>=17.4.0 in /usr/local/lib/python3.7/dist-packages (from jsonschema>=2.6->nbformat>=4.2.0->ipywidgets->jupyter==1.0.0->d2l) (21.4.0)\n",
            "Requirement already satisfied: importlib-resources>=1.4.0 in /usr/local/lib/python3.7/dist-packages (from jsonschema>=2.6->nbformat>=4.2.0->ipywidgets->jupyter==1.0.0->d2l) (5.6.0)\n",
            "Requirement already satisfied: zipp>=3.1.0 in /usr/local/lib/python3.7/dist-packages (from importlib-resources>=1.4.0->jsonschema>=2.6->nbformat>=4.2.0->ipywidgets->jupyter==1.0.0->d2l) (3.8.0)\n",
            "Requirement already satisfied: terminado>=0.8.1 in /usr/local/lib/python3.7/dist-packages (from notebook->jupyter==1.0.0->d2l) (0.13.3)\n",
            "Requirement already satisfied: Send2Trash in /usr/local/lib/python3.7/dist-packages (from notebook->jupyter==1.0.0->d2l) (1.8.0)\n",
            "Requirement already satisfied: jinja2 in /usr/local/lib/python3.7/dist-packages (from notebook->jupyter==1.0.0->d2l) (2.11.3)\n",
            "Requirement already satisfied: pyzmq>=13 in /usr/local/lib/python3.7/dist-packages (from jupyter-client->ipykernel->jupyter==1.0.0->d2l) (22.3.0)\n",
            "Requirement already satisfied: ptyprocess in /usr/local/lib/python3.7/dist-packages (from terminado>=0.8.1->notebook->jupyter==1.0.0->d2l) (0.7.0)\n",
            "Requirement already satisfied: MarkupSafe>=0.23 in /usr/local/lib/python3.7/dist-packages (from jinja2->notebook->jupyter==1.0.0->d2l) (2.0.1)\n",
            "Requirement already satisfied: defusedxml in /usr/local/lib/python3.7/dist-packages (from nbconvert->jupyter==1.0.0->d2l) (0.7.1)\n",
            "Requirement already satisfied: testpath in /usr/local/lib/python3.7/dist-packages (from nbconvert->jupyter==1.0.0->d2l) (0.6.0)\n",
            "Requirement already satisfied: pandocfilters>=1.4.1 in /usr/local/lib/python3.7/dist-packages (from nbconvert->jupyter==1.0.0->d2l) (1.5.0)\n",
            "Requirement already satisfied: mistune<2,>=0.8.1 in /usr/local/lib/python3.7/dist-packages (from nbconvert->jupyter==1.0.0->d2l) (0.8.4)\n",
            "Requirement already satisfied: entrypoints>=0.2.2 in /usr/local/lib/python3.7/dist-packages (from nbconvert->jupyter==1.0.0->d2l) (0.4)\n",
            "Requirement already satisfied: bleach in /usr/local/lib/python3.7/dist-packages (from nbconvert->jupyter==1.0.0->d2l) (5.0.0)\n",
            "Requirement already satisfied: webencodings in /usr/local/lib/python3.7/dist-packages (from bleach->nbconvert->jupyter==1.0.0->d2l) (0.5.1)\n",
            "Requirement already satisfied: qtpy>=2.0.1 in /usr/local/lib/python3.7/dist-packages (from qtconsole->jupyter==1.0.0->d2l) (2.0.1)\n",
            "Installing collected packages: fonttools, requests, pandas, matplotlib, d2l\n",
            "  Attempting uninstall: requests\n",
            "    Found existing installation: requests 2.23.0\n",
            "    Uninstalling requests-2.23.0:\n",
            "      Successfully uninstalled requests-2.23.0\n",
            "  Attempting uninstall: pandas\n",
            "    Found existing installation: pandas 1.3.5\n",
            "    Uninstalling pandas-1.3.5:\n",
            "      Successfully uninstalled pandas-1.3.5\n",
            "  Attempting uninstall: matplotlib\n",
            "    Found existing installation: matplotlib 3.2.2\n",
            "    Uninstalling matplotlib-3.2.2:\n",
            "      Successfully uninstalled matplotlib-3.2.2\n",
            "\u001b[31mERROR: pip's dependency resolver does not currently take into account all the packages that are installed. This behaviour is the source of the following dependency conflicts.\n",
            "google-colab 1.0.0 requires requests~=2.23.0, but you have requests 2.25.1 which is incompatible.\n",
            "datascience 0.10.6 requires folium==0.2.1, but you have folium 0.8.3 which is incompatible.\n",
            "albumentations 0.1.12 requires imgaug<0.2.7,>=0.2.5, but you have imgaug 0.2.9 which is incompatible.\u001b[0m\n",
            "Successfully installed d2l-0.17.5 fonttools-4.32.0 matplotlib-3.5.1 pandas-1.2.4 requests-2.25.1\n"
          ]
        },
        {
          "output_type": "display_data",
          "data": {
            "application/vnd.colab-display-data+json": {
              "pip_warning": {
                "packages": [
                  "matplotlib",
                  "mpl_toolkits",
                  "pandas"
                ]
              }
            }
          },
          "metadata": {}
        },
        {
          "output_type": "stream",
          "name": "stdout",
          "text": [
            "Collecting matplotlib==3.0.2\n",
            "  Downloading matplotlib-3.0.2-cp37-cp37m-manylinux1_x86_64.whl (12.9 MB)\n",
            "\u001b[K     |████████████████████████████████| 12.9 MB 14.5 MB/s \n",
            "\u001b[?25hRequirement already satisfied: python-dateutil>=2.1 in /usr/local/lib/python3.7/dist-packages (from matplotlib==3.0.2) (2.8.2)\n",
            "Requirement already satisfied: numpy>=1.10.0 in /usr/local/lib/python3.7/dist-packages (from matplotlib==3.0.2) (1.21.5)\n",
            "Requirement already satisfied: cycler>=0.10 in /usr/local/lib/python3.7/dist-packages (from matplotlib==3.0.2) (0.11.0)\n",
            "Requirement already satisfied: kiwisolver>=1.0.1 in /usr/local/lib/python3.7/dist-packages (from matplotlib==3.0.2) (1.4.2)\n",
            "Requirement already satisfied: pyparsing!=2.0.4,!=2.1.2,!=2.1.6,>=2.0.1 in /usr/local/lib/python3.7/dist-packages (from matplotlib==3.0.2) (3.0.8)\n",
            "Requirement already satisfied: typing-extensions in /usr/local/lib/python3.7/dist-packages (from kiwisolver>=1.0.1->matplotlib==3.0.2) (4.1.1)\n",
            "Requirement already satisfied: six>=1.5 in /usr/local/lib/python3.7/dist-packages (from python-dateutil>=2.1->matplotlib==3.0.2) (1.15.0)\n",
            "Installing collected packages: matplotlib\n",
            "  Attempting uninstall: matplotlib\n",
            "    Found existing installation: matplotlib 3.5.1\n",
            "    Uninstalling matplotlib-3.5.1:\n",
            "      Successfully uninstalled matplotlib-3.5.1\n",
            "\u001b[31mERROR: pip's dependency resolver does not currently take into account all the packages that are installed. This behaviour is the source of the following dependency conflicts.\n",
            "plotnine 0.6.0 requires matplotlib>=3.1.1, but you have matplotlib 3.0.2 which is incompatible.\n",
            "mizani 0.6.0 requires matplotlib>=3.1.1, but you have matplotlib 3.0.2 which is incompatible.\n",
            "d2l 0.17.5 requires matplotlib==3.5.1, but you have matplotlib 3.0.2 which is incompatible.\n",
            "albumentations 0.1.12 requires imgaug<0.2.7,>=0.2.5, but you have imgaug 0.2.9 which is incompatible.\u001b[0m\n",
            "Successfully installed matplotlib-3.0.2\n"
          ]
        },
        {
          "output_type": "display_data",
          "data": {
            "application/vnd.colab-display-data+json": {
              "pip_warning": {
                "packages": [
                  "matplotlib",
                  "mpl_toolkits"
                ]
              }
            }
          },
          "metadata": {}
        }
      ],
      "source": [
        "!pip install d2l\n",
        "!pip install matplotlib==3.0.2"
      ]
    },
    {
      "cell_type": "markdown",
      "source": [
        "## Dropout in Practice"
      ],
      "metadata": {
        "id": "BtWucRj81pXp"
      }
    },
    {
      "cell_type": "markdown",
      "source": [
        "![image.png](data:image/png;base64,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)"
      ],
      "metadata": {
        "id": "Cyt-CXIq12wJ"
      }
    },
    {
      "cell_type": "markdown",
      "source": [
        "## Implementation from Scratch"
      ],
      "metadata": {
        "id": "jLQZU9ip145P"
      }
    },
    {
      "cell_type": "markdown",
      "source": [
        "Untuk mengimplemperasikan fungsi dropout untuk satu layer, kita harus menggambar sebanyak mungkin sampel dari variabel acak Bernoulli (biner) karena layernya memiliki dimensi, di mana variabel acak membutuhkan nilai (keep) dengan probabilitas *1-p* dan *0* (drop) dengan probabilitas *p*.\n",
        "\n",
        "Satu **cara** mudah u**ntuk mengimplementasikan** ini adalah untuk menggambar sampel pertama dari distribusi yang seragam. Maka kita dapat menjaga node-node itu untuk sampel yang sesuai lebih besar daripada, menjatuhkan sisanya.\n",
        "\n",
        "Dengan kode ini, dapat diterapkan fungsi dropout_layer yang menjatuhkan elemen-elemen pada input tensor **X** dengan probability dropout, rescaling sisanya seperti dijelaskan di atas: Membagi survivors dengan 1,0-dropout."
      ],
      "metadata": {
        "id": "d5yIOFC22OAp"
      }
    },
    {
      "cell_type": "code",
      "source": [
        "import torch\n",
        "from torch import nn\n",
        "from d2l import torch as d2l\n",
        "\n",
        "\n",
        "def dropout_layer(X, dropout):\n",
        "    assert 0 <= dropout <= 1\n",
        "    # In this case, all elements are dropped out\n",
        "    if dropout == 1:\n",
        "        return torch.zeros_like(X)\n",
        "    # In this case, all elements are kept\n",
        "    if dropout == 0:\n",
        "        return X\n",
        "    mask = (torch.rand(X.shape) > dropout).float()\n",
        "    return mask * X / (1.0 - dropout)"
      ],
      "metadata": {
        "id": "PfNEbMVf2_ev"
      },
      "execution_count": 1,
      "outputs": []
    },
    {
      "cell_type": "markdown",
      "source": [
        "Kami dapat menguji fungsi dropout_layer pada beberapa contoh. Dalam baris kode berikut, kami melewati input **X** kami melalui operasi dropout, **dengan probabilitas 0, 0,5, dan 1**, masing-masing."
      ],
      "metadata": {
        "id": "0yBdEv_w5lz2"
      }
    },
    {
      "cell_type": "code",
      "source": [
        "X= torch.arange(16, dtype = torch.float32).reshape((2, 8))\n",
        "print(X)\n",
        "print(dropout_layer(X, 0.))\n",
        "print(dropout_layer(X, 0.5))\n",
        "print(dropout_layer(X, 1.))"
      ],
      "metadata": {
        "colab": {
          "base_uri": "https://localhost:8080/"
        },
        "id": "eFvV2EMD5q4x",
        "outputId": "16eb29e8-ba0b-4003-ece7-c36e9e43bddd"
      },
      "execution_count": 2,
      "outputs": [
        {
          "output_type": "stream",
          "name": "stdout",
          "text": [
            "tensor([[ 0.,  1.,  2.,  3.,  4.,  5.,  6.,  7.],\n",
            "        [ 8.,  9., 10., 11., 12., 13., 14., 15.]])\n",
            "tensor([[ 0.,  1.,  2.,  3.,  4.,  5.,  6.,  7.],\n",
            "        [ 8.,  9., 10., 11., 12., 13., 14., 15.]])\n",
            "tensor([[ 0.,  0.,  4.,  0.,  0.,  0., 12., 14.],\n",
            "        [16., 18., 20., 22., 24., 26.,  0.,  0.]])\n",
            "tensor([[0., 0., 0., 0., 0., 0., 0., 0.],\n",
            "        [0., 0., 0., 0., 0., 0., 0., 0.]])\n"
          ]
        }
      ]
    },
    {
      "cell_type": "markdown",
      "source": [
        "### Defining Model Parameters"
      ],
      "metadata": {
        "id": "4-S0Yx875slQ"
      }
    },
    {
      "cell_type": "markdown",
      "source": [
        "Dengan data Fashion-MNIST. Dapat didefinisikan MLP dengan dua layer tersembunyi masing-masing masing-masing 256 unit."
      ],
      "metadata": {
        "id": "TTXGd_Rt5yvi"
      }
    },
    {
      "cell_type": "code",
      "source": [
        "num_inputs, num_outputs, num_hiddens1, num_hiddens2 = 784, 10, 256, 256"
      ],
      "metadata": {
        "id": "2_aiH7Jq5_Wf"
      },
      "execution_count": 3,
      "outputs": []
    },
    {
      "cell_type": "markdown",
      "source": [
        "### Defining the Model"
      ],
      "metadata": {
        "id": "SDYbqRa56BbC"
      }
    },
    {
      "cell_type": "markdown",
      "source": [
        "Model di bawah ini menerapkan dropout ke output setiap hidden layer (mengikuti fungsi aktivasi). Kami dapat mengatur probabilitas dropout untuk setiap lapisan secara terpisah. Tren umum adalah untuk menetapkan probabilitas dropout yang lebih rendah lebih dekat ke lapisan input.\n",
        "\n",
        "**Contoh** dibawah ini diatur menjadi 0,2 dan 0,5 untuk hidden layer pertama dan kedua. \n",
        "\n",
        "*Kami memastikan bahwa dropout hanya aktif selama pelatihan.*"
      ],
      "metadata": {
        "id": "dnai2io96OUQ"
      }
    },
    {
      "cell_type": "code",
      "source": [
        "dropout1, dropout2 = 0.2, 0.5\n",
        "\n",
        "class Net(nn.Module):\n",
        "    def __init__(self, num_inputs, num_outputs, num_hiddens1, num_hiddens2,\n",
        "                 is_training = True):\n",
        "        super(Net, self).__init__()\n",
        "        self.num_inputs = num_inputs\n",
        "        self.training = is_training\n",
        "        self.lin1 = nn.Linear(num_inputs, num_hiddens1)\n",
        "        self.lin2 = nn.Linear(num_hiddens1, num_hiddens2)\n",
        "        self.lin3 = nn.Linear(num_hiddens2, num_outputs)\n",
        "        self.relu = nn.ReLU()\n",
        "\n",
        "    def forward(self, X):\n",
        "        H1 = self.relu(self.lin1(X.reshape((-1, self.num_inputs))))\n",
        "        # Use dropout only when training the model\n",
        "        if self.training == True:\n",
        "            # Add a dropout layer after the first fully connected layer\n",
        "            H1 = dropout_layer(H1, dropout1)\n",
        "        H2 = self.relu(self.lin2(H1))\n",
        "        if self.training == True:\n",
        "            # Add a dropout layer after the second fully connected layer\n",
        "            H2 = dropout_layer(H2, dropout2)\n",
        "        out = self.lin3(H2)\n",
        "        return out\n",
        "\n",
        "\n",
        "net = Net(num_inputs, num_outputs, num_hiddens1, num_hiddens2)"
      ],
      "metadata": {
        "id": "RHSUQTb46gLb"
      },
      "execution_count": 4,
      "outputs": []
    },
    {
      "cell_type": "markdown",
      "source": [
        "### Training and Testing\n",
        "\n",
        "Ini mirip dengan pelatihan dan pengujian MLPS yang dijelaskan sebelumnya."
      ],
      "metadata": {
        "id": "TTho6yG26kRS"
      }
    },
    {
      "cell_type": "code",
      "source": [
        "num_epochs, lr, batch_size = 10, 0.5, 256\n",
        "loss = nn.CrossEntropyLoss(reduction='none')\n",
        "train_iter, test_iter = d2l.load_data_fashion_mnist(batch_size)\n",
        "trainer = torch.optim.SGD(net.parameters(), lr=lr)\n",
        "d2l.train_ch3(net, train_iter, test_iter, loss, num_epochs, trainer)"
      ],
      "metadata": {
        "colab": {
          "base_uri": "https://localhost:8080/",
          "height": 266,
          "referenced_widgets": [
            "356315547b4a4ff1a3edc8d2747a8a11",
            "22e7aa8dac5340338d1a0506bab6a9d1",
            "9cba9430033240faa057481fb6b56c5e",
            "697b1825d2b64b75be977427defb9c36",
            "a45c369870ae4a189b96d7ad6ed90eea",
            "a3f6c218fd96412c8598852a25fefcd6",
            "53172a691afe4dc98c980b71be2e8bb3",
            "82d02d14cd254ca1a019a0ab2af1a8ba",
            "5092631c02c44972b84fa0edb90e1de6",
            "9c221974610d4238962514d3fcabfbd2",
            "88f9a847d2604de586bcfeccf540d99f",
            "9595b5e107ed461c8eada155b5aa4156",
            "7210714286174df89bc12696d25929e6",
            "b76dbe48450549a2921ea1993404aa4d",
            "28b949455da14c5ba846c934185d6b73",
            "0cc34dd5ec62494b9578757beb8a0878",
            "3ea9c5f6e0f845f097a7d1ea3cb53ff9",
            "888f4c0d50e448e3874a4cf497740f13",
            "685a1d9ce3654b038ed977d942c97367",
            "1b9d8fda302145f3b6fc1e37beb9d9c6",
            "1075c7567ddd4cf3be49d2d91f5aa431",
            "2da4bf349f9b40ad91e0b9ee292d749d",
            "e9a68e690de44645bc02ab3c100cb026",
            "8ac793285b5f4475a027df50a03962d5",
            "aee22e36b4ea448eb746d8ae3bafbd82",
            "a68de34a7367485bab08cf438db53671",
            "9d5c344fabe14235820b1d71a64494e3",
            "3bd2a101c8a441149879f9c1c4a69e89",
            "44d3592b59f145aba07c27502080ceda",
            "f78af09611b84039ae4f32254d076a32",
            "f6cf402d34b6439ab3f78651c3186094",
            "27742dbddfb1477aafa10b3dbb20b8d2",
            "df45a5d68b2a4f3aa495a135ad774e88",
            "6f4251dde6d744cca0acb48b2e6a42bb",
            "5a185e2d8c5f44848e773310ef3bc683",
            "2d37960a466749358d9abf6510684eea",
            "54f56b1cdf844b60ba1c609f654f9bc4",
            "c1ca6ce68d214aa3aaecf13a6511634f",
            "7b52095430604cc59c0e734177db3343",
            "6ef34982fe2b4be9b770fcbed89068ba",
            "9967030f20fa4dfbb1a1727b17f81c56",
            "91babab449e54829a3c556f18e07aa3e",
            "d99af10a562a468a8e344d7fcc57674c",
            "32f15aba0da44456b4745486b6ef37a8"
          ]
        },
        "id": "AmdNbemj6qbL",
        "outputId": "d71b8a7f-2255-4713-d41e-f48d443f277d"
      },
      "execution_count": 5,
      "outputs": [
        {
          "output_type": "display_data",
          "data": {
            "text/plain": [
              "<Figure size 252x180 with 1 Axes>"
            ],
            "image/svg+xml": "<?xml version=\"1.0\" encoding=\"utf-8\" standalone=\"no\"?>\n<!DOCTYPE svg PUBLIC \"-//W3C//DTD SVG 1.1//EN\"\n  \"http://www.w3.org/Graphics/SVG/1.1/DTD/svg11.dtd\">\n<!-- Created with matplotlib (https://matplotlib.org/) -->\n<svg height=\"184.15625pt\" version=\"1.1\" viewBox=\"0 0 238.965625 184.15625\" width=\"238.965625pt\" xmlns=\"http://www.w3.org/2000/svg\" xmlns:xlink=\"http://www.w3.org/1999/xlink\">\n <defs>\n  <style type=\"text/css\">\n*{stroke-linecap:butt;stroke-linejoin:round;}\n  </style>\n </defs>\n <g id=\"figure_1\">\n  <g id=\"patch_1\">\n   <path d=\"M 0 184.15625 \nL 238.965625 184.15625 \nL 238.965625 -0 \nL 0 -0 \nz\n\" style=\"fill:none;\"/>\n  </g>\n  <g id=\"axes_1\">\n   <g id=\"patch_2\">\n    <path d=\"M 30.103125 146.6 \nL 225.403125 146.6 \nL 225.403125 10.7 \nL 30.103125 10.7 \nz\n\" style=\"fill:#ffffff;\"/>\n   </g>\n   <g id=\"matplotlib.axis_1\">\n    <g id=\"xtick_1\">\n     <g id=\"line2d_1\">\n      <path clip-path=\"url(#pfead78ee94)\" d=\"M 51.803125 146.6 \nL 51.803125 10.7 \n\" style=\"fill:none;stroke:#b0b0b0;stroke-linecap:square;stroke-width:0.8;\"/>\n     </g>\n     <g id=\"line2d_2\">\n      <defs>\n       <path d=\"M 0 0 \nL 0 3.5 \n\" id=\"mb7a93dba84\" style=\"stroke:#000000;stroke-width:0.8;\"/>\n      </defs>\n      <g>\n       <use style=\"stroke:#000000;stroke-width:0.8;\" x=\"51.803125\" xlink:href=\"#mb7a93dba84\" y=\"146.6\"/>\n      </g>\n     </g>\n     <g id=\"text_1\">\n      <!-- 2 -->\n      <defs>\n       <path d=\"M 19.1875 8.296875 \nL 53.609375 8.296875 \nL 53.609375 0 \nL 7.328125 0 \nL 7.328125 8.296875 \nQ 12.9375 14.109375 22.625 23.890625 \nQ 32.328125 33.6875 34.8125 36.53125 \nQ 39.546875 41.84375 41.421875 45.53125 \nQ 43.3125 49.21875 43.3125 52.78125 \nQ 43.3125 58.59375 39.234375 62.25 \nQ 35.15625 65.921875 28.609375 65.921875 \nQ 23.96875 65.921875 18.8125 64.3125 \nQ 13.671875 62.703125 7.8125 59.421875 \nL 7.8125 69.390625 \nQ 13.765625 71.78125 18.9375 73 \nQ 24.125 74.21875 28.421875 74.21875 \nQ 39.75 74.21875 46.484375 68.546875 \nQ 53.21875 62.890625 53.21875 53.421875 \nQ 53.21875 48.921875 51.53125 44.890625 \nQ 49.859375 40.875 45.40625 35.40625 \nQ 44.1875 33.984375 37.640625 27.21875 \nQ 31.109375 20.453125 19.1875 8.296875 \nz\n\" id=\"DejaVuSans-50\"/>\n      </defs>\n      <g transform=\"translate(48.621875 161.198437)scale(0.1 -0.1)\">\n       <use xlink:href=\"#DejaVuSans-50\"/>\n      </g>\n     </g>\n    </g>\n    <g id=\"xtick_2\">\n     <g id=\"line2d_3\">\n      <path clip-path=\"url(#pfead78ee94)\" d=\"M 95.203125 146.6 \nL 95.203125 10.7 \n\" style=\"fill:none;stroke:#b0b0b0;stroke-linecap:square;stroke-width:0.8;\"/>\n     </g>\n     <g id=\"line2d_4\">\n      <g>\n       <use style=\"stroke:#000000;stroke-width:0.8;\" x=\"95.203125\" xlink:href=\"#mb7a93dba84\" y=\"146.6\"/>\n      </g>\n     </g>\n     <g id=\"text_2\">\n      <!-- 4 -->\n      <defs>\n       <path d=\"M 37.796875 64.3125 \nL 12.890625 25.390625 \nL 37.796875 25.390625 \nz\nM 35.203125 72.90625 \nL 47.609375 72.90625 \nL 47.609375 25.390625 \nL 58.015625 25.390625 \nL 58.015625 17.1875 \nL 47.609375 17.1875 \nL 47.609375 0 \nL 37.796875 0 \nL 37.796875 17.1875 \nL 4.890625 17.1875 \nL 4.890625 26.703125 \nz\n\" id=\"DejaVuSans-52\"/>\n      </defs>\n      <g transform=\"translate(92.021875 161.198437)scale(0.1 -0.1)\">\n       <use xlink:href=\"#DejaVuSans-52\"/>\n      </g>\n     </g>\n    </g>\n    <g id=\"xtick_3\">\n     <g id=\"line2d_5\">\n      <path clip-path=\"url(#pfead78ee94)\" d=\"M 138.603125 146.6 \nL 138.603125 10.7 \n\" style=\"fill:none;stroke:#b0b0b0;stroke-linecap:square;stroke-width:0.8;\"/>\n     </g>\n     <g id=\"line2d_6\">\n      <g>\n       <use style=\"stroke:#000000;stroke-width:0.8;\" x=\"138.603125\" xlink:href=\"#mb7a93dba84\" y=\"146.6\"/>\n      </g>\n     </g>\n     <g id=\"text_3\">\n      <!-- 6 -->\n      <defs>\n       <path d=\"M 33.015625 40.375 \nQ 26.375 40.375 22.484375 35.828125 \nQ 18.609375 31.296875 18.609375 23.390625 \nQ 18.609375 15.53125 22.484375 10.953125 \nQ 26.375 6.390625 33.015625 6.390625 \nQ 39.65625 6.390625 43.53125 10.953125 \nQ 47.40625 15.53125 47.40625 23.390625 \nQ 47.40625 31.296875 43.53125 35.828125 \nQ 39.65625 40.375 33.015625 40.375 \nz\nM 52.59375 71.296875 \nL 52.59375 62.3125 \nQ 48.875 64.0625 45.09375 64.984375 \nQ 41.3125 65.921875 37.59375 65.921875 \nQ 27.828125 65.921875 22.671875 59.328125 \nQ 17.53125 52.734375 16.796875 39.40625 \nQ 19.671875 43.65625 24.015625 45.921875 \nQ 28.375 48.1875 33.59375 48.1875 \nQ 44.578125 48.1875 50.953125 41.515625 \nQ 57.328125 34.859375 57.328125 23.390625 \nQ 57.328125 12.15625 50.6875 5.359375 \nQ 44.046875 -1.421875 33.015625 -1.421875 \nQ 20.359375 -1.421875 13.671875 8.265625 \nQ 6.984375 17.96875 6.984375 36.375 \nQ 6.984375 53.65625 15.1875 63.9375 \nQ 23.390625 74.21875 37.203125 74.21875 \nQ 40.921875 74.21875 44.703125 73.484375 \nQ 48.484375 72.75 52.59375 71.296875 \nz\n\" id=\"DejaVuSans-54\"/>\n      </defs>\n      <g transform=\"translate(135.421875 161.198437)scale(0.1 -0.1)\">\n       <use xlink:href=\"#DejaVuSans-54\"/>\n      </g>\n     </g>\n    </g>\n    <g id=\"xtick_4\">\n     <g id=\"line2d_7\">\n      <path clip-path=\"url(#pfead78ee94)\" d=\"M 182.003125 146.6 \nL 182.003125 10.7 \n\" style=\"fill:none;stroke:#b0b0b0;stroke-linecap:square;stroke-width:0.8;\"/>\n     </g>\n     <g id=\"line2d_8\">\n      <g>\n       <use style=\"stroke:#000000;stroke-width:0.8;\" x=\"182.003125\" xlink:href=\"#mb7a93dba84\" y=\"146.6\"/>\n      </g>\n     </g>\n     <g id=\"text_4\">\n      <!-- 8 -->\n      <defs>\n       <path d=\"M 31.78125 34.625 \nQ 24.75 34.625 20.71875 30.859375 \nQ 16.703125 27.09375 16.703125 20.515625 \nQ 16.703125 13.921875 20.71875 10.15625 \nQ 24.75 6.390625 31.78125 6.390625 \nQ 38.8125 6.390625 42.859375 10.171875 \nQ 46.921875 13.96875 46.921875 20.515625 \nQ 46.921875 27.09375 42.890625 30.859375 \nQ 38.875 34.625 31.78125 34.625 \nz\nM 21.921875 38.8125 \nQ 15.578125 40.375 12.03125 44.71875 \nQ 8.5 49.078125 8.5 55.328125 \nQ 8.5 64.0625 14.71875 69.140625 \nQ 20.953125 74.21875 31.78125 74.21875 \nQ 42.671875 74.21875 48.875 69.140625 \nQ 55.078125 64.0625 55.078125 55.328125 \nQ 55.078125 49.078125 51.53125 44.71875 \nQ 48 40.375 41.703125 38.8125 \nQ 48.828125 37.15625 52.796875 32.3125 \nQ 56.78125 27.484375 56.78125 20.515625 \nQ 56.78125 9.90625 50.3125 4.234375 \nQ 43.84375 -1.421875 31.78125 -1.421875 \nQ 19.734375 -1.421875 13.25 4.234375 \nQ 6.78125 9.90625 6.78125 20.515625 \nQ 6.78125 27.484375 10.78125 32.3125 \nQ 14.796875 37.15625 21.921875 38.8125 \nz\nM 18.3125 54.390625 \nQ 18.3125 48.734375 21.84375 45.5625 \nQ 25.390625 42.390625 31.78125 42.390625 \nQ 38.140625 42.390625 41.71875 45.5625 \nQ 45.3125 48.734375 45.3125 54.390625 \nQ 45.3125 60.0625 41.71875 63.234375 \nQ 38.140625 66.40625 31.78125 66.40625 \nQ 25.390625 66.40625 21.84375 63.234375 \nQ 18.3125 60.0625 18.3125 54.390625 \nz\n\" id=\"DejaVuSans-56\"/>\n      </defs>\n      <g transform=\"translate(178.821875 161.198437)scale(0.1 -0.1)\">\n       <use xlink:href=\"#DejaVuSans-56\"/>\n      </g>\n     </g>\n    </g>\n    <g id=\"xtick_5\">\n     <g id=\"line2d_9\">\n      <path clip-path=\"url(#pfead78ee94)\" d=\"M 225.403125 146.6 \nL 225.403125 10.7 \n\" style=\"fill:none;stroke:#b0b0b0;stroke-linecap:square;stroke-width:0.8;\"/>\n     </g>\n     <g id=\"line2d_10\">\n      <g>\n       <use style=\"stroke:#000000;stroke-width:0.8;\" x=\"225.403125\" xlink:href=\"#mb7a93dba84\" y=\"146.6\"/>\n      </g>\n     </g>\n     <g id=\"text_5\">\n      <!-- 10 -->\n      <defs>\n       <path d=\"M 12.40625 8.296875 \nL 28.515625 8.296875 \nL 28.515625 63.921875 \nL 10.984375 60.40625 \nL 10.984375 69.390625 \nL 28.421875 72.90625 \nL 38.28125 72.90625 \nL 38.28125 8.296875 \nL 54.390625 8.296875 \nL 54.390625 0 \nL 12.40625 0 \nz\n\" id=\"DejaVuSans-49\"/>\n       <path d=\"M 31.78125 66.40625 \nQ 24.171875 66.40625 20.328125 58.90625 \nQ 16.5 51.421875 16.5 36.375 \nQ 16.5 21.390625 20.328125 13.890625 \nQ 24.171875 6.390625 31.78125 6.390625 \nQ 39.453125 6.390625 43.28125 13.890625 \nQ 47.125 21.390625 47.125 36.375 \nQ 47.125 51.421875 43.28125 58.90625 \nQ 39.453125 66.40625 31.78125 66.40625 \nz\nM 31.78125 74.21875 \nQ 44.046875 74.21875 50.515625 64.515625 \nQ 56.984375 54.828125 56.984375 36.375 \nQ 56.984375 17.96875 50.515625 8.265625 \nQ 44.046875 -1.421875 31.78125 -1.421875 \nQ 19.53125 -1.421875 13.0625 8.265625 \nQ 6.59375 17.96875 6.59375 36.375 \nQ 6.59375 54.828125 13.0625 64.515625 \nQ 19.53125 74.21875 31.78125 74.21875 \nz\n\" id=\"DejaVuSans-48\"/>\n      </defs>\n      <g transform=\"translate(219.040625 161.198437)scale(0.1 -0.1)\">\n       <use xlink:href=\"#DejaVuSans-49\"/>\n       <use x=\"63.623047\" xlink:href=\"#DejaVuSans-48\"/>\n      </g>\n     </g>\n    </g>\n    <g id=\"text_6\">\n     <!-- epoch -->\n     <defs>\n      <path d=\"M 56.203125 29.59375 \nL 56.203125 25.203125 \nL 14.890625 25.203125 \nQ 15.484375 15.921875 20.484375 11.0625 \nQ 25.484375 6.203125 34.421875 6.203125 \nQ 39.59375 6.203125 44.453125 7.46875 \nQ 49.3125 8.734375 54.109375 11.28125 \nL 54.109375 2.78125 \nQ 49.265625 0.734375 44.1875 -0.34375 \nQ 39.109375 -1.421875 33.890625 -1.421875 \nQ 20.796875 -1.421875 13.15625 6.1875 \nQ 5.515625 13.8125 5.515625 26.8125 \nQ 5.515625 40.234375 12.765625 48.109375 \nQ 20.015625 56 32.328125 56 \nQ 43.359375 56 49.78125 48.890625 \nQ 56.203125 41.796875 56.203125 29.59375 \nz\nM 47.21875 32.234375 \nQ 47.125 39.59375 43.09375 43.984375 \nQ 39.0625 48.390625 32.421875 48.390625 \nQ 24.90625 48.390625 20.390625 44.140625 \nQ 15.875 39.890625 15.1875 32.171875 \nz\n\" id=\"DejaVuSans-101\"/>\n      <path d=\"M 18.109375 8.203125 \nL 18.109375 -20.796875 \nL 9.078125 -20.796875 \nL 9.078125 54.6875 \nL 18.109375 54.6875 \nL 18.109375 46.390625 \nQ 20.953125 51.265625 25.265625 53.625 \nQ 29.59375 56 35.59375 56 \nQ 45.5625 56 51.78125 48.09375 \nQ 58.015625 40.1875 58.015625 27.296875 \nQ 58.015625 14.40625 51.78125 6.484375 \nQ 45.5625 -1.421875 35.59375 -1.421875 \nQ 29.59375 -1.421875 25.265625 0.953125 \nQ 20.953125 3.328125 18.109375 8.203125 \nz\nM 48.6875 27.296875 \nQ 48.6875 37.203125 44.609375 42.84375 \nQ 40.53125 48.484375 33.40625 48.484375 \nQ 26.265625 48.484375 22.1875 42.84375 \nQ 18.109375 37.203125 18.109375 27.296875 \nQ 18.109375 17.390625 22.1875 11.75 \nQ 26.265625 6.109375 33.40625 6.109375 \nQ 40.53125 6.109375 44.609375 11.75 \nQ 48.6875 17.390625 48.6875 27.296875 \nz\n\" id=\"DejaVuSans-112\"/>\n      <path d=\"M 30.609375 48.390625 \nQ 23.390625 48.390625 19.1875 42.75 \nQ 14.984375 37.109375 14.984375 27.296875 \nQ 14.984375 17.484375 19.15625 11.84375 \nQ 23.34375 6.203125 30.609375 6.203125 \nQ 37.796875 6.203125 41.984375 11.859375 \nQ 46.1875 17.53125 46.1875 27.296875 \nQ 46.1875 37.015625 41.984375 42.703125 \nQ 37.796875 48.390625 30.609375 48.390625 \nz\nM 30.609375 56 \nQ 42.328125 56 49.015625 48.375 \nQ 55.71875 40.765625 55.71875 27.296875 \nQ 55.71875 13.875 49.015625 6.21875 \nQ 42.328125 -1.421875 30.609375 -1.421875 \nQ 18.84375 -1.421875 12.171875 6.21875 \nQ 5.515625 13.875 5.515625 27.296875 \nQ 5.515625 40.765625 12.171875 48.375 \nQ 18.84375 56 30.609375 56 \nz\n\" id=\"DejaVuSans-111\"/>\n      <path d=\"M 48.78125 52.59375 \nL 48.78125 44.1875 \nQ 44.96875 46.296875 41.140625 47.34375 \nQ 37.3125 48.390625 33.40625 48.390625 \nQ 24.65625 48.390625 19.8125 42.84375 \nQ 14.984375 37.3125 14.984375 27.296875 \nQ 14.984375 17.28125 19.8125 11.734375 \nQ 24.65625 6.203125 33.40625 6.203125 \nQ 37.3125 6.203125 41.140625 7.25 \nQ 44.96875 8.296875 48.78125 10.40625 \nL 48.78125 2.09375 \nQ 45.015625 0.34375 40.984375 -0.53125 \nQ 36.96875 -1.421875 32.421875 -1.421875 \nQ 20.0625 -1.421875 12.78125 6.34375 \nQ 5.515625 14.109375 5.515625 27.296875 \nQ 5.515625 40.671875 12.859375 48.328125 \nQ 20.21875 56 33.015625 56 \nQ 37.15625 56 41.109375 55.140625 \nQ 45.0625 54.296875 48.78125 52.59375 \nz\n\" id=\"DejaVuSans-99\"/>\n      <path d=\"M 54.890625 33.015625 \nL 54.890625 0 \nL 45.90625 0 \nL 45.90625 32.71875 \nQ 45.90625 40.484375 42.875 44.328125 \nQ 39.84375 48.1875 33.796875 48.1875 \nQ 26.515625 48.1875 22.3125 43.546875 \nQ 18.109375 38.921875 18.109375 30.90625 \nL 18.109375 0 \nL 9.078125 0 \nL 9.078125 75.984375 \nL 18.109375 75.984375 \nL 18.109375 46.1875 \nQ 21.34375 51.125 25.703125 53.5625 \nQ 30.078125 56 35.796875 56 \nQ 45.21875 56 50.046875 50.171875 \nQ 54.890625 44.34375 54.890625 33.015625 \nz\n\" id=\"DejaVuSans-104\"/>\n     </defs>\n     <g transform=\"translate(112.525 174.876562)scale(0.1 -0.1)\">\n      <use xlink:href=\"#DejaVuSans-101\"/>\n      <use x=\"61.523438\" xlink:href=\"#DejaVuSans-112\"/>\n      <use x=\"125\" xlink:href=\"#DejaVuSans-111\"/>\n      <use x=\"186.181641\" xlink:href=\"#DejaVuSans-99\"/>\n      <use x=\"241.162109\" xlink:href=\"#DejaVuSans-104\"/>\n     </g>\n    </g>\n   </g>\n   <g id=\"matplotlib.axis_2\">\n    <g id=\"ytick_1\">\n     <g id=\"line2d_11\">\n      <path clip-path=\"url(#pfead78ee94)\" d=\"M 30.103125 123.95 \nL 225.403125 123.95 \n\" style=\"fill:none;stroke:#b0b0b0;stroke-linecap:square;stroke-width:0.8;\"/>\n     </g>\n     <g id=\"line2d_12\">\n      <defs>\n       <path d=\"M 0 0 \nL -3.5 0 \n\" id=\"m3cf912f80b\" style=\"stroke:#000000;stroke-width:0.8;\"/>\n      </defs>\n      <g>\n       <use style=\"stroke:#000000;stroke-width:0.8;\" x=\"30.103125\" xlink:href=\"#m3cf912f80b\" y=\"123.95\"/>\n      </g>\n     </g>\n     <g id=\"text_7\">\n      <!-- 0.4 -->\n      <defs>\n       <path d=\"M 10.6875 12.40625 \nL 21 12.40625 \nL 21 0 \nL 10.6875 0 \nz\n\" id=\"DejaVuSans-46\"/>\n      </defs>\n      <g transform=\"translate(7.2 127.749219)scale(0.1 -0.1)\">\n       <use xlink:href=\"#DejaVuSans-48\"/>\n       <use x=\"63.623047\" xlink:href=\"#DejaVuSans-46\"/>\n       <use x=\"95.410156\" xlink:href=\"#DejaVuSans-52\"/>\n      </g>\n     </g>\n    </g>\n    <g id=\"ytick_2\">\n     <g id=\"line2d_13\">\n      <path clip-path=\"url(#pfead78ee94)\" d=\"M 30.103125 78.65 \nL 225.403125 78.65 \n\" style=\"fill:none;stroke:#b0b0b0;stroke-linecap:square;stroke-width:0.8;\"/>\n     </g>\n     <g id=\"line2d_14\">\n      <g>\n       <use style=\"stroke:#000000;stroke-width:0.8;\" x=\"30.103125\" xlink:href=\"#m3cf912f80b\" y=\"78.65\"/>\n      </g>\n     </g>\n     <g id=\"text_8\">\n      <!-- 0.6 -->\n      <g transform=\"translate(7.2 82.449219)scale(0.1 -0.1)\">\n       <use xlink:href=\"#DejaVuSans-48\"/>\n       <use x=\"63.623047\" xlink:href=\"#DejaVuSans-46\"/>\n       <use x=\"95.410156\" xlink:href=\"#DejaVuSans-54\"/>\n      </g>\n     </g>\n    </g>\n    <g id=\"ytick_3\">\n     <g id=\"line2d_15\">\n      <path clip-path=\"url(#pfead78ee94)\" d=\"M 30.103125 33.35 \nL 225.403125 33.35 \n\" style=\"fill:none;stroke:#b0b0b0;stroke-linecap:square;stroke-width:0.8;\"/>\n     </g>\n     <g id=\"line2d_16\">\n      <g>\n       <use style=\"stroke:#000000;stroke-width:0.8;\" x=\"30.103125\" xlink:href=\"#m3cf912f80b\" y=\"33.35\"/>\n      </g>\n     </g>\n     <g id=\"text_9\">\n      <!-- 0.8 -->\n      <g transform=\"translate(7.2 37.149219)scale(0.1 -0.1)\">\n       <use xlink:href=\"#DejaVuSans-48\"/>\n       <use x=\"63.623047\" xlink:href=\"#DejaVuSans-46\"/>\n       <use x=\"95.410156\" xlink:href=\"#DejaVuSans-56\"/>\n      </g>\n     </g>\n    </g>\n   </g>\n   <g id=\"line2d_17\">\n    <path clip-path=\"url(#pfead78ee94)\" d=\"M 30.103125 11.993385 \nL 51.803125 95.674196 \nL 73.503125 110.43798 \nL 95.203125 117.670125 \nL 116.903125 124.187831 \nL 138.603125 127.80917 \nL 160.303125 131.839863 \nL 182.003125 133.241452 \nL 203.703125 135.83252 \nL 225.403125 138.605451 \n\" style=\"fill:none;stroke:#1f77b4;stroke-linecap:square;stroke-width:1.5;\"/>\n   </g>\n   <g id=\"line2d_18\">\n    <path clip-path=\"url(#pfead78ee94)\" d=\"M 30.103125 63.349925 \nL 51.803125 31.843775 \nL 73.503125 25.951 \nL 95.203125 23.5652 \nL 116.903125 20.91515 \nL 138.603125 19.8657 \nL 160.303125 18.28775 \nL 182.003125 18.034825 \nL 203.703125 16.940075 \nL 225.403125 16.11335 \n\" style=\"fill:none;stroke:#bf00bf;stroke-dasharray:5.55,2.4;stroke-dashoffset:0;stroke-width:1.5;\"/>\n   </g>\n   <g id=\"line2d_19\">\n    <path clip-path=\"url(#pfead78ee94)\" d=\"M 30.103125 34.3919 \nL 51.803125 28.38965 \nL 73.503125 28.4576 \nL 95.203125 24.1088 \nL 116.903125 24.35795 \nL 138.603125 20.96045 \nL 160.303125 22.81775 \nL 182.003125 20.8019 \nL 203.703125 19.91855 \nL 225.403125 20.9831 \n\" style=\"fill:none;stroke:#008000;stroke-dasharray:9.6,2.4,1.5,2.4;stroke-dashoffset:0;stroke-width:1.5;\"/>\n   </g>\n   <g id=\"patch_3\">\n    <path d=\"M 30.103125 146.6 \nL 30.103125 10.7 \n\" style=\"fill:none;stroke:#000000;stroke-linecap:square;stroke-linejoin:miter;stroke-width:0.8;\"/>\n   </g>\n   <g id=\"patch_4\">\n    <path d=\"M 225.403125 146.6 \nL 225.403125 10.7 \n\" style=\"fill:none;stroke:#000000;stroke-linecap:square;stroke-linejoin:miter;stroke-width:0.8;\"/>\n   </g>\n   <g id=\"patch_5\">\n    <path d=\"M 30.103125 146.6 \nL 225.403125 146.6 \n\" style=\"fill:none;stroke:#000000;stroke-linecap:square;stroke-linejoin:miter;stroke-width:0.8;\"/>\n   </g>\n   <g id=\"patch_6\">\n    <path d=\"M 30.103125 10.7 \nL 225.403125 10.7 \n\" style=\"fill:none;stroke:#000000;stroke-linecap:square;stroke-linejoin:miter;stroke-width:0.8;\"/>\n   </g>\n   <g id=\"legend_1\">\n    <g id=\"patch_7\">\n     <path d=\"M 140.634375 102.167187 \nL 218.403125 102.167187 \nQ 220.403125 102.167187 220.403125 100.167187 \nL 220.403125 57.132812 \nQ 220.403125 55.132812 218.403125 55.132812 \nL 140.634375 55.132812 \nQ 138.634375 55.132812 138.634375 57.132812 \nL 138.634375 100.167187 \nQ 138.634375 102.167187 140.634375 102.167187 \nz\n\" style=\"fill:#ffffff;opacity:0.8;stroke:#cccccc;stroke-linejoin:miter;\"/>\n    </g>\n    <g id=\"line2d_20\">\n     <path d=\"M 142.634375 63.23125 \nL 162.634375 63.23125 \n\" style=\"fill:none;stroke:#1f77b4;stroke-linecap:square;stroke-width:1.5;\"/>\n    </g>\n    <g id=\"line2d_21\"/>\n    <g id=\"text_10\">\n     <!-- train loss -->\n     <defs>\n      <path d=\"M 18.3125 70.21875 \nL 18.3125 54.6875 \nL 36.8125 54.6875 \nL 36.8125 47.703125 \nL 18.3125 47.703125 \nL 18.3125 18.015625 \nQ 18.3125 11.328125 20.140625 9.421875 \nQ 21.96875 7.515625 27.59375 7.515625 \nL 36.8125 7.515625 \nL 36.8125 0 \nL 27.59375 0 \nQ 17.1875 0 13.234375 3.875 \nQ 9.28125 7.765625 9.28125 18.015625 \nL 9.28125 47.703125 \nL 2.6875 47.703125 \nL 2.6875 54.6875 \nL 9.28125 54.6875 \nL 9.28125 70.21875 \nz\n\" id=\"DejaVuSans-116\"/>\n      <path d=\"M 41.109375 46.296875 \nQ 39.59375 47.171875 37.8125 47.578125 \nQ 36.03125 48 33.890625 48 \nQ 26.265625 48 22.1875 43.046875 \nQ 18.109375 38.09375 18.109375 28.8125 \nL 18.109375 0 \nL 9.078125 0 \nL 9.078125 54.6875 \nL 18.109375 54.6875 \nL 18.109375 46.1875 \nQ 20.953125 51.171875 25.484375 53.578125 \nQ 30.03125 56 36.53125 56 \nQ 37.453125 56 38.578125 55.875 \nQ 39.703125 55.765625 41.0625 55.515625 \nz\n\" id=\"DejaVuSans-114\"/>\n      <path d=\"M 34.28125 27.484375 \nQ 23.390625 27.484375 19.1875 25 \nQ 14.984375 22.515625 14.984375 16.5 \nQ 14.984375 11.71875 18.140625 8.90625 \nQ 21.296875 6.109375 26.703125 6.109375 \nQ 34.1875 6.109375 38.703125 11.40625 \nQ 43.21875 16.703125 43.21875 25.484375 \nL 43.21875 27.484375 \nz\nM 52.203125 31.203125 \nL 52.203125 0 \nL 43.21875 0 \nL 43.21875 8.296875 \nQ 40.140625 3.328125 35.546875 0.953125 \nQ 30.953125 -1.421875 24.3125 -1.421875 \nQ 15.921875 -1.421875 10.953125 3.296875 \nQ 6 8.015625 6 15.921875 \nQ 6 25.140625 12.171875 29.828125 \nQ 18.359375 34.515625 30.609375 34.515625 \nL 43.21875 34.515625 \nL 43.21875 35.40625 \nQ 43.21875 41.609375 39.140625 45 \nQ 35.0625 48.390625 27.6875 48.390625 \nQ 23 48.390625 18.546875 47.265625 \nQ 14.109375 46.140625 10.015625 43.890625 \nL 10.015625 52.203125 \nQ 14.9375 54.109375 19.578125 55.046875 \nQ 24.21875 56 28.609375 56 \nQ 40.484375 56 46.34375 49.84375 \nQ 52.203125 43.703125 52.203125 31.203125 \nz\n\" id=\"DejaVuSans-97\"/>\n      <path d=\"M 9.421875 54.6875 \nL 18.40625 54.6875 \nL 18.40625 0 \nL 9.421875 0 \nz\nM 9.421875 75.984375 \nL 18.40625 75.984375 \nL 18.40625 64.59375 \nL 9.421875 64.59375 \nz\n\" id=\"DejaVuSans-105\"/>\n      <path d=\"M 54.890625 33.015625 \nL 54.890625 0 \nL 45.90625 0 \nL 45.90625 32.71875 \nQ 45.90625 40.484375 42.875 44.328125 \nQ 39.84375 48.1875 33.796875 48.1875 \nQ 26.515625 48.1875 22.3125 43.546875 \nQ 18.109375 38.921875 18.109375 30.90625 \nL 18.109375 0 \nL 9.078125 0 \nL 9.078125 54.6875 \nL 18.109375 54.6875 \nL 18.109375 46.1875 \nQ 21.34375 51.125 25.703125 53.5625 \nQ 30.078125 56 35.796875 56 \nQ 45.21875 56 50.046875 50.171875 \nQ 54.890625 44.34375 54.890625 33.015625 \nz\n\" id=\"DejaVuSans-110\"/>\n      <path id=\"DejaVuSans-32\"/>\n      <path d=\"M 9.421875 75.984375 \nL 18.40625 75.984375 \nL 18.40625 0 \nL 9.421875 0 \nz\n\" id=\"DejaVuSans-108\"/>\n      <path d=\"M 44.28125 53.078125 \nL 44.28125 44.578125 \nQ 40.484375 46.53125 36.375 47.5 \nQ 32.28125 48.484375 27.875 48.484375 \nQ 21.1875 48.484375 17.84375 46.4375 \nQ 14.5 44.390625 14.5 40.28125 \nQ 14.5 37.15625 16.890625 35.375 \nQ 19.28125 33.59375 26.515625 31.984375 \nL 29.59375 31.296875 \nQ 39.15625 29.25 43.1875 25.515625 \nQ 47.21875 21.78125 47.21875 15.09375 \nQ 47.21875 7.46875 41.1875 3.015625 \nQ 35.15625 -1.421875 24.609375 -1.421875 \nQ 20.21875 -1.421875 15.453125 -0.5625 \nQ 10.6875 0.296875 5.421875 2 \nL 5.421875 11.28125 \nQ 10.40625 8.6875 15.234375 7.390625 \nQ 20.0625 6.109375 24.8125 6.109375 \nQ 31.15625 6.109375 34.5625 8.28125 \nQ 37.984375 10.453125 37.984375 14.40625 \nQ 37.984375 18.0625 35.515625 20.015625 \nQ 33.0625 21.96875 24.703125 23.78125 \nL 21.578125 24.515625 \nQ 13.234375 26.265625 9.515625 29.90625 \nQ 5.8125 33.546875 5.8125 39.890625 \nQ 5.8125 47.609375 11.28125 51.796875 \nQ 16.75 56 26.8125 56 \nQ 31.78125 56 36.171875 55.265625 \nQ 40.578125 54.546875 44.28125 53.078125 \nz\n\" id=\"DejaVuSans-115\"/>\n     </defs>\n     <g transform=\"translate(170.634375 66.73125)scale(0.1 -0.1)\">\n      <use xlink:href=\"#DejaVuSans-116\"/>\n      <use x=\"39.208984\" xlink:href=\"#DejaVuSans-114\"/>\n      <use x=\"80.322266\" xlink:href=\"#DejaVuSans-97\"/>\n      <use x=\"141.601562\" xlink:href=\"#DejaVuSans-105\"/>\n      <use x=\"169.384766\" xlink:href=\"#DejaVuSans-110\"/>\n      <use x=\"232.763672\" xlink:href=\"#DejaVuSans-32\"/>\n      <use x=\"264.550781\" xlink:href=\"#DejaVuSans-108\"/>\n      <use x=\"292.333984\" xlink:href=\"#DejaVuSans-111\"/>\n      <use x=\"353.515625\" xlink:href=\"#DejaVuSans-115\"/>\n      <use x=\"405.615234\" xlink:href=\"#DejaVuSans-115\"/>\n     </g>\n    </g>\n    <g id=\"line2d_22\">\n     <path d=\"M 142.634375 77.909375 \nL 162.634375 77.909375 \n\" style=\"fill:none;stroke:#bf00bf;stroke-dasharray:5.55,2.4;stroke-dashoffset:0;stroke-width:1.5;\"/>\n    </g>\n    <g id=\"line2d_23\"/>\n    <g id=\"text_11\">\n     <!-- train acc -->\n     <g transform=\"translate(170.634375 81.409375)scale(0.1 -0.1)\">\n      <use xlink:href=\"#DejaVuSans-116\"/>\n      <use x=\"39.208984\" xlink:href=\"#DejaVuSans-114\"/>\n      <use x=\"80.322266\" xlink:href=\"#DejaVuSans-97\"/>\n      <use x=\"141.601562\" xlink:href=\"#DejaVuSans-105\"/>\n      <use x=\"169.384766\" xlink:href=\"#DejaVuSans-110\"/>\n      <use x=\"232.763672\" xlink:href=\"#DejaVuSans-32\"/>\n      <use x=\"264.550781\" xlink:href=\"#DejaVuSans-97\"/>\n      <use x=\"325.830078\" xlink:href=\"#DejaVuSans-99\"/>\n      <use x=\"380.810547\" xlink:href=\"#DejaVuSans-99\"/>\n     </g>\n    </g>\n    <g id=\"line2d_24\">\n     <path d=\"M 142.634375 92.5875 \nL 162.634375 92.5875 \n\" style=\"fill:none;stroke:#008000;stroke-dasharray:9.6,2.4,1.5,2.4;stroke-dashoffset:0;stroke-width:1.5;\"/>\n    </g>\n    <g id=\"line2d_25\"/>\n    <g id=\"text_12\">\n     <!-- test acc -->\n     <g transform=\"translate(170.634375 96.0875)scale(0.1 -0.1)\">\n      <use xlink:href=\"#DejaVuSans-116\"/>\n      <use x=\"39.208984\" xlink:href=\"#DejaVuSans-101\"/>\n      <use x=\"100.732422\" xlink:href=\"#DejaVuSans-115\"/>\n      <use x=\"152.832031\" xlink:href=\"#DejaVuSans-116\"/>\n      <use x=\"192.041016\" xlink:href=\"#DejaVuSans-32\"/>\n      <use x=\"223.828125\" xlink:href=\"#DejaVuSans-97\"/>\n      <use x=\"285.107422\" xlink:href=\"#DejaVuSans-99\"/>\n      <use x=\"340.087891\" xlink:href=\"#DejaVuSans-99\"/>\n     </g>\n    </g>\n   </g>\n  </g>\n </g>\n <defs>\n  <clipPath id=\"pfead78ee94\">\n   <rect height=\"135.9\" width=\"195.3\" x=\"30.103125\" y=\"10.7\"/>\n  </clipPath>\n </defs>\n</svg>\n"
          },
          "metadata": {
            "needs_background": "light"
          }
        }
      ]
    },
    {
      "cell_type": "markdown",
      "source": [
        "## Concise Implementation"
      ],
      "metadata": {
        "id": "6rhs1rqx7B_K"
      }
    },
    {
      "cell_type": "markdown",
      "source": [
        "Dengan API tingkat tinggi, yang perlu kita lakukan adalah menambahkan lapisan dropout setelah setiap lapisan yang sepenuhnya terhubung, melewati probabilitas dropout sebagai satu-satunya argumen untuk konstruktornya. Selama pelatihan, layer dropout akan secara acak melepaskan output dari layer sebelumnya (atau setara, input ke layer berikutnya) sesuai dengan probabilitas dropout yang ditentukan. Saat tidak dalam mode pelatihan, layer dropout hanya melewati data selama pengujian."
      ],
      "metadata": {
        "id": "RCjvAXa66_72"
      }
    },
    {
      "cell_type": "code",
      "source": [
        "net = nn.Sequential(nn.Flatten(),\n",
        "        nn.Linear(784, 256),\n",
        "        nn.ReLU(),\n",
        "        # Add a dropout layer after the first fully connected layer\n",
        "        nn.Dropout(dropout1),\n",
        "        nn.Linear(256, 256),\n",
        "        nn.ReLU(),\n",
        "        # Add a dropout layer after the second fully connected layer\n",
        "        nn.Dropout(dropout2),\n",
        "        nn.Linear(256, 10))\n",
        "\n",
        "def init_weights(m):\n",
        "    if type(m) == nn.Linear:\n",
        "        nn.init.normal_(m.weight, std=0.01)\n",
        "\n",
        "net.apply(init_weights);"
      ],
      "metadata": {
        "id": "vesl99ex7WZk"
      },
      "execution_count": 7,
      "outputs": []
    },
    {
      "cell_type": "code",
      "source": [
        "trainer = torch.optim.SGD(net.parameters(), lr=lr)\n",
        "d2l.train_ch3(net, train_iter, test_iter, loss, num_epochs, trainer)"
      ],
      "metadata": {
        "colab": {
          "base_uri": "https://localhost:8080/",
          "height": 266
        },
        "id": "VA0SwEEM7XRJ",
        "outputId": "57f32b0a-ae50-400d-cac0-d1a09b879c61"
      },
      "execution_count": 6,
      "outputs": [
        {
          "output_type": "display_data",
          "data": {
            "text/plain": [
              "<Figure size 252x180 with 1 Axes>"
            ],
            "image/svg+xml": "<?xml version=\"1.0\" encoding=\"utf-8\" standalone=\"no\"?>\n<!DOCTYPE svg PUBLIC \"-//W3C//DTD SVG 1.1//EN\"\n  \"http://www.w3.org/Graphics/SVG/1.1/DTD/svg11.dtd\">\n<!-- Created with matplotlib (https://matplotlib.org/) -->\n<svg height=\"184.15625pt\" version=\"1.1\" viewBox=\"0 0 238.965625 184.15625\" width=\"238.965625pt\" xmlns=\"http://www.w3.org/2000/svg\" xmlns:xlink=\"http://www.w3.org/1999/xlink\">\n <defs>\n  <style type=\"text/css\">\n*{stroke-linecap:butt;stroke-linejoin:round;}\n  </style>\n </defs>\n <g id=\"figure_1\">\n  <g id=\"patch_1\">\n   <path d=\"M 0 184.15625 \nL 238.965625 184.15625 \nL 238.965625 -0 \nL 0 -0 \nz\n\" style=\"fill:none;\"/>\n  </g>\n  <g id=\"axes_1\">\n   <g id=\"patch_2\">\n    <path d=\"M 30.103125 146.6 \nL 225.403125 146.6 \nL 225.403125 10.7 \nL 30.103125 10.7 \nz\n\" style=\"fill:#ffffff;\"/>\n   </g>\n   <g id=\"matplotlib.axis_1\">\n    <g id=\"xtick_1\">\n     <g id=\"line2d_1\">\n      <path clip-path=\"url(#p98b32e4a31)\" d=\"M 51.803125 146.6 \nL 51.803125 10.7 \n\" style=\"fill:none;stroke:#b0b0b0;stroke-linecap:square;stroke-width:0.8;\"/>\n     </g>\n     <g id=\"line2d_2\">\n      <defs>\n       <path d=\"M 0 0 \nL 0 3.5 \n\" id=\"mab7cd3543a\" style=\"stroke:#000000;stroke-width:0.8;\"/>\n      </defs>\n      <g>\n       <use style=\"stroke:#000000;stroke-width:0.8;\" x=\"51.803125\" xlink:href=\"#mab7cd3543a\" y=\"146.6\"/>\n      </g>\n     </g>\n     <g id=\"text_1\">\n      <!-- 2 -->\n      <defs>\n       <path d=\"M 19.1875 8.296875 \nL 53.609375 8.296875 \nL 53.609375 0 \nL 7.328125 0 \nL 7.328125 8.296875 \nQ 12.9375 14.109375 22.625 23.890625 \nQ 32.328125 33.6875 34.8125 36.53125 \nQ 39.546875 41.84375 41.421875 45.53125 \nQ 43.3125 49.21875 43.3125 52.78125 \nQ 43.3125 58.59375 39.234375 62.25 \nQ 35.15625 65.921875 28.609375 65.921875 \nQ 23.96875 65.921875 18.8125 64.3125 \nQ 13.671875 62.703125 7.8125 59.421875 \nL 7.8125 69.390625 \nQ 13.765625 71.78125 18.9375 73 \nQ 24.125 74.21875 28.421875 74.21875 \nQ 39.75 74.21875 46.484375 68.546875 \nQ 53.21875 62.890625 53.21875 53.421875 \nQ 53.21875 48.921875 51.53125 44.890625 \nQ 49.859375 40.875 45.40625 35.40625 \nQ 44.1875 33.984375 37.640625 27.21875 \nQ 31.109375 20.453125 19.1875 8.296875 \nz\n\" id=\"DejaVuSans-50\"/>\n      </defs>\n      <g transform=\"translate(48.621875 161.198437)scale(0.1 -0.1)\">\n       <use xlink:href=\"#DejaVuSans-50\"/>\n      </g>\n     </g>\n    </g>\n    <g id=\"xtick_2\">\n     <g id=\"line2d_3\">\n      <path clip-path=\"url(#p98b32e4a31)\" d=\"M 95.203125 146.6 \nL 95.203125 10.7 \n\" style=\"fill:none;stroke:#b0b0b0;stroke-linecap:square;stroke-width:0.8;\"/>\n     </g>\n     <g id=\"line2d_4\">\n      <g>\n       <use style=\"stroke:#000000;stroke-width:0.8;\" x=\"95.203125\" xlink:href=\"#mab7cd3543a\" y=\"146.6\"/>\n      </g>\n     </g>\n     <g id=\"text_2\">\n      <!-- 4 -->\n      <defs>\n       <path d=\"M 37.796875 64.3125 \nL 12.890625 25.390625 \nL 37.796875 25.390625 \nz\nM 35.203125 72.90625 \nL 47.609375 72.90625 \nL 47.609375 25.390625 \nL 58.015625 25.390625 \nL 58.015625 17.1875 \nL 47.609375 17.1875 \nL 47.609375 0 \nL 37.796875 0 \nL 37.796875 17.1875 \nL 4.890625 17.1875 \nL 4.890625 26.703125 \nz\n\" id=\"DejaVuSans-52\"/>\n      </defs>\n      <g transform=\"translate(92.021875 161.198437)scale(0.1 -0.1)\">\n       <use xlink:href=\"#DejaVuSans-52\"/>\n      </g>\n     </g>\n    </g>\n    <g id=\"xtick_3\">\n     <g id=\"line2d_5\">\n      <path clip-path=\"url(#p98b32e4a31)\" d=\"M 138.603125 146.6 \nL 138.603125 10.7 \n\" style=\"fill:none;stroke:#b0b0b0;stroke-linecap:square;stroke-width:0.8;\"/>\n     </g>\n     <g id=\"line2d_6\">\n      <g>\n       <use style=\"stroke:#000000;stroke-width:0.8;\" x=\"138.603125\" xlink:href=\"#mab7cd3543a\" y=\"146.6\"/>\n      </g>\n     </g>\n     <g id=\"text_3\">\n      <!-- 6 -->\n      <defs>\n       <path d=\"M 33.015625 40.375 \nQ 26.375 40.375 22.484375 35.828125 \nQ 18.609375 31.296875 18.609375 23.390625 \nQ 18.609375 15.53125 22.484375 10.953125 \nQ 26.375 6.390625 33.015625 6.390625 \nQ 39.65625 6.390625 43.53125 10.953125 \nQ 47.40625 15.53125 47.40625 23.390625 \nQ 47.40625 31.296875 43.53125 35.828125 \nQ 39.65625 40.375 33.015625 40.375 \nz\nM 52.59375 71.296875 \nL 52.59375 62.3125 \nQ 48.875 64.0625 45.09375 64.984375 \nQ 41.3125 65.921875 37.59375 65.921875 \nQ 27.828125 65.921875 22.671875 59.328125 \nQ 17.53125 52.734375 16.796875 39.40625 \nQ 19.671875 43.65625 24.015625 45.921875 \nQ 28.375 48.1875 33.59375 48.1875 \nQ 44.578125 48.1875 50.953125 41.515625 \nQ 57.328125 34.859375 57.328125 23.390625 \nQ 57.328125 12.15625 50.6875 5.359375 \nQ 44.046875 -1.421875 33.015625 -1.421875 \nQ 20.359375 -1.421875 13.671875 8.265625 \nQ 6.984375 17.96875 6.984375 36.375 \nQ 6.984375 53.65625 15.1875 63.9375 \nQ 23.390625 74.21875 37.203125 74.21875 \nQ 40.921875 74.21875 44.703125 73.484375 \nQ 48.484375 72.75 52.59375 71.296875 \nz\n\" id=\"DejaVuSans-54\"/>\n      </defs>\n      <g transform=\"translate(135.421875 161.198437)scale(0.1 -0.1)\">\n       <use xlink:href=\"#DejaVuSans-54\"/>\n      </g>\n     </g>\n    </g>\n    <g id=\"xtick_4\">\n     <g id=\"line2d_7\">\n      <path clip-path=\"url(#p98b32e4a31)\" d=\"M 182.003125 146.6 \nL 182.003125 10.7 \n\" style=\"fill:none;stroke:#b0b0b0;stroke-linecap:square;stroke-width:0.8;\"/>\n     </g>\n     <g id=\"line2d_8\">\n      <g>\n       <use style=\"stroke:#000000;stroke-width:0.8;\" x=\"182.003125\" xlink:href=\"#mab7cd3543a\" y=\"146.6\"/>\n      </g>\n     </g>\n     <g id=\"text_4\">\n      <!-- 8 -->\n      <defs>\n       <path d=\"M 31.78125 34.625 \nQ 24.75 34.625 20.71875 30.859375 \nQ 16.703125 27.09375 16.703125 20.515625 \nQ 16.703125 13.921875 20.71875 10.15625 \nQ 24.75 6.390625 31.78125 6.390625 \nQ 38.8125 6.390625 42.859375 10.171875 \nQ 46.921875 13.96875 46.921875 20.515625 \nQ 46.921875 27.09375 42.890625 30.859375 \nQ 38.875 34.625 31.78125 34.625 \nz\nM 21.921875 38.8125 \nQ 15.578125 40.375 12.03125 44.71875 \nQ 8.5 49.078125 8.5 55.328125 \nQ 8.5 64.0625 14.71875 69.140625 \nQ 20.953125 74.21875 31.78125 74.21875 \nQ 42.671875 74.21875 48.875 69.140625 \nQ 55.078125 64.0625 55.078125 55.328125 \nQ 55.078125 49.078125 51.53125 44.71875 \nQ 48 40.375 41.703125 38.8125 \nQ 48.828125 37.15625 52.796875 32.3125 \nQ 56.78125 27.484375 56.78125 20.515625 \nQ 56.78125 9.90625 50.3125 4.234375 \nQ 43.84375 -1.421875 31.78125 -1.421875 \nQ 19.734375 -1.421875 13.25 4.234375 \nQ 6.78125 9.90625 6.78125 20.515625 \nQ 6.78125 27.484375 10.78125 32.3125 \nQ 14.796875 37.15625 21.921875 38.8125 \nz\nM 18.3125 54.390625 \nQ 18.3125 48.734375 21.84375 45.5625 \nQ 25.390625 42.390625 31.78125 42.390625 \nQ 38.140625 42.390625 41.71875 45.5625 \nQ 45.3125 48.734375 45.3125 54.390625 \nQ 45.3125 60.0625 41.71875 63.234375 \nQ 38.140625 66.40625 31.78125 66.40625 \nQ 25.390625 66.40625 21.84375 63.234375 \nQ 18.3125 60.0625 18.3125 54.390625 \nz\n\" id=\"DejaVuSans-56\"/>\n      </defs>\n      <g transform=\"translate(178.821875 161.198437)scale(0.1 -0.1)\">\n       <use xlink:href=\"#DejaVuSans-56\"/>\n      </g>\n     </g>\n    </g>\n    <g id=\"xtick_5\">\n     <g id=\"line2d_9\">\n      <path clip-path=\"url(#p98b32e4a31)\" d=\"M 225.403125 146.6 \nL 225.403125 10.7 \n\" style=\"fill:none;stroke:#b0b0b0;stroke-linecap:square;stroke-width:0.8;\"/>\n     </g>\n     <g id=\"line2d_10\">\n      <g>\n       <use style=\"stroke:#000000;stroke-width:0.8;\" x=\"225.403125\" xlink:href=\"#mab7cd3543a\" y=\"146.6\"/>\n      </g>\n     </g>\n     <g id=\"text_5\">\n      <!-- 10 -->\n      <defs>\n       <path d=\"M 12.40625 8.296875 \nL 28.515625 8.296875 \nL 28.515625 63.921875 \nL 10.984375 60.40625 \nL 10.984375 69.390625 \nL 28.421875 72.90625 \nL 38.28125 72.90625 \nL 38.28125 8.296875 \nL 54.390625 8.296875 \nL 54.390625 0 \nL 12.40625 0 \nz\n\" id=\"DejaVuSans-49\"/>\n       <path d=\"M 31.78125 66.40625 \nQ 24.171875 66.40625 20.328125 58.90625 \nQ 16.5 51.421875 16.5 36.375 \nQ 16.5 21.390625 20.328125 13.890625 \nQ 24.171875 6.390625 31.78125 6.390625 \nQ 39.453125 6.390625 43.28125 13.890625 \nQ 47.125 21.390625 47.125 36.375 \nQ 47.125 51.421875 43.28125 58.90625 \nQ 39.453125 66.40625 31.78125 66.40625 \nz\nM 31.78125 74.21875 \nQ 44.046875 74.21875 50.515625 64.515625 \nQ 56.984375 54.828125 56.984375 36.375 \nQ 56.984375 17.96875 50.515625 8.265625 \nQ 44.046875 -1.421875 31.78125 -1.421875 \nQ 19.53125 -1.421875 13.0625 8.265625 \nQ 6.59375 17.96875 6.59375 36.375 \nQ 6.59375 54.828125 13.0625 64.515625 \nQ 19.53125 74.21875 31.78125 74.21875 \nz\n\" id=\"DejaVuSans-48\"/>\n      </defs>\n      <g transform=\"translate(219.040625 161.198437)scale(0.1 -0.1)\">\n       <use xlink:href=\"#DejaVuSans-49\"/>\n       <use x=\"63.623047\" xlink:href=\"#DejaVuSans-48\"/>\n      </g>\n     </g>\n    </g>\n    <g id=\"text_6\">\n     <!-- epoch -->\n     <defs>\n      <path d=\"M 56.203125 29.59375 \nL 56.203125 25.203125 \nL 14.890625 25.203125 \nQ 15.484375 15.921875 20.484375 11.0625 \nQ 25.484375 6.203125 34.421875 6.203125 \nQ 39.59375 6.203125 44.453125 7.46875 \nQ 49.3125 8.734375 54.109375 11.28125 \nL 54.109375 2.78125 \nQ 49.265625 0.734375 44.1875 -0.34375 \nQ 39.109375 -1.421875 33.890625 -1.421875 \nQ 20.796875 -1.421875 13.15625 6.1875 \nQ 5.515625 13.8125 5.515625 26.8125 \nQ 5.515625 40.234375 12.765625 48.109375 \nQ 20.015625 56 32.328125 56 \nQ 43.359375 56 49.78125 48.890625 \nQ 56.203125 41.796875 56.203125 29.59375 \nz\nM 47.21875 32.234375 \nQ 47.125 39.59375 43.09375 43.984375 \nQ 39.0625 48.390625 32.421875 48.390625 \nQ 24.90625 48.390625 20.390625 44.140625 \nQ 15.875 39.890625 15.1875 32.171875 \nz\n\" id=\"DejaVuSans-101\"/>\n      <path d=\"M 18.109375 8.203125 \nL 18.109375 -20.796875 \nL 9.078125 -20.796875 \nL 9.078125 54.6875 \nL 18.109375 54.6875 \nL 18.109375 46.390625 \nQ 20.953125 51.265625 25.265625 53.625 \nQ 29.59375 56 35.59375 56 \nQ 45.5625 56 51.78125 48.09375 \nQ 58.015625 40.1875 58.015625 27.296875 \nQ 58.015625 14.40625 51.78125 6.484375 \nQ 45.5625 -1.421875 35.59375 -1.421875 \nQ 29.59375 -1.421875 25.265625 0.953125 \nQ 20.953125 3.328125 18.109375 8.203125 \nz\nM 48.6875 27.296875 \nQ 48.6875 37.203125 44.609375 42.84375 \nQ 40.53125 48.484375 33.40625 48.484375 \nQ 26.265625 48.484375 22.1875 42.84375 \nQ 18.109375 37.203125 18.109375 27.296875 \nQ 18.109375 17.390625 22.1875 11.75 \nQ 26.265625 6.109375 33.40625 6.109375 \nQ 40.53125 6.109375 44.609375 11.75 \nQ 48.6875 17.390625 48.6875 27.296875 \nz\n\" id=\"DejaVuSans-112\"/>\n      <path d=\"M 30.609375 48.390625 \nQ 23.390625 48.390625 19.1875 42.75 \nQ 14.984375 37.109375 14.984375 27.296875 \nQ 14.984375 17.484375 19.15625 11.84375 \nQ 23.34375 6.203125 30.609375 6.203125 \nQ 37.796875 6.203125 41.984375 11.859375 \nQ 46.1875 17.53125 46.1875 27.296875 \nQ 46.1875 37.015625 41.984375 42.703125 \nQ 37.796875 48.390625 30.609375 48.390625 \nz\nM 30.609375 56 \nQ 42.328125 56 49.015625 48.375 \nQ 55.71875 40.765625 55.71875 27.296875 \nQ 55.71875 13.875 49.015625 6.21875 \nQ 42.328125 -1.421875 30.609375 -1.421875 \nQ 18.84375 -1.421875 12.171875 6.21875 \nQ 5.515625 13.875 5.515625 27.296875 \nQ 5.515625 40.765625 12.171875 48.375 \nQ 18.84375 56 30.609375 56 \nz\n\" id=\"DejaVuSans-111\"/>\n      <path d=\"M 48.78125 52.59375 \nL 48.78125 44.1875 \nQ 44.96875 46.296875 41.140625 47.34375 \nQ 37.3125 48.390625 33.40625 48.390625 \nQ 24.65625 48.390625 19.8125 42.84375 \nQ 14.984375 37.3125 14.984375 27.296875 \nQ 14.984375 17.28125 19.8125 11.734375 \nQ 24.65625 6.203125 33.40625 6.203125 \nQ 37.3125 6.203125 41.140625 7.25 \nQ 44.96875 8.296875 48.78125 10.40625 \nL 48.78125 2.09375 \nQ 45.015625 0.34375 40.984375 -0.53125 \nQ 36.96875 -1.421875 32.421875 -1.421875 \nQ 20.0625 -1.421875 12.78125 6.34375 \nQ 5.515625 14.109375 5.515625 27.296875 \nQ 5.515625 40.671875 12.859375 48.328125 \nQ 20.21875 56 33.015625 56 \nQ 37.15625 56 41.109375 55.140625 \nQ 45.0625 54.296875 48.78125 52.59375 \nz\n\" id=\"DejaVuSans-99\"/>\n      <path d=\"M 54.890625 33.015625 \nL 54.890625 0 \nL 45.90625 0 \nL 45.90625 32.71875 \nQ 45.90625 40.484375 42.875 44.328125 \nQ 39.84375 48.1875 33.796875 48.1875 \nQ 26.515625 48.1875 22.3125 43.546875 \nQ 18.109375 38.921875 18.109375 30.90625 \nL 18.109375 0 \nL 9.078125 0 \nL 9.078125 75.984375 \nL 18.109375 75.984375 \nL 18.109375 46.1875 \nQ 21.34375 51.125 25.703125 53.5625 \nQ 30.078125 56 35.796875 56 \nQ 45.21875 56 50.046875 50.171875 \nQ 54.890625 44.34375 54.890625 33.015625 \nz\n\" id=\"DejaVuSans-104\"/>\n     </defs>\n     <g transform=\"translate(112.525 174.876562)scale(0.1 -0.1)\">\n      <use xlink:href=\"#DejaVuSans-101\"/>\n      <use x=\"61.523438\" xlink:href=\"#DejaVuSans-112\"/>\n      <use x=\"125\" xlink:href=\"#DejaVuSans-111\"/>\n      <use x=\"186.181641\" xlink:href=\"#DejaVuSans-99\"/>\n      <use x=\"241.162109\" xlink:href=\"#DejaVuSans-104\"/>\n     </g>\n    </g>\n   </g>\n   <g id=\"matplotlib.axis_2\">\n    <g id=\"ytick_1\">\n     <g id=\"line2d_11\">\n      <path clip-path=\"url(#p98b32e4a31)\" d=\"M 30.103125 123.95 \nL 225.403125 123.95 \n\" style=\"fill:none;stroke:#b0b0b0;stroke-linecap:square;stroke-width:0.8;\"/>\n     </g>\n     <g id=\"line2d_12\">\n      <defs>\n       <path d=\"M 0 0 \nL -3.5 0 \n\" id=\"md7ee4c1943\" style=\"stroke:#000000;stroke-width:0.8;\"/>\n      </defs>\n      <g>\n       <use style=\"stroke:#000000;stroke-width:0.8;\" x=\"30.103125\" xlink:href=\"#md7ee4c1943\" y=\"123.95\"/>\n      </g>\n     </g>\n     <g id=\"text_7\">\n      <!-- 0.4 -->\n      <defs>\n       <path d=\"M 10.6875 12.40625 \nL 21 12.40625 \nL 21 0 \nL 10.6875 0 \nz\n\" id=\"DejaVuSans-46\"/>\n      </defs>\n      <g transform=\"translate(7.2 127.749219)scale(0.1 -0.1)\">\n       <use xlink:href=\"#DejaVuSans-48\"/>\n       <use x=\"63.623047\" xlink:href=\"#DejaVuSans-46\"/>\n       <use x=\"95.410156\" xlink:href=\"#DejaVuSans-52\"/>\n      </g>\n     </g>\n    </g>\n    <g id=\"ytick_2\">\n     <g id=\"line2d_13\">\n      <path clip-path=\"url(#p98b32e4a31)\" d=\"M 30.103125 78.65 \nL 225.403125 78.65 \n\" style=\"fill:none;stroke:#b0b0b0;stroke-linecap:square;stroke-width:0.8;\"/>\n     </g>\n     <g id=\"line2d_14\">\n      <g>\n       <use style=\"stroke:#000000;stroke-width:0.8;\" x=\"30.103125\" xlink:href=\"#md7ee4c1943\" y=\"78.65\"/>\n      </g>\n     </g>\n     <g id=\"text_8\">\n      <!-- 0.6 -->\n      <g transform=\"translate(7.2 82.449219)scale(0.1 -0.1)\">\n       <use xlink:href=\"#DejaVuSans-48\"/>\n       <use x=\"63.623047\" xlink:href=\"#DejaVuSans-46\"/>\n       <use x=\"95.410156\" xlink:href=\"#DejaVuSans-54\"/>\n      </g>\n     </g>\n    </g>\n    <g id=\"ytick_3\">\n     <g id=\"line2d_15\">\n      <path clip-path=\"url(#p98b32e4a31)\" d=\"M 30.103125 33.35 \nL 225.403125 33.35 \n\" style=\"fill:none;stroke:#b0b0b0;stroke-linecap:square;stroke-width:0.8;\"/>\n     </g>\n     <g id=\"line2d_16\">\n      <g>\n       <use style=\"stroke:#000000;stroke-width:0.8;\" x=\"30.103125\" xlink:href=\"#md7ee4c1943\" y=\"33.35\"/>\n      </g>\n     </g>\n     <g id=\"text_9\">\n      <!-- 0.8 -->\n      <g transform=\"translate(7.2 37.149219)scale(0.1 -0.1)\">\n       <use xlink:href=\"#DejaVuSans-48\"/>\n       <use x=\"63.623047\" xlink:href=\"#DejaVuSans-46\"/>\n       <use x=\"95.410156\" xlink:href=\"#DejaVuSans-56\"/>\n      </g>\n     </g>\n    </g>\n   </g>\n   <g id=\"line2d_17\">\n    <path clip-path=\"url(#p98b32e4a31)\" d=\"M 30.103125 140.660562 \nL 51.803125 142.585488 \nL 73.503125 143.628091 \nL 95.203125 145.431366 \nL 116.903125 145.955652 \nL 138.603125 146.94537 \nL 160.303125 148.839292 \nL 182.003125 149.546064 \nL 203.703125 150.616205 \nL 225.403125 151.994372 \n\" style=\"fill:none;stroke:#1f77b4;stroke-linecap:square;stroke-width:1.5;\"/>\n   </g>\n   <g id=\"line2d_18\">\n    <path clip-path=\"url(#p98b32e4a31)\" d=\"M 30.103125 15.309275 \nL 51.803125 14.878925 \nL 73.503125 14.42215 \nL 95.203125 13.75775 \nL 116.903125 13.436875 \nL 138.603125 13.278325 \nL 160.303125 12.3912 \nL 182.003125 12.06655 \nL 203.703125 11.707925 \nL 225.403125 11.504075 \n\" style=\"fill:none;stroke:#bf00bf;stroke-dasharray:5.55,2.4;stroke-dashoffset:0;stroke-width:1.5;\"/>\n   </g>\n   <g id=\"line2d_19\">\n    <path clip-path=\"url(#p98b32e4a31)\" d=\"M 30.103125 20.77925 \nL 51.803125 18.37835 \nL 73.503125 19.42025 \nL 95.203125 16.29455 \nL 116.903125 18.42365 \nL 138.603125 21.86645 \nL 160.303125 17.3138 \nL 182.003125 14.21075 \nL 203.703125 15.7283 \nL 225.403125 17.1326 \n\" style=\"fill:none;stroke:#008000;stroke-dasharray:9.6,2.4,1.5,2.4;stroke-dashoffset:0;stroke-width:1.5;\"/>\n   </g>\n   <g id=\"patch_3\">\n    <path d=\"M 30.103125 146.6 \nL 30.103125 10.7 \n\" style=\"fill:none;stroke:#000000;stroke-linecap:square;stroke-linejoin:miter;stroke-width:0.8;\"/>\n   </g>\n   <g id=\"patch_4\">\n    <path d=\"M 225.403125 146.6 \nL 225.403125 10.7 \n\" style=\"fill:none;stroke:#000000;stroke-linecap:square;stroke-linejoin:miter;stroke-width:0.8;\"/>\n   </g>\n   <g id=\"patch_5\">\n    <path d=\"M 30.103125 146.6 \nL 225.403125 146.6 \n\" style=\"fill:none;stroke:#000000;stroke-linecap:square;stroke-linejoin:miter;stroke-width:0.8;\"/>\n   </g>\n   <g id=\"patch_6\">\n    <path d=\"M 30.103125 10.7 \nL 225.403125 10.7 \n\" style=\"fill:none;stroke:#000000;stroke-linecap:square;stroke-linejoin:miter;stroke-width:0.8;\"/>\n   </g>\n   <g id=\"legend_1\">\n    <g id=\"patch_7\">\n     <path d=\"M 140.634375 141.6 \nL 218.403125 141.6 \nQ 220.403125 141.6 220.403125 139.6 \nL 220.403125 96.565625 \nQ 220.403125 94.565625 218.403125 94.565625 \nL 140.634375 94.565625 \nQ 138.634375 94.565625 138.634375 96.565625 \nL 138.634375 139.6 \nQ 138.634375 141.6 140.634375 141.6 \nz\n\" style=\"fill:#ffffff;opacity:0.8;stroke:#cccccc;stroke-linejoin:miter;\"/>\n    </g>\n    <g id=\"line2d_20\">\n     <path d=\"M 142.634375 102.664062 \nL 162.634375 102.664062 \n\" style=\"fill:none;stroke:#1f77b4;stroke-linecap:square;stroke-width:1.5;\"/>\n    </g>\n    <g id=\"line2d_21\"/>\n    <g id=\"text_10\">\n     <!-- train loss -->\n     <defs>\n      <path d=\"M 18.3125 70.21875 \nL 18.3125 54.6875 \nL 36.8125 54.6875 \nL 36.8125 47.703125 \nL 18.3125 47.703125 \nL 18.3125 18.015625 \nQ 18.3125 11.328125 20.140625 9.421875 \nQ 21.96875 7.515625 27.59375 7.515625 \nL 36.8125 7.515625 \nL 36.8125 0 \nL 27.59375 0 \nQ 17.1875 0 13.234375 3.875 \nQ 9.28125 7.765625 9.28125 18.015625 \nL 9.28125 47.703125 \nL 2.6875 47.703125 \nL 2.6875 54.6875 \nL 9.28125 54.6875 \nL 9.28125 70.21875 \nz\n\" id=\"DejaVuSans-116\"/>\n      <path d=\"M 41.109375 46.296875 \nQ 39.59375 47.171875 37.8125 47.578125 \nQ 36.03125 48 33.890625 48 \nQ 26.265625 48 22.1875 43.046875 \nQ 18.109375 38.09375 18.109375 28.8125 \nL 18.109375 0 \nL 9.078125 0 \nL 9.078125 54.6875 \nL 18.109375 54.6875 \nL 18.109375 46.1875 \nQ 20.953125 51.171875 25.484375 53.578125 \nQ 30.03125 56 36.53125 56 \nQ 37.453125 56 38.578125 55.875 \nQ 39.703125 55.765625 41.0625 55.515625 \nz\n\" id=\"DejaVuSans-114\"/>\n      <path d=\"M 34.28125 27.484375 \nQ 23.390625 27.484375 19.1875 25 \nQ 14.984375 22.515625 14.984375 16.5 \nQ 14.984375 11.71875 18.140625 8.90625 \nQ 21.296875 6.109375 26.703125 6.109375 \nQ 34.1875 6.109375 38.703125 11.40625 \nQ 43.21875 16.703125 43.21875 25.484375 \nL 43.21875 27.484375 \nz\nM 52.203125 31.203125 \nL 52.203125 0 \nL 43.21875 0 \nL 43.21875 8.296875 \nQ 40.140625 3.328125 35.546875 0.953125 \nQ 30.953125 -1.421875 24.3125 -1.421875 \nQ 15.921875 -1.421875 10.953125 3.296875 \nQ 6 8.015625 6 15.921875 \nQ 6 25.140625 12.171875 29.828125 \nQ 18.359375 34.515625 30.609375 34.515625 \nL 43.21875 34.515625 \nL 43.21875 35.40625 \nQ 43.21875 41.609375 39.140625 45 \nQ 35.0625 48.390625 27.6875 48.390625 \nQ 23 48.390625 18.546875 47.265625 \nQ 14.109375 46.140625 10.015625 43.890625 \nL 10.015625 52.203125 \nQ 14.9375 54.109375 19.578125 55.046875 \nQ 24.21875 56 28.609375 56 \nQ 40.484375 56 46.34375 49.84375 \nQ 52.203125 43.703125 52.203125 31.203125 \nz\n\" id=\"DejaVuSans-97\"/>\n      <path d=\"M 9.421875 54.6875 \nL 18.40625 54.6875 \nL 18.40625 0 \nL 9.421875 0 \nz\nM 9.421875 75.984375 \nL 18.40625 75.984375 \nL 18.40625 64.59375 \nL 9.421875 64.59375 \nz\n\" id=\"DejaVuSans-105\"/>\n      <path d=\"M 54.890625 33.015625 \nL 54.890625 0 \nL 45.90625 0 \nL 45.90625 32.71875 \nQ 45.90625 40.484375 42.875 44.328125 \nQ 39.84375 48.1875 33.796875 48.1875 \nQ 26.515625 48.1875 22.3125 43.546875 \nQ 18.109375 38.921875 18.109375 30.90625 \nL 18.109375 0 \nL 9.078125 0 \nL 9.078125 54.6875 \nL 18.109375 54.6875 \nL 18.109375 46.1875 \nQ 21.34375 51.125 25.703125 53.5625 \nQ 30.078125 56 35.796875 56 \nQ 45.21875 56 50.046875 50.171875 \nQ 54.890625 44.34375 54.890625 33.015625 \nz\n\" id=\"DejaVuSans-110\"/>\n      <path id=\"DejaVuSans-32\"/>\n      <path d=\"M 9.421875 75.984375 \nL 18.40625 75.984375 \nL 18.40625 0 \nL 9.421875 0 \nz\n\" id=\"DejaVuSans-108\"/>\n      <path d=\"M 44.28125 53.078125 \nL 44.28125 44.578125 \nQ 40.484375 46.53125 36.375 47.5 \nQ 32.28125 48.484375 27.875 48.484375 \nQ 21.1875 48.484375 17.84375 46.4375 \nQ 14.5 44.390625 14.5 40.28125 \nQ 14.5 37.15625 16.890625 35.375 \nQ 19.28125 33.59375 26.515625 31.984375 \nL 29.59375 31.296875 \nQ 39.15625 29.25 43.1875 25.515625 \nQ 47.21875 21.78125 47.21875 15.09375 \nQ 47.21875 7.46875 41.1875 3.015625 \nQ 35.15625 -1.421875 24.609375 -1.421875 \nQ 20.21875 -1.421875 15.453125 -0.5625 \nQ 10.6875 0.296875 5.421875 2 \nL 5.421875 11.28125 \nQ 10.40625 8.6875 15.234375 7.390625 \nQ 20.0625 6.109375 24.8125 6.109375 \nQ 31.15625 6.109375 34.5625 8.28125 \nQ 37.984375 10.453125 37.984375 14.40625 \nQ 37.984375 18.0625 35.515625 20.015625 \nQ 33.0625 21.96875 24.703125 23.78125 \nL 21.578125 24.515625 \nQ 13.234375 26.265625 9.515625 29.90625 \nQ 5.8125 33.546875 5.8125 39.890625 \nQ 5.8125 47.609375 11.28125 51.796875 \nQ 16.75 56 26.8125 56 \nQ 31.78125 56 36.171875 55.265625 \nQ 40.578125 54.546875 44.28125 53.078125 \nz\n\" id=\"DejaVuSans-115\"/>\n     </defs>\n     <g transform=\"translate(170.634375 106.164062)scale(0.1 -0.1)\">\n      <use xlink:href=\"#DejaVuSans-116\"/>\n      <use x=\"39.208984\" xlink:href=\"#DejaVuSans-114\"/>\n      <use x=\"80.322266\" xlink:href=\"#DejaVuSans-97\"/>\n      <use x=\"141.601562\" xlink:href=\"#DejaVuSans-105\"/>\n      <use x=\"169.384766\" xlink:href=\"#DejaVuSans-110\"/>\n      <use x=\"232.763672\" xlink:href=\"#DejaVuSans-32\"/>\n      <use x=\"264.550781\" xlink:href=\"#DejaVuSans-108\"/>\n      <use x=\"292.333984\" xlink:href=\"#DejaVuSans-111\"/>\n      <use x=\"353.515625\" xlink:href=\"#DejaVuSans-115\"/>\n      <use x=\"405.615234\" xlink:href=\"#DejaVuSans-115\"/>\n     </g>\n    </g>\n    <g id=\"line2d_22\">\n     <path d=\"M 142.634375 117.342187 \nL 162.634375 117.342187 \n\" style=\"fill:none;stroke:#bf00bf;stroke-dasharray:5.55,2.4;stroke-dashoffset:0;stroke-width:1.5;\"/>\n    </g>\n    <g id=\"line2d_23\"/>\n    <g id=\"text_11\">\n     <!-- train acc -->\n     <g transform=\"translate(170.634375 120.842187)scale(0.1 -0.1)\">\n      <use xlink:href=\"#DejaVuSans-116\"/>\n      <use x=\"39.208984\" xlink:href=\"#DejaVuSans-114\"/>\n      <use x=\"80.322266\" xlink:href=\"#DejaVuSans-97\"/>\n      <use x=\"141.601562\" xlink:href=\"#DejaVuSans-105\"/>\n      <use x=\"169.384766\" xlink:href=\"#DejaVuSans-110\"/>\n      <use x=\"232.763672\" xlink:href=\"#DejaVuSans-32\"/>\n      <use x=\"264.550781\" xlink:href=\"#DejaVuSans-97\"/>\n      <use x=\"325.830078\" xlink:href=\"#DejaVuSans-99\"/>\n      <use x=\"380.810547\" xlink:href=\"#DejaVuSans-99\"/>\n     </g>\n    </g>\n    <g id=\"line2d_24\">\n     <path d=\"M 142.634375 132.020312 \nL 162.634375 132.020312 \n\" style=\"fill:none;stroke:#008000;stroke-dasharray:9.6,2.4,1.5,2.4;stroke-dashoffset:0;stroke-width:1.5;\"/>\n    </g>\n    <g id=\"line2d_25\"/>\n    <g id=\"text_12\">\n     <!-- test acc -->\n     <g transform=\"translate(170.634375 135.520312)scale(0.1 -0.1)\">\n      <use xlink:href=\"#DejaVuSans-116\"/>\n      <use x=\"39.208984\" xlink:href=\"#DejaVuSans-101\"/>\n      <use x=\"100.732422\" xlink:href=\"#DejaVuSans-115\"/>\n      <use x=\"152.832031\" xlink:href=\"#DejaVuSans-116\"/>\n      <use x=\"192.041016\" xlink:href=\"#DejaVuSans-32\"/>\n      <use x=\"223.828125\" xlink:href=\"#DejaVuSans-97\"/>\n      <use x=\"285.107422\" xlink:href=\"#DejaVuSans-99\"/>\n      <use x=\"340.087891\" xlink:href=\"#DejaVuSans-99\"/>\n     </g>\n    </g>\n   </g>\n  </g>\n </g>\n <defs>\n  <clipPath id=\"p98b32e4a31\">\n   <rect height=\"135.9\" width=\"195.3\" x=\"30.103125\" y=\"10.7\"/>\n  </clipPath>\n </defs>\n</svg>\n"
          },
          "metadata": {
            "needs_background": "light"
          }
        }
      ]
    },
    {
      "cell_type": "markdown",
      "source": [
        "## Summary\n",
        "\n",
        "\n",
        "\n",
        "*   Selain mengendalikan jumlah dimensi dan ukuran vektor berat, dropout adalah alat lain untuk menghindari overfitting. Seringkali mereka digunakan bersama.\n",
        "\n",
        "*   Dropout menggantikan aktivasi ***h*** dengan variabel acak dengan nilai yang diharapkan ***h***.\n",
        "*   Dropout hanya digunakan selama pelatihan.\n",
        "\n",
        "\n"
      ],
      "metadata": {
        "id": "DejSMMXL7Y3S"
      }
    }
  ]
}