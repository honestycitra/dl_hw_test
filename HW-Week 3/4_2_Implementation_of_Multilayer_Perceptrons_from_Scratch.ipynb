{
  "nbformat": 4,
  "nbformat_minor": 0,
  "metadata": {
    "colab": {
      "name": "4.2.  Implementation of Multilayer Perceptrons from Scratch.ipynb",
      "provenance": []
    },
    "kernelspec": {
      "name": "python3",
      "display_name": "Python 3"
    },
    "language_info": {
      "name": "python"
    },
    "widgets": {
      "application/vnd.jupyter.widget-state+json": {
        "d3dcd024fb8a44cbba8cddd640e77269": {
          "model_module": "@jupyter-widgets/controls",
          "model_name": "HBoxModel",
          "model_module_version": "1.5.0",
          "state": {
            "_dom_classes": [],
            "_model_module": "@jupyter-widgets/controls",
            "_model_module_version": "1.5.0",
            "_model_name": "HBoxModel",
            "_view_count": null,
            "_view_module": "@jupyter-widgets/controls",
            "_view_module_version": "1.5.0",
            "_view_name": "HBoxView",
            "box_style": "",
            "children": [
              "IPY_MODEL_0536f68208a744438b65ae9a251417d6",
              "IPY_MODEL_d099dc117e2943cfabd712894c4b4572",
              "IPY_MODEL_fd5b06fd95b94cf8bcf2622c1c66ccac"
            ],
            "layout": "IPY_MODEL_91f0141ade0b4ce2b70e8bce34c025d4"
          }
        },
        "0536f68208a744438b65ae9a251417d6": {
          "model_module": "@jupyter-widgets/controls",
          "model_name": "HTMLModel",
          "model_module_version": "1.5.0",
          "state": {
            "_dom_classes": [],
            "_model_module": "@jupyter-widgets/controls",
            "_model_module_version": "1.5.0",
            "_model_name": "HTMLModel",
            "_view_count": null,
            "_view_module": "@jupyter-widgets/controls",
            "_view_module_version": "1.5.0",
            "_view_name": "HTMLView",
            "description": "",
            "description_tooltip": null,
            "layout": "IPY_MODEL_5cd7c8b7247745aeb6cda00ac2dc66df",
            "placeholder": "​",
            "style": "IPY_MODEL_eb8c4938e45e4099a54154c0fffb4d68",
            "value": ""
          }
        },
        "d099dc117e2943cfabd712894c4b4572": {
          "model_module": "@jupyter-widgets/controls",
          "model_name": "FloatProgressModel",
          "model_module_version": "1.5.0",
          "state": {
            "_dom_classes": [],
            "_model_module": "@jupyter-widgets/controls",
            "_model_module_version": "1.5.0",
            "_model_name": "FloatProgressModel",
            "_view_count": null,
            "_view_module": "@jupyter-widgets/controls",
            "_view_module_version": "1.5.0",
            "_view_name": "ProgressView",
            "bar_style": "success",
            "description": "",
            "description_tooltip": null,
            "layout": "IPY_MODEL_54dc6faac1e14f70b39dbaa84223651a",
            "max": 26421880,
            "min": 0,
            "orientation": "horizontal",
            "style": "IPY_MODEL_6438f334ca3948bf80f3d5d8249a4b7a",
            "value": 26421880
          }
        },
        "fd5b06fd95b94cf8bcf2622c1c66ccac": {
          "model_module": "@jupyter-widgets/controls",
          "model_name": "HTMLModel",
          "model_module_version": "1.5.0",
          "state": {
            "_dom_classes": [],
            "_model_module": "@jupyter-widgets/controls",
            "_model_module_version": "1.5.0",
            "_model_name": "HTMLModel",
            "_view_count": null,
            "_view_module": "@jupyter-widgets/controls",
            "_view_module_version": "1.5.0",
            "_view_name": "HTMLView",
            "description": "",
            "description_tooltip": null,
            "layout": "IPY_MODEL_065783ae43704470b1ed06d1be458147",
            "placeholder": "​",
            "style": "IPY_MODEL_c8709cfff7f941cfa81fb7ac3c22cbe7",
            "value": " 26422272/? [00:02&lt;00:00, 16331537.03it/s]"
          }
        },
        "91f0141ade0b4ce2b70e8bce34c025d4": {
          "model_module": "@jupyter-widgets/base",
          "model_name": "LayoutModel",
          "model_module_version": "1.2.0",
          "state": {
            "_model_module": "@jupyter-widgets/base",
            "_model_module_version": "1.2.0",
            "_model_name": "LayoutModel",
            "_view_count": null,
            "_view_module": "@jupyter-widgets/base",
            "_view_module_version": "1.2.0",
            "_view_name": "LayoutView",
            "align_content": null,
            "align_items": null,
            "align_self": null,
            "border": null,
            "bottom": null,
            "display": null,
            "flex": null,
            "flex_flow": null,
            "grid_area": null,
            "grid_auto_columns": null,
            "grid_auto_flow": null,
            "grid_auto_rows": null,
            "grid_column": null,
            "grid_gap": null,
            "grid_row": null,
            "grid_template_areas": null,
            "grid_template_columns": null,
            "grid_template_rows": null,
            "height": null,
            "justify_content": null,
            "justify_items": null,
            "left": null,
            "margin": null,
            "max_height": null,
            "max_width": null,
            "min_height": null,
            "min_width": null,
            "object_fit": null,
            "object_position": null,
            "order": null,
            "overflow": null,
            "overflow_x": null,
            "overflow_y": null,
            "padding": null,
            "right": null,
            "top": null,
            "visibility": null,
            "width": null
          }
        },
        "5cd7c8b7247745aeb6cda00ac2dc66df": {
          "model_module": "@jupyter-widgets/base",
          "model_name": "LayoutModel",
          "model_module_version": "1.2.0",
          "state": {
            "_model_module": "@jupyter-widgets/base",
            "_model_module_version": "1.2.0",
            "_model_name": "LayoutModel",
            "_view_count": null,
            "_view_module": "@jupyter-widgets/base",
            "_view_module_version": "1.2.0",
            "_view_name": "LayoutView",
            "align_content": null,
            "align_items": null,
            "align_self": null,
            "border": null,
            "bottom": null,
            "display": null,
            "flex": null,
            "flex_flow": null,
            "grid_area": null,
            "grid_auto_columns": null,
            "grid_auto_flow": null,
            "grid_auto_rows": null,
            "grid_column": null,
            "grid_gap": null,
            "grid_row": null,
            "grid_template_areas": null,
            "grid_template_columns": null,
            "grid_template_rows": null,
            "height": null,
            "justify_content": null,
            "justify_items": null,
            "left": null,
            "margin": null,
            "max_height": null,
            "max_width": null,
            "min_height": null,
            "min_width": null,
            "object_fit": null,
            "object_position": null,
            "order": null,
            "overflow": null,
            "overflow_x": null,
            "overflow_y": null,
            "padding": null,
            "right": null,
            "top": null,
            "visibility": null,
            "width": null
          }
        },
        "eb8c4938e45e4099a54154c0fffb4d68": {
          "model_module": "@jupyter-widgets/controls",
          "model_name": "DescriptionStyleModel",
          "model_module_version": "1.5.0",
          "state": {
            "_model_module": "@jupyter-widgets/controls",
            "_model_module_version": "1.5.0",
            "_model_name": "DescriptionStyleModel",
            "_view_count": null,
            "_view_module": "@jupyter-widgets/base",
            "_view_module_version": "1.2.0",
            "_view_name": "StyleView",
            "description_width": ""
          }
        },
        "54dc6faac1e14f70b39dbaa84223651a": {
          "model_module": "@jupyter-widgets/base",
          "model_name": "LayoutModel",
          "model_module_version": "1.2.0",
          "state": {
            "_model_module": "@jupyter-widgets/base",
            "_model_module_version": "1.2.0",
            "_model_name": "LayoutModel",
            "_view_count": null,
            "_view_module": "@jupyter-widgets/base",
            "_view_module_version": "1.2.0",
            "_view_name": "LayoutView",
            "align_content": null,
            "align_items": null,
            "align_self": null,
            "border": null,
            "bottom": null,
            "display": null,
            "flex": null,
            "flex_flow": null,
            "grid_area": null,
            "grid_auto_columns": null,
            "grid_auto_flow": null,
            "grid_auto_rows": null,
            "grid_column": null,
            "grid_gap": null,
            "grid_row": null,
            "grid_template_areas": null,
            "grid_template_columns": null,
            "grid_template_rows": null,
            "height": null,
            "justify_content": null,
            "justify_items": null,
            "left": null,
            "margin": null,
            "max_height": null,
            "max_width": null,
            "min_height": null,
            "min_width": null,
            "object_fit": null,
            "object_position": null,
            "order": null,
            "overflow": null,
            "overflow_x": null,
            "overflow_y": null,
            "padding": null,
            "right": null,
            "top": null,
            "visibility": null,
            "width": null
          }
        },
        "6438f334ca3948bf80f3d5d8249a4b7a": {
          "model_module": "@jupyter-widgets/controls",
          "model_name": "ProgressStyleModel",
          "model_module_version": "1.5.0",
          "state": {
            "_model_module": "@jupyter-widgets/controls",
            "_model_module_version": "1.5.0",
            "_model_name": "ProgressStyleModel",
            "_view_count": null,
            "_view_module": "@jupyter-widgets/base",
            "_view_module_version": "1.2.0",
            "_view_name": "StyleView",
            "bar_color": null,
            "description_width": ""
          }
        },
        "065783ae43704470b1ed06d1be458147": {
          "model_module": "@jupyter-widgets/base",
          "model_name": "LayoutModel",
          "model_module_version": "1.2.0",
          "state": {
            "_model_module": "@jupyter-widgets/base",
            "_model_module_version": "1.2.0",
            "_model_name": "LayoutModel",
            "_view_count": null,
            "_view_module": "@jupyter-widgets/base",
            "_view_module_version": "1.2.0",
            "_view_name": "LayoutView",
            "align_content": null,
            "align_items": null,
            "align_self": null,
            "border": null,
            "bottom": null,
            "display": null,
            "flex": null,
            "flex_flow": null,
            "grid_area": null,
            "grid_auto_columns": null,
            "grid_auto_flow": null,
            "grid_auto_rows": null,
            "grid_column": null,
            "grid_gap": null,
            "grid_row": null,
            "grid_template_areas": null,
            "grid_template_columns": null,
            "grid_template_rows": null,
            "height": null,
            "justify_content": null,
            "justify_items": null,
            "left": null,
            "margin": null,
            "max_height": null,
            "max_width": null,
            "min_height": null,
            "min_width": null,
            "object_fit": null,
            "object_position": null,
            "order": null,
            "overflow": null,
            "overflow_x": null,
            "overflow_y": null,
            "padding": null,
            "right": null,
            "top": null,
            "visibility": null,
            "width": null
          }
        },
        "c8709cfff7f941cfa81fb7ac3c22cbe7": {
          "model_module": "@jupyter-widgets/controls",
          "model_name": "DescriptionStyleModel",
          "model_module_version": "1.5.0",
          "state": {
            "_model_module": "@jupyter-widgets/controls",
            "_model_module_version": "1.5.0",
            "_model_name": "DescriptionStyleModel",
            "_view_count": null,
            "_view_module": "@jupyter-widgets/base",
            "_view_module_version": "1.2.0",
            "_view_name": "StyleView",
            "description_width": ""
          }
        },
        "a828f3bc03564a7b8f95ddb8c7cf9782": {
          "model_module": "@jupyter-widgets/controls",
          "model_name": "HBoxModel",
          "model_module_version": "1.5.0",
          "state": {
            "_dom_classes": [],
            "_model_module": "@jupyter-widgets/controls",
            "_model_module_version": "1.5.0",
            "_model_name": "HBoxModel",
            "_view_count": null,
            "_view_module": "@jupyter-widgets/controls",
            "_view_module_version": "1.5.0",
            "_view_name": "HBoxView",
            "box_style": "",
            "children": [
              "IPY_MODEL_00765c4a19e0440dba15fffbe10ba482",
              "IPY_MODEL_6f37527fc9de45acbebfdb426e002c62",
              "IPY_MODEL_8632583fe285443c90f08a0a5b843a04"
            ],
            "layout": "IPY_MODEL_90f6e95238324831a4f06c9b3cb8c2cd"
          }
        },
        "00765c4a19e0440dba15fffbe10ba482": {
          "model_module": "@jupyter-widgets/controls",
          "model_name": "HTMLModel",
          "model_module_version": "1.5.0",
          "state": {
            "_dom_classes": [],
            "_model_module": "@jupyter-widgets/controls",
            "_model_module_version": "1.5.0",
            "_model_name": "HTMLModel",
            "_view_count": null,
            "_view_module": "@jupyter-widgets/controls",
            "_view_module_version": "1.5.0",
            "_view_name": "HTMLView",
            "description": "",
            "description_tooltip": null,
            "layout": "IPY_MODEL_1f2aad3f21f3442682d5f9a63426ab72",
            "placeholder": "​",
            "style": "IPY_MODEL_5f36d2bc54ed4f178919f38237233174",
            "value": ""
          }
        },
        "6f37527fc9de45acbebfdb426e002c62": {
          "model_module": "@jupyter-widgets/controls",
          "model_name": "FloatProgressModel",
          "model_module_version": "1.5.0",
          "state": {
            "_dom_classes": [],
            "_model_module": "@jupyter-widgets/controls",
            "_model_module_version": "1.5.0",
            "_model_name": "FloatProgressModel",
            "_view_count": null,
            "_view_module": "@jupyter-widgets/controls",
            "_view_module_version": "1.5.0",
            "_view_name": "ProgressView",
            "bar_style": "success",
            "description": "",
            "description_tooltip": null,
            "layout": "IPY_MODEL_ffe4b6640fc447f79e0d9a01a2091d8f",
            "max": 29515,
            "min": 0,
            "orientation": "horizontal",
            "style": "IPY_MODEL_c70d69fe1c064fa49679ec7d68f5473e",
            "value": 29515
          }
        },
        "8632583fe285443c90f08a0a5b843a04": {
          "model_module": "@jupyter-widgets/controls",
          "model_name": "HTMLModel",
          "model_module_version": "1.5.0",
          "state": {
            "_dom_classes": [],
            "_model_module": "@jupyter-widgets/controls",
            "_model_module_version": "1.5.0",
            "_model_name": "HTMLModel",
            "_view_count": null,
            "_view_module": "@jupyter-widgets/controls",
            "_view_module_version": "1.5.0",
            "_view_name": "HTMLView",
            "description": "",
            "description_tooltip": null,
            "layout": "IPY_MODEL_0b0d84d052444ea48a846e73a3a396b1",
            "placeholder": "​",
            "style": "IPY_MODEL_189ddb293cfc43ca824297d1671644ff",
            "value": " 29696/? [00:00&lt;00:00, 97831.90it/s]"
          }
        },
        "90f6e95238324831a4f06c9b3cb8c2cd": {
          "model_module": "@jupyter-widgets/base",
          "model_name": "LayoutModel",
          "model_module_version": "1.2.0",
          "state": {
            "_model_module": "@jupyter-widgets/base",
            "_model_module_version": "1.2.0",
            "_model_name": "LayoutModel",
            "_view_count": null,
            "_view_module": "@jupyter-widgets/base",
            "_view_module_version": "1.2.0",
            "_view_name": "LayoutView",
            "align_content": null,
            "align_items": null,
            "align_self": null,
            "border": null,
            "bottom": null,
            "display": null,
            "flex": null,
            "flex_flow": null,
            "grid_area": null,
            "grid_auto_columns": null,
            "grid_auto_flow": null,
            "grid_auto_rows": null,
            "grid_column": null,
            "grid_gap": null,
            "grid_row": null,
            "grid_template_areas": null,
            "grid_template_columns": null,
            "grid_template_rows": null,
            "height": null,
            "justify_content": null,
            "justify_items": null,
            "left": null,
            "margin": null,
            "max_height": null,
            "max_width": null,
            "min_height": null,
            "min_width": null,
            "object_fit": null,
            "object_position": null,
            "order": null,
            "overflow": null,
            "overflow_x": null,
            "overflow_y": null,
            "padding": null,
            "right": null,
            "top": null,
            "visibility": null,
            "width": null
          }
        },
        "1f2aad3f21f3442682d5f9a63426ab72": {
          "model_module": "@jupyter-widgets/base",
          "model_name": "LayoutModel",
          "model_module_version": "1.2.0",
          "state": {
            "_model_module": "@jupyter-widgets/base",
            "_model_module_version": "1.2.0",
            "_model_name": "LayoutModel",
            "_view_count": null,
            "_view_module": "@jupyter-widgets/base",
            "_view_module_version": "1.2.0",
            "_view_name": "LayoutView",
            "align_content": null,
            "align_items": null,
            "align_self": null,
            "border": null,
            "bottom": null,
            "display": null,
            "flex": null,
            "flex_flow": null,
            "grid_area": null,
            "grid_auto_columns": null,
            "grid_auto_flow": null,
            "grid_auto_rows": null,
            "grid_column": null,
            "grid_gap": null,
            "grid_row": null,
            "grid_template_areas": null,
            "grid_template_columns": null,
            "grid_template_rows": null,
            "height": null,
            "justify_content": null,
            "justify_items": null,
            "left": null,
            "margin": null,
            "max_height": null,
            "max_width": null,
            "min_height": null,
            "min_width": null,
            "object_fit": null,
            "object_position": null,
            "order": null,
            "overflow": null,
            "overflow_x": null,
            "overflow_y": null,
            "padding": null,
            "right": null,
            "top": null,
            "visibility": null,
            "width": null
          }
        },
        "5f36d2bc54ed4f178919f38237233174": {
          "model_module": "@jupyter-widgets/controls",
          "model_name": "DescriptionStyleModel",
          "model_module_version": "1.5.0",
          "state": {
            "_model_module": "@jupyter-widgets/controls",
            "_model_module_version": "1.5.0",
            "_model_name": "DescriptionStyleModel",
            "_view_count": null,
            "_view_module": "@jupyter-widgets/base",
            "_view_module_version": "1.2.0",
            "_view_name": "StyleView",
            "description_width": ""
          }
        },
        "ffe4b6640fc447f79e0d9a01a2091d8f": {
          "model_module": "@jupyter-widgets/base",
          "model_name": "LayoutModel",
          "model_module_version": "1.2.0",
          "state": {
            "_model_module": "@jupyter-widgets/base",
            "_model_module_version": "1.2.0",
            "_model_name": "LayoutModel",
            "_view_count": null,
            "_view_module": "@jupyter-widgets/base",
            "_view_module_version": "1.2.0",
            "_view_name": "LayoutView",
            "align_content": null,
            "align_items": null,
            "align_self": null,
            "border": null,
            "bottom": null,
            "display": null,
            "flex": null,
            "flex_flow": null,
            "grid_area": null,
            "grid_auto_columns": null,
            "grid_auto_flow": null,
            "grid_auto_rows": null,
            "grid_column": null,
            "grid_gap": null,
            "grid_row": null,
            "grid_template_areas": null,
            "grid_template_columns": null,
            "grid_template_rows": null,
            "height": null,
            "justify_content": null,
            "justify_items": null,
            "left": null,
            "margin": null,
            "max_height": null,
            "max_width": null,
            "min_height": null,
            "min_width": null,
            "object_fit": null,
            "object_position": null,
            "order": null,
            "overflow": null,
            "overflow_x": null,
            "overflow_y": null,
            "padding": null,
            "right": null,
            "top": null,
            "visibility": null,
            "width": null
          }
        },
        "c70d69fe1c064fa49679ec7d68f5473e": {
          "model_module": "@jupyter-widgets/controls",
          "model_name": "ProgressStyleModel",
          "model_module_version": "1.5.0",
          "state": {
            "_model_module": "@jupyter-widgets/controls",
            "_model_module_version": "1.5.0",
            "_model_name": "ProgressStyleModel",
            "_view_count": null,
            "_view_module": "@jupyter-widgets/base",
            "_view_module_version": "1.2.0",
            "_view_name": "StyleView",
            "bar_color": null,
            "description_width": ""
          }
        },
        "0b0d84d052444ea48a846e73a3a396b1": {
          "model_module": "@jupyter-widgets/base",
          "model_name": "LayoutModel",
          "model_module_version": "1.2.0",
          "state": {
            "_model_module": "@jupyter-widgets/base",
            "_model_module_version": "1.2.0",
            "_model_name": "LayoutModel",
            "_view_count": null,
            "_view_module": "@jupyter-widgets/base",
            "_view_module_version": "1.2.0",
            "_view_name": "LayoutView",
            "align_content": null,
            "align_items": null,
            "align_self": null,
            "border": null,
            "bottom": null,
            "display": null,
            "flex": null,
            "flex_flow": null,
            "grid_area": null,
            "grid_auto_columns": null,
            "grid_auto_flow": null,
            "grid_auto_rows": null,
            "grid_column": null,
            "grid_gap": null,
            "grid_row": null,
            "grid_template_areas": null,
            "grid_template_columns": null,
            "grid_template_rows": null,
            "height": null,
            "justify_content": null,
            "justify_items": null,
            "left": null,
            "margin": null,
            "max_height": null,
            "max_width": null,
            "min_height": null,
            "min_width": null,
            "object_fit": null,
            "object_position": null,
            "order": null,
            "overflow": null,
            "overflow_x": null,
            "overflow_y": null,
            "padding": null,
            "right": null,
            "top": null,
            "visibility": null,
            "width": null
          }
        },
        "189ddb293cfc43ca824297d1671644ff": {
          "model_module": "@jupyter-widgets/controls",
          "model_name": "DescriptionStyleModel",
          "model_module_version": "1.5.0",
          "state": {
            "_model_module": "@jupyter-widgets/controls",
            "_model_module_version": "1.5.0",
            "_model_name": "DescriptionStyleModel",
            "_view_count": null,
            "_view_module": "@jupyter-widgets/base",
            "_view_module_version": "1.2.0",
            "_view_name": "StyleView",
            "description_width": ""
          }
        },
        "242a75427a814dd1abbd021a2f5f1055": {
          "model_module": "@jupyter-widgets/controls",
          "model_name": "HBoxModel",
          "model_module_version": "1.5.0",
          "state": {
            "_dom_classes": [],
            "_model_module": "@jupyter-widgets/controls",
            "_model_module_version": "1.5.0",
            "_model_name": "HBoxModel",
            "_view_count": null,
            "_view_module": "@jupyter-widgets/controls",
            "_view_module_version": "1.5.0",
            "_view_name": "HBoxView",
            "box_style": "",
            "children": [
              "IPY_MODEL_8bb1e89cb5a141e08df83d8e50c8dfd3",
              "IPY_MODEL_083c4a31adc845d8ab7b7d883995ca64",
              "IPY_MODEL_1dd351f559354af0b5d377caf21609df"
            ],
            "layout": "IPY_MODEL_52dcb9affa0b4677be9d0f428318f044"
          }
        },
        "8bb1e89cb5a141e08df83d8e50c8dfd3": {
          "model_module": "@jupyter-widgets/controls",
          "model_name": "HTMLModel",
          "model_module_version": "1.5.0",
          "state": {
            "_dom_classes": [],
            "_model_module": "@jupyter-widgets/controls",
            "_model_module_version": "1.5.0",
            "_model_name": "HTMLModel",
            "_view_count": null,
            "_view_module": "@jupyter-widgets/controls",
            "_view_module_version": "1.5.0",
            "_view_name": "HTMLView",
            "description": "",
            "description_tooltip": null,
            "layout": "IPY_MODEL_f39e05b4928649d891d130472f548b6d",
            "placeholder": "​",
            "style": "IPY_MODEL_6be0d5a90e534684a69b4bc23ecbc984",
            "value": ""
          }
        },
        "083c4a31adc845d8ab7b7d883995ca64": {
          "model_module": "@jupyter-widgets/controls",
          "model_name": "FloatProgressModel",
          "model_module_version": "1.5.0",
          "state": {
            "_dom_classes": [],
            "_model_module": "@jupyter-widgets/controls",
            "_model_module_version": "1.5.0",
            "_model_name": "FloatProgressModel",
            "_view_count": null,
            "_view_module": "@jupyter-widgets/controls",
            "_view_module_version": "1.5.0",
            "_view_name": "ProgressView",
            "bar_style": "success",
            "description": "",
            "description_tooltip": null,
            "layout": "IPY_MODEL_c97bcad8c19746029e9b12c422a6f121",
            "max": 4422102,
            "min": 0,
            "orientation": "horizontal",
            "style": "IPY_MODEL_aa195c2a92054ec79f5c3977c5d8f8b4",
            "value": 4422102
          }
        },
        "1dd351f559354af0b5d377caf21609df": {
          "model_module": "@jupyter-widgets/controls",
          "model_name": "HTMLModel",
          "model_module_version": "1.5.0",
          "state": {
            "_dom_classes": [],
            "_model_module": "@jupyter-widgets/controls",
            "_model_module_version": "1.5.0",
            "_model_name": "HTMLModel",
            "_view_count": null,
            "_view_module": "@jupyter-widgets/controls",
            "_view_module_version": "1.5.0",
            "_view_name": "HTMLView",
            "description": "",
            "description_tooltip": null,
            "layout": "IPY_MODEL_d9ad37dad1ef4b8b9dfcf67c740f6e4d",
            "placeholder": "​",
            "style": "IPY_MODEL_24eaf5b51c7e4e4f8478586dc7bb5eb0",
            "value": " 4422656/? [00:01&lt;00:00, 5697402.49it/s]"
          }
        },
        "52dcb9affa0b4677be9d0f428318f044": {
          "model_module": "@jupyter-widgets/base",
          "model_name": "LayoutModel",
          "model_module_version": "1.2.0",
          "state": {
            "_model_module": "@jupyter-widgets/base",
            "_model_module_version": "1.2.0",
            "_model_name": "LayoutModel",
            "_view_count": null,
            "_view_module": "@jupyter-widgets/base",
            "_view_module_version": "1.2.0",
            "_view_name": "LayoutView",
            "align_content": null,
            "align_items": null,
            "align_self": null,
            "border": null,
            "bottom": null,
            "display": null,
            "flex": null,
            "flex_flow": null,
            "grid_area": null,
            "grid_auto_columns": null,
            "grid_auto_flow": null,
            "grid_auto_rows": null,
            "grid_column": null,
            "grid_gap": null,
            "grid_row": null,
            "grid_template_areas": null,
            "grid_template_columns": null,
            "grid_template_rows": null,
            "height": null,
            "justify_content": null,
            "justify_items": null,
            "left": null,
            "margin": null,
            "max_height": null,
            "max_width": null,
            "min_height": null,
            "min_width": null,
            "object_fit": null,
            "object_position": null,
            "order": null,
            "overflow": null,
            "overflow_x": null,
            "overflow_y": null,
            "padding": null,
            "right": null,
            "top": null,
            "visibility": null,
            "width": null
          }
        },
        "f39e05b4928649d891d130472f548b6d": {
          "model_module": "@jupyter-widgets/base",
          "model_name": "LayoutModel",
          "model_module_version": "1.2.0",
          "state": {
            "_model_module": "@jupyter-widgets/base",
            "_model_module_version": "1.2.0",
            "_model_name": "LayoutModel",
            "_view_count": null,
            "_view_module": "@jupyter-widgets/base",
            "_view_module_version": "1.2.0",
            "_view_name": "LayoutView",
            "align_content": null,
            "align_items": null,
            "align_self": null,
            "border": null,
            "bottom": null,
            "display": null,
            "flex": null,
            "flex_flow": null,
            "grid_area": null,
            "grid_auto_columns": null,
            "grid_auto_flow": null,
            "grid_auto_rows": null,
            "grid_column": null,
            "grid_gap": null,
            "grid_row": null,
            "grid_template_areas": null,
            "grid_template_columns": null,
            "grid_template_rows": null,
            "height": null,
            "justify_content": null,
            "justify_items": null,
            "left": null,
            "margin": null,
            "max_height": null,
            "max_width": null,
            "min_height": null,
            "min_width": null,
            "object_fit": null,
            "object_position": null,
            "order": null,
            "overflow": null,
            "overflow_x": null,
            "overflow_y": null,
            "padding": null,
            "right": null,
            "top": null,
            "visibility": null,
            "width": null
          }
        },
        "6be0d5a90e534684a69b4bc23ecbc984": {
          "model_module": "@jupyter-widgets/controls",
          "model_name": "DescriptionStyleModel",
          "model_module_version": "1.5.0",
          "state": {
            "_model_module": "@jupyter-widgets/controls",
            "_model_module_version": "1.5.0",
            "_model_name": "DescriptionStyleModel",
            "_view_count": null,
            "_view_module": "@jupyter-widgets/base",
            "_view_module_version": "1.2.0",
            "_view_name": "StyleView",
            "description_width": ""
          }
        },
        "c97bcad8c19746029e9b12c422a6f121": {
          "model_module": "@jupyter-widgets/base",
          "model_name": "LayoutModel",
          "model_module_version": "1.2.0",
          "state": {
            "_model_module": "@jupyter-widgets/base",
            "_model_module_version": "1.2.0",
            "_model_name": "LayoutModel",
            "_view_count": null,
            "_view_module": "@jupyter-widgets/base",
            "_view_module_version": "1.2.0",
            "_view_name": "LayoutView",
            "align_content": null,
            "align_items": null,
            "align_self": null,
            "border": null,
            "bottom": null,
            "display": null,
            "flex": null,
            "flex_flow": null,
            "grid_area": null,
            "grid_auto_columns": null,
            "grid_auto_flow": null,
            "grid_auto_rows": null,
            "grid_column": null,
            "grid_gap": null,
            "grid_row": null,
            "grid_template_areas": null,
            "grid_template_columns": null,
            "grid_template_rows": null,
            "height": null,
            "justify_content": null,
            "justify_items": null,
            "left": null,
            "margin": null,
            "max_height": null,
            "max_width": null,
            "min_height": null,
            "min_width": null,
            "object_fit": null,
            "object_position": null,
            "order": null,
            "overflow": null,
            "overflow_x": null,
            "overflow_y": null,
            "padding": null,
            "right": null,
            "top": null,
            "visibility": null,
            "width": null
          }
        },
        "aa195c2a92054ec79f5c3977c5d8f8b4": {
          "model_module": "@jupyter-widgets/controls",
          "model_name": "ProgressStyleModel",
          "model_module_version": "1.5.0",
          "state": {
            "_model_module": "@jupyter-widgets/controls",
            "_model_module_version": "1.5.0",
            "_model_name": "ProgressStyleModel",
            "_view_count": null,
            "_view_module": "@jupyter-widgets/base",
            "_view_module_version": "1.2.0",
            "_view_name": "StyleView",
            "bar_color": null,
            "description_width": ""
          }
        },
        "d9ad37dad1ef4b8b9dfcf67c740f6e4d": {
          "model_module": "@jupyter-widgets/base",
          "model_name": "LayoutModel",
          "model_module_version": "1.2.0",
          "state": {
            "_model_module": "@jupyter-widgets/base",
            "_model_module_version": "1.2.0",
            "_model_name": "LayoutModel",
            "_view_count": null,
            "_view_module": "@jupyter-widgets/base",
            "_view_module_version": "1.2.0",
            "_view_name": "LayoutView",
            "align_content": null,
            "align_items": null,
            "align_self": null,
            "border": null,
            "bottom": null,
            "display": null,
            "flex": null,
            "flex_flow": null,
            "grid_area": null,
            "grid_auto_columns": null,
            "grid_auto_flow": null,
            "grid_auto_rows": null,
            "grid_column": null,
            "grid_gap": null,
            "grid_row": null,
            "grid_template_areas": null,
            "grid_template_columns": null,
            "grid_template_rows": null,
            "height": null,
            "justify_content": null,
            "justify_items": null,
            "left": null,
            "margin": null,
            "max_height": null,
            "max_width": null,
            "min_height": null,
            "min_width": null,
            "object_fit": null,
            "object_position": null,
            "order": null,
            "overflow": null,
            "overflow_x": null,
            "overflow_y": null,
            "padding": null,
            "right": null,
            "top": null,
            "visibility": null,
            "width": null
          }
        },
        "24eaf5b51c7e4e4f8478586dc7bb5eb0": {
          "model_module": "@jupyter-widgets/controls",
          "model_name": "DescriptionStyleModel",
          "model_module_version": "1.5.0",
          "state": {
            "_model_module": "@jupyter-widgets/controls",
            "_model_module_version": "1.5.0",
            "_model_name": "DescriptionStyleModel",
            "_view_count": null,
            "_view_module": "@jupyter-widgets/base",
            "_view_module_version": "1.2.0",
            "_view_name": "StyleView",
            "description_width": ""
          }
        },
        "96d74aaadc554f60b1865c186fd4f95a": {
          "model_module": "@jupyter-widgets/controls",
          "model_name": "HBoxModel",
          "model_module_version": "1.5.0",
          "state": {
            "_dom_classes": [],
            "_model_module": "@jupyter-widgets/controls",
            "_model_module_version": "1.5.0",
            "_model_name": "HBoxModel",
            "_view_count": null,
            "_view_module": "@jupyter-widgets/controls",
            "_view_module_version": "1.5.0",
            "_view_name": "HBoxView",
            "box_style": "",
            "children": [
              "IPY_MODEL_7266cab579d54ff09ae801352a8cd5a7",
              "IPY_MODEL_ccd54ac9c74c497ead2a34f07fa97e57",
              "IPY_MODEL_dcfd33698a1b437f862da321e6843202"
            ],
            "layout": "IPY_MODEL_4811373b190b4dada48072719f227d7b"
          }
        },
        "7266cab579d54ff09ae801352a8cd5a7": {
          "model_module": "@jupyter-widgets/controls",
          "model_name": "HTMLModel",
          "model_module_version": "1.5.0",
          "state": {
            "_dom_classes": [],
            "_model_module": "@jupyter-widgets/controls",
            "_model_module_version": "1.5.0",
            "_model_name": "HTMLModel",
            "_view_count": null,
            "_view_module": "@jupyter-widgets/controls",
            "_view_module_version": "1.5.0",
            "_view_name": "HTMLView",
            "description": "",
            "description_tooltip": null,
            "layout": "IPY_MODEL_1bb7a57e0d9441a29a44925fd75d4de4",
            "placeholder": "​",
            "style": "IPY_MODEL_f4f9b2ffbe23450ca4fcfe6157923258",
            "value": ""
          }
        },
        "ccd54ac9c74c497ead2a34f07fa97e57": {
          "model_module": "@jupyter-widgets/controls",
          "model_name": "FloatProgressModel",
          "model_module_version": "1.5.0",
          "state": {
            "_dom_classes": [],
            "_model_module": "@jupyter-widgets/controls",
            "_model_module_version": "1.5.0",
            "_model_name": "FloatProgressModel",
            "_view_count": null,
            "_view_module": "@jupyter-widgets/controls",
            "_view_module_version": "1.5.0",
            "_view_name": "ProgressView",
            "bar_style": "success",
            "description": "",
            "description_tooltip": null,
            "layout": "IPY_MODEL_875d62ef5c7d4f73a7d9beb82eff305c",
            "max": 5148,
            "min": 0,
            "orientation": "horizontal",
            "style": "IPY_MODEL_17cd065819e24c8a8f468f5c07a0680e",
            "value": 5148
          }
        },
        "dcfd33698a1b437f862da321e6843202": {
          "model_module": "@jupyter-widgets/controls",
          "model_name": "HTMLModel",
          "model_module_version": "1.5.0",
          "state": {
            "_dom_classes": [],
            "_model_module": "@jupyter-widgets/controls",
            "_model_module_version": "1.5.0",
            "_model_name": "HTMLModel",
            "_view_count": null,
            "_view_module": "@jupyter-widgets/controls",
            "_view_module_version": "1.5.0",
            "_view_name": "HTMLView",
            "description": "",
            "description_tooltip": null,
            "layout": "IPY_MODEL_9a598f71396e49cdae92494ac7d941b5",
            "placeholder": "​",
            "style": "IPY_MODEL_26e8c9b23850484185ae4ee95c5657af",
            "value": " 6144/? [00:00&lt;00:00, 150417.36it/s]"
          }
        },
        "4811373b190b4dada48072719f227d7b": {
          "model_module": "@jupyter-widgets/base",
          "model_name": "LayoutModel",
          "model_module_version": "1.2.0",
          "state": {
            "_model_module": "@jupyter-widgets/base",
            "_model_module_version": "1.2.0",
            "_model_name": "LayoutModel",
            "_view_count": null,
            "_view_module": "@jupyter-widgets/base",
            "_view_module_version": "1.2.0",
            "_view_name": "LayoutView",
            "align_content": null,
            "align_items": null,
            "align_self": null,
            "border": null,
            "bottom": null,
            "display": null,
            "flex": null,
            "flex_flow": null,
            "grid_area": null,
            "grid_auto_columns": null,
            "grid_auto_flow": null,
            "grid_auto_rows": null,
            "grid_column": null,
            "grid_gap": null,
            "grid_row": null,
            "grid_template_areas": null,
            "grid_template_columns": null,
            "grid_template_rows": null,
            "height": null,
            "justify_content": null,
            "justify_items": null,
            "left": null,
            "margin": null,
            "max_height": null,
            "max_width": null,
            "min_height": null,
            "min_width": null,
            "object_fit": null,
            "object_position": null,
            "order": null,
            "overflow": null,
            "overflow_x": null,
            "overflow_y": null,
            "padding": null,
            "right": null,
            "top": null,
            "visibility": null,
            "width": null
          }
        },
        "1bb7a57e0d9441a29a44925fd75d4de4": {
          "model_module": "@jupyter-widgets/base",
          "model_name": "LayoutModel",
          "model_module_version": "1.2.0",
          "state": {
            "_model_module": "@jupyter-widgets/base",
            "_model_module_version": "1.2.0",
            "_model_name": "LayoutModel",
            "_view_count": null,
            "_view_module": "@jupyter-widgets/base",
            "_view_module_version": "1.2.0",
            "_view_name": "LayoutView",
            "align_content": null,
            "align_items": null,
            "align_self": null,
            "border": null,
            "bottom": null,
            "display": null,
            "flex": null,
            "flex_flow": null,
            "grid_area": null,
            "grid_auto_columns": null,
            "grid_auto_flow": null,
            "grid_auto_rows": null,
            "grid_column": null,
            "grid_gap": null,
            "grid_row": null,
            "grid_template_areas": null,
            "grid_template_columns": null,
            "grid_template_rows": null,
            "height": null,
            "justify_content": null,
            "justify_items": null,
            "left": null,
            "margin": null,
            "max_height": null,
            "max_width": null,
            "min_height": null,
            "min_width": null,
            "object_fit": null,
            "object_position": null,
            "order": null,
            "overflow": null,
            "overflow_x": null,
            "overflow_y": null,
            "padding": null,
            "right": null,
            "top": null,
            "visibility": null,
            "width": null
          }
        },
        "f4f9b2ffbe23450ca4fcfe6157923258": {
          "model_module": "@jupyter-widgets/controls",
          "model_name": "DescriptionStyleModel",
          "model_module_version": "1.5.0",
          "state": {
            "_model_module": "@jupyter-widgets/controls",
            "_model_module_version": "1.5.0",
            "_model_name": "DescriptionStyleModel",
            "_view_count": null,
            "_view_module": "@jupyter-widgets/base",
            "_view_module_version": "1.2.0",
            "_view_name": "StyleView",
            "description_width": ""
          }
        },
        "875d62ef5c7d4f73a7d9beb82eff305c": {
          "model_module": "@jupyter-widgets/base",
          "model_name": "LayoutModel",
          "model_module_version": "1.2.0",
          "state": {
            "_model_module": "@jupyter-widgets/base",
            "_model_module_version": "1.2.0",
            "_model_name": "LayoutModel",
            "_view_count": null,
            "_view_module": "@jupyter-widgets/base",
            "_view_module_version": "1.2.0",
            "_view_name": "LayoutView",
            "align_content": null,
            "align_items": null,
            "align_self": null,
            "border": null,
            "bottom": null,
            "display": null,
            "flex": null,
            "flex_flow": null,
            "grid_area": null,
            "grid_auto_columns": null,
            "grid_auto_flow": null,
            "grid_auto_rows": null,
            "grid_column": null,
            "grid_gap": null,
            "grid_row": null,
            "grid_template_areas": null,
            "grid_template_columns": null,
            "grid_template_rows": null,
            "height": null,
            "justify_content": null,
            "justify_items": null,
            "left": null,
            "margin": null,
            "max_height": null,
            "max_width": null,
            "min_height": null,
            "min_width": null,
            "object_fit": null,
            "object_position": null,
            "order": null,
            "overflow": null,
            "overflow_x": null,
            "overflow_y": null,
            "padding": null,
            "right": null,
            "top": null,
            "visibility": null,
            "width": null
          }
        },
        "17cd065819e24c8a8f468f5c07a0680e": {
          "model_module": "@jupyter-widgets/controls",
          "model_name": "ProgressStyleModel",
          "model_module_version": "1.5.0",
          "state": {
            "_model_module": "@jupyter-widgets/controls",
            "_model_module_version": "1.5.0",
            "_model_name": "ProgressStyleModel",
            "_view_count": null,
            "_view_module": "@jupyter-widgets/base",
            "_view_module_version": "1.2.0",
            "_view_name": "StyleView",
            "bar_color": null,
            "description_width": ""
          }
        },
        "9a598f71396e49cdae92494ac7d941b5": {
          "model_module": "@jupyter-widgets/base",
          "model_name": "LayoutModel",
          "model_module_version": "1.2.0",
          "state": {
            "_model_module": "@jupyter-widgets/base",
            "_model_module_version": "1.2.0",
            "_model_name": "LayoutModel",
            "_view_count": null,
            "_view_module": "@jupyter-widgets/base",
            "_view_module_version": "1.2.0",
            "_view_name": "LayoutView",
            "align_content": null,
            "align_items": null,
            "align_self": null,
            "border": null,
            "bottom": null,
            "display": null,
            "flex": null,
            "flex_flow": null,
            "grid_area": null,
            "grid_auto_columns": null,
            "grid_auto_flow": null,
            "grid_auto_rows": null,
            "grid_column": null,
            "grid_gap": null,
            "grid_row": null,
            "grid_template_areas": null,
            "grid_template_columns": null,
            "grid_template_rows": null,
            "height": null,
            "justify_content": null,
            "justify_items": null,
            "left": null,
            "margin": null,
            "max_height": null,
            "max_width": null,
            "min_height": null,
            "min_width": null,
            "object_fit": null,
            "object_position": null,
            "order": null,
            "overflow": null,
            "overflow_x": null,
            "overflow_y": null,
            "padding": null,
            "right": null,
            "top": null,
            "visibility": null,
            "width": null
          }
        },
        "26e8c9b23850484185ae4ee95c5657af": {
          "model_module": "@jupyter-widgets/controls",
          "model_name": "DescriptionStyleModel",
          "model_module_version": "1.5.0",
          "state": {
            "_model_module": "@jupyter-widgets/controls",
            "_model_module_version": "1.5.0",
            "_model_name": "DescriptionStyleModel",
            "_view_count": null,
            "_view_module": "@jupyter-widgets/base",
            "_view_module_version": "1.2.0",
            "_view_name": "StyleView",
            "description_width": ""
          }
        }
      }
    }
  },
  "cells": [
    {
      "cell_type": "code",
      "execution_count": 1,
      "metadata": {
        "colab": {
          "base_uri": "https://localhost:8080/"
        },
        "id": "YYJI_nYK97nz",
        "outputId": "537a2bab-dd13-4809-ffc8-58dc96dec828"
      },
      "outputs": [
        {
          "output_type": "stream",
          "name": "stdout",
          "text": [
            "Requirement already satisfied: torch in /usr/local/lib/python3.7/dist-packages (1.10.0+cu111)\n",
            "Requirement already satisfied: torchvision in /usr/local/lib/python3.7/dist-packages (0.11.1+cu111)\n",
            "Requirement already satisfied: typing-extensions in /usr/local/lib/python3.7/dist-packages (from torch) (3.10.0.2)\n",
            "Requirement already satisfied: numpy in /usr/local/lib/python3.7/dist-packages (from torchvision) (1.21.5)\n",
            "Requirement already satisfied: pillow!=8.3.0,>=5.3.0 in /usr/local/lib/python3.7/dist-packages (from torchvision) (7.1.2)\n"
          ]
        }
      ],
      "source": [
        "!pip install torch torchvision"
      ]
    },
    {
      "cell_type": "code",
      "source": [
        "!pip install -U d2l"
      ],
      "metadata": {
        "colab": {
          "base_uri": "https://localhost:8080/",
          "height": 1000
        },
        "id": "ZsVUMuqQCBGf",
        "outputId": "d3ebf6e6-3d49-46a2-fc34-5afa5c70b160"
      },
      "execution_count": 2,
      "outputs": [
        {
          "output_type": "stream",
          "name": "stdout",
          "text": [
            "Collecting d2l\n",
            "  Downloading d2l-0.17.5-py3-none-any.whl (82 kB)\n",
            "\u001b[K     |████████████████████████████████| 82 kB 831 kB/s \n",
            "\u001b[?25hCollecting requests==2.25.1\n",
            "  Downloading requests-2.25.1-py2.py3-none-any.whl (61 kB)\n",
            "\u001b[K     |████████████████████████████████| 61 kB 9.8 MB/s \n",
            "\u001b[?25hRequirement already satisfied: jupyter==1.0.0 in /usr/local/lib/python3.7/dist-packages (from d2l) (1.0.0)\n",
            "Requirement already satisfied: numpy==1.21.5 in /usr/local/lib/python3.7/dist-packages (from d2l) (1.21.5)\n",
            "Collecting pandas==1.2.4\n",
            "  Downloading pandas-1.2.4-cp37-cp37m-manylinux1_x86_64.whl (9.9 MB)\n",
            "\u001b[K     |████████████████████████████████| 9.9 MB 20.8 MB/s \n",
            "\u001b[?25hCollecting matplotlib==3.5.1\n",
            "  Downloading matplotlib-3.5.1-cp37-cp37m-manylinux_2_5_x86_64.manylinux1_x86_64.whl (11.2 MB)\n",
            "\u001b[K     |████████████████████████████████| 11.2 MB 44.3 MB/s \n",
            "\u001b[?25hRequirement already satisfied: nbconvert in /usr/local/lib/python3.7/dist-packages (from jupyter==1.0.0->d2l) (5.6.1)\n",
            "Requirement already satisfied: notebook in /usr/local/lib/python3.7/dist-packages (from jupyter==1.0.0->d2l) (5.3.1)\n",
            "Requirement already satisfied: jupyter-console in /usr/local/lib/python3.7/dist-packages (from jupyter==1.0.0->d2l) (5.2.0)\n",
            "Requirement already satisfied: qtconsole in /usr/local/lib/python3.7/dist-packages (from jupyter==1.0.0->d2l) (5.2.2)\n",
            "Requirement already satisfied: ipykernel in /usr/local/lib/python3.7/dist-packages (from jupyter==1.0.0->d2l) (4.10.1)\n",
            "Requirement already satisfied: ipywidgets in /usr/local/lib/python3.7/dist-packages (from jupyter==1.0.0->d2l) (7.7.0)\n",
            "Requirement already satisfied: kiwisolver>=1.0.1 in /usr/local/lib/python3.7/dist-packages (from matplotlib==3.5.1->d2l) (1.4.0)\n",
            "Requirement already satisfied: pillow>=6.2.0 in /usr/local/lib/python3.7/dist-packages (from matplotlib==3.5.1->d2l) (7.1.2)\n",
            "Requirement already satisfied: pyparsing>=2.2.1 in /usr/local/lib/python3.7/dist-packages (from matplotlib==3.5.1->d2l) (3.0.7)\n",
            "Collecting fonttools>=4.22.0\n",
            "  Downloading fonttools-4.32.0-py3-none-any.whl (900 kB)\n",
            "\u001b[K     |████████████████████████████████| 900 kB 58.5 MB/s \n",
            "\u001b[?25hRequirement already satisfied: cycler>=0.10 in /usr/local/lib/python3.7/dist-packages (from matplotlib==3.5.1->d2l) (0.11.0)\n",
            "Requirement already satisfied: python-dateutil>=2.7 in /usr/local/lib/python3.7/dist-packages (from matplotlib==3.5.1->d2l) (2.8.2)\n",
            "Requirement already satisfied: packaging>=20.0 in /usr/local/lib/python3.7/dist-packages (from matplotlib==3.5.1->d2l) (21.3)\n",
            "Requirement already satisfied: pytz>=2017.3 in /usr/local/lib/python3.7/dist-packages (from pandas==1.2.4->d2l) (2018.9)\n",
            "Requirement already satisfied: chardet<5,>=3.0.2 in /usr/local/lib/python3.7/dist-packages (from requests==2.25.1->d2l) (3.0.4)\n",
            "Requirement already satisfied: certifi>=2017.4.17 in /usr/local/lib/python3.7/dist-packages (from requests==2.25.1->d2l) (2021.10.8)\n",
            "Requirement already satisfied: idna<3,>=2.5 in /usr/local/lib/python3.7/dist-packages (from requests==2.25.1->d2l) (2.10)\n",
            "Requirement already satisfied: urllib3<1.27,>=1.21.1 in /usr/local/lib/python3.7/dist-packages (from requests==2.25.1->d2l) (1.24.3)\n",
            "Requirement already satisfied: typing-extensions in /usr/local/lib/python3.7/dist-packages (from kiwisolver>=1.0.1->matplotlib==3.5.1->d2l) (3.10.0.2)\n",
            "Requirement already satisfied: six>=1.5 in /usr/local/lib/python3.7/dist-packages (from python-dateutil>=2.7->matplotlib==3.5.1->d2l) (1.15.0)\n",
            "Requirement already satisfied: ipython>=4.0.0 in /usr/local/lib/python3.7/dist-packages (from ipykernel->jupyter==1.0.0->d2l) (5.5.0)\n",
            "Requirement already satisfied: tornado>=4.0 in /usr/local/lib/python3.7/dist-packages (from ipykernel->jupyter==1.0.0->d2l) (5.1.1)\n",
            "Requirement already satisfied: traitlets>=4.1.0 in /usr/local/lib/python3.7/dist-packages (from ipykernel->jupyter==1.0.0->d2l) (5.1.1)\n",
            "Requirement already satisfied: jupyter-client in /usr/local/lib/python3.7/dist-packages (from ipykernel->jupyter==1.0.0->d2l) (5.3.5)\n",
            "Requirement already satisfied: pickleshare in /usr/local/lib/python3.7/dist-packages (from ipython>=4.0.0->ipykernel->jupyter==1.0.0->d2l) (0.7.5)\n",
            "Requirement already satisfied: simplegeneric>0.8 in /usr/local/lib/python3.7/dist-packages (from ipython>=4.0.0->ipykernel->jupyter==1.0.0->d2l) (0.8.1)\n",
            "Requirement already satisfied: decorator in /usr/local/lib/python3.7/dist-packages (from ipython>=4.0.0->ipykernel->jupyter==1.0.0->d2l) (4.4.2)\n",
            "Requirement already satisfied: setuptools>=18.5 in /usr/local/lib/python3.7/dist-packages (from ipython>=4.0.0->ipykernel->jupyter==1.0.0->d2l) (57.4.0)\n",
            "Requirement already satisfied: pexpect in /usr/local/lib/python3.7/dist-packages (from ipython>=4.0.0->ipykernel->jupyter==1.0.0->d2l) (4.8.0)\n",
            "Requirement already satisfied: prompt-toolkit<2.0.0,>=1.0.4 in /usr/local/lib/python3.7/dist-packages (from ipython>=4.0.0->ipykernel->jupyter==1.0.0->d2l) (1.0.18)\n",
            "Requirement already satisfied: pygments in /usr/local/lib/python3.7/dist-packages (from ipython>=4.0.0->ipykernel->jupyter==1.0.0->d2l) (2.6.1)\n",
            "Requirement already satisfied: wcwidth in /usr/local/lib/python3.7/dist-packages (from prompt-toolkit<2.0.0,>=1.0.4->ipython>=4.0.0->ipykernel->jupyter==1.0.0->d2l) (0.2.5)\n",
            "Requirement already satisfied: jupyterlab-widgets>=1.0.0 in /usr/local/lib/python3.7/dist-packages (from ipywidgets->jupyter==1.0.0->d2l) (1.1.0)\n",
            "Requirement already satisfied: widgetsnbextension~=3.6.0 in /usr/local/lib/python3.7/dist-packages (from ipywidgets->jupyter==1.0.0->d2l) (3.6.0)\n",
            "Requirement already satisfied: ipython-genutils~=0.2.0 in /usr/local/lib/python3.7/dist-packages (from ipywidgets->jupyter==1.0.0->d2l) (0.2.0)\n",
            "Requirement already satisfied: nbformat>=4.2.0 in /usr/local/lib/python3.7/dist-packages (from ipywidgets->jupyter==1.0.0->d2l) (5.2.0)\n",
            "Requirement already satisfied: jsonschema!=2.5.0,>=2.4 in /usr/local/lib/python3.7/dist-packages (from nbformat>=4.2.0->ipywidgets->jupyter==1.0.0->d2l) (4.3.3)\n",
            "Requirement already satisfied: jupyter-core in /usr/local/lib/python3.7/dist-packages (from nbformat>=4.2.0->ipywidgets->jupyter==1.0.0->d2l) (4.9.2)\n",
            "Requirement already satisfied: pyrsistent!=0.17.0,!=0.17.1,!=0.17.2,>=0.14.0 in /usr/local/lib/python3.7/dist-packages (from jsonschema!=2.5.0,>=2.4->nbformat>=4.2.0->ipywidgets->jupyter==1.0.0->d2l) (0.18.1)\n",
            "Requirement already satisfied: attrs>=17.4.0 in /usr/local/lib/python3.7/dist-packages (from jsonschema!=2.5.0,>=2.4->nbformat>=4.2.0->ipywidgets->jupyter==1.0.0->d2l) (21.4.0)\n",
            "Requirement already satisfied: importlib-metadata in /usr/local/lib/python3.7/dist-packages (from jsonschema!=2.5.0,>=2.4->nbformat>=4.2.0->ipywidgets->jupyter==1.0.0->d2l) (4.11.3)\n",
            "Requirement already satisfied: importlib-resources>=1.4.0 in /usr/local/lib/python3.7/dist-packages (from jsonschema!=2.5.0,>=2.4->nbformat>=4.2.0->ipywidgets->jupyter==1.0.0->d2l) (5.4.0)\n",
            "Requirement already satisfied: zipp>=3.1.0 in /usr/local/lib/python3.7/dist-packages (from importlib-resources>=1.4.0->jsonschema!=2.5.0,>=2.4->nbformat>=4.2.0->ipywidgets->jupyter==1.0.0->d2l) (3.7.0)\n",
            "Requirement already satisfied: terminado>=0.8.1 in /usr/local/lib/python3.7/dist-packages (from notebook->jupyter==1.0.0->d2l) (0.13.3)\n",
            "Requirement already satisfied: jinja2 in /usr/local/lib/python3.7/dist-packages (from notebook->jupyter==1.0.0->d2l) (2.11.3)\n",
            "Requirement already satisfied: Send2Trash in /usr/local/lib/python3.7/dist-packages (from notebook->jupyter==1.0.0->d2l) (1.8.0)\n",
            "Requirement already satisfied: pyzmq>=13 in /usr/local/lib/python3.7/dist-packages (from jupyter-client->ipykernel->jupyter==1.0.0->d2l) (22.3.0)\n",
            "Requirement already satisfied: ptyprocess in /usr/local/lib/python3.7/dist-packages (from terminado>=0.8.1->notebook->jupyter==1.0.0->d2l) (0.7.0)\n",
            "Requirement already satisfied: MarkupSafe>=0.23 in /usr/local/lib/python3.7/dist-packages (from jinja2->notebook->jupyter==1.0.0->d2l) (2.0.1)\n",
            "Requirement already satisfied: bleach in /usr/local/lib/python3.7/dist-packages (from nbconvert->jupyter==1.0.0->d2l) (4.1.0)\n",
            "Requirement already satisfied: mistune<2,>=0.8.1 in /usr/local/lib/python3.7/dist-packages (from nbconvert->jupyter==1.0.0->d2l) (0.8.4)\n",
            "Requirement already satisfied: entrypoints>=0.2.2 in /usr/local/lib/python3.7/dist-packages (from nbconvert->jupyter==1.0.0->d2l) (0.4)\n",
            "Requirement already satisfied: pandocfilters>=1.4.1 in /usr/local/lib/python3.7/dist-packages (from nbconvert->jupyter==1.0.0->d2l) (1.5.0)\n",
            "Requirement already satisfied: defusedxml in /usr/local/lib/python3.7/dist-packages (from nbconvert->jupyter==1.0.0->d2l) (0.7.1)\n",
            "Requirement already satisfied: testpath in /usr/local/lib/python3.7/dist-packages (from nbconvert->jupyter==1.0.0->d2l) (0.6.0)\n",
            "Requirement already satisfied: webencodings in /usr/local/lib/python3.7/dist-packages (from bleach->nbconvert->jupyter==1.0.0->d2l) (0.5.1)\n",
            "Requirement already satisfied: qtpy in /usr/local/lib/python3.7/dist-packages (from qtconsole->jupyter==1.0.0->d2l) (2.0.1)\n",
            "Installing collected packages: fonttools, requests, pandas, matplotlib, d2l\n",
            "  Attempting uninstall: requests\n",
            "    Found existing installation: requests 2.23.0\n",
            "    Uninstalling requests-2.23.0:\n",
            "      Successfully uninstalled requests-2.23.0\n",
            "  Attempting uninstall: pandas\n",
            "    Found existing installation: pandas 1.3.5\n",
            "    Uninstalling pandas-1.3.5:\n",
            "      Successfully uninstalled pandas-1.3.5\n",
            "  Attempting uninstall: matplotlib\n",
            "    Found existing installation: matplotlib 3.2.2\n",
            "    Uninstalling matplotlib-3.2.2:\n",
            "      Successfully uninstalled matplotlib-3.2.2\n",
            "\u001b[31mERROR: pip's dependency resolver does not currently take into account all the packages that are installed. This behaviour is the source of the following dependency conflicts.\n",
            "google-colab 1.0.0 requires requests~=2.23.0, but you have requests 2.25.1 which is incompatible.\n",
            "datascience 0.10.6 requires folium==0.2.1, but you have folium 0.8.3 which is incompatible.\n",
            "albumentations 0.1.12 requires imgaug<0.2.7,>=0.2.5, but you have imgaug 0.2.9 which is incompatible.\u001b[0m\n",
            "Successfully installed d2l-0.17.5 fonttools-4.32.0 matplotlib-3.5.1 pandas-1.2.4 requests-2.25.1\n"
          ]
        },
        {
          "output_type": "display_data",
          "data": {
            "application/vnd.colab-display-data+json": {
              "pip_warning": {
                "packages": [
                  "matplotlib",
                  "mpl_toolkits"
                ]
              }
            }
          },
          "metadata": {}
        }
      ]
    },
    {
      "cell_type": "code",
      "source": [
        "import torch\n",
        "from torch import nn\n",
        "from d2l import torch as d2l\n",
        "\n",
        "batch_size = 256\n",
        "train_iter, test_iter = d2l.load_data_fashion_mnist(batch_size)"
      ],
      "metadata": {
        "colab": {
          "base_uri": "https://localhost:8080/",
          "height": 477,
          "referenced_widgets": [
            "d3dcd024fb8a44cbba8cddd640e77269",
            "0536f68208a744438b65ae9a251417d6",
            "d099dc117e2943cfabd712894c4b4572",
            "fd5b06fd95b94cf8bcf2622c1c66ccac",
            "91f0141ade0b4ce2b70e8bce34c025d4",
            "5cd7c8b7247745aeb6cda00ac2dc66df",
            "eb8c4938e45e4099a54154c0fffb4d68",
            "54dc6faac1e14f70b39dbaa84223651a",
            "6438f334ca3948bf80f3d5d8249a4b7a",
            "065783ae43704470b1ed06d1be458147",
            "c8709cfff7f941cfa81fb7ac3c22cbe7",
            "a828f3bc03564a7b8f95ddb8c7cf9782",
            "00765c4a19e0440dba15fffbe10ba482",
            "6f37527fc9de45acbebfdb426e002c62",
            "8632583fe285443c90f08a0a5b843a04",
            "90f6e95238324831a4f06c9b3cb8c2cd",
            "1f2aad3f21f3442682d5f9a63426ab72",
            "5f36d2bc54ed4f178919f38237233174",
            "ffe4b6640fc447f79e0d9a01a2091d8f",
            "c70d69fe1c064fa49679ec7d68f5473e",
            "0b0d84d052444ea48a846e73a3a396b1",
            "189ddb293cfc43ca824297d1671644ff",
            "242a75427a814dd1abbd021a2f5f1055",
            "8bb1e89cb5a141e08df83d8e50c8dfd3",
            "083c4a31adc845d8ab7b7d883995ca64",
            "1dd351f559354af0b5d377caf21609df",
            "52dcb9affa0b4677be9d0f428318f044",
            "f39e05b4928649d891d130472f548b6d",
            "6be0d5a90e534684a69b4bc23ecbc984",
            "c97bcad8c19746029e9b12c422a6f121",
            "aa195c2a92054ec79f5c3977c5d8f8b4",
            "d9ad37dad1ef4b8b9dfcf67c740f6e4d",
            "24eaf5b51c7e4e4f8478586dc7bb5eb0",
            "96d74aaadc554f60b1865c186fd4f95a",
            "7266cab579d54ff09ae801352a8cd5a7",
            "ccd54ac9c74c497ead2a34f07fa97e57",
            "dcfd33698a1b437f862da321e6843202",
            "4811373b190b4dada48072719f227d7b",
            "1bb7a57e0d9441a29a44925fd75d4de4",
            "f4f9b2ffbe23450ca4fcfe6157923258",
            "875d62ef5c7d4f73a7d9beb82eff305c",
            "17cd065819e24c8a8f468f5c07a0680e",
            "9a598f71396e49cdae92494ac7d941b5",
            "26e8c9b23850484185ae4ee95c5657af"
          ]
        },
        "id": "r4YAaE4SCM9j",
        "outputId": "b49cdc9b-9d65-475e-c5c7-7d44799c8eeb"
      },
      "execution_count": 3,
      "outputs": [
        {
          "output_type": "stream",
          "name": "stdout",
          "text": [
            "Downloading http://fashion-mnist.s3-website.eu-central-1.amazonaws.com/train-images-idx3-ubyte.gz\n",
            "Downloading http://fashion-mnist.s3-website.eu-central-1.amazonaws.com/train-images-idx3-ubyte.gz to ../data/FashionMNIST/raw/train-images-idx3-ubyte.gz\n"
          ]
        },
        {
          "output_type": "display_data",
          "data": {
            "text/plain": [
              "  0%|          | 0/26421880 [00:00<?, ?it/s]"
            ],
            "application/vnd.jupyter.widget-view+json": {
              "version_major": 2,
              "version_minor": 0,
              "model_id": "d3dcd024fb8a44cbba8cddd640e77269"
            }
          },
          "metadata": {}
        },
        {
          "output_type": "stream",
          "name": "stdout",
          "text": [
            "Extracting ../data/FashionMNIST/raw/train-images-idx3-ubyte.gz to ../data/FashionMNIST/raw\n",
            "\n",
            "Downloading http://fashion-mnist.s3-website.eu-central-1.amazonaws.com/train-labels-idx1-ubyte.gz\n",
            "Downloading http://fashion-mnist.s3-website.eu-central-1.amazonaws.com/train-labels-idx1-ubyte.gz to ../data/FashionMNIST/raw/train-labels-idx1-ubyte.gz\n"
          ]
        },
        {
          "output_type": "display_data",
          "data": {
            "text/plain": [
              "  0%|          | 0/29515 [00:00<?, ?it/s]"
            ],
            "application/vnd.jupyter.widget-view+json": {
              "version_major": 2,
              "version_minor": 0,
              "model_id": "a828f3bc03564a7b8f95ddb8c7cf9782"
            }
          },
          "metadata": {}
        },
        {
          "output_type": "stream",
          "name": "stdout",
          "text": [
            "Extracting ../data/FashionMNIST/raw/train-labels-idx1-ubyte.gz to ../data/FashionMNIST/raw\n",
            "\n",
            "Downloading http://fashion-mnist.s3-website.eu-central-1.amazonaws.com/t10k-images-idx3-ubyte.gz\n",
            "Downloading http://fashion-mnist.s3-website.eu-central-1.amazonaws.com/t10k-images-idx3-ubyte.gz to ../data/FashionMNIST/raw/t10k-images-idx3-ubyte.gz\n"
          ]
        },
        {
          "output_type": "display_data",
          "data": {
            "text/plain": [
              "  0%|          | 0/4422102 [00:00<?, ?it/s]"
            ],
            "application/vnd.jupyter.widget-view+json": {
              "version_major": 2,
              "version_minor": 0,
              "model_id": "242a75427a814dd1abbd021a2f5f1055"
            }
          },
          "metadata": {}
        },
        {
          "output_type": "stream",
          "name": "stdout",
          "text": [
            "Extracting ../data/FashionMNIST/raw/t10k-images-idx3-ubyte.gz to ../data/FashionMNIST/raw\n",
            "\n",
            "Downloading http://fashion-mnist.s3-website.eu-central-1.amazonaws.com/t10k-labels-idx1-ubyte.gz\n",
            "Downloading http://fashion-mnist.s3-website.eu-central-1.amazonaws.com/t10k-labels-idx1-ubyte.gz to ../data/FashionMNIST/raw/t10k-labels-idx1-ubyte.gz\n"
          ]
        },
        {
          "output_type": "display_data",
          "data": {
            "text/plain": [
              "  0%|          | 0/5148 [00:00<?, ?it/s]"
            ],
            "application/vnd.jupyter.widget-view+json": {
              "version_major": 2,
              "version_minor": 0,
              "model_id": "96d74aaadc554f60b1865c186fd4f95a"
            }
          },
          "metadata": {}
        },
        {
          "output_type": "stream",
          "name": "stdout",
          "text": [
            "Extracting ../data/FashionMNIST/raw/t10k-labels-idx1-ubyte.gz to ../data/FashionMNIST/raw\n",
            "\n"
          ]
        },
        {
          "output_type": "stream",
          "name": "stderr",
          "text": [
            "/usr/local/lib/python3.7/dist-packages/torch/utils/data/dataloader.py:481: UserWarning: This DataLoader will create 4 worker processes in total. Our suggested max number of worker in current system is 2, which is smaller than what this DataLoader is going to create. Please be aware that excessive worker creation might get DataLoader running slow or even freeze, lower the worker number to avoid potential slowness/freeze if necessary.\n",
            "  cpuset_checked))\n"
          ]
        }
      ]
    },
    {
      "cell_type": "markdown",
      "source": [
        "## Initializing Model Parameters"
      ],
      "metadata": {
        "id": "NfD2sE8iCTmO"
      }
    },
    {
      "cell_type": "markdown",
      "source": [
        "![image.png](data:image/png;base64,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)"
      ],
      "metadata": {
        "id": "oSaFJ4rPCYxx"
      }
    },
    {
      "cell_type": "code",
      "source": [
        "num_inputs, num_outputs, num_hiddens = 784, 10, 256\n",
        "\n",
        "W1 = nn.Parameter(torch.randn(\n",
        "    num_inputs, num_hiddens, requires_grad=True) * 0.01)\n",
        "b1 = nn.Parameter(torch.zeros(num_hiddens, requires_grad=True))\n",
        "W2 = nn.Parameter(torch.randn(\n",
        "    num_hiddens, num_outputs, requires_grad=True) * 0.01)\n",
        "b2 = nn.Parameter(torch.zeros(num_outputs, requires_grad=True))\n",
        "\n",
        "params = [W1, b1, W2, b2]"
      ],
      "metadata": {
        "id": "_z39WU4eCZzD"
      },
      "execution_count": 4,
      "outputs": []
    },
    {
      "cell_type": "markdown",
      "source": [
        "## Activation Function"
      ],
      "metadata": {
        "id": "CzyC-w6GCdQq"
      }
    },
    {
      "cell_type": "code",
      "source": [
        "# To make sure we know how everything works, we will implement the ReLU activation ourselves using the maximum function rather than invoking the built-in relu function directly.\n",
        "\n",
        "def relu(X):\n",
        "    a = torch.zeros_like(X)\n",
        "    return torch.max(X, a)"
      ],
      "metadata": {
        "id": "6TTiIPvkCe5k"
      },
      "execution_count": 5,
      "outputs": []
    },
    {
      "cell_type": "markdown",
      "source": [
        "##  Model"
      ],
      "metadata": {
        "id": "cvnhh7xbCixE"
      }
    },
    {
      "cell_type": "code",
      "source": [
        "# Because we are disregarding spatial structure, we reshape each two-dimensional image into a flat vector of length num_inputs. Finally, we implement our model with just a few lines of code.\n",
        "\n",
        "def net(X):\n",
        "    X = X.reshape((-1, num_inputs))\n",
        "    H = relu(X@W1 + b1)  # Here '@' stands for matrix multiplication\n",
        "    return (H@W2 + b2)"
      ],
      "metadata": {
        "id": "44QJeHUZCkna"
      },
      "execution_count": 6,
      "outputs": []
    },
    {
      "cell_type": "markdown",
      "source": [
        "## Loss Function"
      ],
      "metadata": {
        "id": "8LlM4bqbCpHP"
      }
    },
    {
      "cell_type": "code",
      "source": [
        "loss = nn.CrossEntropyLoss(reduction='none')"
      ],
      "metadata": {
        "id": "a16cCktsCqES"
      },
      "execution_count": null,
      "outputs": []
    },
    {
      "cell_type": "markdown",
      "source": [
        "## Training"
      ],
      "metadata": {
        "id": "-7Ou1sYKCrgt"
      }
    },
    {
      "cell_type": "code",
      "source": [
        "num_epochs, lr = 10, 0.1\n",
        "updater = torch.optim.SGD(params, lr=lr)\n",
        "d2l.train_ch3(net, train_iter, test_iter, loss, num_epochs, updater)"
      ],
      "metadata": {
        "id": "XE57YACQCuGv"
      },
      "execution_count": null,
      "outputs": []
    },
    {
      "cell_type": "markdown",
      "source": [
        "![image.png](data:image/png;base64,iVBORw0KGgoAAAANSUhEUgAAAfMAAAF0CAYAAAA3utArAAAgAElEQVR4nOzde3RT54Eu/Ec2voCvGGOMCWg7YCCBENIkkDStJbcl005JczrTuZy2YHnqmWlnTk/6dTpn2g6u7Lonna9nvpnpdNbkrK60lg1pe5qeTpP0kpY0lgihyeQChAQIBry3AWNsA/Jdlm30/SG/21vSlqyrdXt+WSzkra29XxnHj967we12e0BERERpKyfZBSAiIqLYMMyJiIjSHMOciIgozTHMiYiI0hzDnIiIKM0xzImIiNIcw5yIiCjNMcyJiIjSHMOciIgozTHMiYiI0hzDnIiIKM0xzImIiNIcw5yIiCjNMcyJiIjSHMOciIgozS1LdgGW0m9+8xt84hOfQGlpKdasWZPs4hARUQbo7+/HxMQEjh49ih07diSlDFkV5gDgcrlQVFQEt9sd0esuDk2ojzdULMey3KVr1BgfH0dubi6WL1++ZPfMRi6XC7OzsygqKoLBYEh2cTLW3NwcpqamUFBQgLy8vGQXJ6NNTEwgJyeHvzsSbGZmBi6XK6llyKowlyQJAPC5z30O7e3tEb1273eO4u0rIwCAb3/yPfjojrVxL18wzz33HKqqqrB79+4lu2c2On78OPr6+rB3717k5uYmuzgZa2hoCMeOHcPOnTthNBqTXZyM9vzzz6OkpAQPPfRQsouS0fbt24dDhw6hqqoqaWVgn3mY7pcq1McnLjmTWBIiIiJfDPMw7apdCPPjDHMiIprn8XiSXQSGebjuNa5UH5+4dBPJ/6cjIiLyYpiHqaqkAIV53n7U2TkP3pnvPyciIko2hnkE7pe0tXM2tRMRUWpgmEdgV+0q9THDnIiIUgXDPAK7NDVzDoIjIqJUwTCPwI715erjC4PjcE7OJLE0RESUClJhkSmGeQSW5+VibdnCSkqnOAiOiIhSAMM8Qtr55uw3JyIizjNPQ7tqfeebExERJRvDPEL3GTU18z7WzImIKPmyaqOVeNhSXaI+vj7hhnx9AtKqoiSWiIiIYuGSXSEfa4+Vm8tRbl4YDA0As6dmE1zCxTHMo7CtphTv9I8CAN66PMIwJyJKEpfsUv+Ir9XnlMBg3tm9M+D1r9S+Evb9JEgBYZ4KGOZR2FVboYb5iUtOfOzumiSXiIgotejVcPVCUG6VvefoBK/2sUt2YWvHVlRbqn1f3yZjwDYQVpkKpcIwS59+GOZRuF+qQMfL3h9A9psTUbparElZ+7jaUh0QhnKrjIHOAd3z/RVKhXig94GA+8ttcnSFj4Je+fzfk/Zr8Vh7TO8DSe7tucBb8SpldBjmUdipWTzmxCUn3HO3kJ/LsYREFF8ifPRqlE67E067b2XCv3abfyMfs7mzOFF2IqB52Wl34kTDibDLUigVBtSKXYorZIDHm969yk3lcNqd+iFsDDymx+wxx1SunOLk//5nmEehpnw5CpblYHr2Fm55PDjTP4q716deHwoRJZZ/uISq1fqfd7bp7KKvE3Z27wyoEcptckCY+8tBDjzwALFlVcwKpcKgYSq+N8GCV1s71rtGtaU64Pu71FJhnjnDPEq7aivwUs8wAODEZSfDnChNaZuX/ZuaXYoLklUKCJFXal8Ju0Zabi7XDfPFgjieFmteDtbUHOocAKhurEZ1Y7XuOeH0TxdKhdjasXXR81KZMqKgd6w32cVgmEfrfkkT5n1OND6Y5AIRZbmAIJZdKJQKA2q0TrsTZ5vOhh3G1Y2BfcWFUmFKNC+LsgC+NVtx/NSpUygsLMTOP98Z8PpCqTDm5uVUHNW9FGSnDNsJGzpPdkJ2ysC1ZJeIYR41LutKlDih+orlVhlOh1M9L1SolpvLsdMcGGSJCOJgtVsRuv7PaWv8wWq0oWq3Uqu0aJlOPH8COSU5GT2Keym12luhjCiwnbAluygBGOZR2lZTpj7uHZ7A0Ng0VpcUJLFERKnPJbsw+O+DKLxUiKFDQ5gqntJt5hYe6H0gIIgGOgcSGsbavtlCo34/rWgajjYkC6XCsMI4GrLTOzrcdsKG85fP46bnJv523d/CLCW54zxNiVp4m6Mt6DnFecUYx/gSlioQwzxKJYXLUF1WiIER7y+V0/2jMG1ZneRSEcWHaKL2J+YEA4Ejmf3DuNpSHdAf6rQ7MfS/hlCAAozP/xdpORZr4taGcrBasRjZHWpgViipUtOVnTJkpwy7bIdDccAu23XP+2XnLyGVSzBLZpiMJlh2Wpa4pOlLdsq6QS6VS2i8uxGt5lZ8uufTeOroU0ko3QKGeQx2SRV49mQ/AOD4JSfDnFJCsCDWTmUSU5gSWSsOZ05vKEFHPzdWo9xU7luDjiCUow3wZBM1RAAhg3ux14taZndjN6TyxLQOpCvbCVvABx3t90gEuFky+7R0pMJ+5gzzGOyqXQhz7qBGiea0O31HXCvBl7HUqxVHukBHNLXicJT/aTkGBwdRtaMK5WXl+s3bIcI22dOQEk12yroh2/RMU9gBLl7/UNFDOD15GsdvHg/rHnbZnpXN8a32VrQ52iCVS7phbjVZveeZW5NRvLAwzGNwzwbfxWOIwuFfG9aGoxjY5b/AB4CIFvhIFLVGrDMnOJxacrm5HOu2rYNyTMHKnSthNBoTX+g00fRMk1rz7m7sDjtUpXIJUrkEk9EUUGN8/vnnUVJSgnXb1qlN8Xq1T8Ab5A2dDWpzfMejHfF5Y2nAoTgAeD/ktNpbA0J7sRDnPPM0px0E55ycQc/gOOqqipNYIkoW/9qx/5SdAdsA5DY5oibqWGrFwZq4qy3Viwax9m9/iRq0lem0g9IABISu9hxAv4ZsMpogO2U03t0Y9BrBiBqnZacFVpNVt1Yu7q8tR6Zptbfqft9MRhPssl39YJSOGOYxurOmFKfnN11558oIwzxDDdgGApq3Af2+5mpLte7820iap/XCvNxcrh4XgazXNB2qVpysecHagChCUcBz2ufTvZk3nEFpeoEhAgXwLkTir9UcWGOMRrCwErVTURZ/dtmONkebbgtAKtMbje5fdtFSkcrN6IthmMdol1ShhvmJS078l3vWJblEFC5tM7dLdmHiFxMochXBtd2Foo1+gRNhrdqfXsD6N0trA1ovdFN1pSwRXtpQVkaUgGMAYDVZ8dfb/trn9XbZjqZnmgAEr7E2dDaoX4sw0oaSscwYcEzvcbxrXdEOStOr/Vp2WpIakh2PdsBqsgbtN+882Qm7bFdDXTTHiwFhqSRgUReNzpOdAaEtlUtpHeQAwzxmu2orYDvm/WE5zn7zlCSWznTJLrVWHWwpzWVYhmllOiDMw23iDtZfrJ0OlU6rZoka5mIhHS6H4ggI83DKoL1XrM3AZsmM7sbugHs0PdOkhr1ef7HthA2yU1a/B5GOJtf2bet9qEiFJl69AWCC//vVjo5PhWlvojyhPlSJ0eiZiGEeo+2afvOTl5yYdM9iRT6/rUtN29wdbPnOWIjasl4TdzhTnVJ1OpT4BaiMKDCWGQNqJyLk4iVYWIWqOce7DzfYKG4RAHq1TG3rQbj3CDYoLV11N3YHDUv/aW9LGezhLOqinROeqZg6MdqwagXyl+XAPXsLAHC6fwz3SSuTXKrMJAJb1KqdDmdAn7Xe8p2hQlRdctNcjpsFN+EscKLAGLiSX6o2cWtpBzBpa7OiL9RkNAX8MhNNpkBsfdXaMBb9rdqapvbaQ0NDPq8VA7OC0dak9Wro2v5lvecTPaBLW9vLlODWo22KFi0TouldSxvsorVDb252LEI1o2vLu1QBznnmGWKXVIGj572brpy64mSYx5ncKoc9PzpYf7VaszYW+nytdfz4cbj73ClZgxb8R0U7FEfUTd6Aby1V7xoikMUf0TctfikvRXDFq/lZvD+9a4mpWMHmX4tzAKjN5KJpORtpR8drB/vprVkuVlCLtZ89kmZ0y05L0rsslhrDPA7ur10Ic843X5wIXL1+bL19m8Xc68WE6q9+oPeB2Au+xLT91dGs+BUuy04LjGXGoP24vY8lf3vHeAj1yz1UXzGQ2TXuWPlPews1kl87YDCS76eYAx+qDMlsRuc88wzxng0LNXGGeSCxnrfT4Vx0D2en3RkQ5uWmcvV1aq16fs1ttR87hWvTixG//PzDJNr+ar2adLBaJEOK4sm/xSJYbTrY1DfRMuL/Mxnsg2am94NHgmEeB9tqStXHyvVJ9DunUFO+PIklSg69udGRLiGqR8zbTqdR4OGQnTJqv10LQL9muNhgMbNkhrHMuKRN3kSR0OtndyiOoFPfRK2949EOn/8fRMCLRXOysRl9MQzzOKgoykd1aSEGRud3ULs6mjVh7pJdGLANqIPR/Juzg9WYtQPPQvVji3PTqebt3zwuahv+06H8X+NP/AITNWzWoimdaZvj9Whr7npBbTVZ+fMfQlzD3OFwQJKkuKy37HB4R+BKkvcfNdXXcL6/tgLPzW+68tblEXzojjVJLlHiiADX20FLr5lcu4RoJtWwtaEdzdxj/0VN9AZfhfoAQJQpRI1bNMd3nuwMCG4GeWgxh7miKGhublbDF/AG7wsvvBBVADc3N6OrqyvgeEtLC/bv35+yob5LE+aZ1m+unRK2WJO5Xpinw7SuUGINbXENvbDufayXzYWU9fyb4/n/RORiCnNFUVBXVwcA2L9/P+rr63HkyBE4HA7U1dXh8OHDMJkCBzoEs2fPHvVDgbjewYMHIcsy2tvbAXhDPRXdtW5h8ZgTfZkT5i7ZhVdqXwl5TqFU6N1jOoNq3QDQ0NkQ9Qhy0UQumseDTa/iLy0iX/x/IjoxhbmoQe/fvx9PPvmk+ri9vR3t7e34xje+EXaYK4qiBnlPT49aA9+/fz8cDgf27NmD9vb2lK2dawfBjbpmcObqKO5YWxriFalHbwBbMCLAs30XLW1oZ/vcYyJKnqjDXFEUtbYsglxoaWlBV1cXHA4HFEUJK3xFkBuNxoDzTSYTjEajGvj79++PttgJk5ebgzvWluLMVe+mK6fTJMyddqdP87n/PG8xKM0lu1DdWK1uo5lJ9PYvBgL7tLXrajO0iSiVRB3m2vDVo62h+4d9qPMVRdH9AKAoinpeqtpVW6GG+YlLTvzhe25LcokCicFrLsX7t79gfd7pNJo8XGIet122QxlR8N83/Hef5xvvbkzJHaGIiPzFVDMHgodrNE3hkiRBURR0dXX5NKc3NzcDQET978lwr3ElOud3UEulfnPt9LHFFm1xKeFt35kJbCdsap+47YQNkkHCTiys684QJ6J0kbB55iKIReiH4/Dhw+po9vb2dphMJrUFoKWlJezBb5///Od1jzud3iC7du0aTp48GXa5wpU7Oqs+PnVlBC+/dhzF+TkxX9fj8WB0dDSqMt/qv4WR3x8J+nxOTQ5yanKw7L5lWP7Z5ZjGdEK+N6no4ys/juMbjuPZvmdxX+V9eF/R+zA+Po5Tp06lxMYJmcrl8n5gvHz5svr/JCXG7OwsxsfHs+b/6WSZmppKdhFir5kvRpYjW/2rvr5eHVgXqh89lNnZWXzve98L+vzIyEjE5QpXrmEZ5uaX6f3dmUuoK4t9zd5B9yAwDUxOTgY9J2cwB8veXgb3B9wBzxVtL8Kytxf+qW9V3cLMB2Ywu30Ws9sXPoAgsZtLpaS9xXuxonoF/rT6TzE+Pg4gsg+gFL3h4WEMDw8nuxgZb25uLmG/78jL7Q78vbvUEr4CnFj0JRxiapp2TrkYaNfc3IyDBw/i8OHDi15H9NX7u3DhAt7//vdj48aN+MhHPhLR+wjXj669gd9dvAEAKNlwBz7y3uhH3isjCv78538OR58Da5evxWfu/Qxa3r/QOjGtTGOwaxCjL41ixOGtfd/3yH0oqy/zuc6l1y9hcGwQVfuqUGoqDXg+GygjChyKA/t3BHYLNcK7feWpU6dw+fJlPPzww8jNzV3qImaN4eFhvPbaa9i+fTvWr1+f7OJktN/+9rcoLi7G7t27k12UjPbjH/842UWIPsxFDTpYLUYcD7dGLUaqm0wmn+Z0o9GoDqAT91vsmpWVlbrHb9zwhmxubi7y8/PDKlekHri9Ug3zU/3jUd1HbBmo3U7w6tRVHHr7EP5+498HXX0NAK78zytY/aHVPsc2tm/ExvaNEZcjU2h3XFq2bFnQ5SRzcrxdIvn5+QzzBMrLywPg/bdI1P+H5GUwGJCTk8Pvc4KlQrdc7B26QUQa5qJpvb6+Xvd5cVxvdbhUsmO9ZvGYSzcjeq3slNFqb0Xtt2t19wV+7F8ewyu1r0Buk4Pu213dmFnTxmLVam/12TqxzdGWxNIQESVG1DVzMfe7q6sLLS0tAaF95MgRAJHVzEOdny79mNtqFsL88s0pKNcnYVy1IuRrxDaBekGzftl6fPInn0S1sxo75Z0Bz9/cfhP3/OE9Gbf6Wqy00860Oh7tSFKJiIgSJ+qaudFoVKeK+deWHQ4HHA4HjEZjwNS1J554Qv2jJWreBw8e1A3uVK+RC1UlBVhTujCVS8w7D0bUxP2DXCqX0PFoB8596hw+cMcHfIK8UCqEZJWw9tRa/MEn/gA2s41BriE75YClWMWuZZxuRkSZKKZmdlEjFwPOxBzxPXv2qM/7u3LlCh577DEcP37c57gY8OZwONSNW7TXE33lqbo2u9au2gr18dtX9KeFtdpbYWgz6Ia41WRF72O9sOy0oFAqxPR/nUbuR3MhWSWYPWY80PsApFYJn33jswC8TcdiX+xsZzthQ+23a322FDVLZvQ+1ssgJ6KMFdNodjE4rbm5OWAEeaSbrADACy+8oAa5dhc2wNusf+DAgViKu2TuM65Ud1A77reDml22o+mZpoD9q6VyCY13N+ouKwoA+S35kHYvzAzwfz2bj4GmZ5oCxhpYTdag31MiokwR89Q0k8mEnp4eOBwOHDlyRLdpXeuTn/wkPvnJT+o+ZzQacfjwYTXIRXO76J9PF9p+8xOXnJiZu4UrY31o6GwICGEgusARzfC2EzY4FEdW1zr1+sfF9yebvy9ElD3iNs/cZDKFVRO/8847w7pWOtPuoDYxPYs/+j/78EzPDwLOCxbiZ5vOotBYuOiOZNo9gPU0dDag49GOjN5SUDvtTJDKJfQ+1pukEhERLb2ETU3LZsvzc3HH2hL16x0Vj/o8L/pw9YJ4wDaAAdsA5DZ50X3EQxEDwBo6G9Bqz8xmZv9pZwBg2WlhkBNR1mGYx5loRr9fWqUem5u6A2bJrI6o7m7s1q0tu2QXzjadVb+OdoMT2SmrTc5iARr/QWHprqGzIWDwYMejHRw7QERZiWEeJ2LBF9EvvnO9b795d2P3oiOqtUEOeLcejYYYEa/9wCCma6V7LT3UtLNgK7sREWU6hnmciJqiqAlrB8G90z+K4fHpkK932n23J93ZvTOmrUdbza3obuyG1WRVj6V7LV12yqj9dq1PkHPaGRERwzxu/EOzoPA68nIXvr2n+0MvHnOi4YT6OF6ruYkBcv6D4NK1li6VSz61b6vJiu7G7iSWiIgoNTDMo6BXqzVLZpglsxowUrmE+6WFxWNOh1gJThvkQPTN68FYdlpC1tL9lzxNZVaTFWbJjO7Gbs4fJyKaxzCPgKjR+o+gBhb6bbUBc3/tSvXxW5f1V4Lzb16XrFJMzevBiFp672O9AbX0pmeaUrKWrvehicuyEhEFYpiHQQSeqMWKrxez3W/xGD3aQW/l5vJF55bHSoRhqtfSxbKservHERGRL4Z5CIttSboY7eIx/c4pnB8c971+q+9WppJ1aRZ3CVVLT4W+9KZnmtQPS2JQIRERBccw16ENcb2NULobu8Oaz1xTvhxVJQXq1/47qFVbqtUAl6zSku98pldLBxY2bklWqPuXh2FORBQaw9zPYluSRjoNSruDmv8guELJu2Sr2AUtGbS1dO37kp0yHIojxCsTWyaxrjqnnRERLY5hPi/cLUkjtXP9wiC4YP3miRjwFikRoNpa8VKtpqZX8xYj8ImIaHFx22glXUW7JWm4tq1b6Dc/0efEpHsOK/JzY7pmoohaumWnBbJT1l1yNtjxaIiBhLJT5nrqREQxyNqauXaamX+Qi5p4POYxawfBTc3M4fin3oHcmtp9wFK5pNu0Hc+NW7TLsoY7O4CIiPRlZZgffOug7jQsq8kKj9UT18VISgvzsLXau4Pa+04tw8xPbsS8I1qyiFp0m6MtpvAV0860H6I4yI2IKHpZ2cyuOBWfr82SOaH7fu+qrcDwu+No/uXCyPalHrkeK9sJm0/gNt7dGNV1mp5pCpjmF2xfdyIiCk9WhrmgHTWdSNtqylCjCXIg/ku2JpplpwVmyawGcaTfM9GU7r/b2VJ8/4mIMl1Whvnd1XfjC49+Ycm2zNx4dBbjfQuD3tb//M4luW+8iQFyeuyyHXbZrvu86GvXEuurExFR7LKyz/yRzY8s6d7X419caNY/u2EO8u1Ldusl0+Zo010SVuzxrsVpZ0RE8ZWVNfOl5L8j2pO/Pw3L1VF88I6qJJUo/lrtrWqAi+b0xrsb4VAcAYMMuUkKEWUag8GQ7CIwzBPJf0e0J39/GsNlHpy6or+DWroSrRxiwR0x4l2L/eNElKk8Hk+yi5CdzexLRbsj2tz9K3D0rlkAwVeCS1fBNm4RuCwrEVFiMcwTZMA24LMj2m0HNqiPr426AjZdyQR6G7dYTVb2jxMRJRib2ROk2lINl+zCQOcAqhurIX2sGqtPFWBobBqAdwe1O9aWLnKV9KNdEjZR8/aJiMgXa+YJJLVK2Nm9U90RzXcHtbFkFWtJMMiJiJYOwzzBtDui3bWuTH381uXM6jcnIspWqTCanWEeR9o+cj3bahbC/MQlJ0anZhJdJCIiSjCOZs8wZ5vOhtwRTbuDmnv2Fk5n4CA4IiJaegzzOJFbZTjtTnVHNL1aekVRPrbM76AGgGFORERxwTCPA5fsgty2UCMvN5f79JVr3WtcqT4+088wJyKi2DHM40C7OEyhVBhyRzRtU/vJy5m1EhwRESUHwzxGA7YBnyVbF9vaVDsI7ty1MfTdmExY2YiIKDswzGPgkl0+tfJycznKzeUhX7OtphS5OQvTGNhvTkREsWKYx0Ab5ACws3vnoq/Jy83BLmlh8Rj2mxMRUay4nGuU/JvXwwlyYcdtZfjdxesAWDOn7DYz411rYXKS3U2JUFBQgNzcXIyMcHxOuPLy8tQ/6YRhHqVIm9e1/BePmb3lwbKc5K8gRLSUXC4Xzp8/n+xiZLQVK1YgJycH/f39yS5K2ikvL0dlZWXahDrDPAoDtgGfrxcb9OZv27qFEe1DY9M40z+Ku24rC/EKosxSXFwMl8uF/Px85OXlIT8/P9lFykhzc3PIyclBUVFRsouSViYmJuB0OjExMYFNmzYluzhhYZhHodpSjUKpEGebzkKySkHnlAezcXUxVpcs7KB2+irDnLLLihUrAABlZWWoqalJcmky1+joKHJyclBcXJzsoqSVmZkZKIqCmZkZjIyMoKws9X8/cwBclMrN5djZvRPVluqoXn+fZvEY9ptTNnG73epjBjmlory8PKxevRoA4HQuvikWN1pJc5HWyLW0/ebv9HNwCmWPubk5AEiL2g5lL9FXLgZppjqGeZgW2xEtUtqV4E70OXF93B3ibCIiWkrpMvBNYJiH6WzTWZxoOBG3UNfWzGdvedjUTkREUWOYh0HsiOa0O+MW6FWlBdi8hjuoERFR7BjmixDbmgrVjdUx9ZVr3b1+YW46V4IjIqJoMcwXoQ3yQqkQUqsUt2tr+81PXeEgOCJaWjabDQaDAa2trQm9z0c+8hEYDAacPXt28ZMpKgzzEETzuhDp4jCL0Yb5haFxXBgaj+v1iSh9NDU1oaGhIdnFoDTFRWOCcMku3+Z1S3VES7aGY3tNGXIMBtzyeAAAZ66OYuNqLu5AlI3sdjtkWV78xDgym83o6OiAJMWvxZGSgzXzIPx3RIt3rRwAlufn4v5azeIx/WNxvwcRUTCSJMFiscBsNie7KBQj1sx1xLIjWqS21ZTh1Ys3AHBEO1E2kmUZNptNrZVr+69F2AJQz9F+rSgKZFlGd3e3z7XE8bm5ORiNRnzmM5/RDWxxvtls9nle714OhwMAYDKZ4t7H3traqpZZkiSYTCb13sHK7HA41PODvSaSc9Mdw9yPS3bFtCNapLT95m9ddmJqZg7L83ITdj8iSi2yLKOzsxOSJKmPBW2Yd3Z2wm63w2w2q33r/s3jtbW1PsdlWcZLL72EQ4cOwWq1BoSw3W5HW1sbAPiEucPhgM1mgyRJ6n1F+ex2Ozo7O9Hb2xuX997U1KReX5TJZrOhra0N3d3dPu/RbrfrvnebzQabzeYT0P7nastvt9szLszZzO5HWyMHEtO8rqVdPObGhJtT1Cjrzd3ypOWfaJnNZp9g7O3tVf+IGrdWQ0MDrFYrPB6Pep5gtVp9Xn/q1Cn88pe/hCRJaGtrg91uj6hsbW1tMJlMPveyWCxqCMdKBLnFYvEpt9Vq1b2H+KCjfZ/d3d3o7e1FR0dHwLUBqM+Lv/XOzQSsmfsRA91ONJyIake0SG2tLkFlcQGGxxd2UHuPZhMWomzz9z97Gz/6z75kFyMiL/6NGbevXpptRs1mc9Bmbv/jGzZsgCRJ6OjoQENDAzo7OyPqH5ckKaDZ32q1+nQLRMtms6ktDdpwFa0RDodDrUWLMosPI/7vU9uCIciyHNB9IM7NxAF/rJnrKJQKY9oRLVI7NYvHsN+ciEJpbGxc9BzRnPzUU0/hqaeeUkMw0gDWu5e2CT8W4vXB7mEymQDApzVBBHM4ffZmsxl2uz3hc+hTBcM8iETXyLW2rVvoNz/DMCeiEELVKu12O2pra1FbW4uGhgb81V/9FT772c+q/eJLPfUtFEVRQj4vglt7ngj+trY2GAwG1NbWorW1Vbf7QHuu+H4EOzcTsJkd3kFvSxne/rT95icujWBgxIXqsuSVhyiZHvtgHR77YF2yi5GygoW5GPAlmsLNZjMqKythMBhQVAVpyigAACAASURBVFSkDo6Lx73iQXywCHYPvQ8eYnyBGKEuBvC1tbXBYrH4NNeLKXfac8XgvcbGxoyrsTPMAZxoOAHAOwUtGaGuHdHu8Xh3UGOYU7Zay5/9qGgHh4n+49HRUeTk5GB4eDiZRdNlMpnCWijHaDT6fK3txxfdCW1tbbDZbAFTzvTObWpqQltbm25/ejrL+mZ2uVWGS3bBJbviusVpJNaVL/fZQY1N7UTZJ9a+6FA13VRsWhbl1E7F0xLHQ7UOiIFvVqsVANS58KHOFWGfit+TWGR1mCdyR7RIaWvnpzk9jSjrxNqkHSwcFUWJyzSyeDObzZAkSXeQmmgS9x+lbrPZdK8lQlxbiw8W1os176errG5mT+SOaJHaVlOG/zh+BQBHtBNlI5PJBJvNhtraWrX5V0wrC4eYMqad8lVdXY1/+Id/gMViCRqEySL69puamtDZ2QlFUWA0GqEoilpWvbnjoolcBLfoD9cGvyzL6vgBs9kMk8mkLsgjVoLLtEVjsjbME70jWqS0NfPe4QmcHRjD1uqSEK8gokxisVjUxV0A/eb2UHOkRfCLFdtsNhs2bNiAr3zlK3j88cd9Vllb7JpGo3HR5u1Ia7ZbtmwJOCYGqTU1NakBLq7d0dER0KctFqzx/2Aixgloy6Q9V3ttvZXwMoHB7XZHv3RRmjl37hy2b9+OL3/+y/i97/yeerzaUp30MB91zeDutt9gfgM1/POf7MTH71kHAHjuuedQVVWF3bt3J7GEme/48ePo6+vD3r17kZvLJXUTpa+vD1euXMHatWszrqkzVYjapxgAV1ycHrsxinLH89xom9VnZmZw/vx55OXlYdOmTSHP3bdvHw4dOoS+vj5UVy/N+iT+srLP/Pqz19XHhVJh0oMcAEoL8/CeDdod1NjUTkTRSdcPSZGUO9xzM3XFN39ZGeYuZWHEeioEueAzCI795kREFKasDHNBrMOeKrSLx7zTP4JR10wSS0NEROkiq8M8lWrlgG/N3Dk5gzP9Y0ksDRERpYusDPNCo3cjlVSzraYMq4rz1a/Z1E5EROHIyjBfs29NSjWvCwYDcNe6haZ2rgRHREThyMowT2XafnPWzImIKBwM8xSj7Td/+8oILt2YTGJpiIgoHTDMU4y2Zg6wdk5ERItjmKcY46oVuL2ySP2a/eZERLQYhnkK8u035/Q0IiIKjWGegrat890O9VbWrJ5PRETRYJinIO0guMs3J3FlIomFISKilMcwT0Hbaspg0Hx9ecIQ9FwiomiJLUL1tlul9MIwT0EVRfm467aFfnPWzIkynyzLsNvtS3pPu93us5c4pa9lyS4A6dtWU4a3Lo8AYJgTZYOGhgbIsgyPh4NkKHJxCfOuri4oioIjR47AaDSivr4e+/fvj+ma7e3tAIAjR44AQNyumy62a/vNJwwYnb6VxNIQUSayWCywWCzJLgbFQcxh3tzcjK6uLgDewHU4HOjq6kJ7ezt6enoivp6iKGhubobD4VCvqSiK+ly2hPk2zRrtrjlAGZlLYmmIKFXJsgxJkgKOAcD4+HjAc7HcB0DM15NlGbIsw2w2J+x14lxJkuL2/lNdTH3mXV1d6OrqgtFohNvtRk9PD3p6erB//34oioI9e/ZEfM26ujo4HA60tLSo1xR/HzhwIJbippVtNaUoX7Gwg5o8MpvE0hBRotjtdhgMBjUsDQaD+qe2tlY9r6GhQT2vtbUVtbW1AeeI4+LPXXfdhe3bt6OpqUl3kJvNZoPBYEBra6vP8aamJhgMBtjtdrV82uv6n78Ym82mlr+2ttbncahxArIsq2UJ53Wtra0+54ryZsOYgJhq5qIp/Mknn1SPGY1GtLS0oKurK+IRks3Nzer1/GvgRqMRRqMxluKmlbzcHGyrKcXL54cBAArDnCgjSZIEq9WKzs5OyLIMq9Ua8vy2tjbYbDZYLBaflkvxnLgeAKxZswY//OEPYbPZYLfb0dvbG1HZOjs7YbPZ1OspigKbzYa2tjaYzeawa9cOhyPgvTkcDtjtdjQ0NKC7uzvgWuI5ADCbzTCZTJAkSX2dv4aGBtjtdkiShMbGRkiSBFmW4XA44HA4Mr47Ieowdzgc6g+RyWTyec5oNMJkMsHhcKC9vR0tLS1hXVM012dLU/pitGHOmjllE8+MB1e/dzXs80vuLUHJ/SU+x8beGMPYa+GvoFj9Z9XIyfdtrOz/3/0hX5NfnY/K/1IZ9j30SJKE1tZWdHZ2AsCitV673a4bfgDQ29vr06w8OjqKffv24R//8R99PgSEy2azBdzLZDKhqalJDfRwWK1WdHR0BByXZRm1tbVoamoK+KDR1NQEAAH3t1gsAV0Lra2tsNvtMJvN6O7uDvv9ZZKow1wEebDg3bdvn0/gL8Y/yBVF8ek39//AkA20y7peGp3DxaEJ3L66KMQriDLDrelbOPe5c2GfL31NCgjz67+4Dtkafutg1X+tCgjzxcpQ+mBpzGEeqcbGxqAhGqx/2GKxoK2tDZ2dnRGFucViCbiX+DqSltdg5ZIkCWazOaCmLea+691f73ptbW0AoPuBIVvEHObBmr7F8XDDXHs97aA6Yf/+/WhpaQmrqT1YU9Lly5cBADMzM5iYSP35XrevzPP5+rg8iDUrqpJUmsw3O+tt/ZicnERODpdgSJSZmRkAgMfjwa1b+rM0gh0PRu9akU7xunXrVsT3Fa+Lp8WuZzKZQp4jyzI6OzuhKAouXLgAg8GA3Nxc3euL75H/908cr6+vD7jXhg0bwi5rsHJpc0F8KLh48aIa0iLc9e6vd13A+yFjw4YNcfv3ED8Pc3Nzi+bF3FzyByjHHOaLCffTm7ie6IdvaWlBfX09FEVBe3s7urq64HA4whoh/61vfQvf+973gj7f29uLF154IaxyJduqglxcn/auAPezl9/G3KVbKMhd5EUUkxdffDHZRchoy5cvR0lJCaampjA6qr8r4C3XLZR+sFT3OT2edZ7Aa9UgomuMT40jx+D7IW6x1xdsKQj6HiIlQijY9cSHzYmJiaDnPPLIIzh69CgAb+hu2LABHo9Hfe3Fixd9Xjs1NQUAmJ6e9jkuPnCtXr06+L/RrVthv/ejR4/ikUce8SmX9jqAd+S9uF449xdOnz4NAKipqYnbv4Uow+joKObm5nD27NmQ546NJX9DrJRcNMZ/AJzJZFKnq3V1dS3ap75y5Up86UtfCjh+48YNfP/730dFRQXq6uriXu5EeL/zOn52xvsD+tJADjwFJWh6z0qsLclb5JUUqWvXrmF0dBQbN25kzTyBpqam4Ha7kZeXh8LCQv2TCoE7f35nTPdZu28t1u5bG9M1Yi1DJAwG74f2YN8T8TNZV1ene87Bgwdx9OhR1NfX49e//jUAb0gbDAbk5+dj+fLlMBgMPq/Ny/P+Hlm2bJnPcVGTz8/PD1oe/2uF8sgjj8BoNOK73/0u6uvrfZ77i7/4Cxw8eBAFBQXq9UQraqj7C/n5+eprwi1POHJzc9XrVVRUhDy3oKAgbveNVtRhvlhzd7DBceFcT28ke319PRwOB44cObJomD/++OO6x8+dO4fvf//7qKysxJ13Lt3/pLH4lzuBwX/+OY5d8/6PflSZgDunAH/34a2417gyyaXLLKJ2cscdd/g0S1J89fX14cqVK6HDPAuJMB8YGNDtYxZhrg09rWPHjgHwjkAXz7vdbuTk5OBHP/qReo+lDnMxLayhoQEPP/xwwPMvvfRSwPtqaGjAkSNHcOzYMd3XaG3evBmA9+cqEWGel5eHTZs2hTx3+fLlcbtvtKKufkTaJx6uYOEvPs3F+37p4L9u8uCP7lihfv2fvTfwpadP4tfvDCSxVEQUT/FYjEX7t5YYKZ8M4n0Fm+eud1wMegun3GIQndg0JlvFHOZixLk/sQyrf5NKMOK8YH3siw24y3Sf2LoC//CHO9Sve4cn8KWnT+LQK9n34YYoE4nQa2trg91uV1cxC1djY6PP64XHH398yTdw0dKGubYcYpMXPWazWZ2C5r9AjFg0R3tMjGJva2sLmNqXjA1skiHqMDeZTDCZTD5TyLTEsXCb2cX1AP3at3aN9mz1p/evh61pF1YVefuIxlyzOPCzt/EvL0S+bC4RpRar1QpJktTV0sQqZuEym82QJEldbKW2thZlZWX45je/mdS512IRG1mW1XIZDAY0NDTAarUGnSpntVp1X1dbW6tORdPeo6OjA7Iso62tTT1P/J3MlomlEtMAODGXvLm52WeU+Z49e9R11P3D98CBA/i3f/s3/PEf/zG++93vBlyvubkZzc3NOHz4sHpcDHwDuKCMectqPPXnD+BvfnwC7/R7B8b9ywvnMDQ+jb///TuwIp99vUTpSJIk9Pb2Bq2VNzY2qqugBXt9d3c37Ha7Wpmqrq7Gpz/9aWzbtk39sOD/GqvVGjCXu7GxEUajMei99K4VSmtrq7p6myzLaGxshMViUT986FXSxGI64nWC0WjUXX1OzEkX71+s4240GiNefjYdGdxud9T77SmKom6qIv7htTVybSALBw4cwLe+9S1YLJaAMA91PQA4fPhwTIvHnDt3Dtu3b8eBAwfUKXDp4LnnnkNVVRV2796tHrs56caXfnwSvz07qB77vW3V+MpHtkKq5MIy0Th+/Dj6+vqwd+9eDoBLIDEAbu3atVmzCUayjI6OIicnB8XFxckuStqZmZnB+fPnwxoAt2/fPhw6dAh9fX2orq5eohL6iqlmLtZhNxqNOHLkCBwOB0wmE+rr60Mu4Rqsdu1/PUVRYDQasX//ft1afjZbuSIf37Pcj6/+xyn84NU+AMCv3xnA8Pg0/u7DW7GrNvRUCiIiyhxxmWcuwjYc3/jGN+J6vWz3+MfvQnVpIf7psHfZyTeUm/jS0yfx5Y9sxe/fFdscWyIiSg9cGSMD/PcP1uFbn1gY6d53YxJfevokOo9FtmsdERGlJ4Z5hvjj+9aj6892YXWJdyWiSfccrM++g//vN+8muWRERJRoDPMMUr95NQ59ZjfuWrew29p3XjyPL//0FKbcyd8IgIiIEoNhnmG2VJeg6zO78KE716jHfvSfffj8D49Dvp76O8UREVHkGOYZaOWKfDy5/z58+oGF0f8vnLmGx350Av/ZeyOJJSMiokRgmGewb/yX7fjS721Rvz55yYn/5/+cwM/fuprEUhERUbwxzDPcf2vYhH/8o7vVr684p/A3Pz6B7x/tTWKpiIgonhjmWeAT996Grs/swppS7/aA07O38PWfn8a3nj+b5JIREVE8MMyzRH3danT92S7suG1hpPu/2y/gb3/yFlwzHOlORJTOGOZZZEt1CTr/bBce3rawdvDTr1/C5w69CeX6ZBJLRkREsWCYZ5mVK/Lx3X33Yv+DCxtcdL87iL/+wZt4TeZIdyKidMQwz1Jff3Qb/odmpPvbV0bw+R8exy840p2IKO0wzLPYX82PdDfMfz0w4sJjPzqO77/Mke5ES621tRVNTU1Ju39TU1NW7PudqRjmWe4T996Gzs/sQnWZd6T77C0Pvv7cafzDrzjSnWgpdXZ2wmazJe3+NpsNnZ2dSbs/xYZhTqivW43Opl3Yub5cPfa/HRfwxR+f4Eh3IqI0EJf9zCn9bakuQUfT/fjKT0/h+bcHAAA/ffMKhsfc+MbHt2NDxYokl5AoM8myDLvdDln2blmsrZ1LkgSz2Rz0fEVRYDKZYDabIUkS9CiKgqefflp9bDQaYTab1euK64nHi90/GLvdrl5HlMtisUT0OnHPYK/Te++RlDGjud1uT7b8efvttz0APAcOHPCkk2effdbzyiuvLNn9vvbM2x7j3/1c/fPhfzniea33xpLdP1nefPNNz89+9jPP7OxssouS0RRF8Rw7dszT29ub7KKkhO7ubg8A3T+SJIV1riRJHqvVGnDtT33qU0Gv3dHR4fF4PJ6Ojo6g55jN5rDeQ6jyi/v46+3t9ZjN5rDva7Vag96nu7s7rHJGwu12e06fPu3p6elZ9NxPf/rTHgCevr6+pOUbm9kpQNvHfEe6n7k6is899QZ+eYoj3YnizWw2o7e3V61Z9/b2qn+6u7vV8+x2OxoaGiBJEjo6OuDxeNTzAG+fu7aGa7PZ8NRTT8FoNKK7uxsej0d9TUdHh3o/i8WiXkOSJJ/7d3R0LFp+WZZhsVgCymS1WiHLMtra2nRfV1tbC7vdDqvVqpZP3NNkMvmc29TUhLa2Nt33brVaI/huZy42s5Ouv2rYhKrSQvyPn7yFWx4Phsam8VdPvQnrI9vQ9JB+cx5RPDV0NsT1et2N3QHHtPdY7Hk9JqMJrebYR4Brm8iDNZeLUOzo6FCblcW5HR0daGhoQFtbm/qcw+EAAHzlK1/xaYbWa8YO5/6hyq4NffH61tZWSJKkjpLXjpRvaPB+X61Wq89xvbLZ7Xa16V986PC/DzHMKYRP3HsbqkoL8OX/ewr9zikAQNtz72BwzIW/+/DWJJeOMp1dti9+Ugxkp7zoPRZ7Xipfmg+2oq/YYrHo9g+LPnPR7w4AjY2NsNlsOHr0KP7yL/9yScopyioE+2AgWhDCCWJxbjitBNmMYU4h1detRofFOzDuzb6bAIAn7BcwODqNx//gLhQsY08NUaKJQLPb7UHnomtDFPAG6YYNG3Do0CEcPXoUZrM5YQPGRHN6sKl1opXAv3zhUBQlprJlC4Y5LWpLdQm+Z7kPX/3pKfxqfqT7/33zMgbHXHj843dhPUe6UwJ0PJr4mthi91js+aWqmWv5h7agHZ0uSRIkScIvfvEL/OAHP8APf/hD2Gw2NWwtFgusVmvETep6RF8+ALX/Wntd/w8f4oNJuPcW7zceZc1kDHMKy8oV+Xji0/fC+uw76Dzm/Z/rpZ5hfKbzdXzzD+7CvcaVSS4hZRrLzsWnNcVCKpcWvUeiyxAuEWSSJPkMilvMhg0b8NWvfhWPP/642lQvatCyLEd0rWDEQjPd3d0BNX69mrp4L8E+lAQ7n0JjGylFxH+k+7lrY/jzrtfxK450J4oLvZCLNAD1iMFlIsD1muWjIWra4Tbdi1YD7fz2UIxGIwBwdbpFMMwpYmJN92W53lXdb0y48bmn3oTtWPS/aIiyXagwFEEsy3LYo7cXC36952VZjvgDg/gQ4B/MsiwH7d8XzfHBAlpbBjG63X9xGfLFZnaKihjp/tWfnsLlm96R7q3PvoPB0Wn8jw9vWeTVRORP1EBFAIrBaiLMrFar2kze2dmp9nmLAO7s7ITZbFZHfbe1teHFF1/Epz71KWzevBmSJMFut6sB6j8/u7GxEW1tbWhqalLneYdajU37OjEwr7GxEWazWS2neOxPrEBns9nUueba9+JwONQWBDH1rampCU1NTT4D+cT70U7Xy1rJXpWNK8AtbqlXgIvE2aujno//+8s+K8b9zY9PeKZn5pJdtIhxBbilwRXggrNYLB5JkoKuANfb2xt0JTT/1dZCreymt1pcb29vwP3DWQEuWJksFount7c36HVCvReLxRJwfnd3t0/ZtO87ET9L6bYCnMHtdnuW4DNDSjh37hy2b9+OAwcOoL29PdnFCdtzzz2Hqqoq7N69O9lF0XVz0u0z0h0A3l+3Gt/8g7tw28rlSSxZZI4fP46+vj7s3bsXubm5yS5Oxurr68OVK1ewdu1aDm6KkmiGttvtIaeajY6O4tKlSxgaGlJHuSeqBqttoo/kHuG+F+354lzxJxFmZmZw/vx55OXlYdOmTSHP3bdvHw4dOoS+vj5UV1cnpDyLYTM7xUx/pPsQPtP5Gj5x723Yu6MGa+e3WCWi2GmXYl2M0WjEtm3bEl2kqIM1kvcizg/33GzCAXAUN/4j3d8dGMP//MUZPPzPR/DV/ziFYxeuJ7F0RESZizVziiuxpvu3fv0uBkddAIAx1wx+8GoffvBqHx7cuAp7d9TgkR1rUbo8L8mlJSLKDAxzirtP3HsbGrZU4dmT/Xj25BUc73Oqz/3uwnX87sJ1fOe3Pdh7tzfU715fnsTSEhGlP4Y5JcSq4nw0PSSh6SEJvz0ziOdO9uPZk/245fGOtxwYdeHJly7iyZcu4oN3rMHeHWvxyI4ade46ERGFj2FOCffBO6rwwTuq8Ncf2IRnT/TjuZP9kK9PqM//9sw1/PbMNXznxZ75Jvga1K0pTmKJiYjSCwfA0ZKpqyrG3zy8Gd1fMuN//dHdqN+82uf5i0MT+Nff9uDhf3Hg8z88jt+8cy1JJSUiSi+smdOSMxiAP7r3NvzRvbfh1d4bahP86NQMAMDjAZ476a3Bb19Xhkd2rMXeu2uwrjx95qzT4mZnZ5NdBKKMwTCnpNpdW4HdtRX4m4c34+nXL+PZk/14+8qI+vzbV0bw9pUR/OuL59VQf9+myiSWmGLFBXkoHUxOTgIA8vLSY9YNw5xSwsoV+fiL+tvxF/W349fvDOCZE/34pWYntonpWfzotUv40WuXsLu2AnvvrsHeHWuxckV+EktN0RBh7na7MTk5iRUrViS5RESBRka8lYr8/PT4HcMwp5Tze9uq8XvbqtE7PIH/89olPHeyH1ecU+rzr/bewKu9N9TpbXt3rMV7NnA/9XSRm5sLt9uNmZkZ9Pf3o6ysDPn5+WlTA0onk5OTyMnJQU4Oh0eFa2JiAlNTU5iY8A7SLSsrS3KJwsMwp5RVW1mEL39kK778ka340WuX8MzxK/jdxYVV5AbHpvH9o734/tFeNGytUqe35S/jL65UNzY2hoqKCszMzGB4eDjZxclYo6OjyMnJQXExZ4dEo6amJm1ajhjmlBb+9P71+NP71+N4nxM/eq0Pz57sx5R7Tn2+++wgus8O4ju/PY+9d3tDfUt1SRJLTKHMzc2huLgYFRUVmJychNvtTnaRMtL169eRl5eXNoGUCkQrUVlZWVq1FjHMKa3cs6Ec92wox9f23omDryj4j+NX8O7AmPq8fH0C//biefzbi+fx0fma+oe3J2cXIwotJycHZWVladOMmY7OnDmDkpISda90ylwMc0pLRQXL8FnTRnzWtBHdZwfxg//sw+HTvvPSf/HWVfzirau4s6YUj+zw9q2vr2ANhYgyD8Oc0l7D1io0bK3CFecUDv5OwU/fvIzBsWn1+dP9ozjdP4p/fbFHDXX/BWuIiNIZw5wyxrry5eqAuf84fgVPvaLgdeWm+vyUew4/fv0Sfvz6JdwvVWDv/Lz1VUXpMfWEiCgYhjllpI/fsw4fv2cd3ukfxcFXFPzk9UuYveVRn39NvoHX5Bv4zovn1VDnUiZElK4Y5pTRttWU4h/+4C60P7oNh15RcPAVBReHFjZ5GR6fhu2YDNsxGfdUF+COohw8MO7GmjIuHUtE6YNhTlkhLzcHTQ/VoumhWrx8fhgHX1Hw/NsDPuccH5jGceTgp//owHs3rsKDG1fhwdtXYfs6jrYmotTGMKes89CmSjy0qRJDY9M4+IqCQ68ouDGxMM/ZNTOHF88O4sWzgwCAO9eWeoN94yq8v241CrgoDRGlGIY5Za3VJQX44p7N+OKezfjFW1fxxAtv4+ywG7O3fM87fXUUp6+O4ntHe1FRlI8HN67Ce29fhYfqKiGtKkpO4YmINBjmRAA+umMtauYG0NfXh4o7HoTj3DBefHfQp38dAG5MuNX56wBwn3GlN9w3VeLB21clo+hERAxzIn/v3bgK799chQN774R8fQLdZwfx4tkhvNQzFHDu68pNvK7cxHdePI/bVi6f72evxAfvqELZ8vRZCpKI0hvDnCgEaVWROnBuds6DF98dnA/3QVwbdfmce/nmFJ5+/TKefv0yluUa8ODtlXjvxlVo2LoaW6tLk/QOiCgbMMyJwrQs14CH71yDh+9cAwB4p39UDfY3+276nDs758FLPd7a/P/7/FlsXlOMBzdWwrx5NRq2ViWj+ESUwRjmRFHaVlOKbTWl+G8f2ISRqRl1BHz32UGMT8/6nHvu2jjOXRtH5zEZpYV5eHDjKpg2r8YHtlahuqwwSe+AiDIFw5woDsqW56mrzgHAf/beQPe73nDX7uoGAKOuGfz6nQH8+h3vPPe715ejvq4SH9i6BvdsKF/yshNR+mOYEyXArtoK7KqtwN99eCuuOKfU5vjus4Pw+J178pITJy858Z0Xz6O6tBDvq6vEB7ZW4QNbq1CYx0VmiWhxDHOiBFtXvhyffsCITz/g3VO6WzOI7vLNKZ9zB0Zd+Mkbl/GTNy4D8C5wI4K9tpJz2olIH8OcaIk1bKlCw5YqfP1R4Ny1MTXYX+29EXDuy+eH8fL5YbT//DRuryzCB+6owge2rsF7N3JOOxEtYJgTJdHmNSXYvKYEf2naiAn3LLrPDqnN8Tcn3T7nXhyewMWXevHkS71YkZ+Lhi1V8+FehZUruI0rUTZjmBOliKL8Zd7tWHesBQAc73Oqg+jevjLic+6kew6/OHUVvzjlXYnOuGoF7lhb6v1TXYo71pZgfcWKJX8PRJQcDHOiFHXPhnLcs6EcX9yzGYNj0z6D6NxzvgvIK9cnoVyf9NkJrrhg2ULAry1RH3OjGKLMwzAnSgNVJQX4k/vX40/uXw8AOHp+WA323uEJ3deMT8/iNfkGXpN9++I3ri7ShLz3z1rOdSdKawxzojT0vk2VeN+mSnxt750YHp/GmaujOHN1bP7vUZz1m9uudWFoAheGJvDz+c1iAKB8RZ6miX6hJp+bY1iKt0NEMWKYE6W5yuICvL9uNd5ft1o95gFwdj7Y1ZAfGMX1cbfuNZyTM/jdhev43YXrPsc3rynxCfc715ZidUlBIt8OEUWBYU6UgQyA2oSuNTg27RvyA6MBK9Rpnbs2hnPXxvDMiYVjlcUFPn3wd6wtxdbqkgS9EyIKB8OcKItUlRSgqmQ16jcv1OJveTxq7f3s1VGcGfA+vjGhX4sfHp/GSz3TeKlnWD1mMEDTRL9Qk68o4pQ5oqXAMCfKcjkGg7ppjNa1UddCyA94a/Lne7oleQAAFMZJREFUrunX4j0e4PTVUZy+OupzfE1p4Xzz/EJNvozd8ERxxzAnIl1rSguxprQQ5i0Ltfi5W575/ndNTf7qWMACN8K1UReujbpgf3dQPbYsx4CaFbnYdvMK3rNxDlvmF87h7nFE0WOYE1HYcnMM2L6uDNvXlfkcHxhx4czAqE9zfc/guO41Zm950DduQN/Zm/jV2YV94EuX580HezE2V5eoIc+meqLFMcyJKGbVZYWoLitEw5Yq9djsnGc+4H1D3jk1o3uN0akZ3XnxlcUF2FLtDfYt80G/eU0Jigv464tI4P8NRJQQy3INuGtdGe7yq8W/ffEKnjvyBlC+DkPuXLw7MI5z18Yw47eqnTA8Po3h89N4+fywz/F15cvVYN+ypti7zn11CfJzucIdZR+GOREtqTUl+bhzpQc7d1bCaDSqx3uHJ/DuwJg6He7da2PouabfVA8AV5xT6l7xWrWVRd6Anw/6zfNBT5TJGOZElBJqK4tQW1mED2+vVo95PMC78+F+bmBMfaxcnwx6nd7hCfQOT+DX7yysU28ANLX4kvnHxZBWcY94ygwMcyJKWQYDsLW6xLsozd0Lx6dnbqnB/u580J+7NoarIy7d63gAvDswhncHxvCc5njBshy/Wrz3Mdeqp3TDMCeitFOQl4Mdt5Vhx22+/fGjrhmcm++D19borwdZAGd69hZOXRnBKb8tZksKlwWG/JoSrCrmyHpKTQxzIsoYpYV5uE9aifuklT7Hh8ence7aeECf/LhrVvc6Y65ZvKHcxBvKTZ/jK1fko7ayCLevLlK7BW5fXYzayiJuLUtJFdcw7+rqgslkAgCfgS2xUhQl7tckouxRWVyAyuICvHfjKp/j/c6p+WAfV5vq3702Bves/sj6m5Nu3Oxz482+mwHPrStf7hf0xbh9dRE2VKxIyHsi0oo5zBVFwYc+9CE1cIUnn3wS+/fvj/nadXV1AACTyYTDhw/HdD0iIq2a8uWoKV8Os2Z+PADIwxMLIX9tTK3RhyJG1x/1m0KXm2PA7fO1+NrVxerj21cXobKYO9BRfMQU5tqw3b9/P+rr66EoCrq6utDc3Kwej9aHPvShWIpHRBQVqbIIUmURHt7me7x3eAIXhybQOzyOi/Oj5nuHJjAwqj/wDvAugdszOD6/It41n+dKCpd5a/CVRahdXaQJ/SIU5bMXlMIX009LV1cXAKClpQUtLS3qcaPRiObmZrS3t0cd5u3t7VAUBS0tLWhvb4+lmEREcSH6yQHfmvyke84b8EMT6tS4i/NBP+rSX/EO8PbNv3XZibcuOwOeW1Na6NNsf/t8033t6iJwrxryF3WYK4qihqw2yAFvbVyEscPhUPvRI712S0sL6uvroy0iEdGSWJGfi201ZdhWUxbw3PD4tKZGL4J+HL1DE5i95Ql6TbFJzSsXrwc8pw6+m2+6F4+5WU32ijrMHQ4HAAQNahHoBw8ejDjMm5ubYTQa0dLSot6HiCgdicF390sVAc/13Zj0aboXNforN6dCXlN8KHjR7/jy/FxNn3wxxq55YJydRa1zCmtKC5Gbwzp9poqpZg4gaM052pHn7e3tcDgcHOxGRBlvQ8UKbKhYAdPm1T7H3bO3NH3yC/3zF4cncDPInHkAmHLP4Z3+UbzTr91XfhytR72xv7qkANXzW9tWl83/rT4uQHVZIUoL8xLxVinBEjbCQoS5/yj3UETzuslkirg2r/W5z30ON27cCDg+Pu5d57m/vx+vvfZa1Ndfah6PB06nM63KnI6cTm+/5RtvvAGDgTWYRJmengYAyLKMwcHBRc7ObpUAKouB+4sBSHkAyjHuvoX+8TlcHZub/3vW+/f4HNxzwZvtAWBobBpDY9MBi+RoFSwzoKIwB6uW56JieY73T6Hm8fJcVBTmgP+LLJiYmEh2EWKvmS9GluWwryma1+NRK3/mmWeCPjc+Po6rV6/GfI+l4vF44HK50qrM6cjj8f4iHBgYWORMigen04mRkeChQsGVACjJBzZXANC03t+cBgZdBgxNAYNTBgxOATfcgHPaANdceNeenvXg6vyHg1BK84HyfA/K8oHyfKBM+7jAg/J8oDA36reYVmZmgg9yXCoJn/sgSVJY54nmdf/BdNF44okn8MQTTwQcP3fuHLZv347NmzfjYx/7WMz3WSrPPfccqqqqsHv37mQXJaMdP34cfX19+OhHP4rc3Cz5LZQEQ0NDOHbsGHbu3MmFoBLs+eefR0lJCR566CGMT8/i6ogLV0emMDDimn/s+/VokL3m9Yy6gVG3tnoeWFUvKliG6tICtVk/WBN/unv66aeTXYTow7y+vh5dXV1Ba+iRrNommteNRiPq6+t9Br0dOXJEfbzYoDsiItJXXLAMdVXFqKsqDnrOxHzgD2iCfuFr7+ORCAJ/YnoWF4ZmcWEodDO0f9jXlBeq4wk2rFrBfvwwxGUFuFDHI/nkrSgK9uzZo/ucw+FQw9ztDj4AhIiIolNUsAybqoqxKUTgT7rnfMLdG/ZTPjV952Rkzc5iGt7JIM+vXJGvBrtx/u8NFSuwbuVyrCtfjhx24Ecf5mLqmcPhgKIoAaEtatThhLmYhqZHrChnNBpjXh6WiIhisyI/F7ev9i5mE4xrZk63GV9b078RYlS+v5uTbtycdOOkzuI6ebk5atBvqPCG/fqKFfNL9RZi5Yrs2Okuppq5yWRCV1cXurq6fMJY1KL1AvjrX/+6+vhrX/ua+jhYmDscDnR1dUGSpLj0pxMRUWIV5uVqVsvTNz17S7cZ/+qIC1duTkG5PoFJ9+Kj9mbmbuHC0DguDI3rPr+mtNCnVi/W468pL8S68uXIy82M3e5iCnOxqItY7U2szS5WhnvyyScDXuN2u/Gtb30LFoslllsTEVEaK1iWA2lVEaRVwQN/eHwayvVJ9N2YRN/1SSg3JtF3fQLKjUkMjU2HdR/RhP+aHDhduSh/mVqjv22lN+TXzQd9TfnytNoIJ6YwNxqNeOGFF/ChD31IraELhw8f5kA1IiKKmlg9717jyoDn5m55cGFoHPLwJPpuTMwH/aT69y1P6Dn3ADDhnsWZq6M4c3VU9/n1K71N9uvmw11bq68pX47leakz6yXmAXBGoxE9PT3q4DRJkkL2k3/hC1/AF77whbCvbzKZ0NPTE2sxiYgog+TmGLB5TQk2rynRfX54fBoXhyZwYWhcrd0r1yfQd2MSY67ZsO5x6eYkLt2c1H1u5Yp8rFu5HDVlhTh1LfiueUslbvPMw62FV1ZWRnxtzkUlIqJIiFr9rtrANfFveTxq0F8cmsDFoXG1Rh9qO1stMSjv7SsjuHEz+TOsuGEuERFllRyDIeQUvOsTblycD3oR+L3DE1BuTGB2kSVzk4VhTkREpLGqKB+riip0d7rzAAFB/+NjuRhb+mL6YJgTERGFyQBg4+pibFxdjD1YAwC4+kwRlJeSW67MmGBHRESUxRjmREREaY5hTkRElOYY5kRERGmOYU5ERJTmGOZERERpjmFORESU5hjmREREaY5hTkRElOYY5kRERGmOYU5ERJTmGOZERERpjmFORESU5hjmREREaY5hTkRElOYY5kRERGmOYU5ERJTmGOZERERpjmFORESU5hjmREREaY5hTkRElOYY5kRERGmOYU5ERJTmGOZERERpjmFORESU5hjmREREaY5hTkRElOYY5kRERGmOYU5ERJTmGOZERERpjmFORESU5hjmREREaY5hTkRElOaWJbsAS0mWZQDAq6++in/6p39KcmnCd/r0aRQXF+Pll19OdlEy2pUrV+B0OnH+/HkYDIZkFydjTUxMQJZlvP7661i5cmWyi5PRzp49i8LCQrz66qvJLkpGO3PmDABgcHAQ1dXVSSlDVoW5cPjwYRw+fDjZxSAiogwyPDyctHtnXZg/8cQTAIBt27YluSTh++AHP4jdu3fj8ccfT3ZRMto3v/lN/OpXv8JvfvMbFBYWJrs4Gev111/HF7/4Rfzt3/4tHnnkkWQXJ6N97GMfQ21tLb797W8nuygZzWq1oru7O6llyKowf/jhh5NdhKgYDAasXLkSDzzwQLKLktFWr14NALj//vtRVFSU5NJkromJCQDA7bffzp/pBMvLy0NpaSm/zwm2fft2dHd3484770xaGTgAjoiIKM0xzImIiNIcw5yIiCjNMcyJiIjSXFYNgEtXH/7wh5NdhKzxsY99LNlFyAr8Pi+NBx98MNlFyBrJ/pk2uN1uT1JLQERERDFhMzsREVGaY5gTERGlOYY5ERFRmmOYExERpTmGORERUZpjmBMREaU5zjNPUYqioKurS31cX18Po9EIk8mU5JJlPvF95/c7MRwOBxRFwZEjR2A0GtXvs9FoTHbRMob/9xgA9u/fz+9xlBRFgSzLUBQFgPd7GY6uri7136C+vh6SJCXs34DzzFNQXV2d+kPjb//+/XjyySeXuETZY8+ePXA4HACAlpYWtLS0JLlEmUX7/dUyGo3o6elJQokyT7DvMcCf6Ui1t7ejvb094Ljb7Q75OkVRUFdXF3DcZDLhySefTEigs5k9xSiKAkVRYDQa0dLSgsOHD6OnpwctLS0wGo3o6upCc3NzsouZkRwOBxwOB2svCSJCRvxC6+npweHDh3H48GG2gMRJe3u7+jOs/R6L3x/ieQrPkSNHAED9fRwObZC3tLSo/wb79++Hw+FI2O9v1sxTjKiR6wWKw+HAnj17AAA9PT0MnTirq6uDJEmor69He3s7azFxJGo4bFlKLPGBSe9nt7m5GV1dXfw3iID48Cnk5+cDCF0zFz/rev8GotU1Eb+/WTNPMaIPUY8kSeoPlizLS1msjLdnzx4oioIDBw4kuygZSTRV8sNRYonfC3p9uvv27QOAoF14FCiaFiMx5qa+vj7gOfHvotd0HyuGeRoxGo3q/6ySJCW5NJlDNK+3tLSwuTcBRLOu/wdVhkr8ibAQgaJ18OBBAPohQ/Gh7SbV+10ivveJ6OpgmKeRrq4u9QeFTezx09zcDJPJxFpjgmhHADscDtTV1SE/P1/9u729ncEeJ2LEeldXl/p9Ff20XV1d/DlPMhHwifh5Z5inCUVR1IET7O+Kn+bmZjavJ5j4xdXV1YU9e/ZAkiS1P1EMykpEs2M2ErMCTCYT2tvbUVdXhz179qCrq0sdUEuJE0nLabwDnfPM04QI8v3797MpOE4cDoc6IIjf08QRv7SU/7+9u8l1UwfjMP5e6YptOJNsAybJMmDEMsrIWUZGZhnpxGzjTPA2Mrl3UL0+QCAnaUITnz4/qVKVxDVFiD/+JISLyVdVVclutxPnnOR5fvP6XSyz1sZu9qqq4hpp55wYYzjHK7onoJkA9xeaLunBcxwOh7iEB+sZ3rSm53oYLroMCL9vuGrgfD7L8XiMy1s3m03sbsc6Xjn8Scv8zQ2DnC6y53HOxfM67eLVUOm6Tqy1kuc5LfcH6A1u6Uank4IYN3+ctXbxAfXHjx/ivZe2bWmdr0S715dWG11bevwowvyNEeTr05ns176jG/4xt964WG75mK8ehvQaZtOY9ejk5OGs9qE1r3HC/E0R5Ou6dl7bto1j6WVZsgzwQbrv+tINTntCeGB6jqXzvGarEJ+Koog9f9MeEL3W1+gZYcz8DRHk69N1oHN/ht3CvADkOYbrn4ctyBBCHObQTU3we4ZLVufGxXUSLQ+n69LreLrk0nu/6uZJtMzfzLDbt+/72c36RX5dDIx7IRVN08Q5CF3XSZ7nozcDMpTxHE3TSF3XF+dZ36ImwtLWeyztpT68L0/vxbqW31oru90uXtd6ra/VQCPM3xAtwddiU551nE4nqet69MCqk7UI8ufQTWMOh4P0fT8aH6+qKq7tx++59dxpy9s5N3pgLctytWudF60AwDc1N3aO74kwBwAgcUyAAwAgcYQ5AACJI8wBAEgcYQ4AQOIIcwAAEkeYAwCQOMIcAIDEEeYAACSOMAcAIHGEOQAAiSPMAfwx+hrI4ashATyOMAfwx7RtK9Za6fv+1YcCfCuEOQAAiSPMAQBI3L+vPgAA99Hx5r7vpSiKu8p672Wz2dz0jusQQuwOv7WeYZlbyznnxBhz83EBuETLHEhECEH2+71st1vZbrey3+8lyzKx1s7+Pssy2W63sVyWZbH8fr9fnITmvR/VoWWW6lkqo+WW6rHWSpZlUtd1/K1z7v4TA0D+OZ/P/736IABc572X/X4vIiJN08QWbNd1sWX78fExKpNlmYh8to7LshRjjLRtG8v8/Plz1Bqe1pPnuYQQ4gz0qqrkeDzedGwhBOm6To7HY/ysrmtxzklRFOK9j7/vuk689xJCkI+PD1rowJ3oZgcScDgcRETkdDqNuq6rqhJjjFhrxTknVVXNlj+dTvHvWt45J845aZrmy3qKopDdbifOOSnLcvSdBvm0zDV938v5fB79P6y18c/0gQHAdXSzA2/Oey/ee6mqajYsNcDbtp0tPxeMGuBd18XPnHPivZeiKC7qMcbEMsN6tOt96diWzD106L/PGnTgfrTMgTc3DLelMWVjzOLa7bkua2OMGGPEe3/T74efD49H/57n+cLRz7v2e9agA/cjzIE3p61n7Ra/x62z1o0xXwbzZrMRkXHYapl7Z9UDeC7CHHhzGshVVY3Gt29xS5f1NPCXymiIa6hPv2PSGvA6hDnw5rSlrC3oe82VCyFcfK71DMfRp2VE5KKM9166rqN1DrwQE+CAN6ebqfR9PzvG/ZW5rnn9bDgRbdiNPlePTnwryzJ+puVZHw68FmEOvDmdSR5CkLquR5u3aAtbl3TN0bF2bVk750az0If1HI/HWI8Gum46MzfT3RgjVVVJCEG22+3oIWC4Ph3AuuhmBxKggalBPBfcc+PpGrbWWqnrevTd6XS66H4vikKaphFrbVw/PvxuaZmbrnWfltFjB7AudoADEhJCiGPUIp/j13NBnmVZ3BlOy4QQJM9zKYri6vj7sB5jTCxz67ENJ+1Nd5gLISzWP9f9D+BrhDnwTQ3DHMD3xpg5AACJI8wBAEgcE+CAb4pxZ+DvwZg5AACJo5sdAIDEEeYAACSOMAcAIHGEOQAAiSPMAQBIHGEOAEDiCHMAABL3PzYikE2enjprAAAAAElFTkSuQmCC)"
      ],
      "metadata": {
        "id": "D8_EMAYUCuu1"
      }
    },
    {
      "cell_type": "code",
      "source": [
        "# To evaluate the learned model, we apply it on some test data.\n",
        "\n",
        "d2l.predict_ch3(net, test_iter)"
      ],
      "metadata": {
        "id": "Q8zZJi0JCxh0"
      },
      "execution_count": null,
      "outputs": []
    },
    {
      "cell_type": "markdown",
      "source": [
        "![image.png](data:image/png;base64,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)"
      ],
      "metadata": {
        "id": "ybJKV6kPC0Hf"
      }
    },
    {
      "cell_type": "markdown",
      "source": [
        "## Summary"
      ],
      "metadata": {
        "id": "ek9z5g-UC2XR"
      }
    },
    {
      "cell_type": "markdown",
      "source": [
        "\n",
        "\n",
        "*   We saw that implementing a simple MLP is easy, even when done manually.\n",
        "*   However, with a large number of layers, implementing MLPs from scratch can still get messy (e.g., naming and keeping track of our model’s parameters).\n",
        "\n"
      ],
      "metadata": {
        "id": "fVHJ2XH-C4G7"
      }
    }
  ]
}