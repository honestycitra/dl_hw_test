{
  "nbformat": 4,
  "nbformat_minor": 0,
  "metadata": {
    "colab": {
      "name": "3.1. Linear Regression.ipynb",
      "provenance": []
    },
    "kernelspec": {
      "name": "python3",
      "display_name": "Python 3"
    },
    "language_info": {
      "name": "python"
    }
  },
  "cells": [
    {
      "cell_type": "markdown",
      "source": [
        "# Linear Regression\n"
      ],
      "metadata": {
        "id": "G1mgKIaR1cPB"
      }
    },
    {
      "cell_type": "markdown",
      "source": [
        "  Regression refers to a set of methods for modeling the relationship between one or more independent variables and a dependent variable. In the natural sciences and social sciences, the purpose of regression is most often to characterize the relationship between the inputs and outputs. Machine learning, on the other hand, is most often concerned with prediction.\n",
        "\n",
        " Regression problems pop up whenever we want to predict a numerical value. Common examples include predicting prices (of homes, stocks, etc.), predicting length of stay (for patients in the hospital), demand forecasting (for retail sales), among countless others. Not every prediction problem is a classic regression problem. In subsequent sections, we will introduce classification problems, where the goal is to predict membership among a set of categories.\n",
        "\n",
        "---\n",
        "\n"
      ],
      "metadata": {
        "id": "WOh1Y0L21ir0"
      }
    },
    {
      "cell_type": "code",
      "source": [
        "!pip install -U d2l"
      ],
      "metadata": {
        "colab": {
          "base_uri": "https://localhost:8080/"
        },
        "id": "OWTx1VMs7pJP",
        "outputId": "774f2f01-400e-477e-bde0-71d1d6daf169"
      },
      "execution_count": 22,
      "outputs": [
        {
          "output_type": "stream",
          "name": "stdout",
          "text": [
            "Requirement already satisfied: d2l in /usr/local/lib/python3.7/dist-packages (0.17.5)\n",
            "Requirement already satisfied: pandas==1.2.4 in /usr/local/lib/python3.7/dist-packages (from d2l) (1.2.4)\n",
            "Requirement already satisfied: jupyter==1.0.0 in /usr/local/lib/python3.7/dist-packages (from d2l) (1.0.0)\n",
            "Requirement already satisfied: numpy==1.21.5 in /usr/local/lib/python3.7/dist-packages (from d2l) (1.21.5)\n",
            "Requirement already satisfied: matplotlib==3.5.1 in /usr/local/lib/python3.7/dist-packages (from d2l) (3.5.1)\n",
            "Requirement already satisfied: requests==2.25.1 in /usr/local/lib/python3.7/dist-packages (from d2l) (2.25.1)\n",
            "Requirement already satisfied: nbconvert in /usr/local/lib/python3.7/dist-packages (from jupyter==1.0.0->d2l) (5.6.1)\n",
            "Requirement already satisfied: qtconsole in /usr/local/lib/python3.7/dist-packages (from jupyter==1.0.0->d2l) (5.2.2)\n",
            "Requirement already satisfied: notebook in /usr/local/lib/python3.7/dist-packages (from jupyter==1.0.0->d2l) (5.3.1)\n",
            "Requirement already satisfied: jupyter-console in /usr/local/lib/python3.7/dist-packages (from jupyter==1.0.0->d2l) (5.2.0)\n",
            "Requirement already satisfied: ipywidgets in /usr/local/lib/python3.7/dist-packages (from jupyter==1.0.0->d2l) (7.7.0)\n",
            "Requirement already satisfied: ipykernel in /usr/local/lib/python3.7/dist-packages (from jupyter==1.0.0->d2l) (4.10.1)\n",
            "Requirement already satisfied: python-dateutil>=2.7 in /usr/local/lib/python3.7/dist-packages (from matplotlib==3.5.1->d2l) (2.8.2)\n",
            "Requirement already satisfied: cycler>=0.10 in /usr/local/lib/python3.7/dist-packages (from matplotlib==3.5.1->d2l) (0.11.0)\n",
            "Requirement already satisfied: kiwisolver>=1.0.1 in /usr/local/lib/python3.7/dist-packages (from matplotlib==3.5.1->d2l) (1.4.0)\n",
            "Requirement already satisfied: pyparsing>=2.2.1 in /usr/local/lib/python3.7/dist-packages (from matplotlib==3.5.1->d2l) (3.0.7)\n",
            "Requirement already satisfied: pillow>=6.2.0 in /usr/local/lib/python3.7/dist-packages (from matplotlib==3.5.1->d2l) (7.1.2)\n",
            "Requirement already satisfied: packaging>=20.0 in /usr/local/lib/python3.7/dist-packages (from matplotlib==3.5.1->d2l) (21.3)\n",
            "Requirement already satisfied: fonttools>=4.22.0 in /usr/local/lib/python3.7/dist-packages (from matplotlib==3.5.1->d2l) (4.32.0)\n",
            "Requirement already satisfied: pytz>=2017.3 in /usr/local/lib/python3.7/dist-packages (from pandas==1.2.4->d2l) (2018.9)\n",
            "Requirement already satisfied: urllib3<1.27,>=1.21.1 in /usr/local/lib/python3.7/dist-packages (from requests==2.25.1->d2l) (1.24.3)\n",
            "Requirement already satisfied: chardet<5,>=3.0.2 in /usr/local/lib/python3.7/dist-packages (from requests==2.25.1->d2l) (3.0.4)\n",
            "Requirement already satisfied: certifi>=2017.4.17 in /usr/local/lib/python3.7/dist-packages (from requests==2.25.1->d2l) (2021.10.8)\n",
            "Requirement already satisfied: idna<3,>=2.5 in /usr/local/lib/python3.7/dist-packages (from requests==2.25.1->d2l) (2.10)\n",
            "Requirement already satisfied: typing-extensions in /usr/local/lib/python3.7/dist-packages (from kiwisolver>=1.0.1->matplotlib==3.5.1->d2l) (3.10.0.2)\n",
            "Requirement already satisfied: six>=1.5 in /usr/local/lib/python3.7/dist-packages (from python-dateutil>=2.7->matplotlib==3.5.1->d2l) (1.15.0)\n",
            "Requirement already satisfied: tornado>=4.0 in /usr/local/lib/python3.7/dist-packages (from ipykernel->jupyter==1.0.0->d2l) (5.1.1)\n",
            "Requirement already satisfied: traitlets>=4.1.0 in /usr/local/lib/python3.7/dist-packages (from ipykernel->jupyter==1.0.0->d2l) (5.1.1)\n",
            "Requirement already satisfied: ipython>=4.0.0 in /usr/local/lib/python3.7/dist-packages (from ipykernel->jupyter==1.0.0->d2l) (5.5.0)\n",
            "Requirement already satisfied: jupyter-client in /usr/local/lib/python3.7/dist-packages (from ipykernel->jupyter==1.0.0->d2l) (5.3.5)\n",
            "Requirement already satisfied: setuptools>=18.5 in /usr/local/lib/python3.7/dist-packages (from ipython>=4.0.0->ipykernel->jupyter==1.0.0->d2l) (57.4.0)\n",
            "Requirement already satisfied: prompt-toolkit<2.0.0,>=1.0.4 in /usr/local/lib/python3.7/dist-packages (from ipython>=4.0.0->ipykernel->jupyter==1.0.0->d2l) (1.0.18)\n",
            "Requirement already satisfied: pickleshare in /usr/local/lib/python3.7/dist-packages (from ipython>=4.0.0->ipykernel->jupyter==1.0.0->d2l) (0.7.5)\n",
            "Requirement already satisfied: pygments in /usr/local/lib/python3.7/dist-packages (from ipython>=4.0.0->ipykernel->jupyter==1.0.0->d2l) (2.6.1)\n",
            "Requirement already satisfied: simplegeneric>0.8 in /usr/local/lib/python3.7/dist-packages (from ipython>=4.0.0->ipykernel->jupyter==1.0.0->d2l) (0.8.1)\n",
            "Requirement already satisfied: pexpect in /usr/local/lib/python3.7/dist-packages (from ipython>=4.0.0->ipykernel->jupyter==1.0.0->d2l) (4.8.0)\n",
            "Requirement already satisfied: decorator in /usr/local/lib/python3.7/dist-packages (from ipython>=4.0.0->ipykernel->jupyter==1.0.0->d2l) (4.4.2)\n",
            "Requirement already satisfied: wcwidth in /usr/local/lib/python3.7/dist-packages (from prompt-toolkit<2.0.0,>=1.0.4->ipython>=4.0.0->ipykernel->jupyter==1.0.0->d2l) (0.2.5)\n",
            "Requirement already satisfied: nbformat>=4.2.0 in /usr/local/lib/python3.7/dist-packages (from ipywidgets->jupyter==1.0.0->d2l) (5.2.0)\n",
            "Requirement already satisfied: ipython-genutils~=0.2.0 in /usr/local/lib/python3.7/dist-packages (from ipywidgets->jupyter==1.0.0->d2l) (0.2.0)\n",
            "Requirement already satisfied: jupyterlab-widgets>=1.0.0 in /usr/local/lib/python3.7/dist-packages (from ipywidgets->jupyter==1.0.0->d2l) (1.1.0)\n",
            "Requirement already satisfied: widgetsnbextension~=3.6.0 in /usr/local/lib/python3.7/dist-packages (from ipywidgets->jupyter==1.0.0->d2l) (3.6.0)\n",
            "Requirement already satisfied: jupyter-core in /usr/local/lib/python3.7/dist-packages (from nbformat>=4.2.0->ipywidgets->jupyter==1.0.0->d2l) (4.9.2)\n",
            "Requirement already satisfied: jsonschema!=2.5.0,>=2.4 in /usr/local/lib/python3.7/dist-packages (from nbformat>=4.2.0->ipywidgets->jupyter==1.0.0->d2l) (4.3.3)\n",
            "Requirement already satisfied: pyrsistent!=0.17.0,!=0.17.1,!=0.17.2,>=0.14.0 in /usr/local/lib/python3.7/dist-packages (from jsonschema!=2.5.0,>=2.4->nbformat>=4.2.0->ipywidgets->jupyter==1.0.0->d2l) (0.18.1)\n",
            "Requirement already satisfied: attrs>=17.4.0 in /usr/local/lib/python3.7/dist-packages (from jsonschema!=2.5.0,>=2.4->nbformat>=4.2.0->ipywidgets->jupyter==1.0.0->d2l) (21.4.0)\n",
            "Requirement already satisfied: importlib-metadata in /usr/local/lib/python3.7/dist-packages (from jsonschema!=2.5.0,>=2.4->nbformat>=4.2.0->ipywidgets->jupyter==1.0.0->d2l) (4.11.3)\n",
            "Requirement already satisfied: importlib-resources>=1.4.0 in /usr/local/lib/python3.7/dist-packages (from jsonschema!=2.5.0,>=2.4->nbformat>=4.2.0->ipywidgets->jupyter==1.0.0->d2l) (5.4.0)\n",
            "Requirement already satisfied: zipp>=3.1.0 in /usr/local/lib/python3.7/dist-packages (from importlib-resources>=1.4.0->jsonschema!=2.5.0,>=2.4->nbformat>=4.2.0->ipywidgets->jupyter==1.0.0->d2l) (3.7.0)\n",
            "Requirement already satisfied: terminado>=0.8.1 in /usr/local/lib/python3.7/dist-packages (from notebook->jupyter==1.0.0->d2l) (0.13.3)\n",
            "Requirement already satisfied: Send2Trash in /usr/local/lib/python3.7/dist-packages (from notebook->jupyter==1.0.0->d2l) (1.8.0)\n",
            "Requirement already satisfied: jinja2 in /usr/local/lib/python3.7/dist-packages (from notebook->jupyter==1.0.0->d2l) (2.11.3)\n",
            "Requirement already satisfied: pyzmq>=13 in /usr/local/lib/python3.7/dist-packages (from jupyter-client->ipykernel->jupyter==1.0.0->d2l) (22.3.0)\n",
            "Requirement already satisfied: ptyprocess in /usr/local/lib/python3.7/dist-packages (from terminado>=0.8.1->notebook->jupyter==1.0.0->d2l) (0.7.0)\n",
            "Requirement already satisfied: MarkupSafe>=0.23 in /usr/local/lib/python3.7/dist-packages (from jinja2->notebook->jupyter==1.0.0->d2l) (2.0.1)\n",
            "Requirement already satisfied: mistune<2,>=0.8.1 in /usr/local/lib/python3.7/dist-packages (from nbconvert->jupyter==1.0.0->d2l) (0.8.4)\n",
            "Requirement already satisfied: entrypoints>=0.2.2 in /usr/local/lib/python3.7/dist-packages (from nbconvert->jupyter==1.0.0->d2l) (0.4)\n",
            "Requirement already satisfied: testpath in /usr/local/lib/python3.7/dist-packages (from nbconvert->jupyter==1.0.0->d2l) (0.6.0)\n",
            "Requirement already satisfied: pandocfilters>=1.4.1 in /usr/local/lib/python3.7/dist-packages (from nbconvert->jupyter==1.0.0->d2l) (1.5.0)\n",
            "Requirement already satisfied: bleach in /usr/local/lib/python3.7/dist-packages (from nbconvert->jupyter==1.0.0->d2l) (4.1.0)\n",
            "Requirement already satisfied: defusedxml in /usr/local/lib/python3.7/dist-packages (from nbconvert->jupyter==1.0.0->d2l) (0.7.1)\n",
            "Requirement already satisfied: webencodings in /usr/local/lib/python3.7/dist-packages (from bleach->nbconvert->jupyter==1.0.0->d2l) (0.5.1)\n",
            "Requirement already satisfied: qtpy in /usr/local/lib/python3.7/dist-packages (from qtconsole->jupyter==1.0.0->d2l) (2.0.1)\n"
          ]
        }
      ]
    },
    {
      "cell_type": "markdown",
      "source": [
        "## Vectorization for Speed"
      ],
      "metadata": {
        "id": "kAPtmQ2o1n7q"
      }
    },
    {
      "cell_type": "markdown",
      "source": [
        "When training our models, we typically want to process whole minibatches of examples simultaneously. Doing this efficiently requires that we vectorize the calculations and leverage fast linear algebra libraries rather than writing costly for-loops in Python."
      ],
      "metadata": {
        "id": "jxhoFBRQ2M7p"
      }
    },
    {
      "cell_type": "code",
      "source": [
        "!pip install torch torchvision"
      ],
      "metadata": {
        "colab": {
          "base_uri": "https://localhost:8080/"
        },
        "id": "YHvHQv9d4u1T",
        "outputId": "d027eb50-7dfd-4fbb-82c9-76b94a75fa88"
      },
      "execution_count": 21,
      "outputs": [
        {
          "output_type": "stream",
          "name": "stdout",
          "text": [
            "Requirement already satisfied: torch in /usr/local/lib/python3.7/dist-packages (1.10.0+cu111)\n",
            "Requirement already satisfied: torchvision in /usr/local/lib/python3.7/dist-packages (0.11.1+cu111)\n",
            "Requirement already satisfied: typing-extensions in /usr/local/lib/python3.7/dist-packages (from torch) (3.10.0.2)\n",
            "Requirement already satisfied: numpy in /usr/local/lib/python3.7/dist-packages (from torchvision) (1.21.5)\n",
            "Requirement already satisfied: pillow!=8.3.0,>=5.3.0 in /usr/local/lib/python3.7/dist-packages (from torchvision) (7.1.2)\n"
          ]
        }
      ]
    },
    {
      "cell_type": "code",
      "source": [
        "%matplotlib inline\n",
        "import math\n",
        "import time\n",
        "import numpy as np\n",
        "import torch\n",
        "from d2l import torch as d2l"
      ],
      "metadata": {
        "id": "80Z_rXLC5S8u"
      },
      "execution_count": 24,
      "outputs": []
    },
    {
      "cell_type": "markdown",
      "source": [
        "To illustrate why this matters so much, we can consider two methods for adding vectors. To start we instantiate two 10000-dimensional vectors containing all ones. In one method we will loop over the vectors with a Python for-loop. In the other method we will rely on a single call to +."
      ],
      "metadata": {
        "id": "74nbaKRj23vn"
      }
    },
    {
      "cell_type": "code",
      "source": [
        "n = 10000\n",
        "a = torch.ones(n)\n",
        "b = torch.ones(n)"
      ],
      "metadata": {
        "id": "27Nwa7f853Wr"
      },
      "execution_count": 5,
      "outputs": []
    },
    {
      "cell_type": "code",
      "source": [
        "# define a timer\n",
        "\n",
        "class Timer:  #save\n",
        "    \"\"\"Record multiple running times.\"\"\"\n",
        "    def __init__(self):\n",
        "        self.times = []\n",
        "        self.start()\n",
        "\n",
        "    def start(self):\n",
        "        \"\"\"Start the timer.\"\"\"\n",
        "        self.tik = time.time()\n",
        "\n",
        "    def stop(self):\n",
        "        \"\"\"Stop the timer and record the time in a list.\"\"\"\n",
        "        self.times.append(time.time() - self.tik)\n",
        "        return self.times[-1]\n",
        "\n",
        "    def avg(self):\n",
        "        \"\"\"Return the average time.\"\"\"\n",
        "        return sum(self.times) / len(self.times)\n",
        "\n",
        "    def sum(self):\n",
        "        \"\"\"Return the sum of time.\"\"\"\n",
        "        return sum(self.times)\n",
        "\n",
        "    def cumsum(self):\n",
        "        \"\"\"Return the accumulated time.\"\"\"\n",
        "        return np.array(self.times).cumsum().tolist()"
      ],
      "metadata": {
        "id": "Xih4yS5c571Y"
      },
      "execution_count": 7,
      "outputs": []
    },
    {
      "cell_type": "code",
      "source": [
        "# First, add one coordinate at a time, using a for-loop.\n",
        "\n",
        "c = torch.zeros(n)\n",
        "timer = Timer()\n",
        "for i in range(n):\n",
        "    c[i] = a[i] + b[i]\n",
        "f'{timer.stop():.5f} sec'"
      ],
      "metadata": {
        "colab": {
          "base_uri": "https://localhost:8080/",
          "height": 35
        },
        "id": "fBIdXmk-6POV",
        "outputId": "d42c3300-fa26-4510-a236-551e240c0c5a"
      },
      "execution_count": 8,
      "outputs": [
        {
          "output_type": "execute_result",
          "data": {
            "text/plain": [
              "'0.23098 sec'"
            ],
            "application/vnd.google.colaboratory.intrinsic+json": {
              "type": "string"
            }
          },
          "metadata": {},
          "execution_count": 8
        }
      ]
    },
    {
      "cell_type": "code",
      "source": [
        "# Alternatively, you can rely on the reloaded + operator to compute the elementwise sum\n",
        "\n",
        "timer.start()\n",
        "d = a + b\n",
        "f'{timer.stop():.5f} sec'"
      ],
      "metadata": {
        "colab": {
          "base_uri": "https://localhost:8080/",
          "height": 35
        },
        "id": "Q8aUevUX6kEq",
        "outputId": "243d0331-cc7b-45e8-eb81-dfe51bb2b871"
      },
      "execution_count": 9,
      "outputs": [
        {
          "output_type": "execute_result",
          "data": {
            "text/plain": [
              "'0.00130 sec'"
            ],
            "application/vnd.google.colaboratory.intrinsic+json": {
              "type": "string"
            }
          },
          "metadata": {},
          "execution_count": 9
        }
      ]
    },
    {
      "cell_type": "markdown",
      "source": [
        "## The Normal Distribution and Squared Loss"
      ],
      "metadata": {
        "id": "tUqdavy466Eo"
      }
    },
    {
      "cell_type": "markdown",
      "source": [
        "While you can already get your hands dirty using only the information above, in the following we can more formally motivate the squared loss objective via assumptions about the distribution of noise.\n",
        "\n",
        "Linear regression was invented by Gauss in 1795, who also discovered the normal distribution (also called the Gaussian). It turns out that the connection between the normal distribution and linear regression runs deeper than common parentage.\n",
        "\n",
        "To refresh your memory, the probability density of a normal distribution is given as\n",
        "\n",
        "![2.PNG](data:image/png;base64,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)\n",
        "\n"
      ],
      "metadata": {
        "id": "fXPBsU4G7BjM"
      }
    },
    {
      "cell_type": "code",
      "source": [
        "# define a Python function to compute the normal distribution\n",
        "\n",
        "def normal(x, mu, sigma):\n",
        "    p = 1 / math.sqrt(2 * math.pi * sigma**2)\n",
        "    return p * np.exp(-0.5 / sigma**2 * (x - mu)**2)"
      ],
      "metadata": {
        "id": "v3FbBCMx7RrP"
      },
      "execution_count": 10,
      "outputs": []
    },
    {
      "cell_type": "code",
      "source": [
        "# visualize the normal distributions\n",
        "\n",
        "# Use numpy again for visualization\n",
        "x = np.arange(-7, 7, 0.01)\n",
        "\n",
        "# Mean and standard deviation pairs\n",
        "params = [(0, 1), (0, 2), (3, 1)]\n",
        "d2l.plot(x, [normal(x, mu, sigma) for mu, sigma in params], xlabel='x',\n",
        "         ylabel='p(x)', figsize=(4.5, 2.5),\n",
        "         legend=[f'mean {mu}, std {sigma}' for mu, sigma in params])"
      ],
      "metadata": {
        "id": "mgwDn2sD9sAb"
      },
      "execution_count": null,
      "outputs": []
    },
    {
      "cell_type": "markdown",
      "source": [
        "![image.png](data:image/png;base64,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)"
      ],
      "metadata": {
        "id": "yETiE9y39jI-"
      }
    }
  ]
}