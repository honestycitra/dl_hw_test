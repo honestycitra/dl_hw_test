{
  "cells": [
    {
      "cell_type": "code",
      "execution_count": 1,
      "metadata": {
        "id": "L52wlLJtnhSz"
      },
      "outputs": [],
      "source": [
        "%matplotlib inline"
      ]
    },
    {
      "cell_type": "markdown",
      "metadata": {
        "id": "MA52EctbnhS2"
      },
      "source": [
        "\n",
        "How to use TensorBoard with PyTorch\n",
        "===================================\n",
        "TensorBoard is a visualization toolkit for machine learning experimentation. \n",
        "TensorBoard allows tracking and visualizing metrics such as loss and accuracy, \n",
        "visualizing the model graph, viewing histograms, displaying images and much more. \n",
        "In this tutorial we are going to cover TensorBoard installation, \n",
        "basic usage with PyTorch, and how to visualize data you logged in TensorBoard UI.\n",
        "\n",
        "Installation\n",
        "----------------------\n",
        "PyTorch should be installed to log models and metrics into TensorBoard log \n",
        "directory. The following command will install PyTorch 1.4+ via \n",
        "Anaconda (recommended):\n",
        "\n",
        "::\n",
        "\n",
        "   $ conda install pytorch torchvision -c pytorch \n",
        "   \n",
        "\n",
        "or pip\n",
        "\n",
        "::\n",
        "\n",
        "   $ pip install torch torchvision\n"
      ]
    },
    {
      "cell_type": "markdown",
      "metadata": {
        "id": "3x97ME8jnhS5"
      },
      "source": [
        "Using TensorBoard in PyTorch\n",
        "-----\n",
        "\n",
        "Let’s now try using TensorBoard with PyTorch! Before logging anything, \n",
        "we need to create a ``SummaryWriter`` instance.\n",
        "\n",
        "\n"
      ]
    },
    {
      "cell_type": "code",
      "execution_count": 2,
      "metadata": {
        "id": "xQBsg_VbnhS6"
      },
      "outputs": [],
      "source": [
        "import torch\n",
        "from torch.utils.tensorboard import SummaryWriter\n",
        "writer = SummaryWriter()"
      ]
    },
    {
      "cell_type": "markdown",
      "metadata": {
        "id": "q0nmiuIxnhS6"
      },
      "source": [
        "Writer will output to ``./runs/`` directory by default.\n",
        "\n",
        "\n"
      ]
    },
    {
      "cell_type": "markdown",
      "metadata": {
        "id": "nr3bVZ39nhS7"
      },
      "source": [
        "Log scalars\n",
        "-----\n",
        "\n",
        "In machine learning, it’s important to understand key metrics such as \n",
        "loss and how they change during training. Scalar helps to save \n",
        "the loss value of each training step, or the accuracy after each epoch. \n",
        "\n",
        "To log a scalar value, use \n",
        "``add_scalar(tag, scalar_value, global_step=None, walltime=None)``. \n",
        "For example, lets create a simple linear regression training, and \n",
        "log loss value using ``add_scalar``\n",
        "\n",
        "\n"
      ]
    },
    {
      "cell_type": "code",
      "execution_count": 3,
      "metadata": {
        "id": "FBkqD7IunhS-"
      },
      "outputs": [],
      "source": [
        "x = torch.arange(-5, 5, 0.1).view(-1, 1)\n",
        "y = -5 * x + 0.1 * torch.randn(x.size())\n",
        "\n",
        "model = torch.nn.Linear(1, 1)\n",
        "criterion = torch.nn.MSELoss()\n",
        "optimizer = torch.optim.SGD(model.parameters(), lr = 0.1)\n",
        "\n",
        "def train_model(iter):\n",
        "    for epoch in range(iter):\n",
        "        y1 = model(x)\n",
        "        loss = criterion(y1, y)\n",
        "        writer.add_scalar(\"Loss/train\", loss, epoch)\n",
        "        optimizer.zero_grad()\n",
        "        loss.backward()\n",
        "        optimizer.step()\n",
        "        \n",
        "train_model(10)\n",
        "writer.flush()"
      ]
    },
    {
      "cell_type": "markdown",
      "metadata": {
        "id": "DXWZys-vnhS_"
      },
      "source": [
        "Call ``flush()`` method to make sure that all pending events \n",
        "have been written to disk.\n",
        "\n",
        "See `torch.utils.tensorboard tutorials <https://pytorch.org/docs/stable/tensorboard.html>`_ \n",
        "to find more TensorBoard visualization types you can log.\n",
        "\n",
        "If you do not need the summary writer anymore, call ``close()`` method.\n",
        "\n",
        "\n"
      ]
    },
    {
      "cell_type": "code",
      "execution_count": 4,
      "metadata": {
        "id": "Mx3vDXs-nhTA"
      },
      "outputs": [],
      "source": [
        "writer.close()"
      ]
    },
    {
      "cell_type": "markdown",
      "metadata": {
        "id": "wWFjpOednhTC"
      },
      "source": [
        "Run TensorBoard\n",
        "-----\n",
        "\n",
        "Install TensorBoard through the command line to visualize data you logged\n",
        "\n",
        "::\n",
        "\n",
        "   $ pip install tensorboard\n",
        "\n",
        "\n",
        "Now, start TensorBoard, specifying the root log directory you used above. \n",
        "Argument ``logdir`` points to directory where TensorBoard will look to find \n",
        "event files that it can display. TensorBoard will recursively walk \n",
        "the directory structure rooted at logdir, looking for .*tfevents.* files.\n",
        "\n",
        "::\n",
        "\n",
        "   $ tensorboard --logdir=runs\n",
        "\n",
        "Go to the URL it provides OR to `http://localhost:6006/ <http://localhost:6006/>`_\n",
        "\n",
        "![](https://github.com/pytorch/tutorials/blob/gh-pages/_static/img/thumbnails/tensorboard_scalars.png?raw=1)\n",
        "\n",
        "   :scale: 40 %\n",
        "\n",
        "This dashboard shows how the loss and accuracy change with every epoch. \n",
        "You can use it to also track training speed, learning rate, and other \n",
        "scalar values. It’s helpful to compare these metrics across different \n",
        "training runs to improve your model.\n",
        "\n",
        "\n"
      ]
    }
  ],
  "metadata": {
    "kernelspec": {
      "display_name": "Python 3",
      "language": "python",
      "name": "python3"
    },
    "language_info": {
      "codemirror_mode": {
        "name": "ipython",
        "version": 3
      },
      "file_extension": ".py",
      "mimetype": "text/x-python",
      "name": "python",
      "nbconvert_exporter": "python",
      "pygments_lexer": "ipython3",
      "version": "3.7.11"
    },
    "colab": {
      "name": "tensorboard_with_pytorch.ipynb",
      "provenance": []
    }
  },
  "nbformat": 4,
  "nbformat_minor": 0
}