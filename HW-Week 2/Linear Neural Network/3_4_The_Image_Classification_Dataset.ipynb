{
  "nbformat": 4,
  "nbformat_minor": 0,
  "metadata": {
    "colab": {
      "name": "3.4. The Image Classification Dataset.ipynb",
      "provenance": []
    },
    "kernelspec": {
      "name": "python3",
      "display_name": "Python 3"
    },
    "language_info": {
      "name": "python"
    },
    "widgets": {
      "application/vnd.jupyter.widget-state+json": {
        "0ca45a2f193c42eca3a6ea9ea127f6c7": {
          "model_module": "@jupyter-widgets/controls",
          "model_name": "HBoxModel",
          "model_module_version": "1.5.0",
          "state": {
            "_dom_classes": [],
            "_model_module": "@jupyter-widgets/controls",
            "_model_module_version": "1.5.0",
            "_model_name": "HBoxModel",
            "_view_count": null,
            "_view_module": "@jupyter-widgets/controls",
            "_view_module_version": "1.5.0",
            "_view_name": "HBoxView",
            "box_style": "",
            "children": [
              "IPY_MODEL_305e1e8ee7274313abb8b38609b1f43f",
              "IPY_MODEL_fdcff8755ae2408fbf24d8fb2eaa0466",
              "IPY_MODEL_15682013a99840d9a9aa88e292895ecc"
            ],
            "layout": "IPY_MODEL_c90e937cc87847d49b78650b5c7798b5"
          }
        },
        "305e1e8ee7274313abb8b38609b1f43f": {
          "model_module": "@jupyter-widgets/controls",
          "model_name": "HTMLModel",
          "model_module_version": "1.5.0",
          "state": {
            "_dom_classes": [],
            "_model_module": "@jupyter-widgets/controls",
            "_model_module_version": "1.5.0",
            "_model_name": "HTMLModel",
            "_view_count": null,
            "_view_module": "@jupyter-widgets/controls",
            "_view_module_version": "1.5.0",
            "_view_name": "HTMLView",
            "description": "",
            "description_tooltip": null,
            "layout": "IPY_MODEL_d8e94eb5c1774ad2ac084389fb246394",
            "placeholder": "​",
            "style": "IPY_MODEL_297e20ef93da473ea386bebd794be446",
            "value": ""
          }
        },
        "fdcff8755ae2408fbf24d8fb2eaa0466": {
          "model_module": "@jupyter-widgets/controls",
          "model_name": "FloatProgressModel",
          "model_module_version": "1.5.0",
          "state": {
            "_dom_classes": [],
            "_model_module": "@jupyter-widgets/controls",
            "_model_module_version": "1.5.0",
            "_model_name": "FloatProgressModel",
            "_view_count": null,
            "_view_module": "@jupyter-widgets/controls",
            "_view_module_version": "1.5.0",
            "_view_name": "ProgressView",
            "bar_style": "success",
            "description": "",
            "description_tooltip": null,
            "layout": "IPY_MODEL_64fd5405e26b457d922cfa062e62c19a",
            "max": 26421880,
            "min": 0,
            "orientation": "horizontal",
            "style": "IPY_MODEL_7e50cf7f734d41eca4535d7321c83cdb",
            "value": 26421880
          }
        },
        "15682013a99840d9a9aa88e292895ecc": {
          "model_module": "@jupyter-widgets/controls",
          "model_name": "HTMLModel",
          "model_module_version": "1.5.0",
          "state": {
            "_dom_classes": [],
            "_model_module": "@jupyter-widgets/controls",
            "_model_module_version": "1.5.0",
            "_model_name": "HTMLModel",
            "_view_count": null,
            "_view_module": "@jupyter-widgets/controls",
            "_view_module_version": "1.5.0",
            "_view_name": "HTMLView",
            "description": "",
            "description_tooltip": null,
            "layout": "IPY_MODEL_e3aaf64354ac45669d40514db2e9316d",
            "placeholder": "​",
            "style": "IPY_MODEL_0effdbe6ee8d458c9c48197475a8ffd0",
            "value": " 26422272/? [00:04&lt;00:00, 10295309.72it/s]"
          }
        },
        "c90e937cc87847d49b78650b5c7798b5": {
          "model_module": "@jupyter-widgets/base",
          "model_name": "LayoutModel",
          "model_module_version": "1.2.0",
          "state": {
            "_model_module": "@jupyter-widgets/base",
            "_model_module_version": "1.2.0",
            "_model_name": "LayoutModel",
            "_view_count": null,
            "_view_module": "@jupyter-widgets/base",
            "_view_module_version": "1.2.0",
            "_view_name": "LayoutView",
            "align_content": null,
            "align_items": null,
            "align_self": null,
            "border": null,
            "bottom": null,
            "display": null,
            "flex": null,
            "flex_flow": null,
            "grid_area": null,
            "grid_auto_columns": null,
            "grid_auto_flow": null,
            "grid_auto_rows": null,
            "grid_column": null,
            "grid_gap": null,
            "grid_row": null,
            "grid_template_areas": null,
            "grid_template_columns": null,
            "grid_template_rows": null,
            "height": null,
            "justify_content": null,
            "justify_items": null,
            "left": null,
            "margin": null,
            "max_height": null,
            "max_width": null,
            "min_height": null,
            "min_width": null,
            "object_fit": null,
            "object_position": null,
            "order": null,
            "overflow": null,
            "overflow_x": null,
            "overflow_y": null,
            "padding": null,
            "right": null,
            "top": null,
            "visibility": null,
            "width": null
          }
        },
        "d8e94eb5c1774ad2ac084389fb246394": {
          "model_module": "@jupyter-widgets/base",
          "model_name": "LayoutModel",
          "model_module_version": "1.2.0",
          "state": {
            "_model_module": "@jupyter-widgets/base",
            "_model_module_version": "1.2.0",
            "_model_name": "LayoutModel",
            "_view_count": null,
            "_view_module": "@jupyter-widgets/base",
            "_view_module_version": "1.2.0",
            "_view_name": "LayoutView",
            "align_content": null,
            "align_items": null,
            "align_self": null,
            "border": null,
            "bottom": null,
            "display": null,
            "flex": null,
            "flex_flow": null,
            "grid_area": null,
            "grid_auto_columns": null,
            "grid_auto_flow": null,
            "grid_auto_rows": null,
            "grid_column": null,
            "grid_gap": null,
            "grid_row": null,
            "grid_template_areas": null,
            "grid_template_columns": null,
            "grid_template_rows": null,
            "height": null,
            "justify_content": null,
            "justify_items": null,
            "left": null,
            "margin": null,
            "max_height": null,
            "max_width": null,
            "min_height": null,
            "min_width": null,
            "object_fit": null,
            "object_position": null,
            "order": null,
            "overflow": null,
            "overflow_x": null,
            "overflow_y": null,
            "padding": null,
            "right": null,
            "top": null,
            "visibility": null,
            "width": null
          }
        },
        "297e20ef93da473ea386bebd794be446": {
          "model_module": "@jupyter-widgets/controls",
          "model_name": "DescriptionStyleModel",
          "model_module_version": "1.5.0",
          "state": {
            "_model_module": "@jupyter-widgets/controls",
            "_model_module_version": "1.5.0",
            "_model_name": "DescriptionStyleModel",
            "_view_count": null,
            "_view_module": "@jupyter-widgets/base",
            "_view_module_version": "1.2.0",
            "_view_name": "StyleView",
            "description_width": ""
          }
        },
        "64fd5405e26b457d922cfa062e62c19a": {
          "model_module": "@jupyter-widgets/base",
          "model_name": "LayoutModel",
          "model_module_version": "1.2.0",
          "state": {
            "_model_module": "@jupyter-widgets/base",
            "_model_module_version": "1.2.0",
            "_model_name": "LayoutModel",
            "_view_count": null,
            "_view_module": "@jupyter-widgets/base",
            "_view_module_version": "1.2.0",
            "_view_name": "LayoutView",
            "align_content": null,
            "align_items": null,
            "align_self": null,
            "border": null,
            "bottom": null,
            "display": null,
            "flex": null,
            "flex_flow": null,
            "grid_area": null,
            "grid_auto_columns": null,
            "grid_auto_flow": null,
            "grid_auto_rows": null,
            "grid_column": null,
            "grid_gap": null,
            "grid_row": null,
            "grid_template_areas": null,
            "grid_template_columns": null,
            "grid_template_rows": null,
            "height": null,
            "justify_content": null,
            "justify_items": null,
            "left": null,
            "margin": null,
            "max_height": null,
            "max_width": null,
            "min_height": null,
            "min_width": null,
            "object_fit": null,
            "object_position": null,
            "order": null,
            "overflow": null,
            "overflow_x": null,
            "overflow_y": null,
            "padding": null,
            "right": null,
            "top": null,
            "visibility": null,
            "width": null
          }
        },
        "7e50cf7f734d41eca4535d7321c83cdb": {
          "model_module": "@jupyter-widgets/controls",
          "model_name": "ProgressStyleModel",
          "model_module_version": "1.5.0",
          "state": {
            "_model_module": "@jupyter-widgets/controls",
            "_model_module_version": "1.5.0",
            "_model_name": "ProgressStyleModel",
            "_view_count": null,
            "_view_module": "@jupyter-widgets/base",
            "_view_module_version": "1.2.0",
            "_view_name": "StyleView",
            "bar_color": null,
            "description_width": ""
          }
        },
        "e3aaf64354ac45669d40514db2e9316d": {
          "model_module": "@jupyter-widgets/base",
          "model_name": "LayoutModel",
          "model_module_version": "1.2.0",
          "state": {
            "_model_module": "@jupyter-widgets/base",
            "_model_module_version": "1.2.0",
            "_model_name": "LayoutModel",
            "_view_count": null,
            "_view_module": "@jupyter-widgets/base",
            "_view_module_version": "1.2.0",
            "_view_name": "LayoutView",
            "align_content": null,
            "align_items": null,
            "align_self": null,
            "border": null,
            "bottom": null,
            "display": null,
            "flex": null,
            "flex_flow": null,
            "grid_area": null,
            "grid_auto_columns": null,
            "grid_auto_flow": null,
            "grid_auto_rows": null,
            "grid_column": null,
            "grid_gap": null,
            "grid_row": null,
            "grid_template_areas": null,
            "grid_template_columns": null,
            "grid_template_rows": null,
            "height": null,
            "justify_content": null,
            "justify_items": null,
            "left": null,
            "margin": null,
            "max_height": null,
            "max_width": null,
            "min_height": null,
            "min_width": null,
            "object_fit": null,
            "object_position": null,
            "order": null,
            "overflow": null,
            "overflow_x": null,
            "overflow_y": null,
            "padding": null,
            "right": null,
            "top": null,
            "visibility": null,
            "width": null
          }
        },
        "0effdbe6ee8d458c9c48197475a8ffd0": {
          "model_module": "@jupyter-widgets/controls",
          "model_name": "DescriptionStyleModel",
          "model_module_version": "1.5.0",
          "state": {
            "_model_module": "@jupyter-widgets/controls",
            "_model_module_version": "1.5.0",
            "_model_name": "DescriptionStyleModel",
            "_view_count": null,
            "_view_module": "@jupyter-widgets/base",
            "_view_module_version": "1.2.0",
            "_view_name": "StyleView",
            "description_width": ""
          }
        },
        "6be7c87b5e18495f85c957013a676d40": {
          "model_module": "@jupyter-widgets/controls",
          "model_name": "HBoxModel",
          "model_module_version": "1.5.0",
          "state": {
            "_dom_classes": [],
            "_model_module": "@jupyter-widgets/controls",
            "_model_module_version": "1.5.0",
            "_model_name": "HBoxModel",
            "_view_count": null,
            "_view_module": "@jupyter-widgets/controls",
            "_view_module_version": "1.5.0",
            "_view_name": "HBoxView",
            "box_style": "",
            "children": [
              "IPY_MODEL_8a28fcde6b2b4d39a1591f8a250453f4",
              "IPY_MODEL_5590527a63ef410f9a1e5f202b4391d2",
              "IPY_MODEL_e15dad3e64aa4adc966662a99b7ab26d"
            ],
            "layout": "IPY_MODEL_bdf20235b90842e5b16627d553492a69"
          }
        },
        "8a28fcde6b2b4d39a1591f8a250453f4": {
          "model_module": "@jupyter-widgets/controls",
          "model_name": "HTMLModel",
          "model_module_version": "1.5.0",
          "state": {
            "_dom_classes": [],
            "_model_module": "@jupyter-widgets/controls",
            "_model_module_version": "1.5.0",
            "_model_name": "HTMLModel",
            "_view_count": null,
            "_view_module": "@jupyter-widgets/controls",
            "_view_module_version": "1.5.0",
            "_view_name": "HTMLView",
            "description": "",
            "description_tooltip": null,
            "layout": "IPY_MODEL_e93169f3df044ba784495f3a31f6be76",
            "placeholder": "​",
            "style": "IPY_MODEL_e1d992e1a8864a4da29c788dd7b4da0e",
            "value": ""
          }
        },
        "5590527a63ef410f9a1e5f202b4391d2": {
          "model_module": "@jupyter-widgets/controls",
          "model_name": "FloatProgressModel",
          "model_module_version": "1.5.0",
          "state": {
            "_dom_classes": [],
            "_model_module": "@jupyter-widgets/controls",
            "_model_module_version": "1.5.0",
            "_model_name": "FloatProgressModel",
            "_view_count": null,
            "_view_module": "@jupyter-widgets/controls",
            "_view_module_version": "1.5.0",
            "_view_name": "ProgressView",
            "bar_style": "success",
            "description": "",
            "description_tooltip": null,
            "layout": "IPY_MODEL_5d9954898f66479dba647ae69d8866a2",
            "max": 29515,
            "min": 0,
            "orientation": "horizontal",
            "style": "IPY_MODEL_fedffd9f633e401cb770d34899ce7d8c",
            "value": 29515
          }
        },
        "e15dad3e64aa4adc966662a99b7ab26d": {
          "model_module": "@jupyter-widgets/controls",
          "model_name": "HTMLModel",
          "model_module_version": "1.5.0",
          "state": {
            "_dom_classes": [],
            "_model_module": "@jupyter-widgets/controls",
            "_model_module_version": "1.5.0",
            "_model_name": "HTMLModel",
            "_view_count": null,
            "_view_module": "@jupyter-widgets/controls",
            "_view_module_version": "1.5.0",
            "_view_name": "HTMLView",
            "description": "",
            "description_tooltip": null,
            "layout": "IPY_MODEL_708b02d3fd0949dda4788e86ae9f9da5",
            "placeholder": "​",
            "style": "IPY_MODEL_3b186ee73b9a4879b8c0c483dc5cd77f",
            "value": " 29696/? [00:00&lt;00:00, 55817.27it/s]"
          }
        },
        "bdf20235b90842e5b16627d553492a69": {
          "model_module": "@jupyter-widgets/base",
          "model_name": "LayoutModel",
          "model_module_version": "1.2.0",
          "state": {
            "_model_module": "@jupyter-widgets/base",
            "_model_module_version": "1.2.0",
            "_model_name": "LayoutModel",
            "_view_count": null,
            "_view_module": "@jupyter-widgets/base",
            "_view_module_version": "1.2.0",
            "_view_name": "LayoutView",
            "align_content": null,
            "align_items": null,
            "align_self": null,
            "border": null,
            "bottom": null,
            "display": null,
            "flex": null,
            "flex_flow": null,
            "grid_area": null,
            "grid_auto_columns": null,
            "grid_auto_flow": null,
            "grid_auto_rows": null,
            "grid_column": null,
            "grid_gap": null,
            "grid_row": null,
            "grid_template_areas": null,
            "grid_template_columns": null,
            "grid_template_rows": null,
            "height": null,
            "justify_content": null,
            "justify_items": null,
            "left": null,
            "margin": null,
            "max_height": null,
            "max_width": null,
            "min_height": null,
            "min_width": null,
            "object_fit": null,
            "object_position": null,
            "order": null,
            "overflow": null,
            "overflow_x": null,
            "overflow_y": null,
            "padding": null,
            "right": null,
            "top": null,
            "visibility": null,
            "width": null
          }
        },
        "e93169f3df044ba784495f3a31f6be76": {
          "model_module": "@jupyter-widgets/base",
          "model_name": "LayoutModel",
          "model_module_version": "1.2.0",
          "state": {
            "_model_module": "@jupyter-widgets/base",
            "_model_module_version": "1.2.0",
            "_model_name": "LayoutModel",
            "_view_count": null,
            "_view_module": "@jupyter-widgets/base",
            "_view_module_version": "1.2.0",
            "_view_name": "LayoutView",
            "align_content": null,
            "align_items": null,
            "align_self": null,
            "border": null,
            "bottom": null,
            "display": null,
            "flex": null,
            "flex_flow": null,
            "grid_area": null,
            "grid_auto_columns": null,
            "grid_auto_flow": null,
            "grid_auto_rows": null,
            "grid_column": null,
            "grid_gap": null,
            "grid_row": null,
            "grid_template_areas": null,
            "grid_template_columns": null,
            "grid_template_rows": null,
            "height": null,
            "justify_content": null,
            "justify_items": null,
            "left": null,
            "margin": null,
            "max_height": null,
            "max_width": null,
            "min_height": null,
            "min_width": null,
            "object_fit": null,
            "object_position": null,
            "order": null,
            "overflow": null,
            "overflow_x": null,
            "overflow_y": null,
            "padding": null,
            "right": null,
            "top": null,
            "visibility": null,
            "width": null
          }
        },
        "e1d992e1a8864a4da29c788dd7b4da0e": {
          "model_module": "@jupyter-widgets/controls",
          "model_name": "DescriptionStyleModel",
          "model_module_version": "1.5.0",
          "state": {
            "_model_module": "@jupyter-widgets/controls",
            "_model_module_version": "1.5.0",
            "_model_name": "DescriptionStyleModel",
            "_view_count": null,
            "_view_module": "@jupyter-widgets/base",
            "_view_module_version": "1.2.0",
            "_view_name": "StyleView",
            "description_width": ""
          }
        },
        "5d9954898f66479dba647ae69d8866a2": {
          "model_module": "@jupyter-widgets/base",
          "model_name": "LayoutModel",
          "model_module_version": "1.2.0",
          "state": {
            "_model_module": "@jupyter-widgets/base",
            "_model_module_version": "1.2.0",
            "_model_name": "LayoutModel",
            "_view_count": null,
            "_view_module": "@jupyter-widgets/base",
            "_view_module_version": "1.2.0",
            "_view_name": "LayoutView",
            "align_content": null,
            "align_items": null,
            "align_self": null,
            "border": null,
            "bottom": null,
            "display": null,
            "flex": null,
            "flex_flow": null,
            "grid_area": null,
            "grid_auto_columns": null,
            "grid_auto_flow": null,
            "grid_auto_rows": null,
            "grid_column": null,
            "grid_gap": null,
            "grid_row": null,
            "grid_template_areas": null,
            "grid_template_columns": null,
            "grid_template_rows": null,
            "height": null,
            "justify_content": null,
            "justify_items": null,
            "left": null,
            "margin": null,
            "max_height": null,
            "max_width": null,
            "min_height": null,
            "min_width": null,
            "object_fit": null,
            "object_position": null,
            "order": null,
            "overflow": null,
            "overflow_x": null,
            "overflow_y": null,
            "padding": null,
            "right": null,
            "top": null,
            "visibility": null,
            "width": null
          }
        },
        "fedffd9f633e401cb770d34899ce7d8c": {
          "model_module": "@jupyter-widgets/controls",
          "model_name": "ProgressStyleModel",
          "model_module_version": "1.5.0",
          "state": {
            "_model_module": "@jupyter-widgets/controls",
            "_model_module_version": "1.5.0",
            "_model_name": "ProgressStyleModel",
            "_view_count": null,
            "_view_module": "@jupyter-widgets/base",
            "_view_module_version": "1.2.0",
            "_view_name": "StyleView",
            "bar_color": null,
            "description_width": ""
          }
        },
        "708b02d3fd0949dda4788e86ae9f9da5": {
          "model_module": "@jupyter-widgets/base",
          "model_name": "LayoutModel",
          "model_module_version": "1.2.0",
          "state": {
            "_model_module": "@jupyter-widgets/base",
            "_model_module_version": "1.2.0",
            "_model_name": "LayoutModel",
            "_view_count": null,
            "_view_module": "@jupyter-widgets/base",
            "_view_module_version": "1.2.0",
            "_view_name": "LayoutView",
            "align_content": null,
            "align_items": null,
            "align_self": null,
            "border": null,
            "bottom": null,
            "display": null,
            "flex": null,
            "flex_flow": null,
            "grid_area": null,
            "grid_auto_columns": null,
            "grid_auto_flow": null,
            "grid_auto_rows": null,
            "grid_column": null,
            "grid_gap": null,
            "grid_row": null,
            "grid_template_areas": null,
            "grid_template_columns": null,
            "grid_template_rows": null,
            "height": null,
            "justify_content": null,
            "justify_items": null,
            "left": null,
            "margin": null,
            "max_height": null,
            "max_width": null,
            "min_height": null,
            "min_width": null,
            "object_fit": null,
            "object_position": null,
            "order": null,
            "overflow": null,
            "overflow_x": null,
            "overflow_y": null,
            "padding": null,
            "right": null,
            "top": null,
            "visibility": null,
            "width": null
          }
        },
        "3b186ee73b9a4879b8c0c483dc5cd77f": {
          "model_module": "@jupyter-widgets/controls",
          "model_name": "DescriptionStyleModel",
          "model_module_version": "1.5.0",
          "state": {
            "_model_module": "@jupyter-widgets/controls",
            "_model_module_version": "1.5.0",
            "_model_name": "DescriptionStyleModel",
            "_view_count": null,
            "_view_module": "@jupyter-widgets/base",
            "_view_module_version": "1.2.0",
            "_view_name": "StyleView",
            "description_width": ""
          }
        },
        "1983df701a614ff1b23d9397586a26d6": {
          "model_module": "@jupyter-widgets/controls",
          "model_name": "HBoxModel",
          "model_module_version": "1.5.0",
          "state": {
            "_dom_classes": [],
            "_model_module": "@jupyter-widgets/controls",
            "_model_module_version": "1.5.0",
            "_model_name": "HBoxModel",
            "_view_count": null,
            "_view_module": "@jupyter-widgets/controls",
            "_view_module_version": "1.5.0",
            "_view_name": "HBoxView",
            "box_style": "",
            "children": [
              "IPY_MODEL_6663188ed26b4697b13c43c8b42f742a",
              "IPY_MODEL_d108c4c5e19c433d939674c00cd6f79e",
              "IPY_MODEL_005053f890564cdc9d1b5f1300f916b2"
            ],
            "layout": "IPY_MODEL_cc37629e352741babe2d04412091359d"
          }
        },
        "6663188ed26b4697b13c43c8b42f742a": {
          "model_module": "@jupyter-widgets/controls",
          "model_name": "HTMLModel",
          "model_module_version": "1.5.0",
          "state": {
            "_dom_classes": [],
            "_model_module": "@jupyter-widgets/controls",
            "_model_module_version": "1.5.0",
            "_model_name": "HTMLModel",
            "_view_count": null,
            "_view_module": "@jupyter-widgets/controls",
            "_view_module_version": "1.5.0",
            "_view_name": "HTMLView",
            "description": "",
            "description_tooltip": null,
            "layout": "IPY_MODEL_644b72fc71e24e3a82b9f7400e2f5348",
            "placeholder": "​",
            "style": "IPY_MODEL_fe875be27be948e6ab4f590db1c27af9",
            "value": ""
          }
        },
        "d108c4c5e19c433d939674c00cd6f79e": {
          "model_module": "@jupyter-widgets/controls",
          "model_name": "FloatProgressModel",
          "model_module_version": "1.5.0",
          "state": {
            "_dom_classes": [],
            "_model_module": "@jupyter-widgets/controls",
            "_model_module_version": "1.5.0",
            "_model_name": "FloatProgressModel",
            "_view_count": null,
            "_view_module": "@jupyter-widgets/controls",
            "_view_module_version": "1.5.0",
            "_view_name": "ProgressView",
            "bar_style": "success",
            "description": "",
            "description_tooltip": null,
            "layout": "IPY_MODEL_8b64937eb392432e9b3fe2537bfecb68",
            "max": 4422102,
            "min": 0,
            "orientation": "horizontal",
            "style": "IPY_MODEL_5504e1616f51476fa2fe4f92fb93a6af",
            "value": 4422102
          }
        },
        "005053f890564cdc9d1b5f1300f916b2": {
          "model_module": "@jupyter-widgets/controls",
          "model_name": "HTMLModel",
          "model_module_version": "1.5.0",
          "state": {
            "_dom_classes": [],
            "_model_module": "@jupyter-widgets/controls",
            "_model_module_version": "1.5.0",
            "_model_name": "HTMLModel",
            "_view_count": null,
            "_view_module": "@jupyter-widgets/controls",
            "_view_module_version": "1.5.0",
            "_view_name": "HTMLView",
            "description": "",
            "description_tooltip": null,
            "layout": "IPY_MODEL_4bb144040b844d6f933a176747363c8e",
            "placeholder": "​",
            "style": "IPY_MODEL_3baf5541803643dab9d2d961bd2c79d9",
            "value": " 4422656/? [00:02&lt;00:00, 2885439.27it/s]"
          }
        },
        "cc37629e352741babe2d04412091359d": {
          "model_module": "@jupyter-widgets/base",
          "model_name": "LayoutModel",
          "model_module_version": "1.2.0",
          "state": {
            "_model_module": "@jupyter-widgets/base",
            "_model_module_version": "1.2.0",
            "_model_name": "LayoutModel",
            "_view_count": null,
            "_view_module": "@jupyter-widgets/base",
            "_view_module_version": "1.2.0",
            "_view_name": "LayoutView",
            "align_content": null,
            "align_items": null,
            "align_self": null,
            "border": null,
            "bottom": null,
            "display": null,
            "flex": null,
            "flex_flow": null,
            "grid_area": null,
            "grid_auto_columns": null,
            "grid_auto_flow": null,
            "grid_auto_rows": null,
            "grid_column": null,
            "grid_gap": null,
            "grid_row": null,
            "grid_template_areas": null,
            "grid_template_columns": null,
            "grid_template_rows": null,
            "height": null,
            "justify_content": null,
            "justify_items": null,
            "left": null,
            "margin": null,
            "max_height": null,
            "max_width": null,
            "min_height": null,
            "min_width": null,
            "object_fit": null,
            "object_position": null,
            "order": null,
            "overflow": null,
            "overflow_x": null,
            "overflow_y": null,
            "padding": null,
            "right": null,
            "top": null,
            "visibility": null,
            "width": null
          }
        },
        "644b72fc71e24e3a82b9f7400e2f5348": {
          "model_module": "@jupyter-widgets/base",
          "model_name": "LayoutModel",
          "model_module_version": "1.2.0",
          "state": {
            "_model_module": "@jupyter-widgets/base",
            "_model_module_version": "1.2.0",
            "_model_name": "LayoutModel",
            "_view_count": null,
            "_view_module": "@jupyter-widgets/base",
            "_view_module_version": "1.2.0",
            "_view_name": "LayoutView",
            "align_content": null,
            "align_items": null,
            "align_self": null,
            "border": null,
            "bottom": null,
            "display": null,
            "flex": null,
            "flex_flow": null,
            "grid_area": null,
            "grid_auto_columns": null,
            "grid_auto_flow": null,
            "grid_auto_rows": null,
            "grid_column": null,
            "grid_gap": null,
            "grid_row": null,
            "grid_template_areas": null,
            "grid_template_columns": null,
            "grid_template_rows": null,
            "height": null,
            "justify_content": null,
            "justify_items": null,
            "left": null,
            "margin": null,
            "max_height": null,
            "max_width": null,
            "min_height": null,
            "min_width": null,
            "object_fit": null,
            "object_position": null,
            "order": null,
            "overflow": null,
            "overflow_x": null,
            "overflow_y": null,
            "padding": null,
            "right": null,
            "top": null,
            "visibility": null,
            "width": null
          }
        },
        "fe875be27be948e6ab4f590db1c27af9": {
          "model_module": "@jupyter-widgets/controls",
          "model_name": "DescriptionStyleModel",
          "model_module_version": "1.5.0",
          "state": {
            "_model_module": "@jupyter-widgets/controls",
            "_model_module_version": "1.5.0",
            "_model_name": "DescriptionStyleModel",
            "_view_count": null,
            "_view_module": "@jupyter-widgets/base",
            "_view_module_version": "1.2.0",
            "_view_name": "StyleView",
            "description_width": ""
          }
        },
        "8b64937eb392432e9b3fe2537bfecb68": {
          "model_module": "@jupyter-widgets/base",
          "model_name": "LayoutModel",
          "model_module_version": "1.2.0",
          "state": {
            "_model_module": "@jupyter-widgets/base",
            "_model_module_version": "1.2.0",
            "_model_name": "LayoutModel",
            "_view_count": null,
            "_view_module": "@jupyter-widgets/base",
            "_view_module_version": "1.2.0",
            "_view_name": "LayoutView",
            "align_content": null,
            "align_items": null,
            "align_self": null,
            "border": null,
            "bottom": null,
            "display": null,
            "flex": null,
            "flex_flow": null,
            "grid_area": null,
            "grid_auto_columns": null,
            "grid_auto_flow": null,
            "grid_auto_rows": null,
            "grid_column": null,
            "grid_gap": null,
            "grid_row": null,
            "grid_template_areas": null,
            "grid_template_columns": null,
            "grid_template_rows": null,
            "height": null,
            "justify_content": null,
            "justify_items": null,
            "left": null,
            "margin": null,
            "max_height": null,
            "max_width": null,
            "min_height": null,
            "min_width": null,
            "object_fit": null,
            "object_position": null,
            "order": null,
            "overflow": null,
            "overflow_x": null,
            "overflow_y": null,
            "padding": null,
            "right": null,
            "top": null,
            "visibility": null,
            "width": null
          }
        },
        "5504e1616f51476fa2fe4f92fb93a6af": {
          "model_module": "@jupyter-widgets/controls",
          "model_name": "ProgressStyleModel",
          "model_module_version": "1.5.0",
          "state": {
            "_model_module": "@jupyter-widgets/controls",
            "_model_module_version": "1.5.0",
            "_model_name": "ProgressStyleModel",
            "_view_count": null,
            "_view_module": "@jupyter-widgets/base",
            "_view_module_version": "1.2.0",
            "_view_name": "StyleView",
            "bar_color": null,
            "description_width": ""
          }
        },
        "4bb144040b844d6f933a176747363c8e": {
          "model_module": "@jupyter-widgets/base",
          "model_name": "LayoutModel",
          "model_module_version": "1.2.0",
          "state": {
            "_model_module": "@jupyter-widgets/base",
            "_model_module_version": "1.2.0",
            "_model_name": "LayoutModel",
            "_view_count": null,
            "_view_module": "@jupyter-widgets/base",
            "_view_module_version": "1.2.0",
            "_view_name": "LayoutView",
            "align_content": null,
            "align_items": null,
            "align_self": null,
            "border": null,
            "bottom": null,
            "display": null,
            "flex": null,
            "flex_flow": null,
            "grid_area": null,
            "grid_auto_columns": null,
            "grid_auto_flow": null,
            "grid_auto_rows": null,
            "grid_column": null,
            "grid_gap": null,
            "grid_row": null,
            "grid_template_areas": null,
            "grid_template_columns": null,
            "grid_template_rows": null,
            "height": null,
            "justify_content": null,
            "justify_items": null,
            "left": null,
            "margin": null,
            "max_height": null,
            "max_width": null,
            "min_height": null,
            "min_width": null,
            "object_fit": null,
            "object_position": null,
            "order": null,
            "overflow": null,
            "overflow_x": null,
            "overflow_y": null,
            "padding": null,
            "right": null,
            "top": null,
            "visibility": null,
            "width": null
          }
        },
        "3baf5541803643dab9d2d961bd2c79d9": {
          "model_module": "@jupyter-widgets/controls",
          "model_name": "DescriptionStyleModel",
          "model_module_version": "1.5.0",
          "state": {
            "_model_module": "@jupyter-widgets/controls",
            "_model_module_version": "1.5.0",
            "_model_name": "DescriptionStyleModel",
            "_view_count": null,
            "_view_module": "@jupyter-widgets/base",
            "_view_module_version": "1.2.0",
            "_view_name": "StyleView",
            "description_width": ""
          }
        },
        "dfefc46ba26e4a34b49a7bf9d5047413": {
          "model_module": "@jupyter-widgets/controls",
          "model_name": "HBoxModel",
          "model_module_version": "1.5.0",
          "state": {
            "_dom_classes": [],
            "_model_module": "@jupyter-widgets/controls",
            "_model_module_version": "1.5.0",
            "_model_name": "HBoxModel",
            "_view_count": null,
            "_view_module": "@jupyter-widgets/controls",
            "_view_module_version": "1.5.0",
            "_view_name": "HBoxView",
            "box_style": "",
            "children": [
              "IPY_MODEL_e83b64bb8fb44c3c94a3e3c8aad75a04",
              "IPY_MODEL_951310d6e48c45a8acae8c4edc1498c0",
              "IPY_MODEL_bdeb1a01681f4a6093bed7f5f44b2e9d"
            ],
            "layout": "IPY_MODEL_d6cc2efd296e4941b829169b55eccd7c"
          }
        },
        "e83b64bb8fb44c3c94a3e3c8aad75a04": {
          "model_module": "@jupyter-widgets/controls",
          "model_name": "HTMLModel",
          "model_module_version": "1.5.0",
          "state": {
            "_dom_classes": [],
            "_model_module": "@jupyter-widgets/controls",
            "_model_module_version": "1.5.0",
            "_model_name": "HTMLModel",
            "_view_count": null,
            "_view_module": "@jupyter-widgets/controls",
            "_view_module_version": "1.5.0",
            "_view_name": "HTMLView",
            "description": "",
            "description_tooltip": null,
            "layout": "IPY_MODEL_de5143cb020d4f7698b0614eb41a2b70",
            "placeholder": "​",
            "style": "IPY_MODEL_4610c4be95554473a6abe25221cb9142",
            "value": ""
          }
        },
        "951310d6e48c45a8acae8c4edc1498c0": {
          "model_module": "@jupyter-widgets/controls",
          "model_name": "FloatProgressModel",
          "model_module_version": "1.5.0",
          "state": {
            "_dom_classes": [],
            "_model_module": "@jupyter-widgets/controls",
            "_model_module_version": "1.5.0",
            "_model_name": "FloatProgressModel",
            "_view_count": null,
            "_view_module": "@jupyter-widgets/controls",
            "_view_module_version": "1.5.0",
            "_view_name": "ProgressView",
            "bar_style": "success",
            "description": "",
            "description_tooltip": null,
            "layout": "IPY_MODEL_e4f62f3680794a34a6f7d77c37067158",
            "max": 5148,
            "min": 0,
            "orientation": "horizontal",
            "style": "IPY_MODEL_6a781a1b277843b7bdf283c3b89c3069",
            "value": 5148
          }
        },
        "bdeb1a01681f4a6093bed7f5f44b2e9d": {
          "model_module": "@jupyter-widgets/controls",
          "model_name": "HTMLModel",
          "model_module_version": "1.5.0",
          "state": {
            "_dom_classes": [],
            "_model_module": "@jupyter-widgets/controls",
            "_model_module_version": "1.5.0",
            "_model_name": "HTMLModel",
            "_view_count": null,
            "_view_module": "@jupyter-widgets/controls",
            "_view_module_version": "1.5.0",
            "_view_name": "HTMLView",
            "description": "",
            "description_tooltip": null,
            "layout": "IPY_MODEL_1468af0a979b4bb0991c4b4fbfb927dc",
            "placeholder": "​",
            "style": "IPY_MODEL_e8b50f222c1741ca83858ceab1f3db3d",
            "value": " 6144/? [00:00&lt;00:00, 7731.09it/s]"
          }
        },
        "d6cc2efd296e4941b829169b55eccd7c": {
          "model_module": "@jupyter-widgets/base",
          "model_name": "LayoutModel",
          "model_module_version": "1.2.0",
          "state": {
            "_model_module": "@jupyter-widgets/base",
            "_model_module_version": "1.2.0",
            "_model_name": "LayoutModel",
            "_view_count": null,
            "_view_module": "@jupyter-widgets/base",
            "_view_module_version": "1.2.0",
            "_view_name": "LayoutView",
            "align_content": null,
            "align_items": null,
            "align_self": null,
            "border": null,
            "bottom": null,
            "display": null,
            "flex": null,
            "flex_flow": null,
            "grid_area": null,
            "grid_auto_columns": null,
            "grid_auto_flow": null,
            "grid_auto_rows": null,
            "grid_column": null,
            "grid_gap": null,
            "grid_row": null,
            "grid_template_areas": null,
            "grid_template_columns": null,
            "grid_template_rows": null,
            "height": null,
            "justify_content": null,
            "justify_items": null,
            "left": null,
            "margin": null,
            "max_height": null,
            "max_width": null,
            "min_height": null,
            "min_width": null,
            "object_fit": null,
            "object_position": null,
            "order": null,
            "overflow": null,
            "overflow_x": null,
            "overflow_y": null,
            "padding": null,
            "right": null,
            "top": null,
            "visibility": null,
            "width": null
          }
        },
        "de5143cb020d4f7698b0614eb41a2b70": {
          "model_module": "@jupyter-widgets/base",
          "model_name": "LayoutModel",
          "model_module_version": "1.2.0",
          "state": {
            "_model_module": "@jupyter-widgets/base",
            "_model_module_version": "1.2.0",
            "_model_name": "LayoutModel",
            "_view_count": null,
            "_view_module": "@jupyter-widgets/base",
            "_view_module_version": "1.2.0",
            "_view_name": "LayoutView",
            "align_content": null,
            "align_items": null,
            "align_self": null,
            "border": null,
            "bottom": null,
            "display": null,
            "flex": null,
            "flex_flow": null,
            "grid_area": null,
            "grid_auto_columns": null,
            "grid_auto_flow": null,
            "grid_auto_rows": null,
            "grid_column": null,
            "grid_gap": null,
            "grid_row": null,
            "grid_template_areas": null,
            "grid_template_columns": null,
            "grid_template_rows": null,
            "height": null,
            "justify_content": null,
            "justify_items": null,
            "left": null,
            "margin": null,
            "max_height": null,
            "max_width": null,
            "min_height": null,
            "min_width": null,
            "object_fit": null,
            "object_position": null,
            "order": null,
            "overflow": null,
            "overflow_x": null,
            "overflow_y": null,
            "padding": null,
            "right": null,
            "top": null,
            "visibility": null,
            "width": null
          }
        },
        "4610c4be95554473a6abe25221cb9142": {
          "model_module": "@jupyter-widgets/controls",
          "model_name": "DescriptionStyleModel",
          "model_module_version": "1.5.0",
          "state": {
            "_model_module": "@jupyter-widgets/controls",
            "_model_module_version": "1.5.0",
            "_model_name": "DescriptionStyleModel",
            "_view_count": null,
            "_view_module": "@jupyter-widgets/base",
            "_view_module_version": "1.2.0",
            "_view_name": "StyleView",
            "description_width": ""
          }
        },
        "e4f62f3680794a34a6f7d77c37067158": {
          "model_module": "@jupyter-widgets/base",
          "model_name": "LayoutModel",
          "model_module_version": "1.2.0",
          "state": {
            "_model_module": "@jupyter-widgets/base",
            "_model_module_version": "1.2.0",
            "_model_name": "LayoutModel",
            "_view_count": null,
            "_view_module": "@jupyter-widgets/base",
            "_view_module_version": "1.2.0",
            "_view_name": "LayoutView",
            "align_content": null,
            "align_items": null,
            "align_self": null,
            "border": null,
            "bottom": null,
            "display": null,
            "flex": null,
            "flex_flow": null,
            "grid_area": null,
            "grid_auto_columns": null,
            "grid_auto_flow": null,
            "grid_auto_rows": null,
            "grid_column": null,
            "grid_gap": null,
            "grid_row": null,
            "grid_template_areas": null,
            "grid_template_columns": null,
            "grid_template_rows": null,
            "height": null,
            "justify_content": null,
            "justify_items": null,
            "left": null,
            "margin": null,
            "max_height": null,
            "max_width": null,
            "min_height": null,
            "min_width": null,
            "object_fit": null,
            "object_position": null,
            "order": null,
            "overflow": null,
            "overflow_x": null,
            "overflow_y": null,
            "padding": null,
            "right": null,
            "top": null,
            "visibility": null,
            "width": null
          }
        },
        "6a781a1b277843b7bdf283c3b89c3069": {
          "model_module": "@jupyter-widgets/controls",
          "model_name": "ProgressStyleModel",
          "model_module_version": "1.5.0",
          "state": {
            "_model_module": "@jupyter-widgets/controls",
            "_model_module_version": "1.5.0",
            "_model_name": "ProgressStyleModel",
            "_view_count": null,
            "_view_module": "@jupyter-widgets/base",
            "_view_module_version": "1.2.0",
            "_view_name": "StyleView",
            "bar_color": null,
            "description_width": ""
          }
        },
        "1468af0a979b4bb0991c4b4fbfb927dc": {
          "model_module": "@jupyter-widgets/base",
          "model_name": "LayoutModel",
          "model_module_version": "1.2.0",
          "state": {
            "_model_module": "@jupyter-widgets/base",
            "_model_module_version": "1.2.0",
            "_model_name": "LayoutModel",
            "_view_count": null,
            "_view_module": "@jupyter-widgets/base",
            "_view_module_version": "1.2.0",
            "_view_name": "LayoutView",
            "align_content": null,
            "align_items": null,
            "align_self": null,
            "border": null,
            "bottom": null,
            "display": null,
            "flex": null,
            "flex_flow": null,
            "grid_area": null,
            "grid_auto_columns": null,
            "grid_auto_flow": null,
            "grid_auto_rows": null,
            "grid_column": null,
            "grid_gap": null,
            "grid_row": null,
            "grid_template_areas": null,
            "grid_template_columns": null,
            "grid_template_rows": null,
            "height": null,
            "justify_content": null,
            "justify_items": null,
            "left": null,
            "margin": null,
            "max_height": null,
            "max_width": null,
            "min_height": null,
            "min_width": null,
            "object_fit": null,
            "object_position": null,
            "order": null,
            "overflow": null,
            "overflow_x": null,
            "overflow_y": null,
            "padding": null,
            "right": null,
            "top": null,
            "visibility": null,
            "width": null
          }
        },
        "e8b50f222c1741ca83858ceab1f3db3d": {
          "model_module": "@jupyter-widgets/controls",
          "model_name": "DescriptionStyleModel",
          "model_module_version": "1.5.0",
          "state": {
            "_model_module": "@jupyter-widgets/controls",
            "_model_module_version": "1.5.0",
            "_model_name": "DescriptionStyleModel",
            "_view_count": null,
            "_view_module": "@jupyter-widgets/base",
            "_view_module_version": "1.2.0",
            "_view_name": "StyleView",
            "description_width": ""
          }
        }
      }
    }
  },
  "cells": [
    {
      "cell_type": "markdown",
      "source": [
        "## The Image Classification Dataset"
      ],
      "metadata": {
        "id": "34xXydlrJUX_"
      }
    },
    {
      "cell_type": "markdown",
      "source": [
        "One of the widely used dataset for image classification is the MNIST dataset [LeCun et al., 1998]. While it had a good run as a benchmark dataset, even simple models by today’s standards achieve classification accuracy over 95%, making it unsuitable for distinguishing between stronger models and weaker ones. Today, MNIST serves as more of sanity checks than as a benchmark. To up the ante just a bit, we will focus our discussion in the coming sections on the qualitatively similar, but comparatively complex Fashion-MNIST dataset [Xiao et al., 2017], which was released in 2017."
      ],
      "metadata": {
        "id": "Rp4f3jvmJoqj"
      }
    },
    {
      "cell_type": "code",
      "source": [
        "!pip install torch torchvision"
      ],
      "metadata": {
        "colab": {
          "base_uri": "https://localhost:8080/"
        },
        "id": "LxxSXB8yJs3i",
        "outputId": "83176704-d0d6-49d4-b27e-41ed89f8d7a8"
      },
      "execution_count": 1,
      "outputs": [
        {
          "output_type": "stream",
          "name": "stdout",
          "text": [
            "Requirement already satisfied: torch in /usr/local/lib/python3.7/dist-packages (1.10.0+cu111)\n",
            "Requirement already satisfied: torchvision in /usr/local/lib/python3.7/dist-packages (0.11.1+cu111)\n",
            "Requirement already satisfied: typing-extensions in /usr/local/lib/python3.7/dist-packages (from torch) (3.10.0.2)\n",
            "Requirement already satisfied: pillow!=8.3.0,>=5.3.0 in /usr/local/lib/python3.7/dist-packages (from torchvision) (7.1.2)\n",
            "Requirement already satisfied: numpy in /usr/local/lib/python3.7/dist-packages (from torchvision) (1.21.5)\n"
          ]
        }
      ]
    },
    {
      "cell_type": "code",
      "source": [
        "!pip install -U d2l"
      ],
      "metadata": {
        "colab": {
          "base_uri": "https://localhost:8080/"
        },
        "id": "7heWuBGuJzpL",
        "outputId": "e1c5fe7b-98c3-4040-abd9-955968bd87eb"
      },
      "execution_count": 3,
      "outputs": [
        {
          "output_type": "stream",
          "name": "stdout",
          "text": [
            "Requirement already satisfied: d2l in /usr/local/lib/python3.7/dist-packages (0.17.5)\n",
            "Requirement already satisfied: jupyter==1.0.0 in /usr/local/lib/python3.7/dist-packages (from d2l) (1.0.0)\n",
            "Requirement already satisfied: pandas==1.2.4 in /usr/local/lib/python3.7/dist-packages (from d2l) (1.2.4)\n",
            "Requirement already satisfied: matplotlib==3.5.1 in /usr/local/lib/python3.7/dist-packages (from d2l) (3.5.1)\n",
            "Requirement already satisfied: numpy==1.21.5 in /usr/local/lib/python3.7/dist-packages (from d2l) (1.21.5)\n",
            "Requirement already satisfied: requests==2.25.1 in /usr/local/lib/python3.7/dist-packages (from d2l) (2.25.1)\n",
            "Requirement already satisfied: jupyter-console in /usr/local/lib/python3.7/dist-packages (from jupyter==1.0.0->d2l) (5.2.0)\n",
            "Requirement already satisfied: ipykernel in /usr/local/lib/python3.7/dist-packages (from jupyter==1.0.0->d2l) (4.10.1)\n",
            "Requirement already satisfied: qtconsole in /usr/local/lib/python3.7/dist-packages (from jupyter==1.0.0->d2l) (5.2.2)\n",
            "Requirement already satisfied: ipywidgets in /usr/local/lib/python3.7/dist-packages (from jupyter==1.0.0->d2l) (7.7.0)\n",
            "Requirement already satisfied: notebook in /usr/local/lib/python3.7/dist-packages (from jupyter==1.0.0->d2l) (5.3.1)\n",
            "Requirement already satisfied: nbconvert in /usr/local/lib/python3.7/dist-packages (from jupyter==1.0.0->d2l) (5.6.1)\n",
            "Requirement already satisfied: kiwisolver>=1.0.1 in /usr/local/lib/python3.7/dist-packages (from matplotlib==3.5.1->d2l) (1.4.0)\n",
            "Requirement already satisfied: cycler>=0.10 in /usr/local/lib/python3.7/dist-packages (from matplotlib==3.5.1->d2l) (0.11.0)\n",
            "Requirement already satisfied: pyparsing>=2.2.1 in /usr/local/lib/python3.7/dist-packages (from matplotlib==3.5.1->d2l) (3.0.7)\n",
            "Requirement already satisfied: pillow>=6.2.0 in /usr/local/lib/python3.7/dist-packages (from matplotlib==3.5.1->d2l) (7.1.2)\n",
            "Requirement already satisfied: packaging>=20.0 in /usr/local/lib/python3.7/dist-packages (from matplotlib==3.5.1->d2l) (21.3)\n",
            "Requirement already satisfied: python-dateutil>=2.7 in /usr/local/lib/python3.7/dist-packages (from matplotlib==3.5.1->d2l) (2.8.2)\n",
            "Requirement already satisfied: fonttools>=4.22.0 in /usr/local/lib/python3.7/dist-packages (from matplotlib==3.5.1->d2l) (4.32.0)\n",
            "Requirement already satisfied: pytz>=2017.3 in /usr/local/lib/python3.7/dist-packages (from pandas==1.2.4->d2l) (2018.9)\n",
            "Requirement already satisfied: urllib3<1.27,>=1.21.1 in /usr/local/lib/python3.7/dist-packages (from requests==2.25.1->d2l) (1.24.3)\n",
            "Requirement already satisfied: idna<3,>=2.5 in /usr/local/lib/python3.7/dist-packages (from requests==2.25.1->d2l) (2.10)\n",
            "Requirement already satisfied: certifi>=2017.4.17 in /usr/local/lib/python3.7/dist-packages (from requests==2.25.1->d2l) (2021.10.8)\n",
            "Requirement already satisfied: chardet<5,>=3.0.2 in /usr/local/lib/python3.7/dist-packages (from requests==2.25.1->d2l) (3.0.4)\n",
            "Requirement already satisfied: typing-extensions in /usr/local/lib/python3.7/dist-packages (from kiwisolver>=1.0.1->matplotlib==3.5.1->d2l) (3.10.0.2)\n",
            "Requirement already satisfied: six>=1.5 in /usr/local/lib/python3.7/dist-packages (from python-dateutil>=2.7->matplotlib==3.5.1->d2l) (1.15.0)\n",
            "Requirement already satisfied: jupyter-client in /usr/local/lib/python3.7/dist-packages (from ipykernel->jupyter==1.0.0->d2l) (5.3.5)\n",
            "Requirement already satisfied: tornado>=4.0 in /usr/local/lib/python3.7/dist-packages (from ipykernel->jupyter==1.0.0->d2l) (5.1.1)\n",
            "Requirement already satisfied: ipython>=4.0.0 in /usr/local/lib/python3.7/dist-packages (from ipykernel->jupyter==1.0.0->d2l) (5.5.0)\n",
            "Requirement already satisfied: traitlets>=4.1.0 in /usr/local/lib/python3.7/dist-packages (from ipykernel->jupyter==1.0.0->d2l) (5.1.1)\n",
            "Requirement already satisfied: setuptools>=18.5 in /usr/local/lib/python3.7/dist-packages (from ipython>=4.0.0->ipykernel->jupyter==1.0.0->d2l) (57.4.0)\n",
            "Requirement already satisfied: pexpect in /usr/local/lib/python3.7/dist-packages (from ipython>=4.0.0->ipykernel->jupyter==1.0.0->d2l) (4.8.0)\n",
            "Requirement already satisfied: decorator in /usr/local/lib/python3.7/dist-packages (from ipython>=4.0.0->ipykernel->jupyter==1.0.0->d2l) (4.4.2)\n",
            "Requirement already satisfied: pygments in /usr/local/lib/python3.7/dist-packages (from ipython>=4.0.0->ipykernel->jupyter==1.0.0->d2l) (2.6.1)\n",
            "Requirement already satisfied: prompt-toolkit<2.0.0,>=1.0.4 in /usr/local/lib/python3.7/dist-packages (from ipython>=4.0.0->ipykernel->jupyter==1.0.0->d2l) (1.0.18)\n",
            "Requirement already satisfied: simplegeneric>0.8 in /usr/local/lib/python3.7/dist-packages (from ipython>=4.0.0->ipykernel->jupyter==1.0.0->d2l) (0.8.1)\n",
            "Requirement already satisfied: pickleshare in /usr/local/lib/python3.7/dist-packages (from ipython>=4.0.0->ipykernel->jupyter==1.0.0->d2l) (0.7.5)\n",
            "Requirement already satisfied: wcwidth in /usr/local/lib/python3.7/dist-packages (from prompt-toolkit<2.0.0,>=1.0.4->ipython>=4.0.0->ipykernel->jupyter==1.0.0->d2l) (0.2.5)\n",
            "Requirement already satisfied: jupyterlab-widgets>=1.0.0 in /usr/local/lib/python3.7/dist-packages (from ipywidgets->jupyter==1.0.0->d2l) (1.1.0)\n",
            "Requirement already satisfied: ipython-genutils~=0.2.0 in /usr/local/lib/python3.7/dist-packages (from ipywidgets->jupyter==1.0.0->d2l) (0.2.0)\n",
            "Requirement already satisfied: widgetsnbextension~=3.6.0 in /usr/local/lib/python3.7/dist-packages (from ipywidgets->jupyter==1.0.0->d2l) (3.6.0)\n",
            "Requirement already satisfied: nbformat>=4.2.0 in /usr/local/lib/python3.7/dist-packages (from ipywidgets->jupyter==1.0.0->d2l) (5.2.0)\n",
            "Requirement already satisfied: jsonschema!=2.5.0,>=2.4 in /usr/local/lib/python3.7/dist-packages (from nbformat>=4.2.0->ipywidgets->jupyter==1.0.0->d2l) (4.3.3)\n",
            "Requirement already satisfied: jupyter-core in /usr/local/lib/python3.7/dist-packages (from nbformat>=4.2.0->ipywidgets->jupyter==1.0.0->d2l) (4.9.2)\n",
            "Requirement already satisfied: importlib-metadata in /usr/local/lib/python3.7/dist-packages (from jsonschema!=2.5.0,>=2.4->nbformat>=4.2.0->ipywidgets->jupyter==1.0.0->d2l) (4.11.3)\n",
            "Requirement already satisfied: pyrsistent!=0.17.0,!=0.17.1,!=0.17.2,>=0.14.0 in /usr/local/lib/python3.7/dist-packages (from jsonschema!=2.5.0,>=2.4->nbformat>=4.2.0->ipywidgets->jupyter==1.0.0->d2l) (0.18.1)\n",
            "Requirement already satisfied: attrs>=17.4.0 in /usr/local/lib/python3.7/dist-packages (from jsonschema!=2.5.0,>=2.4->nbformat>=4.2.0->ipywidgets->jupyter==1.0.0->d2l) (21.4.0)\n",
            "Requirement already satisfied: importlib-resources>=1.4.0 in /usr/local/lib/python3.7/dist-packages (from jsonschema!=2.5.0,>=2.4->nbformat>=4.2.0->ipywidgets->jupyter==1.0.0->d2l) (5.4.0)\n",
            "Requirement already satisfied: zipp>=3.1.0 in /usr/local/lib/python3.7/dist-packages (from importlib-resources>=1.4.0->jsonschema!=2.5.0,>=2.4->nbformat>=4.2.0->ipywidgets->jupyter==1.0.0->d2l) (3.7.0)\n",
            "Requirement already satisfied: terminado>=0.8.1 in /usr/local/lib/python3.7/dist-packages (from notebook->jupyter==1.0.0->d2l) (0.13.3)\n",
            "Requirement already satisfied: jinja2 in /usr/local/lib/python3.7/dist-packages (from notebook->jupyter==1.0.0->d2l) (2.11.3)\n",
            "Requirement already satisfied: Send2Trash in /usr/local/lib/python3.7/dist-packages (from notebook->jupyter==1.0.0->d2l) (1.8.0)\n",
            "Requirement already satisfied: pyzmq>=13 in /usr/local/lib/python3.7/dist-packages (from jupyter-client->ipykernel->jupyter==1.0.0->d2l) (22.3.0)\n",
            "Requirement already satisfied: ptyprocess in /usr/local/lib/python3.7/dist-packages (from terminado>=0.8.1->notebook->jupyter==1.0.0->d2l) (0.7.0)\n",
            "Requirement already satisfied: MarkupSafe>=0.23 in /usr/local/lib/python3.7/dist-packages (from jinja2->notebook->jupyter==1.0.0->d2l) (2.0.1)\n",
            "Requirement already satisfied: entrypoints>=0.2.2 in /usr/local/lib/python3.7/dist-packages (from nbconvert->jupyter==1.0.0->d2l) (0.4)\n",
            "Requirement already satisfied: testpath in /usr/local/lib/python3.7/dist-packages (from nbconvert->jupyter==1.0.0->d2l) (0.6.0)\n",
            "Requirement already satisfied: mistune<2,>=0.8.1 in /usr/local/lib/python3.7/dist-packages (from nbconvert->jupyter==1.0.0->d2l) (0.8.4)\n",
            "Requirement already satisfied: pandocfilters>=1.4.1 in /usr/local/lib/python3.7/dist-packages (from nbconvert->jupyter==1.0.0->d2l) (1.5.0)\n",
            "Requirement already satisfied: bleach in /usr/local/lib/python3.7/dist-packages (from nbconvert->jupyter==1.0.0->d2l) (4.1.0)\n",
            "Requirement already satisfied: defusedxml in /usr/local/lib/python3.7/dist-packages (from nbconvert->jupyter==1.0.0->d2l) (0.7.1)\n",
            "Requirement already satisfied: webencodings in /usr/local/lib/python3.7/dist-packages (from bleach->nbconvert->jupyter==1.0.0->d2l) (0.5.1)\n",
            "Requirement already satisfied: qtpy in /usr/local/lib/python3.7/dist-packages (from qtconsole->jupyter==1.0.0->d2l) (2.0.1)\n"
          ]
        }
      ]
    },
    {
      "cell_type": "code",
      "source": [
        "%matplotlib inline\n",
        "import torch\n",
        "import torchvision\n",
        "from torch.utils import data\n",
        "from torchvision import transforms\n",
        "from d2l import torch as d2l\n",
        "\n",
        "d2l.use_svg_display()"
      ],
      "metadata": {
        "id": "mSnqOt5SJ8ZW"
      },
      "execution_count": 5,
      "outputs": []
    },
    {
      "cell_type": "markdown",
      "source": [
        "## Reading the Dataset"
      ],
      "metadata": {
        "id": "nLVq5W62KBWv"
      }
    },
    {
      "cell_type": "code",
      "source": [
        "# `ToTensor` converts the image data from PIL type to 32-bit floating point\n",
        "# tensors. It divides all numbers by 255 so that all pixel values are between\n",
        "# 0 and 1\n",
        "trans = transforms.ToTensor()\n",
        "mnist_train = torchvision.datasets.FashionMNIST(\n",
        "    root=\"../data\", train=True, transform=trans, download=True)\n",
        "mnist_test = torchvision.datasets.FashionMNIST(\n",
        "    root=\"../data\", train=False, transform=trans, download=True)"
      ],
      "metadata": {
        "colab": {
          "base_uri": "https://localhost:8080/",
          "height": 443,
          "referenced_widgets": [
            "0ca45a2f193c42eca3a6ea9ea127f6c7",
            "305e1e8ee7274313abb8b38609b1f43f",
            "fdcff8755ae2408fbf24d8fb2eaa0466",
            "15682013a99840d9a9aa88e292895ecc",
            "c90e937cc87847d49b78650b5c7798b5",
            "d8e94eb5c1774ad2ac084389fb246394",
            "297e20ef93da473ea386bebd794be446",
            "64fd5405e26b457d922cfa062e62c19a",
            "7e50cf7f734d41eca4535d7321c83cdb",
            "e3aaf64354ac45669d40514db2e9316d",
            "0effdbe6ee8d458c9c48197475a8ffd0",
            "6be7c87b5e18495f85c957013a676d40",
            "8a28fcde6b2b4d39a1591f8a250453f4",
            "5590527a63ef410f9a1e5f202b4391d2",
            "e15dad3e64aa4adc966662a99b7ab26d",
            "bdf20235b90842e5b16627d553492a69",
            "e93169f3df044ba784495f3a31f6be76",
            "e1d992e1a8864a4da29c788dd7b4da0e",
            "5d9954898f66479dba647ae69d8866a2",
            "fedffd9f633e401cb770d34899ce7d8c",
            "708b02d3fd0949dda4788e86ae9f9da5",
            "3b186ee73b9a4879b8c0c483dc5cd77f",
            "1983df701a614ff1b23d9397586a26d6",
            "6663188ed26b4697b13c43c8b42f742a",
            "d108c4c5e19c433d939674c00cd6f79e",
            "005053f890564cdc9d1b5f1300f916b2",
            "cc37629e352741babe2d04412091359d",
            "644b72fc71e24e3a82b9f7400e2f5348",
            "fe875be27be948e6ab4f590db1c27af9",
            "8b64937eb392432e9b3fe2537bfecb68",
            "5504e1616f51476fa2fe4f92fb93a6af",
            "4bb144040b844d6f933a176747363c8e",
            "3baf5541803643dab9d2d961bd2c79d9",
            "dfefc46ba26e4a34b49a7bf9d5047413",
            "e83b64bb8fb44c3c94a3e3c8aad75a04",
            "951310d6e48c45a8acae8c4edc1498c0",
            "bdeb1a01681f4a6093bed7f5f44b2e9d",
            "d6cc2efd296e4941b829169b55eccd7c",
            "de5143cb020d4f7698b0614eb41a2b70",
            "4610c4be95554473a6abe25221cb9142",
            "e4f62f3680794a34a6f7d77c37067158",
            "6a781a1b277843b7bdf283c3b89c3069",
            "1468af0a979b4bb0991c4b4fbfb927dc",
            "e8b50f222c1741ca83858ceab1f3db3d"
          ]
        },
        "id": "oAJf79G5KGWF",
        "outputId": "7b93b2a0-c814-467d-cc32-13c064087792"
      },
      "execution_count": 6,
      "outputs": [
        {
          "output_type": "stream",
          "name": "stdout",
          "text": [
            "Downloading http://fashion-mnist.s3-website.eu-central-1.amazonaws.com/train-images-idx3-ubyte.gz\n",
            "Downloading http://fashion-mnist.s3-website.eu-central-1.amazonaws.com/train-images-idx3-ubyte.gz to ../data/FashionMNIST/raw/train-images-idx3-ubyte.gz\n"
          ]
        },
        {
          "output_type": "display_data",
          "data": {
            "text/plain": [
              "  0%|          | 0/26421880 [00:00<?, ?it/s]"
            ],
            "application/vnd.jupyter.widget-view+json": {
              "version_major": 2,
              "version_minor": 0,
              "model_id": "0ca45a2f193c42eca3a6ea9ea127f6c7"
            }
          },
          "metadata": {}
        },
        {
          "output_type": "stream",
          "name": "stdout",
          "text": [
            "Extracting ../data/FashionMNIST/raw/train-images-idx3-ubyte.gz to ../data/FashionMNIST/raw\n",
            "\n",
            "Downloading http://fashion-mnist.s3-website.eu-central-1.amazonaws.com/train-labels-idx1-ubyte.gz\n",
            "Downloading http://fashion-mnist.s3-website.eu-central-1.amazonaws.com/train-labels-idx1-ubyte.gz to ../data/FashionMNIST/raw/train-labels-idx1-ubyte.gz\n"
          ]
        },
        {
          "output_type": "display_data",
          "data": {
            "text/plain": [
              "  0%|          | 0/29515 [00:00<?, ?it/s]"
            ],
            "application/vnd.jupyter.widget-view+json": {
              "version_major": 2,
              "version_minor": 0,
              "model_id": "6be7c87b5e18495f85c957013a676d40"
            }
          },
          "metadata": {}
        },
        {
          "output_type": "stream",
          "name": "stdout",
          "text": [
            "Extracting ../data/FashionMNIST/raw/train-labels-idx1-ubyte.gz to ../data/FashionMNIST/raw\n",
            "\n",
            "Downloading http://fashion-mnist.s3-website.eu-central-1.amazonaws.com/t10k-images-idx3-ubyte.gz\n",
            "Downloading http://fashion-mnist.s3-website.eu-central-1.amazonaws.com/t10k-images-idx3-ubyte.gz to ../data/FashionMNIST/raw/t10k-images-idx3-ubyte.gz\n"
          ]
        },
        {
          "output_type": "display_data",
          "data": {
            "text/plain": [
              "  0%|          | 0/4422102 [00:00<?, ?it/s]"
            ],
            "application/vnd.jupyter.widget-view+json": {
              "version_major": 2,
              "version_minor": 0,
              "model_id": "1983df701a614ff1b23d9397586a26d6"
            }
          },
          "metadata": {}
        },
        {
          "output_type": "stream",
          "name": "stdout",
          "text": [
            "Extracting ../data/FashionMNIST/raw/t10k-images-idx3-ubyte.gz to ../data/FashionMNIST/raw\n",
            "\n",
            "Downloading http://fashion-mnist.s3-website.eu-central-1.amazonaws.com/t10k-labels-idx1-ubyte.gz\n",
            "Downloading http://fashion-mnist.s3-website.eu-central-1.amazonaws.com/t10k-labels-idx1-ubyte.gz to ../data/FashionMNIST/raw/t10k-labels-idx1-ubyte.gz\n"
          ]
        },
        {
          "output_type": "display_data",
          "data": {
            "text/plain": [
              "  0%|          | 0/5148 [00:00<?, ?it/s]"
            ],
            "application/vnd.jupyter.widget-view+json": {
              "version_major": 2,
              "version_minor": 0,
              "model_id": "dfefc46ba26e4a34b49a7bf9d5047413"
            }
          },
          "metadata": {}
        },
        {
          "output_type": "stream",
          "name": "stdout",
          "text": [
            "Extracting ../data/FashionMNIST/raw/t10k-labels-idx1-ubyte.gz to ../data/FashionMNIST/raw\n",
            "\n"
          ]
        }
      ]
    },
    {
      "cell_type": "markdown",
      "source": [
        "**Fashion-MNIST** consists of images from 10 categories, each represented by 6000 images in the training dataset and by 1000 in the test dataset. A test dataset (*or test set*) is used for evaluating model performance and not for training. Consequently the training set and the test set contain 60000 and 10000 images, respectively."
      ],
      "metadata": {
        "id": "7eCfosnKKM56"
      }
    },
    {
      "cell_type": "code",
      "source": [
        "len(mnist_train), len(mnist_test)"
      ],
      "metadata": {
        "colab": {
          "base_uri": "https://localhost:8080/"
        },
        "id": "XmejIhIkKR9I",
        "outputId": "f80a12a6-b40d-45db-811b-bdb6bd4d4bc7"
      },
      "execution_count": 7,
      "outputs": [
        {
          "output_type": "execute_result",
          "data": {
            "text/plain": [
              "(60000, 10000)"
            ]
          },
          "metadata": {},
          "execution_count": 7
        }
      ]
    },
    {
      "cell_type": "markdown",
      "source": [
        "**The images in Fashion-MNIST** are associated with the following **categories**: t-shirt, trousers, pullover, dress, coat, sandal, shirt, sneaker, bag, and ankle boot. **The following function converts between numeric label indices and their names in text**."
      ],
      "metadata": {
        "id": "UuLMP3gaKX5_"
      }
    },
    {
      "cell_type": "code",
      "source": [
        "def get_fashion_mnist_labels(labels):  #save\n",
        "    \"\"\"Return text labels for the Fashion-MNIST dataset.\"\"\"\n",
        "    text_labels = ['t-shirt', 'trouser', 'pullover', 'dress', 'coat',\n",
        "                   'sandal', 'shirt', 'sneaker', 'bag', 'ankle boot']\n",
        "    return [text_labels[int(i)] for i in labels]"
      ],
      "metadata": {
        "id": "0ASD2svDKgrq"
      },
      "execution_count": 9,
      "outputs": []
    },
    {
      "cell_type": "code",
      "source": [
        "# We can now create a function to visualize these examples.\n",
        "\n",
        "def show_images(imgs, num_rows, num_cols, titles=None, scale=1.5):  #save\n",
        "    \"\"\"Plot a list of images.\"\"\"\n",
        "    figsize = (num_cols * scale, num_rows * scale)\n",
        "    _, axes = d2l.plt.subplots(num_rows, num_cols, figsize=figsize)\n",
        "    axes = axes.flatten()\n",
        "    for i, (ax, img) in enumerate(zip(axes, imgs)):\n",
        "        if torch.is_tensor(img):\n",
        "            # Tensor Image\n",
        "            ax.imshow(img.numpy())\n",
        "        else:\n",
        "            # PIL Image\n",
        "            ax.imshow(img)\n",
        "        ax.axes.get_xaxis().set_visible(False)\n",
        "        ax.axes.get_yaxis().set_visible(False)\n",
        "        if titles:\n",
        "            ax.set_title(titles[i])\n",
        "    return axes"
      ],
      "metadata": {
        "id": "Irq8yxAsKk7y"
      },
      "execution_count": 11,
      "outputs": []
    },
    {
      "cell_type": "code",
      "source": [
        "# Here are the images and their corresponding labels (in text) for the first few examples in the training dataset.\n",
        "\n",
        "X, y = next(iter(data.DataLoader(mnist_train, batch_size=18)))\n",
        "show_images(X.reshape(18, 28, 28), 2, 9, titles=get_fashion_mnist_labels(y));"
      ],
      "metadata": {
        "id": "7nJH5ygQLB1x"
      },
      "execution_count": null,
      "outputs": []
    },
    {
      "cell_type": "markdown",
      "source": [
        "![image.png](data:image/png;base64,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)"
      ],
      "metadata": {
        "id": "Z3i6b_k8K4E9"
      }
    },
    {
      "cell_type": "markdown",
      "source": [
        "##  Reading a Minibatch"
      ],
      "metadata": {
        "id": "cqMF5bLALFkg"
      }
    },
    {
      "cell_type": "markdown",
      "source": [
        "To make our life easier when reading from the training and test sets, we use the built-in data iterator rather than creating one from scratch. **Recall that at each iteration**, a data iterator reads a minibatch of data with size **batch_size** each time. We also randomly shuffle the examples for the training data iterator."
      ],
      "metadata": {
        "id": "wvVBETAVLID7"
      }
    },
    {
      "cell_type": "code",
      "source": [
        "batch_size = 256\n",
        "\n",
        "def get_dataloader_workers():  #save\n",
        "    \"\"\"Use 4 processes to read the data.\"\"\"\n",
        "    return 4\n",
        "\n",
        "train_iter = data.DataLoader(mnist_train, batch_size, shuffle=True,\n",
        "                             num_workers=get_dataloader_workers())"
      ],
      "metadata": {
        "colab": {
          "base_uri": "https://localhost:8080/"
        },
        "id": "17PHnEIGLQd8",
        "outputId": "2977cd8f-06c9-4614-d452-dda72a598892"
      },
      "execution_count": 14,
      "outputs": [
        {
          "output_type": "stream",
          "name": "stderr",
          "text": [
            "/usr/local/lib/python3.7/dist-packages/torch/utils/data/dataloader.py:481: UserWarning: This DataLoader will create 4 worker processes in total. Our suggested max number of worker in current system is 2, which is smaller than what this DataLoader is going to create. Please be aware that excessive worker creation might get DataLoader running slow or even freeze, lower the worker number to avoid potential slowness/freeze if necessary.\n",
            "  cpuset_checked))\n"
          ]
        }
      ]
    },
    {
      "cell_type": "code",
      "source": [
        "# Let us look at the time it takes to read the training data.\n",
        "\n",
        "timer = d2l.Timer()\n",
        "for X, y in train_iter:\n",
        "    continue\n",
        "f'{timer.stop():.2f} sec'"
      ],
      "metadata": {
        "colab": {
          "base_uri": "https://localhost:8080/",
          "height": 90
        },
        "id": "uOSkLQ6SLVdZ",
        "outputId": "0f42b45c-0510-41e3-b9ee-9bc1441ebf6f"
      },
      "execution_count": 15,
      "outputs": [
        {
          "output_type": "stream",
          "name": "stderr",
          "text": [
            "/usr/local/lib/python3.7/dist-packages/torch/utils/data/dataloader.py:481: UserWarning: This DataLoader will create 4 worker processes in total. Our suggested max number of worker in current system is 2, which is smaller than what this DataLoader is going to create. Please be aware that excessive worker creation might get DataLoader running slow or even freeze, lower the worker number to avoid potential slowness/freeze if necessary.\n",
            "  cpuset_checked))\n"
          ]
        },
        {
          "output_type": "execute_result",
          "data": {
            "text/plain": [
              "'5.32 sec'"
            ],
            "application/vnd.google.colaboratory.intrinsic+json": {
              "type": "string"
            }
          },
          "metadata": {},
          "execution_count": 15
        }
      ]
    },
    {
      "cell_type": "markdown",
      "source": [
        "## Putting All Things Together"
      ],
      "metadata": {
        "id": "eL6PU-z-Lc0B"
      }
    },
    {
      "cell_type": "markdown",
      "source": [
        "Now we define the **load_data_fashion_mnist** function that **obtains and reads the Fashion-MNIST dataset**. It returns the data iterators for both the training set and validation set. In addition, it accepts an optional argument to resize images to another shape."
      ],
      "metadata": {
        "id": "0qJvVVScLexP"
      }
    },
    {
      "cell_type": "code",
      "source": [
        "def load_data_fashion_mnist(batch_size, resize=None):  #save\n",
        "    \"\"\"Download the Fashion-MNIST dataset and then load it into memory.\"\"\"\n",
        "    trans = [transforms.ToTensor()]\n",
        "    if resize:\n",
        "        trans.insert(0, transforms.Resize(resize))\n",
        "    trans = transforms.Compose(trans)\n",
        "    mnist_train = torchvision.datasets.FashionMNIST(\n",
        "        root=\"../data\", train=True, transform=trans, download=True)\n",
        "    mnist_test = torchvision.datasets.FashionMNIST(\n",
        "        root=\"../data\", train=False, transform=trans, download=True)\n",
        "    return (data.DataLoader(mnist_train, batch_size, shuffle=True,\n",
        "                            num_workers=get_dataloader_workers()),\n",
        "            data.DataLoader(mnist_test, batch_size, shuffle=False,\n",
        "                            num_workers=get_dataloader_workers()))"
      ],
      "metadata": {
        "id": "5_NdQAo5Lmsr"
      },
      "execution_count": 17,
      "outputs": []
    },
    {
      "cell_type": "markdown",
      "source": [
        "Below we test the image resizing feature of the **load_data_fashion_mnist** function by specifying the **resize** argument."
      ],
      "metadata": {
        "id": "lm3PMkMFLsfe"
      }
    },
    {
      "cell_type": "code",
      "source": [
        "train_iter, test_iter = load_data_fashion_mnist(32, resize=64)\n",
        "for X, y in train_iter:\n",
        "    print(X.shape, X.dtype, y.shape, y.dtype)\n",
        "    break"
      ],
      "metadata": {
        "colab": {
          "base_uri": "https://localhost:8080/"
        },
        "id": "BPCkasSzLw7r",
        "outputId": "de3625f0-f4b3-4209-a3e9-9ec08efb5b3f"
      },
      "execution_count": 18,
      "outputs": [
        {
          "output_type": "stream",
          "name": "stderr",
          "text": [
            "/usr/local/lib/python3.7/dist-packages/torch/utils/data/dataloader.py:481: UserWarning: This DataLoader will create 4 worker processes in total. Our suggested max number of worker in current system is 2, which is smaller than what this DataLoader is going to create. Please be aware that excessive worker creation might get DataLoader running slow or even freeze, lower the worker number to avoid potential slowness/freeze if necessary.\n",
            "  cpuset_checked))\n"
          ]
        },
        {
          "output_type": "stream",
          "name": "stdout",
          "text": [
            "torch.Size([32, 1, 64, 64]) torch.float32 torch.Size([32]) torch.int64\n"
          ]
        }
      ]
    },
    {
      "cell_type": "markdown",
      "source": [
        "## Summary"
      ],
      "metadata": {
        "id": "g3ttQTM-L05d"
      }
    },
    {
      "cell_type": "markdown",
      "source": [
        "\n",
        "\n",
        "*   Fashion-MNIST is an apparel classification dataset consisting of images representing 10 categories. We will use this dataset in subsequent sections and chapters to evaluate various classification algorithms.\n",
        "*   We store the shape of any image with height **h** width **w** pixels as **h x w** or (**h, w**)\n",
        "*   Data iterators are a key component for efficient performance. Rely on well-implemented data iterators that exploit high-performance computing to avoid slowing down your training loop.\n",
        "\n",
        "\n"
      ],
      "metadata": {
        "id": "skivCvoDL3Ro"
      }
    },
    {
      "cell_type": "code",
      "source": [
        ""
      ],
      "metadata": {
        "id": "tBRezPUBMTv2"
      },
      "execution_count": null,
      "outputs": []
    }
  ]
}